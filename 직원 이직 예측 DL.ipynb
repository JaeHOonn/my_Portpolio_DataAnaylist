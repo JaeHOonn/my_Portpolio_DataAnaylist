{
 "cells": [
  {
   "cell_type": "markdown",
   "metadata": {
    "id": "5mCUrZ5seRFB"
   },
   "source": [
    "## 데이터 정보\n",
    "- Attrition: 이직여부 (1-Yes 0-No)\t\n",
    "- Age: 나이\t\n",
    "- BusinessTravel: 출장 빈도\n",
    "- Department: 현재 부서\t\n",
    "- DistanceFromHome: 집과 직장 사이의 거리 (마일)\t\n",
    "- Education: 교육수준 (1-Below College 2-College 3-Bachelor 4- Master 5-Doctor)\n",
    "- EducationField: 전공\t\n",
    "- EmployeeNumber: 사번\t\n",
    "- EnvironmentSatisfaction: 근무환경에 대한 만족도 (1-Low 2-Good 3-Excellent 4-Outstanding)\n",
    "- Gender: 성별\t\n",
    "- JobInvolvement: 직무 적극성, 참여도 (1-Low 2-Medium 3-High 4-Very High)\n",
    "- JobRole: 직무\t\n",
    "- JobSatisfaction: 직무 만족도 (1-Low 2-Medium 3-High 4-Very High)\n",
    "- MaritalStatus: 결혼상태\t\n",
    "- MonthlyIncome: 월급\t\n",
    "- NumCompaniesWorked: 현재까지 근무한 회사 수\t\n",
    "- OverTime: 야근 여부\t\n",
    "- PercentSalaryHike: 전년대비 급여 인상율 (%)\t\n",
    "- RelationshipSatisfaction: 동료와의 관계 만족도 (1-Low 2-Medium 3-High 4-Very High)\n",
    "- StockOptionLevel: 스톡옵션 수준 (0 ~ 3)\t\n",
    "- TotalWorkingYears: 총 근무 연수\t\n",
    "- TrainingTimesLastYear: 전년 교육훈련 횟수\t\n",
    "- WorkLifeBalance: 워라밸, 일과 삶의 균형도 (1-Bad 2-Good 3-Better 4-Best)\n",
    "- YearsAtCompany: 현 직장 근무 연수\t\n",
    "- YearsInCurrentRole: 현 직무 연수\t\n",
    "- YearsWithCurrManager: 현 팀장과 근무한 연수"
   ]
  },
  {
   "cell_type": "markdown",
   "metadata": {
    "id": "3Ij5l9O9e_KO"
   },
   "source": [
    "## 데이터셋 불러오기"
   ]
  },
  {
   "cell_type": "code",
   "execution_count": 1,
   "metadata": {
    "id": "eq2ArI8peRBh"
   },
   "outputs": [],
   "source": [
    "import numpy as np\n",
    "import pandas as pd\n",
    "import matplotlib.pyplot as plt\n",
    "import seaborn as sns"
   ]
  },
  {
   "cell_type": "code",
   "execution_count": 2,
   "metadata": {
    "id": "Rg3T7vmTfJFi"
   },
   "outputs": [],
   "source": [
    "path = 'https://raw.githubusercontent.com/Jangrae/csv/master/Attrition_NA.CSV'\n",
    "\n",
    "data = pd.read_csv(path)"
   ]
  },
  {
   "cell_type": "code",
   "execution_count": 3,
   "metadata": {},
   "outputs": [
    {
     "data": {
      "text/html": [
       "<div>\n",
       "<style scoped>\n",
       "    .dataframe tbody tr th:only-of-type {\n",
       "        vertical-align: middle;\n",
       "    }\n",
       "\n",
       "    .dataframe tbody tr th {\n",
       "        vertical-align: top;\n",
       "    }\n",
       "\n",
       "    .dataframe thead th {\n",
       "        text-align: right;\n",
       "    }\n",
       "</style>\n",
       "<table border=\"1\" class=\"dataframe\">\n",
       "  <thead>\n",
       "    <tr style=\"text-align: right;\">\n",
       "      <th></th>\n",
       "      <th>Attrition</th>\n",
       "      <th>Age</th>\n",
       "      <th>BusinessTravel</th>\n",
       "      <th>Department</th>\n",
       "      <th>DistanceFromHome</th>\n",
       "      <th>Education</th>\n",
       "      <th>EducationField</th>\n",
       "      <th>EmployeeNumber</th>\n",
       "      <th>EnvironmentSatisfaction</th>\n",
       "      <th>Gender</th>\n",
       "      <th>...</th>\n",
       "      <th>OverTime</th>\n",
       "      <th>PercentSalaryHike</th>\n",
       "      <th>RelationshipSatisfaction</th>\n",
       "      <th>StockOptionLevel</th>\n",
       "      <th>TotalWorkingYears</th>\n",
       "      <th>TrainingTimesLastYear</th>\n",
       "      <th>WorkLifeBalance</th>\n",
       "      <th>YearsAtCompany</th>\n",
       "      <th>YearsInCurrentRole</th>\n",
       "      <th>YearsWithCurrManager</th>\n",
       "    </tr>\n",
       "  </thead>\n",
       "  <tbody>\n",
       "    <tr>\n",
       "      <th>0</th>\n",
       "      <td>No</td>\n",
       "      <td>33</td>\n",
       "      <td>Travel_Rarely</td>\n",
       "      <td>Research &amp; Development</td>\n",
       "      <td>7.0</td>\n",
       "      <td>3</td>\n",
       "      <td>Medical</td>\n",
       "      <td>817</td>\n",
       "      <td>3</td>\n",
       "      <td>Male</td>\n",
       "      <td>...</td>\n",
       "      <td>No</td>\n",
       "      <td>11</td>\n",
       "      <td>4</td>\n",
       "      <td>0</td>\n",
       "      <td>14</td>\n",
       "      <td>3</td>\n",
       "      <td>4</td>\n",
       "      <td>13</td>\n",
       "      <td>9</td>\n",
       "      <td>7</td>\n",
       "    </tr>\n",
       "    <tr>\n",
       "      <th>1</th>\n",
       "      <td>No</td>\n",
       "      <td>35</td>\n",
       "      <td>Travel_Frequently</td>\n",
       "      <td>Research &amp; Development</td>\n",
       "      <td>18.0</td>\n",
       "      <td>2</td>\n",
       "      <td>Life Sciences</td>\n",
       "      <td>1412</td>\n",
       "      <td>3</td>\n",
       "      <td>Male</td>\n",
       "      <td>...</td>\n",
       "      <td>No</td>\n",
       "      <td>11</td>\n",
       "      <td>3</td>\n",
       "      <td>0</td>\n",
       "      <td>10</td>\n",
       "      <td>2</td>\n",
       "      <td>3</td>\n",
       "      <td>2</td>\n",
       "      <td>2</td>\n",
       "      <td>2</td>\n",
       "    </tr>\n",
       "    <tr>\n",
       "      <th>2</th>\n",
       "      <td>No</td>\n",
       "      <td>42</td>\n",
       "      <td>Travel_Rarely</td>\n",
       "      <td>Research &amp; Development</td>\n",
       "      <td>6.0</td>\n",
       "      <td>3</td>\n",
       "      <td>Medical</td>\n",
       "      <td>1911</td>\n",
       "      <td>3</td>\n",
       "      <td>Male</td>\n",
       "      <td>...</td>\n",
       "      <td>No</td>\n",
       "      <td>13</td>\n",
       "      <td>2</td>\n",
       "      <td>1</td>\n",
       "      <td>18</td>\n",
       "      <td>3</td>\n",
       "      <td>4</td>\n",
       "      <td>13</td>\n",
       "      <td>7</td>\n",
       "      <td>7</td>\n",
       "    </tr>\n",
       "    <tr>\n",
       "      <th>3</th>\n",
       "      <td>No</td>\n",
       "      <td>46</td>\n",
       "      <td>Travel_Rarely</td>\n",
       "      <td>Sales</td>\n",
       "      <td>2.0</td>\n",
       "      <td>3</td>\n",
       "      <td>Marketing</td>\n",
       "      <td>1204</td>\n",
       "      <td>3</td>\n",
       "      <td>Female</td>\n",
       "      <td>...</td>\n",
       "      <td>No</td>\n",
       "      <td>23</td>\n",
       "      <td>1</td>\n",
       "      <td>0</td>\n",
       "      <td>28</td>\n",
       "      <td>2</td>\n",
       "      <td>3</td>\n",
       "      <td>26</td>\n",
       "      <td>15</td>\n",
       "      <td>9</td>\n",
       "    </tr>\n",
       "    <tr>\n",
       "      <th>4</th>\n",
       "      <td>No</td>\n",
       "      <td>39</td>\n",
       "      <td>Travel_Frequently</td>\n",
       "      <td>Sales</td>\n",
       "      <td>NaN</td>\n",
       "      <td>3</td>\n",
       "      <td>Life Sciences</td>\n",
       "      <td>1812</td>\n",
       "      <td>3</td>\n",
       "      <td>Male</td>\n",
       "      <td>...</td>\n",
       "      <td>No</td>\n",
       "      <td>18</td>\n",
       "      <td>4</td>\n",
       "      <td>1</td>\n",
       "      <td>7</td>\n",
       "      <td>6</td>\n",
       "      <td>3</td>\n",
       "      <td>2</td>\n",
       "      <td>1</td>\n",
       "      <td>2</td>\n",
       "    </tr>\n",
       "  </tbody>\n",
       "</table>\n",
       "<p>5 rows × 26 columns</p>\n",
       "</div>"
      ],
      "text/plain": [
       "  Attrition  Age     BusinessTravel              Department  DistanceFromHome  \\\n",
       "0        No   33      Travel_Rarely  Research & Development               7.0   \n",
       "1        No   35  Travel_Frequently  Research & Development              18.0   \n",
       "2        No   42      Travel_Rarely  Research & Development               6.0   \n",
       "3        No   46      Travel_Rarely                   Sales               2.0   \n",
       "4        No   39  Travel_Frequently                   Sales               NaN   \n",
       "\n",
       "   Education EducationField  EmployeeNumber  EnvironmentSatisfaction  Gender  \\\n",
       "0          3        Medical             817                        3    Male   \n",
       "1          2  Life Sciences            1412                        3    Male   \n",
       "2          3        Medical            1911                        3    Male   \n",
       "3          3      Marketing            1204                        3  Female   \n",
       "4          3  Life Sciences            1812                        3    Male   \n",
       "\n",
       "   ...  OverTime PercentSalaryHike  RelationshipSatisfaction StockOptionLevel  \\\n",
       "0  ...        No                11                         4                0   \n",
       "1  ...        No                11                         3                0   \n",
       "2  ...        No                13                         2                1   \n",
       "3  ...        No                23                         1                0   \n",
       "4  ...        No                18                         4                1   \n",
       "\n",
       "   TotalWorkingYears  TrainingTimesLastYear WorkLifeBalance  YearsAtCompany  \\\n",
       "0                 14                      3               4              13   \n",
       "1                 10                      2               3               2   \n",
       "2                 18                      3               4              13   \n",
       "3                 28                      2               3              26   \n",
       "4                  7                      6               3               2   \n",
       "\n",
       "   YearsInCurrentRole  YearsWithCurrManager  \n",
       "0                   9                     7  \n",
       "1                   2                     2  \n",
       "2                   7                     7  \n",
       "3                  15                     9  \n",
       "4                   1                     2  \n",
       "\n",
       "[5 rows x 26 columns]"
      ]
     },
     "execution_count": 3,
     "metadata": {},
     "output_type": "execute_result"
    }
   ],
   "source": [
    "data.head()"
   ]
  },
  {
   "cell_type": "markdown",
   "metadata": {
    "id": "7JgnHZVKeQ-i"
   },
   "source": [
    "## 데이터 전처리"
   ]
  },
  {
   "cell_type": "code",
   "execution_count": 4,
   "metadata": {},
   "outputs": [
    {
     "name": "stdout",
     "output_type": "stream",
     "text": [
      "<class 'pandas.core.frame.DataFrame'>\n",
      "RangeIndex: 1250 entries, 0 to 1249\n",
      "Data columns (total 26 columns):\n",
      " #   Column                    Non-Null Count  Dtype  \n",
      "---  ------                    --------------  -----  \n",
      " 0   Attrition                 1250 non-null   object \n",
      " 1   Age                       1250 non-null   int64  \n",
      " 2   BusinessTravel            1250 non-null   object \n",
      " 3   Department                1250 non-null   object \n",
      " 4   DistanceFromHome          1196 non-null   float64\n",
      " 5   Education                 1250 non-null   int64  \n",
      " 6   EducationField            1250 non-null   object \n",
      " 7   EmployeeNumber            1250 non-null   int64  \n",
      " 8   EnvironmentSatisfaction   1250 non-null   int64  \n",
      " 9   Gender                    1250 non-null   object \n",
      " 10  JobInvolvement            1250 non-null   int64  \n",
      " 11  JobRole                   1250 non-null   object \n",
      " 12  JobSatisfaction           1250 non-null   int64  \n",
      " 13  MaritalStatus             1250 non-null   object \n",
      " 14  MonthlyIncome             1250 non-null   int64  \n",
      " 15  NumCompaniesWorked        1229 non-null   float64\n",
      " 16  OverTime                  1250 non-null   object \n",
      " 17  PercentSalaryHike         1250 non-null   int64  \n",
      " 18  RelationshipSatisfaction  1250 non-null   int64  \n",
      " 19  StockOptionLevel          1250 non-null   int64  \n",
      " 20  TotalWorkingYears         1250 non-null   int64  \n",
      " 21  TrainingTimesLastYear     1250 non-null   int64  \n",
      " 22  WorkLifeBalance           1250 non-null   int64  \n",
      " 23  YearsAtCompany            1250 non-null   int64  \n",
      " 24  YearsInCurrentRole        1250 non-null   int64  \n",
      " 25  YearsWithCurrManager      1250 non-null   int64  \n",
      "dtypes: float64(2), int64(16), object(8)\n",
      "memory usage: 254.0+ KB\n"
     ]
    }
   ],
   "source": [
    "data.info()"
   ]
  },
  {
   "cell_type": "code",
   "execution_count": 5,
   "metadata": {
    "scrolled": true
   },
   "outputs": [
    {
     "data": {
      "text/plain": [
       "Attrition                    0\n",
       "Age                          0\n",
       "BusinessTravel               0\n",
       "Department                   0\n",
       "DistanceFromHome            54\n",
       "Education                    0\n",
       "EducationField               0\n",
       "EmployeeNumber               0\n",
       "EnvironmentSatisfaction      0\n",
       "Gender                       0\n",
       "JobInvolvement               0\n",
       "JobRole                      0\n",
       "JobSatisfaction              0\n",
       "MaritalStatus                0\n",
       "MonthlyIncome                0\n",
       "NumCompaniesWorked          21\n",
       "OverTime                     0\n",
       "PercentSalaryHike            0\n",
       "RelationshipSatisfaction     0\n",
       "StockOptionLevel             0\n",
       "TotalWorkingYears            0\n",
       "TrainingTimesLastYear        0\n",
       "WorkLifeBalance              0\n",
       "YearsAtCompany               0\n",
       "YearsInCurrentRole           0\n",
       "YearsWithCurrManager         0\n",
       "dtype: int64"
      ]
     },
     "execution_count": 5,
     "metadata": {},
     "output_type": "execute_result"
    }
   ],
   "source": [
    "# 결측치 확인 \n",
    "data.isna().sum()"
   ]
  },
  {
   "cell_type": "code",
   "execution_count": 6,
   "metadata": {},
   "outputs": [],
   "source": [
    "# 결측치 값이 소수이기에 중앙값으로 채우기 \n",
    "\n",
    "data['DistanceFromHome'].fillna(data.groupby('Attrition')['DistanceFromHome'].transform('median'), inplace=True)\n",
    "data['NumCompaniesWorked'].fillna(data.groupby('Attrition')['NumCompaniesWorked'].transform('median'), inplace=True)"
   ]
  },
  {
   "cell_type": "code",
   "execution_count": 7,
   "metadata": {},
   "outputs": [
    {
     "data": {
      "text/plain": [
       "Attrition                   0\n",
       "Age                         0\n",
       "BusinessTravel              0\n",
       "Department                  0\n",
       "DistanceFromHome            0\n",
       "Education                   0\n",
       "EducationField              0\n",
       "EmployeeNumber              0\n",
       "EnvironmentSatisfaction     0\n",
       "Gender                      0\n",
       "JobInvolvement              0\n",
       "JobRole                     0\n",
       "JobSatisfaction             0\n",
       "MaritalStatus               0\n",
       "MonthlyIncome               0\n",
       "NumCompaniesWorked          0\n",
       "OverTime                    0\n",
       "PercentSalaryHike           0\n",
       "RelationshipSatisfaction    0\n",
       "StockOptionLevel            0\n",
       "TotalWorkingYears           0\n",
       "TrainingTimesLastYear       0\n",
       "WorkLifeBalance             0\n",
       "YearsAtCompany              0\n",
       "YearsInCurrentRole          0\n",
       "YearsWithCurrManager        0\n",
       "dtype: int64"
      ]
     },
     "execution_count": 7,
     "metadata": {},
     "output_type": "execute_result"
    }
   ],
   "source": [
    "# 확인하기 \n",
    "data.isna().sum()"
   ]
  },
  {
   "cell_type": "code",
   "execution_count": 8,
   "metadata": {},
   "outputs": [
    {
     "data": {
      "text/plain": [
       "No     1050\n",
       "Yes     200\n",
       "Name: Attrition, dtype: int64"
      ]
     },
     "execution_count": 8,
     "metadata": {},
     "output_type": "execute_result"
    }
   ],
   "source": [
    "data['Attrition'].value_counts()"
   ]
  },
  {
   "cell_type": "code",
   "execution_count": 9,
   "metadata": {},
   "outputs": [],
   "source": [
    "# target 값을 숫자로 변환 \n",
    "target = 'Attrition'\n",
    "\n",
    "data.loc[ data[target]=='Yes' , target] = 1\n",
    "data.loc[ data[target]=='No' , target] = 0"
   ]
  },
  {
   "cell_type": "code",
   "execution_count": 10,
   "metadata": {},
   "outputs": [],
   "source": [
    "data[target] = data[target].astype(float)"
   ]
  },
  {
   "cell_type": "code",
   "execution_count": 11,
   "metadata": {},
   "outputs": [
    {
     "data": {
      "text/plain": [
       "0.0    1050\n",
       "1.0     200\n",
       "Name: Attrition, dtype: int64"
      ]
     },
     "execution_count": 11,
     "metadata": {},
     "output_type": "execute_result"
    }
   ],
   "source": [
    "# 확인하기\n",
    "data[target].value_counts()"
   ]
  },
  {
   "cell_type": "code",
   "execution_count": 12,
   "metadata": {
    "scrolled": false
   },
   "outputs": [
    {
     "data": {
      "text/plain": [
       "Index(['Attrition', 'Age', 'BusinessTravel', 'Department', 'DistanceFromHome',\n",
       "       'Education', 'EducationField', 'EmployeeNumber',\n",
       "       'EnvironmentSatisfaction', 'Gender', 'JobInvolvement', 'JobRole',\n",
       "       'JobSatisfaction', 'MaritalStatus', 'MonthlyIncome',\n",
       "       'NumCompaniesWorked', 'OverTime', 'PercentSalaryHike',\n",
       "       'RelationshipSatisfaction', 'StockOptionLevel', 'TotalWorkingYears',\n",
       "       'TrainingTimesLastYear', 'WorkLifeBalance', 'YearsAtCompany',\n",
       "       'YearsInCurrentRole', 'YearsWithCurrManager'],\n",
       "      dtype='object')"
      ]
     },
     "execution_count": 12,
     "metadata": {},
     "output_type": "execute_result"
    }
   ],
   "source": [
    "# feature 확인\n",
    "data.columns"
   ]
  },
  {
   "cell_type": "code",
   "execution_count": 13,
   "metadata": {
    "id": "0cSTupAlIM-I"
   },
   "outputs": [],
   "source": [
    "# x, y 데이터 구분\n",
    "\n",
    "x = data.drop(target, axis=1)\n",
    "y = data[target]"
   ]
  },
  {
   "cell_type": "code",
   "execution_count": 14,
   "metadata": {
    "scrolled": true
   },
   "outputs": [
    {
     "name": "stdout",
     "output_type": "stream",
     "text": [
      "0.0    1050\n",
      "1.0     200\n",
      "Name: Attrition, dtype: int64\n"
     ]
    },
    {
     "name": "stderr",
     "output_type": "stream",
     "text": [
      "C:\\Users\\User\\anaconda3\\lib\\site-packages\\seaborn\\_decorators.py:36: FutureWarning: Pass the following variable as a keyword arg: x. From version 0.12, the only valid positional argument will be `data`, and passing other arguments without an explicit keyword will result in an error or misinterpretation.\n",
      "  warnings.warn(\n"
     ]
    },
    {
     "data": {
      "text/plain": [
       "<AxesSubplot:xlabel='Attrition', ylabel='count'>"
      ]
     },
     "execution_count": 14,
     "metadata": {},
     "output_type": "execute_result"
    },
    {
     "data": {
      "image/png": "[encoded data removed]",
      "text/plain": [
       "<Figure size 432x288 with 1 Axes>"
      ]
     },
     "metadata": {
      "needs_background": "light"
     },
     "output_type": "display_data"
    }
   ],
   "source": [
    "# target 데이터의 밸런스 확인 \n",
    "print(data[target].value_counts())\n",
    "sns.countplot(target, data=data)\n",
    "\n",
    "# 데이터의 불균형이 확인 되어 우선적으로 불균형 데이터의 모델링을 진행 후 \n",
    "# 시간적으로 여유가 허락된다면 균형을 맞춘 데이터의 모델링도 진행할 예정 "
   ]
  },
  {
   "cell_type": "code",
   "execution_count": 15,
   "metadata": {},
   "outputs": [
    {
     "data": {
      "text/plain": [
       "<AxesSubplot:>"
      ]
     },
     "execution_count": 15,
     "metadata": {},
     "output_type": "execute_result"
    },
    {
     "data": {
      "image/png": "[encoded data removed]",
      "text/plain": [
       "<Figure size 1080x504 with 2 Axes>"
      ]
     },
     "metadata": {
      "needs_background": "light"
     },
     "output_type": "display_data"
    }
   ],
   "source": [
    "# 상관관계 비교 하기 ( conneted하기에 좋아보이는 것을 찾을 수 있지 않을까 ?)\n",
    "plt.figure(figsize=(15,7))\n",
    "sns.heatmap(data.corr(), annot=True, cmap='Blues')"
   ]
  },
  {
   "cell_type": "markdown",
   "metadata": {},
   "source": [
    "*** 상관관계를 보고 상관관계가 높아보이는 것들 중 실제로 깊은 연관이 있을거라 판단되는 feature들을 conneted 해보는건 어떨까 ? \n",
    "*** TotalWorkingYears - Age , YearsAtCompany - YearsInCurrentRole - YearsWithCurrManager"
   ]
  },
  {
   "cell_type": "code",
   "execution_count": 16,
   "metadata": {},
   "outputs": [
    {
     "name": "stdout",
     "output_type": "stream",
     "text": [
      "<class 'pandas.core.frame.DataFrame'>\n",
      "RangeIndex: 1250 entries, 0 to 1249\n",
      "Data columns (total 26 columns):\n",
      " #   Column                    Non-Null Count  Dtype  \n",
      "---  ------                    --------------  -----  \n",
      " 0   Attrition                 1250 non-null   float64\n",
      " 1   Age                       1250 non-null   int64  \n",
      " 2   BusinessTravel            1250 non-null   object \n",
      " 3   Department                1250 non-null   object \n",
      " 4   DistanceFromHome          1250 non-null   float64\n",
      " 5   Education                 1250 non-null   int64  \n",
      " 6   EducationField            1250 non-null   object \n",
      " 7   EmployeeNumber            1250 non-null   int64  \n",
      " 8   EnvironmentSatisfaction   1250 non-null   int64  \n",
      " 9   Gender                    1250 non-null   object \n",
      " 10  JobInvolvement            1250 non-null   int64  \n",
      " 11  JobRole                   1250 non-null   object \n",
      " 12  JobSatisfaction           1250 non-null   int64  \n",
      " 13  MaritalStatus             1250 non-null   object \n",
      " 14  MonthlyIncome             1250 non-null   int64  \n",
      " 15  NumCompaniesWorked        1250 non-null   float64\n",
      " 16  OverTime                  1250 non-null   object \n",
      " 17  PercentSalaryHike         1250 non-null   int64  \n",
      " 18  RelationshipSatisfaction  1250 non-null   int64  \n",
      " 19  StockOptionLevel          1250 non-null   int64  \n",
      " 20  TotalWorkingYears         1250 non-null   int64  \n",
      " 21  TrainingTimesLastYear     1250 non-null   int64  \n",
      " 22  WorkLifeBalance           1250 non-null   int64  \n",
      " 23  YearsAtCompany            1250 non-null   int64  \n",
      " 24  YearsInCurrentRole        1250 non-null   int64  \n",
      " 25  YearsWithCurrManager      1250 non-null   int64  \n",
      "dtypes: float64(3), int64(16), object(7)\n",
      "memory usage: 254.0+ KB\n"
     ]
    }
   ],
   "source": [
    "data.info()"
   ]
  },
  {
   "cell_type": "code",
   "execution_count": 17,
   "metadata": {},
   "outputs": [
    {
     "name": "stdout",
     "output_type": "stream",
     "text": [
      "Travel_Rarely        892\n",
      "Travel_Frequently    230\n",
      "Non-Travel           128\n",
      "Name: BusinessTravel, dtype: int64\n",
      "**********************************************************************\n",
      "Research & Development    819\n",
      "Sales                     379\n",
      "Human Resources            52\n",
      "Name: Department, dtype: int64\n",
      "**********************************************************************\n",
      "Life Sciences       520\n",
      "Medical             390\n",
      "Marketing           137\n",
      "Technical Degree    112\n",
      "Other                68\n",
      "Human Resources      23\n",
      "Name: EducationField, dtype: int64\n",
      "**********************************************************************\n",
      "Male      760\n",
      "Female    490\n",
      "Name: Gender, dtype: int64\n",
      "**********************************************************************\n",
      "Sales Executive              283\n",
      "Research Scientist           246\n",
      "Laboratory Technician        227\n",
      "Manufacturing Director       123\n",
      "Healthcare Representative    110\n",
      "Manager                       87\n",
      "Research Director             66\n",
      "Sales Representative          65\n",
      "Human Resources               43\n",
      "Name: JobRole, dtype: int64\n",
      "**********************************************************************\n",
      "Married     570\n",
      "Single      404\n",
      "Divorced    276\n",
      "Name: MaritalStatus, dtype: int64\n",
      "**********************************************************************\n",
      "No     896\n",
      "Yes    354\n",
      "Name: OverTime, dtype: int64\n",
      "**********************************************************************\n"
     ]
    }
   ],
   "source": [
    "# 문자열을 값으로 갖는 feature의 값 확인\n",
    "\n",
    "print(data['BusinessTravel'].value_counts())\n",
    "print('*'*70)\n",
    "print(data['Department'].value_counts())\n",
    "print('*'*70)\n",
    "print(data['EducationField'].value_counts())\n",
    "print('*'*70)\n",
    "print(data['Gender'].value_counts())\n",
    "print('*'*70)\n",
    "print(data['JobRole'].value_counts())\n",
    "print('*'*70)\n",
    "print(data['MaritalStatus'].value_counts())\n",
    "print('*'*70)\n",
    "print(data['OverTime'].value_counts())\n",
    "print('*'*70)"
   ]
  },
  {
   "cell_type": "code",
   "execution_count": 18,
   "metadata": {},
   "outputs": [],
   "source": [
    "# feature의 값이 2가지의 문자열로 이루어진 값은 0, 1 로 변환 \n",
    "\n",
    "x.loc[ x['OverTime']=='Yes' , 'OverTime'] = 1\n",
    "x.loc[ x['OverTime']=='No' , 'OverTime'] = 0\n",
    "\n",
    "x.loc[ x['Gender']=='Male' , 'Gender'] = 1\n",
    "x.loc[ x['Gender']=='Female' , 'Gender'] = 0\n",
    "\n",
    "x['OverTime'] = x['OverTime'].astype(float)\n",
    "x['Gender'] = x['Gender'].astype(float)"
   ]
  },
  {
   "cell_type": "code",
   "execution_count": 19,
   "metadata": {},
   "outputs": [
    {
     "name": "stdout",
     "output_type": "stream",
     "text": [
      "1.0    760\n",
      "0.0    490\n",
      "Name: Gender, dtype: int64\n",
      "0.0    896\n",
      "1.0    354\n",
      "Name: OverTime, dtype: int64\n"
     ]
    }
   ],
   "source": [
    "# 확인하기 \n",
    "\n",
    "print(x['Gender'].value_counts())\n",
    "print(x['OverTime'].value_counts())"
   ]
  },
  {
   "cell_type": "code",
   "execution_count": 20,
   "metadata": {
    "scrolled": true
   },
   "outputs": [
    {
     "name": "stdout",
     "output_type": "stream",
     "text": [
      "(1250, 25)\n"
     ]
    },
    {
     "data": {
      "text/plain": [
       "Index(['Age', 'BusinessTravel', 'Department', 'DistanceFromHome', 'Education',\n",
       "       'EducationField', 'EmployeeNumber', 'EnvironmentSatisfaction', 'Gender',\n",
       "       'JobInvolvement', 'JobRole', 'JobSatisfaction', 'MaritalStatus',\n",
       "       'MonthlyIncome', 'NumCompaniesWorked', 'OverTime', 'PercentSalaryHike',\n",
       "       'RelationshipSatisfaction', 'StockOptionLevel', 'TotalWorkingYears',\n",
       "       'TrainingTimesLastYear', 'WorkLifeBalance', 'YearsAtCompany',\n",
       "       'YearsInCurrentRole', 'YearsWithCurrManager'],\n",
       "      dtype='object')"
      ]
     },
     "execution_count": 20,
     "metadata": {},
     "output_type": "execute_result"
    }
   ],
   "source": [
    "print(x.shape)\n",
    "x.columns"
   ]
  },
  {
   "cell_type": "code",
   "execution_count": 21,
   "metadata": {
    "id": "DDWeaDyRINBc"
   },
   "outputs": [],
   "source": [
    "# 가변수화 -> 문자열 데이터값 변경\n",
    "# feature의 값이 3가지이상 가지는 feature은 가변수화 진행 \n",
    "cols = ['BusinessTravel', 'Department', 'EducationField', 'JobRole', 'MaritalStatus']\n",
    "\n",
    "x = pd.get_dummies(x, columns=cols, drop_first=False)"
   ]
  },
  {
   "cell_type": "code",
   "execution_count": 22,
   "metadata": {
    "id": "dduwsFXAINEP"
   },
   "outputs": [
    {
     "data": {
      "text/html": [
       "<div>\n",
       "<style scoped>\n",
       "    .dataframe tbody tr th:only-of-type {\n",
       "        vertical-align: middle;\n",
       "    }\n",
       "\n",
       "    .dataframe tbody tr th {\n",
       "        vertical-align: top;\n",
       "    }\n",
       "\n",
       "    .dataframe thead th {\n",
       "        text-align: right;\n",
       "    }\n",
       "</style>\n",
       "<table border=\"1\" class=\"dataframe\">\n",
       "  <thead>\n",
       "    <tr style=\"text-align: right;\">\n",
       "      <th></th>\n",
       "      <th>Age</th>\n",
       "      <th>DistanceFromHome</th>\n",
       "      <th>Education</th>\n",
       "      <th>EmployeeNumber</th>\n",
       "      <th>EnvironmentSatisfaction</th>\n",
       "      <th>Gender</th>\n",
       "      <th>JobInvolvement</th>\n",
       "      <th>JobSatisfaction</th>\n",
       "      <th>MonthlyIncome</th>\n",
       "      <th>NumCompaniesWorked</th>\n",
       "      <th>...</th>\n",
       "      <th>JobRole_Laboratory Technician</th>\n",
       "      <th>JobRole_Manager</th>\n",
       "      <th>JobRole_Manufacturing Director</th>\n",
       "      <th>JobRole_Research Director</th>\n",
       "      <th>JobRole_Research Scientist</th>\n",
       "      <th>JobRole_Sales Executive</th>\n",
       "      <th>JobRole_Sales Representative</th>\n",
       "      <th>MaritalStatus_Divorced</th>\n",
       "      <th>MaritalStatus_Married</th>\n",
       "      <th>MaritalStatus_Single</th>\n",
       "    </tr>\n",
       "  </thead>\n",
       "  <tbody>\n",
       "    <tr>\n",
       "      <th>0</th>\n",
       "      <td>33</td>\n",
       "      <td>7.0</td>\n",
       "      <td>3</td>\n",
       "      <td>817</td>\n",
       "      <td>3</td>\n",
       "      <td>1.0</td>\n",
       "      <td>3</td>\n",
       "      <td>3</td>\n",
       "      <td>11691</td>\n",
       "      <td>0.0</td>\n",
       "      <td>...</td>\n",
       "      <td>0</td>\n",
       "      <td>0</td>\n",
       "      <td>0</td>\n",
       "      <td>1</td>\n",
       "      <td>0</td>\n",
       "      <td>0</td>\n",
       "      <td>0</td>\n",
       "      <td>0</td>\n",
       "      <td>1</td>\n",
       "      <td>0</td>\n",
       "    </tr>\n",
       "    <tr>\n",
       "      <th>1</th>\n",
       "      <td>35</td>\n",
       "      <td>18.0</td>\n",
       "      <td>2</td>\n",
       "      <td>1412</td>\n",
       "      <td>3</td>\n",
       "      <td>1.0</td>\n",
       "      <td>3</td>\n",
       "      <td>4</td>\n",
       "      <td>9362</td>\n",
       "      <td>2.0</td>\n",
       "      <td>...</td>\n",
       "      <td>0</td>\n",
       "      <td>0</td>\n",
       "      <td>1</td>\n",
       "      <td>0</td>\n",
       "      <td>0</td>\n",
       "      <td>0</td>\n",
       "      <td>0</td>\n",
       "      <td>0</td>\n",
       "      <td>0</td>\n",
       "      <td>1</td>\n",
       "    </tr>\n",
       "    <tr>\n",
       "      <th>2</th>\n",
       "      <td>42</td>\n",
       "      <td>6.0</td>\n",
       "      <td>3</td>\n",
       "      <td>1911</td>\n",
       "      <td>3</td>\n",
       "      <td>1.0</td>\n",
       "      <td>3</td>\n",
       "      <td>1</td>\n",
       "      <td>13348</td>\n",
       "      <td>9.0</td>\n",
       "      <td>...</td>\n",
       "      <td>0</td>\n",
       "      <td>0</td>\n",
       "      <td>0</td>\n",
       "      <td>1</td>\n",
       "      <td>0</td>\n",
       "      <td>0</td>\n",
       "      <td>0</td>\n",
       "      <td>0</td>\n",
       "      <td>1</td>\n",
       "      <td>0</td>\n",
       "    </tr>\n",
       "  </tbody>\n",
       "</table>\n",
       "<p>3 rows × 44 columns</p>\n",
       "</div>"
      ],
      "text/plain": [
       "   Age  DistanceFromHome  Education  EmployeeNumber  EnvironmentSatisfaction  \\\n",
       "0   33               7.0          3             817                        3   \n",
       "1   35              18.0          2            1412                        3   \n",
       "2   42               6.0          3            1911                        3   \n",
       "\n",
       "   Gender  JobInvolvement  JobSatisfaction  MonthlyIncome  NumCompaniesWorked  \\\n",
       "0     1.0               3                3          11691                 0.0   \n",
       "1     1.0               3                4           9362                 2.0   \n",
       "2     1.0               3                1          13348                 9.0   \n",
       "\n",
       "   ...  JobRole_Laboratory Technician  JobRole_Manager  \\\n",
       "0  ...                              0                0   \n",
       "1  ...                              0                0   \n",
       "2  ...                              0                0   \n",
       "\n",
       "   JobRole_Manufacturing Director  JobRole_Research Director  \\\n",
       "0                               0                          1   \n",
       "1                               1                          0   \n",
       "2                               0                          1   \n",
       "\n",
       "   JobRole_Research Scientist  JobRole_Sales Executive  \\\n",
       "0                           0                        0   \n",
       "1                           0                        0   \n",
       "2                           0                        0   \n",
       "\n",
       "   JobRole_Sales Representative  MaritalStatus_Divorced  \\\n",
       "0                             0                       0   \n",
       "1                             0                       0   \n",
       "2                             0                       0   \n",
       "\n",
       "   MaritalStatus_Married  MaritalStatus_Single  \n",
       "0                      1                     0  \n",
       "1                      0                     1  \n",
       "2                      1                     0  \n",
       "\n",
       "[3 rows x 44 columns]"
      ]
     },
     "execution_count": 22,
     "metadata": {},
     "output_type": "execute_result"
    }
   ],
   "source": [
    "# 확인하기 \n",
    "\n",
    "x.head(3)"
   ]
  },
  {
   "cell_type": "code",
   "execution_count": 23,
   "metadata": {
    "id": "ywIdIjqsINHX"
   },
   "outputs": [],
   "source": [
    "# train, test 데이터로 구분하기 \n",
    "from sklearn.model_selection import train_test_split"
   ]
  },
  {
   "cell_type": "code",
   "execution_count": 24,
   "metadata": {},
   "outputs": [],
   "source": [
    "# test_size= 0.2 수준으로 \n",
    "x_train, x_test, y_train, y_test = train_test_split(x, y, test_size=0.2, random_state=2022)"
   ]
  },
  {
   "cell_type": "code",
   "execution_count": 25,
   "metadata": {},
   "outputs": [
    {
     "data": {
      "text/plain": [
       "((1000, 44), (250, 44), (1000,), (250,))"
      ]
     },
     "execution_count": 25,
     "metadata": {},
     "output_type": "execute_result"
    }
   ],
   "source": [
    "# 확인하기 \n",
    "x_train.shape, x_test.shape, y_train.shape, y_test.shape"
   ]
  },
  {
   "cell_type": "markdown",
   "metadata": {
    "id": "N4iFUU_hv3G5"
   },
   "source": [
    "## 모델링\n",
    "\n",
    "1. 전처리에서 제외한 feature를 제외한, 다른 feature는 반드시 모두 사용하셔야 합니다.\n",
    "2. locally connected layer를 최소 4개 이상 만드세요.\n",
    "3. 모델 구조 시각화까지 해주면 좋습니다.\n",
    "4. 학습 횟수는 최대 25번까지만.\n",
    "---\n",
    "### **locally하게 연결한 구성 의도를 반드시 상세하게 남겨주세요 (상황 가정을 해서라도!)** \n",
    "### **주석 역시 상세하게 남겨주세요**"
   ]
  },
  {
   "cell_type": "markdown",
   "metadata": {},
   "source": [
    "*** 위 히트맵의 상관관계를 보고 상관관계가 높아보이는 것들 중 실제로 깊은 연관이 있을거라 판단되는 feature들을 conneted 해보는건 어떨까 ? \n",
    "\n",
    "\n",
    "*** TotalWorkingYears - Age , YearsAtCompany - YearsInCurrentRole - YearsWithCurrManager"
   ]
  },
  {
   "cell_type": "markdown",
   "metadata": {},
   "source": [
    "*** 또한 위에서 가변수화를 통해 나누어진 feature들을 다시 connected하는 작업이 필요하다 생각"
   ]
  },
  {
   "cell_type": "code",
   "execution_count": 26,
   "metadata": {},
   "outputs": [
    {
     "data": {
      "text/plain": [
       "Index(['Age', 'DistanceFromHome', 'Education', 'EmployeeNumber',\n",
       "       'EnvironmentSatisfaction', 'Gender', 'JobInvolvement',\n",
       "       'JobSatisfaction', 'MonthlyIncome', 'NumCompaniesWorked', 'OverTime',\n",
       "       'PercentSalaryHike', 'RelationshipSatisfaction', 'StockOptionLevel',\n",
       "       'TotalWorkingYears', 'TrainingTimesLastYear', 'WorkLifeBalance',\n",
       "       'YearsAtCompany', 'YearsInCurrentRole', 'YearsWithCurrManager',\n",
       "       'BusinessTravel_Non-Travel', 'BusinessTravel_Travel_Frequently',\n",
       "       'BusinessTravel_Travel_Rarely', 'Department_Human Resources',\n",
       "       'Department_Research & Development', 'Department_Sales',\n",
       "       'EducationField_Human Resources', 'EducationField_Life Sciences',\n",
       "       'EducationField_Marketing', 'EducationField_Medical',\n",
       "       'EducationField_Other', 'EducationField_Technical Degree',\n",
       "       'JobRole_Healthcare Representative', 'JobRole_Human Resources',\n",
       "       'JobRole_Laboratory Technician', 'JobRole_Manager',\n",
       "       'JobRole_Manufacturing Director', 'JobRole_Research Director',\n",
       "       'JobRole_Research Scientist', 'JobRole_Sales Executive',\n",
       "       'JobRole_Sales Representative', 'MaritalStatus_Divorced',\n",
       "       'MaritalStatus_Married', 'MaritalStatus_Single'],\n",
       "      dtype='object')"
      ]
     },
     "execution_count": 26,
     "metadata": {},
     "output_type": "execute_result"
    }
   ],
   "source": [
    "x.columns"
   ]
  },
  {
   "cell_type": "markdown",
   "metadata": {
    "id": "TMl51PRuv6sw"
   },
   "source": [
    "### Locally connected layer를 구성하기 위한 feature 설정"
   ]
  },
  {
   "cell_type": "markdown",
   "metadata": {},
   "source": [
    "Travel_Rarely        892\n",
    "Travel_Frequently    230\n",
    "Non-Travel           128\n",
    "Name: BusinessTravel, dtype: int64\n",
    "**********************************************************************\n",
    "Research & Development    819\n",
    "Sales                     379\n",
    "Human Resources            52\n",
    "Name: Department, dtype: int64\n",
    "**********************************************************************\n",
    "Life Sciences       520\n",
    "Medical             390\n",
    "Marketing           137\n",
    "Technical Degree    112\n",
    "Other                68\n",
    "Human Resources      23\n",
    "Name: EducationField, dtype: int64\n",
    "**********************************************************************\n",
    "Male      760\n",
    "Female    490\n",
    "Name: Gender, dtype: int64\n",
    "**********************************************************************\n",
    "Sales Executive              283\n",
    "Research Scientist           246\n",
    "Laboratory Technician        227\n",
    "Manufacturing Director       123\n",
    "Healthcare Representative    110\n",
    "Manager                       87\n",
    "Research Director             66\n",
    "Sales Representative          65\n",
    "Human Resources               43\n",
    "Name: JobRole, dtype: int64\n",
    "**********************************************************************\n",
    "Married     570\n",
    "Single      404\n",
    "Divorced    276\n",
    "Name: MaritalStatus, dtype: int64\n",
    "**********************************************************************\n",
    "No     896\n",
    "Yes    354\n",
    "Name: OverTime, dtype: int64"
   ]
  },
  {
   "cell_type": "code",
   "execution_count": 27,
   "metadata": {
    "id": "DIlkOj3RIUDr"
   },
   "outputs": [],
   "source": [
    "# train 데이터 feature 설정\n",
    "\n",
    "tr_x_others = x_train.loc[:, ['DistanceFromHome', 'Education', 'EmployeeNumber',\n",
    "                              'EnvironmentSatisfaction', 'Gender', 'JobInvolvement',\n",
    "                              'JobSatisfaction', 'MonthlyIncome', 'NumCompaniesWorked', 'OverTime',\n",
    "                              'PercentSalaryHike', 'RelationshipSatisfaction', 'StockOptionLevel',\n",
    "                              'TrainingTimesLastYear', 'WorkLifeBalance', ]]\n",
    "tr_x_ta = x_train.loc[:, ['Age', 'TotalWorkingYears']]\n",
    "tr_x_years = x_train.loc[:, ['YearsAtCompany', 'YearsInCurrentRole', 'YearsWithCurrManager']]\n",
    "tr_x_travel = x_train.loc[:, ['BusinessTravel_Non-Travel', 'BusinessTravel_Travel_Frequently', 'BusinessTravel_Travel_Rarely']]\n",
    "tr_x_depart = x_train.loc[:, ['Department_Human Resources', 'Department_Research & Development', 'Department_Sales']]\n",
    "tr_x_edu = x_train.loc[:, [ 'EducationField_Human Resources', 'EducationField_Life Sciences',\n",
    "                            'EducationField_Marketing', 'EducationField_Medical', 'EducationField_Other', \n",
    "                            'EducationField_Technical Degree']]\n",
    "tr_x_role = x_train.loc[:, ['JobRole_Healthcare Representative', 'JobRole_Human Resources',\n",
    "                        'JobRole_Laboratory Technician', 'JobRole_Manager',\n",
    "                        'JobRole_Manufacturing Director', 'JobRole_Research Director',\n",
    "                        'JobRole_Research Scientist', 'JobRole_Sales Executive', 'JobRole_Sales Representative']]\n",
    "tr_x_marital = x_train.loc[:, ['MaritalStatus_Divorced','MaritalStatus_Married', 'MaritalStatus_Single']]\n"
   ]
  },
  {
   "cell_type": "code",
   "execution_count": 28,
   "metadata": {},
   "outputs": [],
   "source": [
    "# test 데이터 feature 설정\n",
    "\n",
    "te_x_others = x_test.loc[:, ['DistanceFromHome', 'Education', 'EmployeeNumber',\n",
    "                              'EnvironmentSatisfaction', 'Gender', 'JobInvolvement',\n",
    "                              'JobSatisfaction', 'MonthlyIncome', 'NumCompaniesWorked', 'OverTime',\n",
    "                              'PercentSalaryHike', 'RelationshipSatisfaction', 'StockOptionLevel',\n",
    "                              'TrainingTimesLastYear', 'WorkLifeBalance', ]]\n",
    "te_x_ta = x_test.loc[:, ['Age', 'TotalWorkingYears']]\n",
    "te_x_years = x_test.loc[:, ['YearsAtCompany', 'YearsInCurrentRole', 'YearsWithCurrManager']]\n",
    "te_x_travel = x_test.loc[:, ['BusinessTravel_Non-Travel', 'BusinessTravel_Travel_Frequently', 'BusinessTravel_Travel_Rarely']]\n",
    "te_x_depart = x_test.loc[:, ['Department_Human Resources', 'Department_Research & Development', 'Department_Sales']]\n",
    "te_x_edu = x_test.loc[:, [ 'EducationField_Human Resources', 'EducationField_Life Sciences',\n",
    "                            'EducationField_Marketing', 'EducationField_Medical', 'EducationField_Other', \n",
    "                            'EducationField_Technical Degree']]\n",
    "te_x_role = x_test.loc[:, ['JobRole_Healthcare Representative', 'JobRole_Human Resources',\n",
    "                        'JobRole_Laboratory Technician', 'JobRole_Manager',\n",
    "                        'JobRole_Manufacturing Director', 'JobRole_Research Director',\n",
    "                        'JobRole_Research Scientist', 'JobRole_Sales Executive', 'JobRole_Sales Representative']]\n",
    "te_x_marital = x_test.loc[:, ['MaritalStatus_Divorced','MaritalStatus_Married', 'MaritalStatus_Single']]"
   ]
  },
  {
   "cell_type": "code",
   "execution_count": 29,
   "metadata": {},
   "outputs": [
    {
     "name": "stdout",
     "output_type": "stream",
     "text": [
      "(1000, 15) (1000, 2) (1000, 3) (1000, 3) (1000, 3) (1000, 6) (1000, 9) (1000, 3)\n"
     ]
    }
   ],
   "source": [
    "# 변수별 input layer 만들기 이전에 노드 수 확인 \n",
    "print(tr_x_others.shape, tr_x_ta.shape, tr_x_years.shape, tr_x_travel.shape, \n",
    "      tr_x_depart.shape, tr_x_edu.shape, tr_x_role.shape, tr_x_marital.shape)"
   ]
  },
  {
   "cell_type": "markdown",
   "metadata": {
    "id": "II2DSumywT4b"
   },
   "source": [
    "### 모델 코드 작성"
   ]
  },
  {
   "cell_type": "code",
   "execution_count": 30,
   "metadata": {
    "id": "_sQ3EMVuIZyk"
   },
   "outputs": [],
   "source": [
    "# 라이브러리 불러오기 \n",
    "import tensorflow as tf \n",
    "from tensorflow import keras\n",
    "from tensorflow.keras.models import Model\n",
    "from tensorflow.keras.layers import Input,Dense,Add,Concatenate\n",
    "\n",
    "from tensorflow.keras.callbacks import EarlyStopping\n",
    "from tensorflow.keras.utils import plot_model"
   ]
  },
  {
   "cell_type": "markdown",
   "metadata": {},
   "source": [
    "# 나만의 모델 \n",
    "\n",
    "** il 레이어를 tr_x_others를 제외한 나머지 레이어를 노드 수 32의 hl 을 제공  \n",
    "** Add 를 통해 결합 후 \n",
    "** tr_x_others 에게도 노드 32개의 hl 제공 후 위의 레이어와 concatenate 실행   \n",
    "** hl의 레이어를 한 번 더 추가하는 방식   "
   ]
  },
  {
   "cell_type": "code",
   "execution_count": 31,
   "metadata": {},
   "outputs": [
    {
     "name": "stdout",
     "output_type": "stream",
     "text": [
      "Model: \"model\"\n",
      "__________________________________________________________________________________________________\n",
      " Layer (type)                   Output Shape         Param #     Connected to                     \n",
      "==================================================================================================\n",
      " input_1 (InputLayer)           [(None, 2)]          0           []                               \n",
      "                                                                                                  \n",
      " input_2 (InputLayer)           [(None, 3)]          0           []                               \n",
      "                                                                                                  \n",
      " input_3 (InputLayer)           [(None, 3)]          0           []                               \n",
      "                                                                                                  \n",
      " input_4 (InputLayer)           [(None, 3)]          0           []                               \n",
      "                                                                                                  \n",
      " input_5 (InputLayer)           [(None, 6)]          0           []                               \n",
      "                                                                                                  \n",
      " input_6 (InputLayer)           [(None, 9)]          0           []                               \n",
      "                                                                                                  \n",
      " input_7 (InputLayer)           [(None, 3)]          0           []                               \n",
      "                                                                                                  \n",
      " dense (Dense)                  (None, 32)           96          ['input_1[0][0]']                \n",
      "                                                                                                  \n",
      " dense_1 (Dense)                (None, 32)           128         ['input_2[0][0]']                \n",
      "                                                                                                  \n",
      " dense_2 (Dense)                (None, 32)           128         ['input_3[0][0]']                \n",
      "                                                                                                  \n",
      " dense_3 (Dense)                (None, 32)           128         ['input_4[0][0]']                \n",
      "                                                                                                  \n",
      " dense_4 (Dense)                (None, 32)           224         ['input_5[0][0]']                \n",
      "                                                                                                  \n",
      " dense_5 (Dense)                (None, 32)           320         ['input_6[0][0]']                \n",
      "                                                                                                  \n",
      " dense_6 (Dense)                (None, 32)           128         ['input_7[0][0]']                \n",
      "                                                                                                  \n",
      " input_8 (InputLayer)           [(None, 15)]         0           []                               \n",
      "                                                                                                  \n",
      " add (Add)                      (None, 32)           0           ['dense[0][0]',                  \n",
      "                                                                  'dense_1[0][0]',                \n",
      "                                                                  'dense_2[0][0]',                \n",
      "                                                                  'dense_3[0][0]',                \n",
      "                                                                  'dense_4[0][0]',                \n",
      "                                                                  'dense_5[0][0]',                \n",
      "                                                                  'dense_6[0][0]']                \n",
      "                                                                                                  \n",
      " dense_7 (Dense)                (None, 32)           512         ['input_8[0][0]']                \n",
      "                                                                                                  \n",
      " concatenate (Concatenate)      (None, 64)           0           ['add[0][0]',                    \n",
      "                                                                  'dense_7[0][0]']                \n",
      "                                                                                                  \n",
      " dense_8 (Dense)                (None, 128)          8320        ['concatenate[0][0]']            \n",
      "                                                                                                  \n",
      " dense_9 (Dense)                (None, 1)            129         ['dense_8[0][0]']                \n",
      "                                                                                                  \n",
      "==================================================================================================\n",
      "Total params: 10,113\n",
      "Trainable params: 10,113\n",
      "Non-trainable params: 0\n",
      "__________________________________________________________________________________________________\n"
     ]
    }
   ],
   "source": [
    "# 1 세션 클리어 \n",
    "keras.backend.clear_session()\n",
    "\n",
    "# 2 모델 엮기\n",
    "il_ta = Input(shape=(2,))\n",
    "hl_ta = Dense(32, activation='relu')(il_ta)\n",
    "\n",
    "il_years = Input(shape=(3,))\n",
    "hl_years = Dense(32, activation='relu')(il_years)\n",
    "\n",
    "il_travel = Input(shape=(3,))\n",
    "hl_travel = Dense(32, activation='relu')(il_travel)\n",
    "\n",
    "il_depart = Input(shape=(3,))\n",
    "hl_depart = Dense(32, activation='relu')(il_depart)\n",
    "\n",
    "il_edu = Input(shape=(6,))\n",
    "hl_edu = Dense(32, activation='relu')(il_edu)\n",
    "\n",
    "il_role = Input(shape=(9,))\n",
    "hl_role = Dense(32, activation='relu')(il_role)\n",
    "\n",
    "il_marital = Input(shape=(3,))\n",
    "hl_marital = Dense(32, activation='relu')(il_marital)\n",
    "\n",
    "al = Add()([hl_ta, hl_years, hl_travel, hl_depart, hl_edu, hl_role, hl_marital])\n",
    "\n",
    "il_others = Input(shape=(15,))\n",
    "hl_others = Dense(32, activation='relu')(il_others)\n",
    "\n",
    "cl = Concatenate()([al, hl_others])\n",
    "hl = Dense(128, activation='relu')(cl)\n",
    "ol = Dense(1, activation='sigmoid')(hl)\n",
    "\n",
    "# 3 모델 시작과 끝 지정 \n",
    "model = Model([il_ta, il_years, il_travel, il_depart, il_edu, il_role, il_marital, il_others], ol)\n",
    "\n",
    "# 4 컴파일 \n",
    "model.compile(loss=keras.losses.binary_crossentropy, metrics=['accuracy'], optimizer='adam')\n",
    "\n",
    "# 양념 \n",
    "model.summary()"
   ]
  },
  {
   "cell_type": "markdown",
   "metadata": {
    "id": "MWkg0Oogw5W5"
   },
   "source": [
    "### 모델 구조 시각화"
   ]
  },
  {
   "cell_type": "code",
   "execution_count": 32,
   "metadata": {
    "id": "yVf1ZIhWIbRe"
   },
   "outputs": [
    {
     "data": {
      "image/png": "[encoded data removed]",
      "text/plain": [
       "<IPython.core.display.Image object>"
      ]
     },
     "execution_count": 32,
     "metadata": {},
     "output_type": "execute_result"
    }
   ],
   "source": [
    "plot_model(model, show_shapes=True)"
   ]
  },
  {
   "cell_type": "markdown",
   "metadata": {
    "id": "fLnughPGxKr4"
   },
   "source": [
    "### 모델 학습"
   ]
  },
  {
   "cell_type": "code",
   "execution_count": 33,
   "metadata": {},
   "outputs": [],
   "source": [
    "tr_list = [tr_x_ta, tr_x_years, tr_x_travel, tr_x_depart, tr_x_edu, tr_x_role, tr_x_marital, tr_x_others]"
   ]
  },
  {
   "cell_type": "code",
   "execution_count": 34,
   "metadata": {},
   "outputs": [],
   "source": [
    "te_list = [te_x_ta, te_x_years, te_x_travel, te_x_depart, te_x_edu, te_x_role, te_x_marital, te_x_others]"
   ]
  },
  {
   "cell_type": "code",
   "execution_count": 35,
   "metadata": {},
   "outputs": [],
   "source": [
    "# Earlystopping 값 \n",
    "\n",
    "es = EarlyStopping(monitor='val_loss',\n",
    "                   min_delta=0,\n",
    "                   patience=30,\n",
    "                   verbose=1,\n",
    "                   restore_best_weights=True)"
   ]
  },
  {
   "cell_type": "code",
   "execution_count": 36,
   "metadata": {
    "id": "aXPOYO-jIf94"
   },
   "outputs": [
    {
     "name": "stdout",
     "output_type": "stream",
     "text": [
      "Epoch 1/300\n",
      "27/27 [==============================] - 1s 16ms/step - loss: 24.7075 - accuracy: 0.7565 - val_loss: 22.6273 - val_accuracy: 0.8467\n",
      "Epoch 2/300\n",
      "27/27 [==============================] - 0s 5ms/step - loss: 9.4583 - accuracy: 0.7659 - val_loss: 3.0896 - val_accuracy: 0.3667\n",
      "Epoch 3/300\n",
      "27/27 [==============================] - 0s 4ms/step - loss: 5.2392 - accuracy: 0.7329 - val_loss: 2.7659 - val_accuracy: 0.7733\n",
      "Epoch 4/300\n",
      "27/27 [==============================] - 0s 4ms/step - loss: 9.5622 - accuracy: 0.7353 - val_loss: 12.3695 - val_accuracy: 0.8467\n",
      "Epoch 5/300\n",
      "27/27 [==============================] - 0s 4ms/step - loss: 4.6727 - accuracy: 0.7435 - val_loss: 4.6789 - val_accuracy: 0.8333\n",
      "Epoch 6/300\n",
      "27/27 [==============================] - 0s 4ms/step - loss: 14.2492 - accuracy: 0.7635 - val_loss: 15.9454 - val_accuracy: 0.8467\n",
      "Epoch 7/300\n",
      "27/27 [==============================] - 0s 4ms/step - loss: 6.5624 - accuracy: 0.7624 - val_loss: 4.0314 - val_accuracy: 0.5533\n",
      "Epoch 8/300\n",
      "27/27 [==============================] - 0s 4ms/step - loss: 4.5609 - accuracy: 0.7565 - val_loss: 7.0099 - val_accuracy: 0.8133\n",
      "Epoch 9/300\n",
      "27/27 [==============================] - 0s 4ms/step - loss: 8.3012 - accuracy: 0.7435 - val_loss: 2.0761 - val_accuracy: 0.6200\n",
      "Epoch 10/300\n",
      "27/27 [==============================] - 0s 4ms/step - loss: 7.3223 - accuracy: 0.7694 - val_loss: 8.1232 - val_accuracy: 0.8200\n",
      "Epoch 11/300\n",
      "27/27 [==============================] - 0s 4ms/step - loss: 4.4847 - accuracy: 0.7282 - val_loss: 10.4086 - val_accuracy: 0.8267\n",
      "Epoch 12/300\n",
      "27/27 [==============================] - 0s 4ms/step - loss: 7.1819 - accuracy: 0.7776 - val_loss: 9.9662 - val_accuracy: 0.8467\n",
      "Epoch 13/300\n",
      "27/27 [==============================] - 0s 4ms/step - loss: 4.1903 - accuracy: 0.7776 - val_loss: 2.8445 - val_accuracy: 0.8267\n",
      "Epoch 14/300\n",
      "27/27 [==============================] - 0s 4ms/step - loss: 8.1243 - accuracy: 0.7424 - val_loss: 25.3868 - val_accuracy: 0.8467\n",
      "Epoch 15/300\n",
      "27/27 [==============================] - 0s 4ms/step - loss: 14.3381 - accuracy: 0.7306 - val_loss: 10.5913 - val_accuracy: 0.8333\n",
      "Epoch 16/300\n",
      "27/27 [==============================] - 0s 4ms/step - loss: 8.9059 - accuracy: 0.7576 - val_loss: 9.6384 - val_accuracy: 0.8467\n",
      "Epoch 17/300\n",
      "27/27 [==============================] - 0s 4ms/step - loss: 8.8881 - accuracy: 0.7447 - val_loss: 4.2510 - val_accuracy: 0.7400\n",
      "Epoch 18/300\n",
      "27/27 [==============================] - 0s 4ms/step - loss: 3.7171 - accuracy: 0.7682 - val_loss: 1.6575 - val_accuracy: 0.6533\n",
      "Epoch 19/300\n",
      "27/27 [==============================] - 0s 4ms/step - loss: 5.0462 - accuracy: 0.7565 - val_loss: 6.3095 - val_accuracy: 0.1733\n",
      "Epoch 20/300\n",
      "27/27 [==============================] - 0s 4ms/step - loss: 6.7169 - accuracy: 0.7541 - val_loss: 6.4030 - val_accuracy: 0.8267\n",
      "Epoch 21/300\n",
      "27/27 [==============================] - 0s 4ms/step - loss: 5.6297 - accuracy: 0.7376 - val_loss: 2.3072 - val_accuracy: 0.8333\n",
      "Epoch 22/300\n",
      "27/27 [==============================] - 0s 4ms/step - loss: 5.8650 - accuracy: 0.7576 - val_loss: 18.6530 - val_accuracy: 0.8333\n",
      "Epoch 23/300\n",
      "27/27 [==============================] - 0s 4ms/step - loss: 5.1634 - accuracy: 0.7647 - val_loss: 1.2364 - val_accuracy: 0.7667\n",
      "Epoch 24/300\n",
      "27/27 [==============================] - 0s 4ms/step - loss: 6.7527 - accuracy: 0.7459 - val_loss: 10.6336 - val_accuracy: 0.8467\n",
      "Epoch 25/300\n",
      "27/27 [==============================] - 0s 4ms/step - loss: 5.6967 - accuracy: 0.7753 - val_loss: 2.1990 - val_accuracy: 0.8400\n",
      "Epoch 26/300\n",
      "27/27 [==============================] - 0s 4ms/step - loss: 3.3463 - accuracy: 0.7682 - val_loss: 4.7993 - val_accuracy: 0.8467\n",
      "Epoch 27/300\n",
      "27/27 [==============================] - 0s 4ms/step - loss: 3.1735 - accuracy: 0.7741 - val_loss: 4.4117 - val_accuracy: 0.8267\n",
      "Epoch 28/300\n",
      "27/27 [==============================] - 0s 4ms/step - loss: 4.8413 - accuracy: 0.7600 - val_loss: 4.8445 - val_accuracy: 0.8467\n",
      "Epoch 29/300\n",
      "27/27 [==============================] - 0s 4ms/step - loss: 5.0084 - accuracy: 0.7776 - val_loss: 6.8595 - val_accuracy: 0.8467\n",
      "Epoch 30/300\n",
      "27/27 [==============================] - 0s 4ms/step - loss: 3.5595 - accuracy: 0.7518 - val_loss: 6.9877 - val_accuracy: 0.8467\n",
      "Epoch 31/300\n",
      "27/27 [==============================] - 0s 4ms/step - loss: 6.1433 - accuracy: 0.7812 - val_loss: 2.9973 - val_accuracy: 0.8267\n",
      "Epoch 32/300\n",
      "27/27 [==============================] - 0s 4ms/step - loss: 4.7032 - accuracy: 0.7659 - val_loss: 1.8670 - val_accuracy: 0.5733\n",
      "Epoch 33/300\n",
      "27/27 [==============================] - 0s 4ms/step - loss: 4.1302 - accuracy: 0.7659 - val_loss: 3.0807 - val_accuracy: 0.8133\n",
      "Epoch 34/300\n",
      "27/27 [==============================] - 0s 4ms/step - loss: 5.3045 - accuracy: 0.7624 - val_loss: 5.9347 - val_accuracy: 0.8467\n",
      "Epoch 35/300\n",
      "27/27 [==============================] - 0s 4ms/step - loss: 3.9667 - accuracy: 0.7988 - val_loss: 1.9230 - val_accuracy: 0.8133\n",
      "Epoch 36/300\n",
      "27/27 [==============================] - 0s 4ms/step - loss: 6.4328 - accuracy: 0.7694 - val_loss: 3.5391 - val_accuracy: 0.4933\n",
      "Epoch 37/300\n",
      "27/27 [==============================] - 0s 4ms/step - loss: 2.2345 - accuracy: 0.7518 - val_loss: 5.1717 - val_accuracy: 0.8400\n",
      "Epoch 38/300\n",
      "27/27 [==============================] - 0s 4ms/step - loss: 5.6788 - accuracy: 0.7624 - val_loss: 17.9470 - val_accuracy: 0.8467\n",
      "Epoch 39/300\n",
      "27/27 [==============================] - 0s 4ms/step - loss: 8.6684 - accuracy: 0.7718 - val_loss: 4.6445 - val_accuracy: 0.8467\n",
      "Epoch 40/300\n",
      "27/27 [==============================] - 0s 5ms/step - loss: 6.5153 - accuracy: 0.7706 - val_loss: 2.6832 - val_accuracy: 0.8533\n",
      "Epoch 41/300\n",
      "27/27 [==============================] - 0s 4ms/step - loss: 2.6982 - accuracy: 0.7812 - val_loss: 1.7089 - val_accuracy: 0.5733\n",
      "Epoch 42/300\n",
      "27/27 [==============================] - 0s 4ms/step - loss: 3.7739 - accuracy: 0.7859 - val_loss: 8.7536 - val_accuracy: 0.8467\n",
      "Epoch 43/300\n",
      "27/27 [==============================] - 0s 4ms/step - loss: 6.2558 - accuracy: 0.7518 - val_loss: 2.7533 - val_accuracy: 0.7467\n",
      "Epoch 44/300\n",
      "27/27 [==============================] - 0s 4ms/step - loss: 4.1638 - accuracy: 0.7894 - val_loss: 7.5091 - val_accuracy: 0.2200\n",
      "Epoch 45/300\n",
      "27/27 [==============================] - 0s 4ms/step - loss: 3.1068 - accuracy: 0.7671 - val_loss: 1.5901 - val_accuracy: 0.6400\n",
      "Epoch 46/300\n",
      "27/27 [==============================] - 0s 4ms/step - loss: 5.8864 - accuracy: 0.7624 - val_loss: 3.1727 - val_accuracy: 0.8133\n",
      "Epoch 47/300\n",
      "27/27 [==============================] - 0s 4ms/step - loss: 5.3043 - accuracy: 0.7694 - val_loss: 5.3313 - val_accuracy: 0.8333\n",
      "Epoch 48/300\n",
      "27/27 [==============================] - 0s 4ms/step - loss: 6.4170 - accuracy: 0.7706 - val_loss: 13.2966 - val_accuracy: 0.8467\n",
      "Epoch 49/300\n",
      "27/27 [==============================] - 0s 4ms/step - loss: 5.6122 - accuracy: 0.7800 - val_loss: 3.0747 - val_accuracy: 0.4267\n",
      "Epoch 50/300\n",
      "27/27 [==============================] - 0s 4ms/step - loss: 1.5396 - accuracy: 0.7753 - val_loss: 4.7468 - val_accuracy: 0.2733\n",
      "Epoch 51/300\n",
      "27/27 [==============================] - 0s 4ms/step - loss: 4.1674 - accuracy: 0.7765 - val_loss: 2.5811 - val_accuracy: 0.7667\n",
      "Epoch 52/300\n",
      "27/27 [==============================] - 0s 4ms/step - loss: 5.0235 - accuracy: 0.7565 - val_loss: 11.1448 - val_accuracy: 0.8467\n",
      "Epoch 53/300\n",
      "21/27 [======================>.......] - ETA: 0s - loss: 7.1488 - accuracy: 0.8155Restoring model weights from the end of the best epoch: 23.\n",
      "27/27 [==============================] - 0s 4ms/step - loss: 6.7111 - accuracy: 0.7788 - val_loss: 8.9491 - val_accuracy: 0.8467\n",
      "Epoch 53: early stopping\n"
     ]
    },
    {
     "data": {
      "text/plain": [
       "<keras.callbacks.History at 0x273d1556040>"
      ]
     },
     "execution_count": 36,
     "metadata": {},
     "output_type": "execute_result"
    }
   ],
   "source": [
    "# 학습하기\n",
    "model.fit(tr_list, y_train, epochs=300, verbose=1, validation_split=0.15, callbacks=[es] )"
   ]
  },
  {
   "cell_type": "markdown",
   "metadata": {
    "id": "mpmzUPy81EU4"
   },
   "source": [
    "### 모델 예측"
   ]
  },
  {
   "cell_type": "code",
   "execution_count": 37,
   "metadata": {
    "id": "_vqttmIaIhOM"
   },
   "outputs": [
    {
     "data": {
      "text/plain": [
       "array([2.1684170e-04, 1.4578968e-02, 1.9987679e-05, 9.9728131e-01,\n",
       "       9.6636474e-01, 1.8826155e-07, 9.8103285e-04, 1.7803907e-04,\n",
       "       3.4490067e-01, 1.2152553e-02, 8.7453045e-06], dtype=float32)"
      ]
     },
     "execution_count": 37,
     "metadata": {},
     "output_type": "execute_result"
    }
   ],
   "source": [
    "# 예측하기 \n",
    "y_pred = model.predict(te_list)\n",
    "\n",
    "y_pred[:11].reshape(-1)"
   ]
  },
  {
   "cell_type": "code",
   "execution_count": 38,
   "metadata": {
    "id": "tyc-c9WqIhKP"
   },
   "outputs": [],
   "source": [
    "# 0과 1로 만들기 \n",
    "for idx, val in enumerate(y_pred) :\n",
    "    if y_pred[idx] >= 0.5 :\n",
    "        y_pred[idx] = 1\n",
    "    else :\n",
    "        y_pred[idx] = 0"
   ]
  },
  {
   "cell_type": "code",
   "execution_count": 39,
   "metadata": {},
   "outputs": [
    {
     "data": {
      "text/plain": [
       "array([0., 0., 0., 1., 1., 0., 0., 0., 0., 0., 0.], dtype=float32)"
      ]
     },
     "execution_count": 39,
     "metadata": {},
     "output_type": "execute_result"
    }
   ],
   "source": [
    "# 확인 \n",
    "y_pred[:11].reshape(-1)"
   ]
  },
  {
   "cell_type": "code",
   "execution_count": 40,
   "metadata": {
    "scrolled": true
   },
   "outputs": [
    {
     "data": {
      "text/plain": [
       "133     0.0\n",
       "1093    1.0\n",
       "223     0.0\n",
       "307     1.0\n",
       "385     1.0\n",
       "1040    0.0\n",
       "1182    0.0\n",
       "407     0.0\n",
       "453     1.0\n",
       "1138    1.0\n",
       "561     0.0\n",
       "Name: Attrition, dtype: float64"
      ]
     },
     "execution_count": 40,
     "metadata": {},
     "output_type": "execute_result"
    }
   ],
   "source": [
    "# y_test 와 비교 \n",
    "\n",
    "y_test[:11]"
   ]
  },
  {
   "cell_type": "markdown",
   "metadata": {
    "id": "5hu2kSt06YhE"
   },
   "source": [
    "## 평가\n",
    "\n",
    "1. 모델의 정확도를 기재하시오.\n",
    "2. 이직이라 예측한 것 중 실제로 이직한 비율을 구하시오.\n",
    "3. 실제 이직 데이터 중 모델이 이직이라 예측한 것의 비율을 구하시오.\n",
    "4. 남는다고 예측한 것 중 실제로 남아있는 비율을 구하시오.\n"
   ]
  },
  {
   "cell_type": "code",
   "execution_count": 41,
   "metadata": {
    "scrolled": false
   },
   "outputs": [
    {
     "name": "stdout",
     "output_type": "stream",
     "text": [
      "8/8 [==============================] - 0s 2ms/step - loss: 0.7512 - accuracy: 0.8000\n",
      "----------------------------------------------------------------------------------------------------\n",
      "              precision    recall  f1-score   support\n",
      "\n",
      "         0.0       0.85      0.92      0.88       207\n",
      "         1.0       0.37      0.23      0.29        43\n",
      "\n",
      "    accuracy                           0.80       250\n",
      "   macro avg       0.61      0.58      0.58       250\n",
      "weighted avg       0.77      0.80      0.78       250\n",
      "\n"
     ]
    }
   ],
   "source": [
    "# 모델 성능 평가하기 \n",
    "from sklearn.metrics import classification_report, recall_score, precision_score, accuracy_score\n",
    "\n",
    "model.evaluate(te_list, y_test)\n",
    "print('-'*100)\n",
    "print(classification_report(y_test,y_pred))"
   ]
  },
  {
   "cell_type": "code",
   "execution_count": 42,
   "metadata": {
    "scrolled": true
   },
   "outputs": [
    {
     "data": {
      "text/plain": [
       "{'Locally_Connected_Model': [0.37037037037037035, 0.23255813953488372, 0.8]}"
      ]
     },
     "execution_count": 42,
     "metadata": {},
     "output_type": "execute_result"
    }
   ],
   "source": [
    "# 성능정보 수집\n",
    "\n",
    "score = {}\n",
    "score['Locally_Connected_Model'] =[precision_score(y_test, y_pred),\n",
    "                recall_score(y_test, y_pred),\n",
    "                accuracy_score(y_test, y_pred)]\n",
    "score"
   ]
  },
  {
   "cell_type": "markdown",
   "metadata": {},
   "source": [
    "# Hidden 모델 \n",
    "\n",
    "** hl를 점점 엮어 나갔다 돌아오는 방식으로 해보고 싶어 64, 128 , 256, 128, 64, 32 의방법으로"
   ]
  },
  {
   "cell_type": "code",
   "execution_count": 43,
   "metadata": {},
   "outputs": [
    {
     "data": {
      "text/plain": [
       "(1250, 44)"
      ]
     },
     "execution_count": 43,
     "metadata": {},
     "output_type": "execute_result"
    }
   ],
   "source": [
    "x.shape"
   ]
  },
  {
   "cell_type": "code",
   "execution_count": 44,
   "metadata": {
    "id": "WC6AZQlgIZkx"
   },
   "outputs": [
    {
     "name": "stdout",
     "output_type": "stream",
     "text": [
      "Model: \"model\"\n",
      "_________________________________________________________________\n",
      " Layer (type)                Output Shape              Param #   \n",
      "=================================================================\n",
      " input_1 (InputLayer)        [(None, 44)]              0         \n",
      "                                                                 \n",
      " dense (Dense)               (None, 64)                2880      \n",
      "                                                                 \n",
      " dense_1 (Dense)             (None, 128)               8320      \n",
      "                                                                 \n",
      " dense_2 (Dense)             (None, 512)               66048     \n",
      "                                                                 \n",
      " dense_3 (Dense)             (None, 128)               65664     \n",
      "                                                                 \n",
      " dense_4 (Dense)             (None, 64)                8256      \n",
      "                                                                 \n",
      " dense_5 (Dense)             (None, 32)                2080      \n",
      "                                                                 \n",
      " dense_6 (Dense)             (None, 1)                 33        \n",
      "                                                                 \n",
      "=================================================================\n",
      "Total params: 153,281\n",
      "Trainable params: 153,281\n",
      "Non-trainable params: 0\n",
      "_________________________________________________________________\n"
     ]
    }
   ],
   "source": [
    "# 1 세션 클리어 \n",
    "keras.backend.clear_session()\n",
    "\n",
    "# 2 모델 엮기 \n",
    "il = Input(shape=(44,))\n",
    "hl = Dense(64, activation='relu')(il)\n",
    "hl = Dense(128, activation='relu')(hl)\n",
    "hl = Dense(512, activation='relu')(hl)\n",
    "hl = Dense(128, activation='relu')(hl)\n",
    "hl = Dense(64, activation='relu')(hl)\n",
    "hl = Dense(32, activation='relu')(hl)\n",
    "ol = Dense(1, activation='sigmoid')(hl)\n",
    "\n",
    "# 3 모델 시작 끝 선언\n",
    "model = Model(il, ol)\n",
    "\n",
    "# 4 컴파일 \n",
    "model.compile(loss=keras.losses.binary_crossentropy, metrics=['accuracy'], optimizer='adam')\n",
    "\n",
    "# 양념 \n",
    "model.summary()"
   ]
  },
  {
   "cell_type": "markdown",
   "metadata": {
    "id": "MWkg0Oogw5W5"
   },
   "source": [
    "### 모델 구조 시각화"
   ]
  },
  {
   "cell_type": "code",
   "execution_count": 45,
   "metadata": {
    "id": "yVf1ZIhWIbRe"
   },
   "outputs": [
    {
     "data": {
      "image/png": "[encoded data removed]",
      "text/plain": [
       "<IPython.core.display.Image object>"
      ]
     },
     "execution_count": 45,
     "metadata": {},
     "output_type": "execute_result"
    }
   ],
   "source": [
    "plot_model(model, show_shapes=True)"
   ]
  },
  {
   "cell_type": "markdown",
   "metadata": {
    "id": "fLnughPGxKr4"
   },
   "source": [
    "### 모델 학습"
   ]
  },
  {
   "cell_type": "code",
   "execution_count": 46,
   "metadata": {},
   "outputs": [],
   "source": [
    "# Earlystopping 값 설정 \n",
    "\n",
    "es = EarlyStopping(monitor='val_loss',\n",
    "                   min_delta=0, \n",
    "                   patience=30,\n",
    "                   verbose=1,\n",
    "                   restore_best_weights=True)"
   ]
  },
  {
   "cell_type": "code",
   "execution_count": 47,
   "metadata": {
    "id": "aXPOYO-jIf94"
   },
   "outputs": [
    {
     "name": "stdout",
     "output_type": "stream",
     "text": [
      "Epoch 1/300\n",
      "27/27 [==============================] - 1s 11ms/step - loss: 10.6297 - accuracy: 0.7612 - val_loss: 1.5439 - val_accuracy: 0.8467\n",
      "Epoch 2/300\n",
      "27/27 [==============================] - 0s 4ms/step - loss: 2.9194 - accuracy: 0.7729 - val_loss: 3.7773 - val_accuracy: 0.8467\n",
      "Epoch 3/300\n",
      "27/27 [==============================] - 0s 4ms/step - loss: 1.1880 - accuracy: 0.7588 - val_loss: 1.8672 - val_accuracy: 0.8467\n",
      "Epoch 4/300\n",
      "27/27 [==============================] - 0s 4ms/step - loss: 0.9498 - accuracy: 0.7729 - val_loss: 0.5339 - val_accuracy: 0.8200\n",
      "Epoch 5/300\n",
      "27/27 [==============================] - 0s 4ms/step - loss: 0.5680 - accuracy: 0.8306 - val_loss: 0.5230 - val_accuracy: 0.8333\n",
      "Epoch 6/300\n",
      "27/27 [==============================] - 0s 4ms/step - loss: 1.0240 - accuracy: 0.7565 - val_loss: 0.9993 - val_accuracy: 0.8467\n",
      "Epoch 7/300\n",
      "27/27 [==============================] - 0s 4ms/step - loss: 0.5627 - accuracy: 0.8341 - val_loss: 0.4757 - val_accuracy: 0.8400\n",
      "Epoch 8/300\n",
      "27/27 [==============================] - 0s 4ms/step - loss: 0.4667 - accuracy: 0.8459 - val_loss: 0.5400 - val_accuracy: 0.8467\n",
      "Epoch 9/300\n",
      "27/27 [==============================] - 0s 4ms/step - loss: 0.5463 - accuracy: 0.8094 - val_loss: 1.3346 - val_accuracy: 0.8467\n",
      "Epoch 10/300\n",
      "27/27 [==============================] - 0s 4ms/step - loss: 0.6370 - accuracy: 0.8129 - val_loss: 0.7979 - val_accuracy: 0.8467\n",
      "Epoch 11/300\n",
      "27/27 [==============================] - 0s 4ms/step - loss: 0.5712 - accuracy: 0.8012 - val_loss: 0.5767 - val_accuracy: 0.8333\n",
      "Epoch 12/300\n",
      "27/27 [==============================] - 0s 4ms/step - loss: 0.4544 - accuracy: 0.8424 - val_loss: 0.6558 - val_accuracy: 0.8467\n",
      "Epoch 13/300\n",
      "27/27 [==============================] - 0s 4ms/step - loss: 0.4620 - accuracy: 0.8412 - val_loss: 0.4658 - val_accuracy: 0.8467\n",
      "Epoch 14/300\n",
      "27/27 [==============================] - 0s 5ms/step - loss: 0.4553 - accuracy: 0.8435 - val_loss: 0.5710 - val_accuracy: 0.8400\n",
      "Epoch 15/300\n",
      "27/27 [==============================] - 0s 4ms/step - loss: 0.4369 - accuracy: 0.8435 - val_loss: 0.4688 - val_accuracy: 0.8467\n",
      "Epoch 16/300\n",
      "27/27 [==============================] - 0s 4ms/step - loss: 0.4781 - accuracy: 0.8353 - val_loss: 0.5368 - val_accuracy: 0.8133\n",
      "Epoch 17/300\n",
      "27/27 [==============================] - 0s 4ms/step - loss: 0.4500 - accuracy: 0.8412 - val_loss: 0.5123 - val_accuracy: 0.8200\n",
      "Epoch 18/300\n",
      "27/27 [==============================] - 0s 4ms/step - loss: 0.5021 - accuracy: 0.8412 - val_loss: 0.6246 - val_accuracy: 0.8467\n",
      "Epoch 19/300\n",
      "27/27 [==============================] - 0s 4ms/step - loss: 0.6059 - accuracy: 0.7729 - val_loss: 0.5341 - val_accuracy: 0.8200\n",
      "Epoch 20/300\n",
      "27/27 [==============================] - 0s 4ms/step - loss: 0.4828 - accuracy: 0.8435 - val_loss: 0.5152 - val_accuracy: 0.8400\n",
      "Epoch 21/300\n",
      "27/27 [==============================] - 0s 4ms/step - loss: 0.5143 - accuracy: 0.8388 - val_loss: 0.6332 - val_accuracy: 0.8400\n",
      "Epoch 22/300\n",
      "27/27 [==============================] - 0s 4ms/step - loss: 0.4926 - accuracy: 0.8400 - val_loss: 0.4877 - val_accuracy: 0.8333\n",
      "Epoch 23/300\n",
      "27/27 [==============================] - 0s 4ms/step - loss: 0.4633 - accuracy: 0.8435 - val_loss: 0.5717 - val_accuracy: 0.8467\n",
      "Epoch 24/300\n",
      "27/27 [==============================] - 0s 4ms/step - loss: 0.4887 - accuracy: 0.8424 - val_loss: 0.5249 - val_accuracy: 0.8200\n",
      "Epoch 25/300\n",
      "27/27 [==============================] - 0s 4ms/step - loss: 0.4822 - accuracy: 0.8341 - val_loss: 0.4626 - val_accuracy: 0.8400\n",
      "Epoch 26/300\n",
      "27/27 [==============================] - 0s 4ms/step - loss: 0.4471 - accuracy: 0.8435 - val_loss: 0.4718 - val_accuracy: 0.8333\n",
      "Epoch 27/300\n",
      "27/27 [==============================] - 0s 5ms/step - loss: 0.4495 - accuracy: 0.8435 - val_loss: 0.4755 - val_accuracy: 0.8400\n",
      "Epoch 28/300\n",
      "27/27 [==============================] - 0s 4ms/step - loss: 0.4233 - accuracy: 0.8435 - val_loss: 0.5206 - val_accuracy: 0.8467\n",
      "Epoch 29/300\n",
      "27/27 [==============================] - 0s 4ms/step - loss: 0.4617 - accuracy: 0.8424 - val_loss: 0.5934 - val_accuracy: 0.8333\n",
      "Epoch 30/300\n",
      "27/27 [==============================] - 0s 4ms/step - loss: 0.4399 - accuracy: 0.8447 - val_loss: 0.4645 - val_accuracy: 0.8400\n",
      "Epoch 31/300\n",
      "27/27 [==============================] - 0s 4ms/step - loss: 0.4381 - accuracy: 0.8424 - val_loss: 0.4742 - val_accuracy: 0.8333\n",
      "Epoch 32/300\n",
      "27/27 [==============================] - 0s 4ms/step - loss: 0.4323 - accuracy: 0.8412 - val_loss: 0.4626 - val_accuracy: 0.8467\n",
      "Epoch 33/300\n",
      "27/27 [==============================] - 0s 4ms/step - loss: 0.4470 - accuracy: 0.8447 - val_loss: 0.4753 - val_accuracy: 0.8333\n",
      "Epoch 34/300\n",
      "27/27 [==============================] - 0s 4ms/step - loss: 0.4424 - accuracy: 0.8435 - val_loss: 0.9961 - val_accuracy: 0.1533\n",
      "Epoch 35/300\n",
      "27/27 [==============================] - 0s 4ms/step - loss: 0.5348 - accuracy: 0.8141 - val_loss: 0.4691 - val_accuracy: 0.8333\n",
      "Epoch 36/300\n",
      "27/27 [==============================] - 0s 4ms/step - loss: 0.4290 - accuracy: 0.8400 - val_loss: 0.5091 - val_accuracy: 0.8467\n",
      "Epoch 37/300\n",
      "27/27 [==============================] - 0s 4ms/step - loss: 0.4379 - accuracy: 0.8412 - val_loss: 0.5202 - val_accuracy: 0.8467\n",
      "Epoch 38/300\n",
      "27/27 [==============================] - 0s 4ms/step - loss: 0.4360 - accuracy: 0.8412 - val_loss: 0.4605 - val_accuracy: 0.8467\n",
      "Epoch 39/300\n",
      "27/27 [==============================] - 0s 4ms/step - loss: 0.4549 - accuracy: 0.8412 - val_loss: 0.4602 - val_accuracy: 0.8400\n",
      "Epoch 40/300\n",
      "27/27 [==============================] - 0s 4ms/step - loss: 0.4487 - accuracy: 0.8412 - val_loss: 0.6161 - val_accuracy: 0.8467\n",
      "Epoch 41/300\n",
      "27/27 [==============================] - 0s 4ms/step - loss: 0.4567 - accuracy: 0.8424 - val_loss: 0.4865 - val_accuracy: 0.8467\n",
      "Epoch 42/300\n",
      "27/27 [==============================] - 0s 5ms/step - loss: 0.4589 - accuracy: 0.8329 - val_loss: 0.5458 - val_accuracy: 0.8467\n",
      "Epoch 43/300\n",
      "27/27 [==============================] - 0s 4ms/step - loss: 0.4485 - accuracy: 0.8435 - val_loss: 0.5533 - val_accuracy: 0.8467\n",
      "Epoch 44/300\n",
      "27/27 [==============================] - 0s 4ms/step - loss: 0.4887 - accuracy: 0.8412 - val_loss: 0.4850 - val_accuracy: 0.8400\n",
      "Epoch 45/300\n",
      "27/27 [==============================] - 0s 4ms/step - loss: 0.4372 - accuracy: 0.8459 - val_loss: 0.4960 - val_accuracy: 0.8400\n",
      "Epoch 46/300\n",
      "27/27 [==============================] - 0s 4ms/step - loss: 0.4609 - accuracy: 0.8424 - val_loss: 0.5776 - val_accuracy: 0.8467\n",
      "Epoch 47/300\n",
      "27/27 [==============================] - 0s 4ms/step - loss: 0.4480 - accuracy: 0.8447 - val_loss: 0.4845 - val_accuracy: 0.8333\n",
      "Epoch 48/300\n",
      "27/27 [==============================] - 0s 4ms/step - loss: 0.4537 - accuracy: 0.8459 - val_loss: 0.4901 - val_accuracy: 0.8467\n",
      "Epoch 49/300\n",
      "27/27 [==============================] - 0s 4ms/step - loss: 0.4403 - accuracy: 0.8400 - val_loss: 0.5573 - val_accuracy: 0.8467\n",
      "Epoch 50/300\n",
      "27/27 [==============================] - 0s 4ms/step - loss: 0.4497 - accuracy: 0.8435 - val_loss: 0.4640 - val_accuracy: 0.8400\n",
      "Epoch 51/300\n",
      "27/27 [==============================] - 0s 4ms/step - loss: 0.4343 - accuracy: 0.8435 - val_loss: 0.4619 - val_accuracy: 0.8400\n",
      "Epoch 52/300\n",
      "27/27 [==============================] - 0s 4ms/step - loss: 0.4330 - accuracy: 0.8412 - val_loss: 0.4799 - val_accuracy: 0.8400\n",
      "Epoch 53/300\n",
      "27/27 [==============================] - 0s 4ms/step - loss: 0.4343 - accuracy: 0.8447 - val_loss: 0.5515 - val_accuracy: 0.8400\n",
      "Epoch 54/300\n",
      "27/27 [==============================] - 0s 4ms/step - loss: 0.4327 - accuracy: 0.8435 - val_loss: 0.4580 - val_accuracy: 0.8467\n",
      "Epoch 55/300\n",
      "27/27 [==============================] - 0s 4ms/step - loss: 0.4268 - accuracy: 0.8435 - val_loss: 0.4820 - val_accuracy: 0.8400\n",
      "Epoch 56/300\n",
      "27/27 [==============================] - 0s 4ms/step - loss: 0.4288 - accuracy: 0.8459 - val_loss: 0.4924 - val_accuracy: 0.8400\n",
      "Epoch 57/300\n",
      "27/27 [==============================] - 0s 4ms/step - loss: 0.4233 - accuracy: 0.8471 - val_loss: 0.4713 - val_accuracy: 0.8400\n",
      "Epoch 58/300\n",
      "27/27 [==============================] - 0s 4ms/step - loss: 0.4218 - accuracy: 0.8447 - val_loss: 0.4619 - val_accuracy: 0.8400\n"
     ]
    },
    {
     "name": "stdout",
     "output_type": "stream",
     "text": [
      "Epoch 59/300\n",
      "27/27 [==============================] - 0s 4ms/step - loss: 0.4251 - accuracy: 0.8459 - val_loss: 0.4654 - val_accuracy: 0.8333\n",
      "Epoch 60/300\n",
      "27/27 [==============================] - 0s 4ms/step - loss: 0.4185 - accuracy: 0.8459 - val_loss: 0.4741 - val_accuracy: 0.8400\n",
      "Epoch 61/300\n",
      "27/27 [==============================] - 0s 4ms/step - loss: 0.4208 - accuracy: 0.8471 - val_loss: 0.5025 - val_accuracy: 0.8400\n",
      "Epoch 62/300\n",
      "27/27 [==============================] - 0s 4ms/step - loss: 0.4235 - accuracy: 0.8400 - val_loss: 0.5017 - val_accuracy: 0.8467\n",
      "Epoch 63/300\n",
      "27/27 [==============================] - 0s 4ms/step - loss: 0.4358 - accuracy: 0.8435 - val_loss: 0.4925 - val_accuracy: 0.8467\n",
      "Epoch 64/300\n",
      "27/27 [==============================] - 0s 4ms/step - loss: 0.4319 - accuracy: 0.8400 - val_loss: 0.4812 - val_accuracy: 0.8400\n",
      "Epoch 65/300\n",
      "27/27 [==============================] - 0s 4ms/step - loss: 0.4371 - accuracy: 0.8424 - val_loss: 0.4576 - val_accuracy: 0.8400\n",
      "Epoch 66/300\n",
      "27/27 [==============================] - 0s 4ms/step - loss: 0.4233 - accuracy: 0.8424 - val_loss: 0.4744 - val_accuracy: 0.8467\n",
      "Epoch 67/300\n",
      "27/27 [==============================] - 0s 4ms/step - loss: 0.4288 - accuracy: 0.8435 - val_loss: 0.4635 - val_accuracy: 0.8400\n",
      "Epoch 68/300\n",
      "27/27 [==============================] - 0s 4ms/step - loss: 0.4200 - accuracy: 0.8459 - val_loss: 0.4842 - val_accuracy: 0.8400\n",
      "Epoch 69/300\n",
      "27/27 [==============================] - 0s 4ms/step - loss: 0.4234 - accuracy: 0.8412 - val_loss: 0.4792 - val_accuracy: 0.8400\n",
      "Epoch 70/300\n",
      "27/27 [==============================] - 0s 4ms/step - loss: 0.4347 - accuracy: 0.8447 - val_loss: 0.4621 - val_accuracy: 0.8333\n",
      "Epoch 71/300\n",
      "27/27 [==============================] - 0s 5ms/step - loss: 0.4201 - accuracy: 0.8435 - val_loss: 0.4554 - val_accuracy: 0.8400\n",
      "Epoch 72/300\n",
      "27/27 [==============================] - 0s 4ms/step - loss: 0.4224 - accuracy: 0.8471 - val_loss: 0.4961 - val_accuracy: 0.8400\n",
      "Epoch 73/300\n",
      "27/27 [==============================] - 0s 4ms/step - loss: 0.4278 - accuracy: 0.8447 - val_loss: 0.4717 - val_accuracy: 0.8467\n",
      "Epoch 74/300\n",
      "27/27 [==============================] - 0s 4ms/step - loss: 0.4214 - accuracy: 0.8400 - val_loss: 0.4656 - val_accuracy: 0.8467\n",
      "Epoch 75/300\n",
      "27/27 [==============================] - 0s 4ms/step - loss: 0.4287 - accuracy: 0.8447 - val_loss: 0.4687 - val_accuracy: 0.8400\n",
      "Epoch 76/300\n",
      "27/27 [==============================] - 0s 4ms/step - loss: 0.4333 - accuracy: 0.8459 - val_loss: 0.4599 - val_accuracy: 0.8400\n",
      "Epoch 77/300\n",
      "27/27 [==============================] - 0s 4ms/step - loss: 0.4282 - accuracy: 0.8424 - val_loss: 0.5082 - val_accuracy: 0.8467\n",
      "Epoch 78/300\n",
      "27/27 [==============================] - 0s 4ms/step - loss: 0.4253 - accuracy: 0.8447 - val_loss: 0.4797 - val_accuracy: 0.8400\n",
      "Epoch 79/300\n",
      "27/27 [==============================] - 0s 4ms/step - loss: 0.4291 - accuracy: 0.8471 - val_loss: 0.4540 - val_accuracy: 0.8333\n",
      "Epoch 80/300\n",
      "27/27 [==============================] - 0s 4ms/step - loss: 0.4205 - accuracy: 0.8459 - val_loss: 0.4538 - val_accuracy: 0.8400\n",
      "Epoch 81/300\n",
      "27/27 [==============================] - 0s 4ms/step - loss: 0.4235 - accuracy: 0.8459 - val_loss: 0.4542 - val_accuracy: 0.8467\n",
      "Epoch 82/300\n",
      "27/27 [==============================] - 0s 4ms/step - loss: 0.4275 - accuracy: 0.8435 - val_loss: 0.4512 - val_accuracy: 0.8333\n",
      "Epoch 83/300\n",
      "27/27 [==============================] - 0s 5ms/step - loss: 0.4170 - accuracy: 0.8459 - val_loss: 0.4786 - val_accuracy: 0.8333\n",
      "Epoch 84/300\n",
      "27/27 [==============================] - 0s 4ms/step - loss: 0.4248 - accuracy: 0.8447 - val_loss: 0.4557 - val_accuracy: 0.8333\n",
      "Epoch 85/300\n",
      "27/27 [==============================] - 0s 4ms/step - loss: 0.4165 - accuracy: 0.8471 - val_loss: 0.4584 - val_accuracy: 0.8400\n",
      "Epoch 86/300\n",
      "27/27 [==============================] - 0s 5ms/step - loss: 0.4170 - accuracy: 0.8447 - val_loss: 0.4604 - val_accuracy: 0.8400\n",
      "Epoch 87/300\n",
      "27/27 [==============================] - 0s 4ms/step - loss: 0.4145 - accuracy: 0.8471 - val_loss: 0.4537 - val_accuracy: 0.8400\n",
      "Epoch 88/300\n",
      "27/27 [==============================] - 0s 4ms/step - loss: 0.4315 - accuracy: 0.8471 - val_loss: 0.4914 - val_accuracy: 0.8400\n",
      "Epoch 89/300\n",
      "27/27 [==============================] - 0s 4ms/step - loss: 0.4234 - accuracy: 0.8459 - val_loss: 0.4599 - val_accuracy: 0.8467\n",
      "Epoch 90/300\n",
      "27/27 [==============================] - 0s 4ms/step - loss: 0.4234 - accuracy: 0.8424 - val_loss: 0.4715 - val_accuracy: 0.8400\n",
      "Epoch 91/300\n",
      "27/27 [==============================] - 0s 4ms/step - loss: 0.4165 - accuracy: 0.8435 - val_loss: 0.4686 - val_accuracy: 0.8400\n",
      "Epoch 92/300\n",
      "27/27 [==============================] - 0s 4ms/step - loss: 0.4161 - accuracy: 0.8471 - val_loss: 0.4441 - val_accuracy: 0.8400\n",
      "Epoch 93/300\n",
      "27/27 [==============================] - 0s 4ms/step - loss: 0.4188 - accuracy: 0.8471 - val_loss: 0.4441 - val_accuracy: 0.8400\n",
      "Epoch 94/300\n",
      "27/27 [==============================] - 0s 4ms/step - loss: 0.4150 - accuracy: 0.8459 - val_loss: 0.4800 - val_accuracy: 0.8400\n",
      "Epoch 95/300\n",
      "27/27 [==============================] - 0s 4ms/step - loss: 0.4232 - accuracy: 0.8459 - val_loss: 0.4580 - val_accuracy: 0.8400\n",
      "Epoch 96/300\n",
      "27/27 [==============================] - 0s 4ms/step - loss: 0.4142 - accuracy: 0.8447 - val_loss: 0.4442 - val_accuracy: 0.8400\n",
      "Epoch 97/300\n",
      "27/27 [==============================] - 0s 5ms/step - loss: 0.4202 - accuracy: 0.8471 - val_loss: 0.4571 - val_accuracy: 0.8333\n",
      "Epoch 98/300\n",
      "27/27 [==============================] - 0s 8ms/step - loss: 0.4246 - accuracy: 0.8471 - val_loss: 0.4557 - val_accuracy: 0.8400\n",
      "Epoch 99/300\n",
      "27/27 [==============================] - 0s 4ms/step - loss: 0.4152 - accuracy: 0.8459 - val_loss: 0.4460 - val_accuracy: 0.8333\n",
      "Epoch 100/300\n",
      "27/27 [==============================] - 0s 4ms/step - loss: 0.4187 - accuracy: 0.8459 - val_loss: 0.4605 - val_accuracy: 0.8467\n",
      "Epoch 101/300\n",
      "27/27 [==============================] - 0s 4ms/step - loss: 0.4298 - accuracy: 0.8424 - val_loss: 0.4531 - val_accuracy: 0.8400\n",
      "Epoch 102/300\n",
      "27/27 [==============================] - 0s 4ms/step - loss: 0.4594 - accuracy: 0.8412 - val_loss: 0.4635 - val_accuracy: 0.8467\n",
      "Epoch 103/300\n",
      "27/27 [==============================] - 0s 4ms/step - loss: 0.4242 - accuracy: 0.8424 - val_loss: 0.4537 - val_accuracy: 0.8400\n",
      "Epoch 104/300\n",
      "27/27 [==============================] - 0s 4ms/step - loss: 0.4201 - accuracy: 0.8459 - val_loss: 0.4548 - val_accuracy: 0.8400\n",
      "Epoch 105/300\n",
      "27/27 [==============================] - 0s 4ms/step - loss: 0.4177 - accuracy: 0.8435 - val_loss: 0.4553 - val_accuracy: 0.8400\n",
      "Epoch 106/300\n",
      "27/27 [==============================] - 0s 5ms/step - loss: 0.4249 - accuracy: 0.8412 - val_loss: 0.4468 - val_accuracy: 0.8400\n",
      "Epoch 107/300\n",
      "27/27 [==============================] - 0s 4ms/step - loss: 0.4180 - accuracy: 0.8459 - val_loss: 0.4537 - val_accuracy: 0.8400\n",
      "Epoch 108/300\n",
      "27/27 [==============================] - 0s 4ms/step - loss: 0.4126 - accuracy: 0.8471 - val_loss: 0.4425 - val_accuracy: 0.8400\n",
      "Epoch 109/300\n",
      "27/27 [==============================] - 0s 4ms/step - loss: 0.4152 - accuracy: 0.8412 - val_loss: 0.4379 - val_accuracy: 0.8467\n",
      "Epoch 110/300\n",
      "27/27 [==============================] - 0s 5ms/step - loss: 0.4077 - accuracy: 0.8424 - val_loss: 0.4755 - val_accuracy: 0.8333\n",
      "Epoch 111/300\n",
      "27/27 [==============================] - 0s 4ms/step - loss: 0.4222 - accuracy: 0.8447 - val_loss: 0.4386 - val_accuracy: 0.8400\n",
      "Epoch 112/300\n",
      "27/27 [==============================] - 0s 5ms/step - loss: 0.4159 - accuracy: 0.8459 - val_loss: 0.4643 - val_accuracy: 0.8400\n",
      "Epoch 113/300\n",
      "27/27 [==============================] - 0s 4ms/step - loss: 0.4173 - accuracy: 0.8459 - val_loss: 0.4396 - val_accuracy: 0.8400\n",
      "Epoch 114/300\n",
      "27/27 [==============================] - 0s 4ms/step - loss: 0.4132 - accuracy: 0.8471 - val_loss: 0.4695 - val_accuracy: 0.8400\n",
      "Epoch 115/300\n",
      "27/27 [==============================] - 0s 4ms/step - loss: 0.4165 - accuracy: 0.8471 - val_loss: 0.4383 - val_accuracy: 0.8400\n",
      "Epoch 116/300\n",
      "27/27 [==============================] - 0s 4ms/step - loss: 0.4080 - accuracy: 0.8447 - val_loss: 0.4309 - val_accuracy: 0.8400\n",
      "Epoch 117/300\n",
      "27/27 [==============================] - 0s 4ms/step - loss: 0.4096 - accuracy: 0.8471 - val_loss: 0.4487 - val_accuracy: 0.8333\n",
      "Epoch 118/300\n",
      "27/27 [==============================] - 0s 6ms/step - loss: 0.4235 - accuracy: 0.8471 - val_loss: 0.5002 - val_accuracy: 0.8467\n",
      "Epoch 119/300\n",
      "27/27 [==============================] - 0s 4ms/step - loss: 0.4203 - accuracy: 0.8412 - val_loss: 0.4395 - val_accuracy: 0.8467\n",
      "Epoch 120/300\n",
      "27/27 [==============================] - 0s 4ms/step - loss: 0.4221 - accuracy: 0.8424 - val_loss: 0.4894 - val_accuracy: 0.8467\n",
      "Epoch 121/300\n",
      "27/27 [==============================] - 0s 5ms/step - loss: 0.4166 - accuracy: 0.8424 - val_loss: 0.4366 - val_accuracy: 0.8400\n",
      "Epoch 122/300\n",
      "27/27 [==============================] - 0s 5ms/step - loss: 0.4146 - accuracy: 0.8447 - val_loss: 0.4311 - val_accuracy: 0.8467\n",
      "Epoch 123/300\n",
      "27/27 [==============================] - 0s 5ms/step - loss: 0.4078 - accuracy: 0.8447 - val_loss: 0.4392 - val_accuracy: 0.8400\n",
      "Epoch 124/300\n",
      "27/27 [==============================] - 0s 8ms/step - loss: 0.4238 - accuracy: 0.8435 - val_loss: 0.4421 - val_accuracy: 0.8467\n",
      "Epoch 125/300\n",
      "27/27 [==============================] - 0s 7ms/step - loss: 0.4096 - accuracy: 0.8424 - val_loss: 0.4332 - val_accuracy: 0.8467\n",
      "Epoch 126/300\n",
      "27/27 [==============================] - 0s 6ms/step - loss: 0.4130 - accuracy: 0.8412 - val_loss: 0.4316 - val_accuracy: 0.8467\n",
      "Epoch 127/300\n",
      "27/27 [==============================] - 0s 6ms/step - loss: 0.4121 - accuracy: 0.8459 - val_loss: 0.4254 - val_accuracy: 0.8400\n",
      "Epoch 128/300\n",
      "27/27 [==============================] - 0s 6ms/step - loss: 0.4161 - accuracy: 0.8471 - val_loss: 0.4351 - val_accuracy: 0.8400\n",
      "Epoch 129/300\n",
      "27/27 [==============================] - 0s 5ms/step - loss: 0.4087 - accuracy: 0.8447 - val_loss: 0.4380 - val_accuracy: 0.8400\n",
      "Epoch 130/300\n",
      "27/27 [==============================] - 0s 4ms/step - loss: 0.4191 - accuracy: 0.8459 - val_loss: 0.4426 - val_accuracy: 0.8400\n",
      "Epoch 131/300\n",
      "27/27 [==============================] - 0s 4ms/step - loss: 0.4169 - accuracy: 0.8459 - val_loss: 0.4451 - val_accuracy: 0.8333\n",
      "Epoch 132/300\n",
      "27/27 [==============================] - 0s 4ms/step - loss: 0.4168 - accuracy: 0.8482 - val_loss: 0.4378 - val_accuracy: 0.8467\n",
      "Epoch 133/300\n",
      "27/27 [==============================] - 0s 4ms/step - loss: 0.4185 - accuracy: 0.8424 - val_loss: 0.4344 - val_accuracy: 0.8267\n",
      "Epoch 134/300\n",
      "27/27 [==============================] - 0s 5ms/step - loss: 0.4089 - accuracy: 0.8471 - val_loss: 0.4799 - val_accuracy: 0.8400\n",
      "Epoch 135/300\n",
      "27/27 [==============================] - 0s 5ms/step - loss: 0.4219 - accuracy: 0.8471 - val_loss: 0.4797 - val_accuracy: 0.8467\n",
      "Epoch 136/300\n",
      "27/27 [==============================] - 0s 4ms/step - loss: 0.4151 - accuracy: 0.8447 - val_loss: 0.4365 - val_accuracy: 0.8333\n",
      "Epoch 137/300\n",
      "27/27 [==============================] - 0s 4ms/step - loss: 0.4088 - accuracy: 0.8459 - val_loss: 0.4347 - val_accuracy: 0.8400\n",
      "Epoch 138/300\n",
      "27/27 [==============================] - 0s 4ms/step - loss: 0.4061 - accuracy: 0.8459 - val_loss: 0.4280 - val_accuracy: 0.8400\n",
      "Epoch 139/300\n",
      "27/27 [==============================] - 0s 4ms/step - loss: 0.4080 - accuracy: 0.8447 - val_loss: 0.4385 - val_accuracy: 0.8200\n",
      "Epoch 140/300\n",
      "27/27 [==============================] - 0s 4ms/step - loss: 0.4063 - accuracy: 0.8471 - val_loss: 0.4258 - val_accuracy: 0.8400\n",
      "Epoch 141/300\n",
      "27/27 [==============================] - 0s 5ms/step - loss: 0.4098 - accuracy: 0.8471 - val_loss: 0.4368 - val_accuracy: 0.8333\n",
      "Epoch 142/300\n",
      "27/27 [==============================] - 0s 4ms/step - loss: 0.4025 - accuracy: 0.8471 - val_loss: 0.4269 - val_accuracy: 0.8400\n",
      "Epoch 143/300\n",
      "27/27 [==============================] - 0s 4ms/step - loss: 0.4086 - accuracy: 0.8459 - val_loss: 0.4286 - val_accuracy: 0.8400\n",
      "Epoch 144/300\n",
      "27/27 [==============================] - 0s 4ms/step - loss: 0.3981 - accuracy: 0.8518 - val_loss: 0.4954 - val_accuracy: 0.7933\n",
      "Epoch 145/300\n",
      "27/27 [==============================] - 0s 4ms/step - loss: 0.4073 - accuracy: 0.8471 - val_loss: 0.4206 - val_accuracy: 0.8400\n",
      "Epoch 146/300\n",
      "27/27 [==============================] - 0s 4ms/step - loss: 0.4063 - accuracy: 0.8459 - val_loss: 0.4400 - val_accuracy: 0.8267\n",
      "Epoch 147/300\n",
      "27/27 [==============================] - 0s 4ms/step - loss: 0.4027 - accuracy: 0.8482 - val_loss: 0.4457 - val_accuracy: 0.8400\n",
      "Epoch 148/300\n",
      "27/27 [==============================] - 0s 4ms/step - loss: 0.4063 - accuracy: 0.8447 - val_loss: 0.4262 - val_accuracy: 0.8467\n",
      "Epoch 149/300\n",
      "27/27 [==============================] - 0s 4ms/step - loss: 0.4115 - accuracy: 0.8459 - val_loss: 0.4298 - val_accuracy: 0.8400\n",
      "Epoch 150/300\n",
      "27/27 [==============================] - 0s 4ms/step - loss: 0.4023 - accuracy: 0.8471 - val_loss: 0.4232 - val_accuracy: 0.8400\n",
      "Epoch 151/300\n",
      "27/27 [==============================] - 0s 4ms/step - loss: 0.4032 - accuracy: 0.8459 - val_loss: 0.4555 - val_accuracy: 0.8400\n",
      "Epoch 152/300\n",
      "27/27 [==============================] - 0s 4ms/step - loss: 0.4006 - accuracy: 0.8471 - val_loss: 0.4331 - val_accuracy: 0.8267\n",
      "Epoch 153/300\n",
      "27/27 [==============================] - 0s 4ms/step - loss: 0.4195 - accuracy: 0.8447 - val_loss: 0.4521 - val_accuracy: 0.8467\n",
      "Epoch 154/300\n",
      "27/27 [==============================] - 0s 4ms/step - loss: 0.4239 - accuracy: 0.8412 - val_loss: 0.4275 - val_accuracy: 0.8467\n",
      "Epoch 155/300\n",
      "27/27 [==============================] - 0s 4ms/step - loss: 0.4057 - accuracy: 0.8471 - val_loss: 0.4838 - val_accuracy: 0.8400\n",
      "Epoch 156/300\n",
      "27/27 [==============================] - 0s 5ms/step - loss: 0.4025 - accuracy: 0.8435 - val_loss: 0.4255 - val_accuracy: 0.8400\n",
      "Epoch 157/300\n",
      "27/27 [==============================] - 0s 4ms/step - loss: 0.3986 - accuracy: 0.8482 - val_loss: 0.4209 - val_accuracy: 0.8400\n",
      "Epoch 158/300\n",
      "27/27 [==============================] - 0s 4ms/step - loss: 0.4003 - accuracy: 0.8494 - val_loss: 0.4204 - val_accuracy: 0.8400\n",
      "Epoch 159/300\n",
      "27/27 [==============================] - 0s 4ms/step - loss: 0.4684 - accuracy: 0.8294 - val_loss: 0.7695 - val_accuracy: 0.8467\n",
      "Epoch 160/300\n",
      "27/27 [==============================] - 0s 11ms/step - loss: 0.4216 - accuracy: 0.8424 - val_loss: 0.4550 - val_accuracy: 0.8467\n",
      "Epoch 161/300\n",
      "27/27 [==============================] - 0s 4ms/step - loss: 0.4202 - accuracy: 0.8424 - val_loss: 0.4655 - val_accuracy: 0.8467\n",
      "Epoch 162/300\n",
      "27/27 [==============================] - 0s 4ms/step - loss: 0.4184 - accuracy: 0.8424 - val_loss: 0.4401 - val_accuracy: 0.8467\n",
      "Epoch 163/300\n",
      "27/27 [==============================] - 0s 4ms/step - loss: 0.4132 - accuracy: 0.8424 - val_loss: 0.4453 - val_accuracy: 0.8467\n",
      "Epoch 164/300\n",
      "27/27 [==============================] - 0s 4ms/step - loss: 0.4136 - accuracy: 0.8424 - val_loss: 0.4314 - val_accuracy: 0.8467\n",
      "Epoch 165/300\n",
      "27/27 [==============================] - 0s 4ms/step - loss: 0.4186 - accuracy: 0.8412 - val_loss: 0.4430 - val_accuracy: 0.8467\n",
      "Epoch 166/300\n",
      "27/27 [==============================] - 0s 4ms/step - loss: 0.4160 - accuracy: 0.8424 - val_loss: 0.4342 - val_accuracy: 0.8467\n",
      "Epoch 167/300\n",
      "27/27 [==============================] - 0s 4ms/step - loss: 0.4094 - accuracy: 0.8424 - val_loss: 0.4741 - val_accuracy: 0.8467\n",
      "Epoch 168/300\n",
      "27/27 [==============================] - 0s 5ms/step - loss: 0.4138 - accuracy: 0.8424 - val_loss: 0.4339 - val_accuracy: 0.8467\n",
      "Epoch 169/300\n",
      "27/27 [==============================] - 0s 5ms/step - loss: 0.4122 - accuracy: 0.8424 - val_loss: 0.4536 - val_accuracy: 0.8467\n",
      "Epoch 170/300\n",
      "27/27 [==============================] - 0s 5ms/step - loss: 0.4118 - accuracy: 0.8424 - val_loss: 0.4507 - val_accuracy: 0.8467\n",
      "Epoch 171/300\n",
      "27/27 [==============================] - 0s 4ms/step - loss: 0.4237 - accuracy: 0.8424 - val_loss: 0.4386 - val_accuracy: 0.8467\n",
      "Epoch 172/300\n",
      "27/27 [==============================] - 0s 5ms/step - loss: 0.4083 - accuracy: 0.8424 - val_loss: 0.4291 - val_accuracy: 0.8467\n",
      "Epoch 173/300\n"
     ]
    },
    {
     "name": "stdout",
     "output_type": "stream",
     "text": [
      "27/27 [==============================] - 0s 4ms/step - loss: 0.4059 - accuracy: 0.8424 - val_loss: 0.4447 - val_accuracy: 0.8467\n",
      "Epoch 174/300\n",
      "27/27 [==============================] - 0s 5ms/step - loss: 0.4320 - accuracy: 0.8424 - val_loss: 0.4418 - val_accuracy: 0.8467\n",
      "Epoch 175/300\n",
      "27/27 [==============================] - 0s 5ms/step - loss: 0.4117 - accuracy: 0.8424 - val_loss: 0.4362 - val_accuracy: 0.8467\n",
      "Epoch 176/300\n",
      "27/27 [==============================] - 0s 4ms/step - loss: 0.4068 - accuracy: 0.8424 - val_loss: 0.4285 - val_accuracy: 0.8467\n",
      "Epoch 177/300\n",
      "27/27 [==============================] - 0s 4ms/step - loss: 0.4073 - accuracy: 0.8424 - val_loss: 0.4281 - val_accuracy: 0.8467\n",
      "Epoch 178/300\n",
      "27/27 [==============================] - 0s 4ms/step - loss: 0.4011 - accuracy: 0.8424 - val_loss: 0.4243 - val_accuracy: 0.8467\n",
      "Epoch 179/300\n",
      "27/27 [==============================] - 0s 4ms/step - loss: 0.3996 - accuracy: 0.8424 - val_loss: 0.4275 - val_accuracy: 0.8467\n",
      "Epoch 180/300\n",
      "27/27 [==============================] - 0s 4ms/step - loss: 0.4079 - accuracy: 0.8424 - val_loss: 0.4280 - val_accuracy: 0.8467\n",
      "Epoch 181/300\n",
      "27/27 [==============================] - 0s 4ms/step - loss: 0.4056 - accuracy: 0.8424 - val_loss: 0.4269 - val_accuracy: 0.8467\n",
      "Epoch 182/300\n",
      "27/27 [==============================] - 0s 4ms/step - loss: 0.4035 - accuracy: 0.8424 - val_loss: 0.4235 - val_accuracy: 0.8467\n",
      "Epoch 183/300\n",
      "27/27 [==============================] - 0s 4ms/step - loss: 0.4047 - accuracy: 0.8424 - val_loss: 0.4185 - val_accuracy: 0.8467\n",
      "Epoch 184/300\n",
      "27/27 [==============================] - 0s 4ms/step - loss: 0.4019 - accuracy: 0.8424 - val_loss: 0.4211 - val_accuracy: 0.8467\n",
      "Epoch 185/300\n",
      "27/27 [==============================] - 0s 4ms/step - loss: 0.3973 - accuracy: 0.8424 - val_loss: 0.4138 - val_accuracy: 0.8467\n",
      "Epoch 186/300\n",
      "27/27 [==============================] - 0s 5ms/step - loss: 0.3935 - accuracy: 0.8424 - val_loss: 0.4107 - val_accuracy: 0.8467\n",
      "Epoch 187/300\n",
      "27/27 [==============================] - 0s 4ms/step - loss: 0.4359 - accuracy: 0.8388 - val_loss: 0.4806 - val_accuracy: 0.8467\n",
      "Epoch 188/300\n",
      "27/27 [==============================] - 0s 4ms/step - loss: 0.4417 - accuracy: 0.8424 - val_loss: 0.4484 - val_accuracy: 0.8467\n",
      "Epoch 189/300\n",
      "27/27 [==============================] - 0s 8ms/step - loss: 0.4159 - accuracy: 0.8424 - val_loss: 0.4400 - val_accuracy: 0.8467\n",
      "Epoch 190/300\n",
      "27/27 [==============================] - 0s 5ms/step - loss: 0.4177 - accuracy: 0.8424 - val_loss: 0.4358 - val_accuracy: 0.8467\n",
      "Epoch 191/300\n",
      "27/27 [==============================] - 0s 4ms/step - loss: 0.4059 - accuracy: 0.8424 - val_loss: 0.4444 - val_accuracy: 0.8467\n",
      "Epoch 192/300\n",
      "27/27 [==============================] - 0s 4ms/step - loss: 0.4039 - accuracy: 0.8424 - val_loss: 0.4283 - val_accuracy: 0.8467\n",
      "Epoch 193/300\n",
      "27/27 [==============================] - 0s 4ms/step - loss: 0.4176 - accuracy: 0.8424 - val_loss: 0.4282 - val_accuracy: 0.8467\n",
      "Epoch 194/300\n",
      "27/27 [==============================] - 0s 4ms/step - loss: 0.4048 - accuracy: 0.8424 - val_loss: 0.4258 - val_accuracy: 0.8400\n",
      "Epoch 195/300\n",
      "27/27 [==============================] - 0s 4ms/step - loss: 0.3978 - accuracy: 0.8412 - val_loss: 0.4183 - val_accuracy: 0.8400\n",
      "Epoch 196/300\n",
      "27/27 [==============================] - 0s 4ms/step - loss: 0.4070 - accuracy: 0.8424 - val_loss: 0.4254 - val_accuracy: 0.8467\n",
      "Epoch 197/300\n",
      "27/27 [==============================] - 0s 4ms/step - loss: 0.4126 - accuracy: 0.8424 - val_loss: 0.4223 - val_accuracy: 0.8467\n",
      "Epoch 198/300\n",
      "27/27 [==============================] - 0s 4ms/step - loss: 0.4072 - accuracy: 0.8424 - val_loss: 0.4321 - val_accuracy: 0.8467\n",
      "Epoch 199/300\n",
      "27/27 [==============================] - 0s 4ms/step - loss: 0.4001 - accuracy: 0.8424 - val_loss: 0.4084 - val_accuracy: 0.8467\n",
      "Epoch 200/300\n",
      "27/27 [==============================] - 0s 4ms/step - loss: 0.4006 - accuracy: 0.8424 - val_loss: 0.4395 - val_accuracy: 0.8467\n",
      "Epoch 201/300\n",
      "27/27 [==============================] - 0s 4ms/step - loss: 0.3974 - accuracy: 0.8424 - val_loss: 0.4079 - val_accuracy: 0.8467\n",
      "Epoch 202/300\n",
      "27/27 [==============================] - 0s 4ms/step - loss: 0.4083 - accuracy: 0.8424 - val_loss: 0.4153 - val_accuracy: 0.8467\n",
      "Epoch 203/300\n",
      "27/27 [==============================] - 0s 4ms/step - loss: 0.3942 - accuracy: 0.8518 - val_loss: 0.4386 - val_accuracy: 0.8533\n",
      "Epoch 204/300\n",
      "27/27 [==============================] - 0s 4ms/step - loss: 0.3963 - accuracy: 0.8506 - val_loss: 0.4181 - val_accuracy: 0.8467\n",
      "Epoch 205/300\n",
      "27/27 [==============================] - 0s 4ms/step - loss: 0.4150 - accuracy: 0.8424 - val_loss: 0.4272 - val_accuracy: 0.8467\n",
      "Epoch 206/300\n",
      "27/27 [==============================] - 0s 4ms/step - loss: 0.3981 - accuracy: 0.8424 - val_loss: 0.4840 - val_accuracy: 0.8467\n",
      "Epoch 207/300\n",
      "27/27 [==============================] - 0s 4ms/step - loss: 0.4022 - accuracy: 0.8424 - val_loss: 0.4338 - val_accuracy: 0.8467\n",
      "Epoch 208/300\n",
      "27/27 [==============================] - 0s 4ms/step - loss: 0.3958 - accuracy: 0.8412 - val_loss: 0.4060 - val_accuracy: 0.8467\n",
      "Epoch 209/300\n",
      "27/27 [==============================] - 0s 4ms/step - loss: 0.4008 - accuracy: 0.8424 - val_loss: 0.4819 - val_accuracy: 0.8467\n",
      "Epoch 210/300\n",
      "27/27 [==============================] - 0s 4ms/step - loss: 0.4040 - accuracy: 0.8424 - val_loss: 0.4147 - val_accuracy: 0.8467\n",
      "Epoch 211/300\n",
      "27/27 [==============================] - 0s 4ms/step - loss: 0.3890 - accuracy: 0.8435 - val_loss: 0.4113 - val_accuracy: 0.8467\n",
      "Epoch 212/300\n",
      "27/27 [==============================] - 0s 4ms/step - loss: 0.3849 - accuracy: 0.8506 - val_loss: 0.4077 - val_accuracy: 0.8467\n",
      "Epoch 213/300\n",
      "27/27 [==============================] - 0s 4ms/step - loss: 0.3828 - accuracy: 0.8459 - val_loss: 0.3983 - val_accuracy: 0.8467\n",
      "Epoch 214/300\n",
      "27/27 [==============================] - 0s 4ms/step - loss: 0.4242 - accuracy: 0.8365 - val_loss: 0.4250 - val_accuracy: 0.8467\n",
      "Epoch 215/300\n",
      "27/27 [==============================] - 0s 4ms/step - loss: 0.3982 - accuracy: 0.8424 - val_loss: 0.4158 - val_accuracy: 0.8467\n",
      "Epoch 216/300\n",
      "27/27 [==============================] - 0s 4ms/step - loss: 0.3895 - accuracy: 0.8424 - val_loss: 0.4588 - val_accuracy: 0.8467\n",
      "Epoch 217/300\n",
      "27/27 [==============================] - 0s 4ms/step - loss: 0.3946 - accuracy: 0.8424 - val_loss: 0.3988 - val_accuracy: 0.8467\n",
      "Epoch 218/300\n",
      "27/27 [==============================] - 0s 4ms/step - loss: 0.3853 - accuracy: 0.8459 - val_loss: 0.4545 - val_accuracy: 0.8467\n",
      "Epoch 219/300\n",
      "27/27 [==============================] - 0s 4ms/step - loss: 0.4052 - accuracy: 0.8424 - val_loss: 0.4053 - val_accuracy: 0.8467\n",
      "Epoch 220/300\n",
      "27/27 [==============================] - 0s 4ms/step - loss: 0.3824 - accuracy: 0.8459 - val_loss: 0.4047 - val_accuracy: 0.8533\n",
      "Epoch 221/300\n",
      "27/27 [==============================] - 0s 4ms/step - loss: 0.3917 - accuracy: 0.8529 - val_loss: 0.4209 - val_accuracy: 0.8467\n",
      "Epoch 222/300\n",
      "27/27 [==============================] - 0s 5ms/step - loss: 0.3924 - accuracy: 0.8471 - val_loss: 0.4383 - val_accuracy: 0.8267\n",
      "Epoch 223/300\n",
      "27/27 [==============================] - 0s 4ms/step - loss: 0.4128 - accuracy: 0.8435 - val_loss: 0.4380 - val_accuracy: 0.8400\n",
      "Epoch 224/300\n",
      "27/27 [==============================] - 0s 5ms/step - loss: 0.3974 - accuracy: 0.8435 - val_loss: 0.4235 - val_accuracy: 0.8467\n",
      "Epoch 225/300\n",
      "27/27 [==============================] - 0s 4ms/step - loss: 0.3894 - accuracy: 0.8482 - val_loss: 0.4143 - val_accuracy: 0.8533\n",
      "Epoch 226/300\n",
      "27/27 [==============================] - 0s 4ms/step - loss: 0.3892 - accuracy: 0.8541 - val_loss: 0.3897 - val_accuracy: 0.8533\n",
      "Epoch 227/300\n",
      "27/27 [==============================] - 0s 5ms/step - loss: 0.4194 - accuracy: 0.8424 - val_loss: 0.4421 - val_accuracy: 0.8467\n",
      "Epoch 228/300\n",
      "27/27 [==============================] - 0s 5ms/step - loss: 0.4225 - accuracy: 0.8459 - val_loss: 0.4286 - val_accuracy: 0.8467\n",
      "Epoch 229/300\n",
      "27/27 [==============================] - 0s 5ms/step - loss: 0.4029 - accuracy: 0.8447 - val_loss: 0.4419 - val_accuracy: 0.8467\n",
      "Epoch 230/300\n",
      "27/27 [==============================] - 0s 4ms/step - loss: 0.6707 - accuracy: 0.8235 - val_loss: 1.1787 - val_accuracy: 0.8467\n",
      "Epoch 231/300\n",
      "27/27 [==============================] - 0s 4ms/step - loss: 0.5285 - accuracy: 0.8212 - val_loss: 0.4639 - val_accuracy: 0.8400\n",
      "Epoch 232/300\n",
      "27/27 [==============================] - 0s 4ms/step - loss: 0.4749 - accuracy: 0.8247 - val_loss: 0.4455 - val_accuracy: 0.8467\n",
      "Epoch 233/300\n",
      "27/27 [==============================] - 0s 4ms/step - loss: 0.4161 - accuracy: 0.8424 - val_loss: 0.4465 - val_accuracy: 0.8467\n",
      "Epoch 234/300\n",
      "27/27 [==============================] - 0s 5ms/step - loss: 0.4171 - accuracy: 0.8424 - val_loss: 0.4419 - val_accuracy: 0.8467\n",
      "Epoch 235/300\n",
      "27/27 [==============================] - 0s 4ms/step - loss: 0.4137 - accuracy: 0.8424 - val_loss: 0.4484 - val_accuracy: 0.8467\n",
      "Epoch 236/300\n",
      "27/27 [==============================] - 0s 4ms/step - loss: 0.4062 - accuracy: 0.8424 - val_loss: 0.4438 - val_accuracy: 0.8467\n",
      "Epoch 237/300\n",
      "27/27 [==============================] - 0s 4ms/step - loss: 0.4072 - accuracy: 0.8435 - val_loss: 0.4355 - val_accuracy: 0.8467\n",
      "Epoch 238/300\n",
      "27/27 [==============================] - 0s 5ms/step - loss: 0.4055 - accuracy: 0.8424 - val_loss: 0.4360 - val_accuracy: 0.8467\n",
      "Epoch 239/300\n",
      "27/27 [==============================] - 0s 4ms/step - loss: 0.3968 - accuracy: 0.8412 - val_loss: 0.4479 - val_accuracy: 0.8467\n",
      "Epoch 240/300\n",
      "27/27 [==============================] - 0s 4ms/step - loss: 0.3987 - accuracy: 0.8482 - val_loss: 0.4416 - val_accuracy: 0.8400\n",
      "Epoch 241/300\n",
      "27/27 [==============================] - 0s 4ms/step - loss: 0.4094 - accuracy: 0.8435 - val_loss: 0.4592 - val_accuracy: 0.8400\n",
      "Epoch 242/300\n",
      "27/27 [==============================] - 0s 4ms/step - loss: 0.4077 - accuracy: 0.8412 - val_loss: 0.4481 - val_accuracy: 0.8467\n",
      "Epoch 243/300\n",
      "27/27 [==============================] - 0s 4ms/step - loss: 0.3982 - accuracy: 0.8424 - val_loss: 0.4192 - val_accuracy: 0.8467\n",
      "Epoch 244/300\n",
      "27/27 [==============================] - 0s 4ms/step - loss: 0.3976 - accuracy: 0.8424 - val_loss: 0.4592 - val_accuracy: 0.8467\n",
      "Epoch 245/300\n",
      "27/27 [==============================] - 0s 4ms/step - loss: 0.4049 - accuracy: 0.8435 - val_loss: 0.4284 - val_accuracy: 0.8400\n",
      "Epoch 246/300\n",
      "27/27 [==============================] - 0s 5ms/step - loss: 0.3970 - accuracy: 0.8471 - val_loss: 0.4198 - val_accuracy: 0.8400\n",
      "Epoch 247/300\n",
      "27/27 [==============================] - 0s 4ms/step - loss: 0.3904 - accuracy: 0.8471 - val_loss: 0.4688 - val_accuracy: 0.8400\n",
      "Epoch 248/300\n",
      "27/27 [==============================] - 0s 5ms/step - loss: 0.3913 - accuracy: 0.8471 - val_loss: 0.4103 - val_accuracy: 0.8400\n",
      "Epoch 249/300\n",
      "27/27 [==============================] - 0s 4ms/step - loss: 0.3962 - accuracy: 0.8482 - val_loss: 0.4434 - val_accuracy: 0.8133\n",
      "Epoch 250/300\n",
      "27/27 [==============================] - 0s 5ms/step - loss: 0.4036 - accuracy: 0.8506 - val_loss: 0.4164 - val_accuracy: 0.8400\n",
      "Epoch 251/300\n",
      "27/27 [==============================] - 0s 4ms/step - loss: 0.3934 - accuracy: 0.8518 - val_loss: 0.4042 - val_accuracy: 0.8400\n",
      "Epoch 252/300\n",
      "27/27 [==============================] - 0s 5ms/step - loss: 0.3826 - accuracy: 0.8506 - val_loss: 0.4321 - val_accuracy: 0.8467\n",
      "Epoch 253/300\n",
      "27/27 [==============================] - 0s 4ms/step - loss: 0.4004 - accuracy: 0.8518 - val_loss: 0.4233 - val_accuracy: 0.8400\n",
      "Epoch 254/300\n",
      "27/27 [==============================] - 0s 4ms/step - loss: 0.4056 - accuracy: 0.8471 - val_loss: 0.4291 - val_accuracy: 0.8400\n",
      "Epoch 255/300\n",
      "27/27 [==============================] - 0s 4ms/step - loss: 0.3852 - accuracy: 0.8506 - val_loss: 0.3996 - val_accuracy: 0.8467\n",
      "Epoch 256/300\n",
      "20/27 [=====================>........] - ETA: 0s - loss: 0.3983 - accuracy: 0.8453Restoring model weights from the end of the best epoch: 226.\n",
      "27/27 [==============================] - 0s 4ms/step - loss: 0.4078 - accuracy: 0.8447 - val_loss: 0.4865 - val_accuracy: 0.8467\n",
      "Epoch 256: early stopping\n"
     ]
    },
    {
     "data": {
      "text/plain": [
       "<keras.callbacks.History at 0x273d3acd040>"
      ]
     },
     "execution_count": 47,
     "metadata": {},
     "output_type": "execute_result"
    }
   ],
   "source": [
    "# 모델 학습 - 학습 조건은 전부 동일하게 진행 \n",
    "model.fit(x_train, y_train, epochs=300, verbose=1, validation_split=0.15, callbacks=[es] )"
   ]
  },
  {
   "cell_type": "markdown",
   "metadata": {
    "id": "mpmzUPy81EU4"
   },
   "source": [
    "### 모델 예측"
   ]
  },
  {
   "cell_type": "code",
   "execution_count": 48,
   "metadata": {
    "id": "_vqttmIaIhOM"
   },
   "outputs": [
    {
     "data": {
      "text/plain": [
       "array([0.20462352, 0.30454987, 0.02305874, 0.34689128, 0.34662023,\n",
       "       0.07202637, 0.25184965, 0.06197223, 0.26490283, 0.2814942 ,\n",
       "       0.16531774], dtype=float32)"
      ]
     },
     "execution_count": 48,
     "metadata": {},
     "output_type": "execute_result"
    }
   ],
   "source": [
    "# 예측하기 \n",
    "y_pred = model.predict(x_test)\n",
    "\n",
    "y_pred[:11].reshape(-1)"
   ]
  },
  {
   "cell_type": "code",
   "execution_count": 49,
   "metadata": {
    "id": "tyc-c9WqIhKP"
   },
   "outputs": [],
   "source": [
    "# 0과 1로 만들기 \n",
    "for idx, val in enumerate(y_pred) :\n",
    "    if y_pred[idx] >= 0.5 :\n",
    "        y_pred[idx] = 1\n",
    "    else :\n",
    "        y_pred[idx] = 0"
   ]
  },
  {
   "cell_type": "code",
   "execution_count": 50,
   "metadata": {},
   "outputs": [
    {
     "data": {
      "text/plain": [
       "array([0., 0., 0., 0., 0., 0., 0., 0., 0., 0., 0.], dtype=float32)"
      ]
     },
     "execution_count": 50,
     "metadata": {},
     "output_type": "execute_result"
    }
   ],
   "source": [
    "# 확인 \n",
    "y_pred[:11].reshape(-1)"
   ]
  },
  {
   "cell_type": "code",
   "execution_count": 51,
   "metadata": {
    "scrolled": false
   },
   "outputs": [
    {
     "data": {
      "text/plain": [
       "133     0.0\n",
       "1093    1.0\n",
       "223     0.0\n",
       "307     1.0\n",
       "385     1.0\n",
       "1040    0.0\n",
       "1182    0.0\n",
       "407     0.0\n",
       "453     1.0\n",
       "1138    1.0\n",
       "561     0.0\n",
       "Name: Attrition, dtype: float64"
      ]
     },
     "execution_count": 51,
     "metadata": {},
     "output_type": "execute_result"
    }
   ],
   "source": [
    "# y_test 와 비교 \n",
    "\n",
    "y_test[:11]"
   ]
  },
  {
   "cell_type": "markdown",
   "metadata": {
    "id": "5hu2kSt06YhE"
   },
   "source": [
    "## 평가\n",
    "\n",
    "1. 모델의 정확도를 기재하시오.\n",
    "2. 이직이라 예측한 것 중 실제로 이직한 비율을 구하시오.\n",
    "3. 실제 이직 데이터 중 모델이 이직이라 예측한 것의 비율을 구하시오.\n",
    "4. 남는다고 예측한 것 중 실제로 남아있는 비율을 구하시오.."
   ]
  },
  {
   "cell_type": "code",
   "execution_count": 52,
   "metadata": {
    "scrolled": false
   },
   "outputs": [
    {
     "name": "stdout",
     "output_type": "stream",
     "text": [
      "8/8 [==============================] - 0s 2ms/step - loss: 0.3773 - accuracy: 0.8360\n",
      "----------------------------------------------------------------------------------------------------\n",
      "              precision    recall  f1-score   support\n",
      "\n",
      "         0.0       0.83      1.00      0.91       207\n",
      "         1.0       1.00      0.05      0.09        43\n",
      "\n",
      "    accuracy                           0.84       250\n",
      "   macro avg       0.92      0.52      0.50       250\n",
      "weighted avg       0.86      0.84      0.77       250\n",
      "\n"
     ]
    }
   ],
   "source": [
    "# 모델 성능 평가하기 \n",
    "from sklearn.metrics import classification_report, recall_score, precision_score, accuracy_score\n",
    "\n",
    "model.evaluate(x_test, y_test)\n",
    "### hidden layer 2개를 사용한 multilayer perceptron 구조와 비교하시오., y_test)\n",
    "print('-'*100)\n",
    "print(classification_report(y_test,y_pred))"
   ]
  },
  {
   "cell_type": "code",
   "execution_count": 53,
   "metadata": {
    "scrolled": true
   },
   "outputs": [
    {
     "data": {
      "text/plain": [
       "{'Locally_Connected_Model': [0.37037037037037035, 0.23255813953488372, 0.8],\n",
       " 'Hidden_Model': [1.0, 0.046511627906976744, 0.836]}"
      ]
     },
     "execution_count": 53,
     "metadata": {},
     "output_type": "execute_result"
    }
   ],
   "source": [
    "# 성능정보 수집\n",
    "\n",
    "\n",
    "score['Hidden_Model'] =[precision_score(y_test, y_pred),\n",
    "                recall_score(y_test, y_pred),\n",
    "                accuracy_score(y_test, y_pred)]\n",
    "score"
   ]
  },
  {
   "cell_type": "markdown",
   "metadata": {},
   "source": [
    "# Original 모델\n",
    "\n",
    "** 모든 변수와 target 만을 가지고 "
   ]
  },
  {
   "cell_type": "code",
   "execution_count": 54,
   "metadata": {
    "id": "WC6AZQlgIZkx"
   },
   "outputs": [
    {
     "name": "stdout",
     "output_type": "stream",
     "text": [
      "Model: \"model\"\n",
      "_________________________________________________________________\n",
      " Layer (type)                Output Shape              Param #   \n",
      "=================================================================\n",
      " input_1 (InputLayer)        [(None, 44)]              0         \n",
      "                                                                 \n",
      " dense (Dense)               (None, 1)                 45        \n",
      "                                                                 \n",
      "=================================================================\n",
      "Total params: 45\n",
      "Trainable params: 45\n",
      "Non-trainable params: 0\n",
      "_________________________________________________________________\n"
     ]
    }
   ],
   "source": [
    "# 1 세션 클리어 \n",
    "keras.backend.clear_session()\n",
    "\n",
    "# 2 모델 엮기 \n",
    "il = Input(shape=(44,))\n",
    "ol = Dense(1, activation='sigmoid')(il)\n",
    "\n",
    "# 3 모델 시작 끝 선언\n",
    "model = Model(il, ol)\n",
    "\n",
    "# 4 컴파일 \n",
    "model.compile(loss=keras.losses.binary_crossentropy, metrics=['accuracy'], optimizer='adam')\n",
    "\n",
    "# 양념 \n",
    "model.summary()"
   ]
  },
  {
   "cell_type": "markdown",
   "metadata": {
    "id": "MWkg0Oogw5W5"
   },
   "source": [
    "### 모델 구조 시각화"
   ]
  },
  {
   "cell_type": "code",
   "execution_count": 55,
   "metadata": {
    "id": "yVf1ZIhWIbRe"
   },
   "outputs": [
    {
     "data": {
      "image/png": "[encoded data removed]",
      "text/plain": [
       "<IPython.core.display.Image object>"
      ]
     },
     "execution_count": 55,
     "metadata": {},
     "output_type": "execute_result"
    }
   ],
   "source": [
    "plot_model(model, show_shapes=True)"
   ]
  },
  {
   "cell_type": "markdown",
   "metadata": {
    "id": "fLnughPGxKr4"
   },
   "source": [
    "### 모델 학습"
   ]
  },
  {
   "cell_type": "code",
   "execution_count": 56,
   "metadata": {},
   "outputs": [],
   "source": [
    "# Earlystopping 값 설정 \n",
    "\n",
    "es = EarlyStopping(monitor='val_loss',\n",
    "                   min_delta=0, \n",
    "                   patience=30,\n",
    "                   verbose=1,\n",
    "                   restore_best_weights=True)"
   ]
  },
  {
   "cell_type": "code",
   "execution_count": 57,
   "metadata": {
    "id": "aXPOYO-jIf94"
   },
   "outputs": [
    {
     "name": "stdout",
     "output_type": "stream",
     "text": [
      "Epoch 1/300\n",
      "27/27 [==============================] - 1s 9ms/step - loss: 774.2272 - accuracy: 0.1576 - val_loss: 700.8173 - val_accuracy: 0.1533\n",
      "Epoch 2/300\n",
      "27/27 [==============================] - 0s 3ms/step - loss: 595.9124 - accuracy: 0.1576 - val_loss: 517.9554 - val_accuracy: 0.1533\n",
      "Epoch 3/300\n",
      "27/27 [==============================] - 0s 2ms/step - loss: 417.7836 - accuracy: 0.1576 - val_loss: 331.4795 - val_accuracy: 0.1533\n",
      "Epoch 4/300\n",
      "27/27 [==============================] - 0s 3ms/step - loss: 237.9608 - accuracy: 0.1576 - val_loss: 146.2471 - val_accuracy: 0.1533\n",
      "Epoch 5/300\n",
      "27/27 [==============================] - 0s 2ms/step - loss: 65.0098 - accuracy: 0.2682 - val_loss: 8.1570 - val_accuracy: 0.6667\n",
      "Epoch 6/300\n",
      "27/27 [==============================] - 0s 2ms/step - loss: 6.5952 - accuracy: 0.7706 - val_loss: 8.6077 - val_accuracy: 0.7600\n",
      "Epoch 7/300\n",
      "27/27 [==============================] - 0s 3ms/step - loss: 6.1944 - accuracy: 0.7894 - val_loss: 7.0970 - val_accuracy: 0.7467\n",
      "Epoch 8/300\n",
      "27/27 [==============================] - 0s 3ms/step - loss: 5.1336 - accuracy: 0.7765 - val_loss: 5.7229 - val_accuracy: 0.7400\n",
      "Epoch 9/300\n",
      "27/27 [==============================] - 0s 3ms/step - loss: 4.2029 - accuracy: 0.7588 - val_loss: 4.4270 - val_accuracy: 0.7533\n",
      "Epoch 10/300\n",
      "27/27 [==============================] - 0s 3ms/step - loss: 3.2033 - accuracy: 0.7694 - val_loss: 3.1133 - val_accuracy: 0.7467\n",
      "Epoch 11/300\n",
      "27/27 [==============================] - 0s 3ms/step - loss: 2.2214 - accuracy: 0.7600 - val_loss: 1.7978 - val_accuracy: 0.7533\n",
      "Epoch 12/300\n",
      "27/27 [==============================] - 0s 2ms/step - loss: 1.3352 - accuracy: 0.7812 - val_loss: 0.8816 - val_accuracy: 0.7800\n",
      "Epoch 13/300\n",
      "27/27 [==============================] - 0s 2ms/step - loss: 0.9725 - accuracy: 0.7929 - val_loss: 0.8163 - val_accuracy: 0.8000\n",
      "Epoch 14/300\n",
      "27/27 [==============================] - 0s 3ms/step - loss: 0.9359 - accuracy: 0.8035 - val_loss: 0.8002 - val_accuracy: 0.8133\n",
      "Epoch 15/300\n",
      "27/27 [==============================] - 0s 3ms/step - loss: 0.9392 - accuracy: 0.7965 - val_loss: 0.8340 - val_accuracy: 0.8467\n",
      "Epoch 16/300\n",
      "27/27 [==============================] - 0s 3ms/step - loss: 0.9144 - accuracy: 0.8059 - val_loss: 0.7627 - val_accuracy: 0.8067\n",
      "Epoch 17/300\n",
      "27/27 [==============================] - 0s 2ms/step - loss: 0.8665 - accuracy: 0.8012 - val_loss: 0.7882 - val_accuracy: 0.8467\n",
      "Epoch 18/300\n",
      "27/27 [==============================] - 0s 2ms/step - loss: 0.8525 - accuracy: 0.8165 - val_loss: 0.7287 - val_accuracy: 0.8067\n",
      "Epoch 19/300\n",
      "27/27 [==============================] - 0s 3ms/step - loss: 0.8300 - accuracy: 0.7953 - val_loss: 0.7258 - val_accuracy: 0.8400\n",
      "Epoch 20/300\n",
      "27/27 [==============================] - 0s 4ms/step - loss: 0.8289 - accuracy: 0.8118 - val_loss: 0.7640 - val_accuracy: 0.8400\n",
      "Epoch 21/300\n",
      "27/27 [==============================] - 0s 3ms/step - loss: 0.8010 - accuracy: 0.7953 - val_loss: 0.7087 - val_accuracy: 0.8400\n",
      "Epoch 22/300\n",
      "27/27 [==============================] - 0s 3ms/step - loss: 0.7739 - accuracy: 0.8129 - val_loss: 0.7613 - val_accuracy: 0.8467\n",
      "Epoch 23/300\n",
      "27/27 [==============================] - 0s 2ms/step - loss: 0.8171 - accuracy: 0.8082 - val_loss: 0.8104 - val_accuracy: 0.7000\n",
      "Epoch 24/300\n",
      "27/27 [==============================] - 0s 2ms/step - loss: 0.8794 - accuracy: 0.7906 - val_loss: 0.9059 - val_accuracy: 0.8533\n",
      "Epoch 25/300\n",
      "27/27 [==============================] - 0s 2ms/step - loss: 0.7158 - accuracy: 0.8176 - val_loss: 0.6274 - val_accuracy: 0.7867\n",
      "Epoch 26/300\n",
      "27/27 [==============================] - 0s 2ms/step - loss: 0.6674 - accuracy: 0.8129 - val_loss: 0.6101 - val_accuracy: 0.8333\n",
      "Epoch 27/300\n",
      "27/27 [==============================] - 0s 2ms/step - loss: 0.6621 - accuracy: 0.8188 - val_loss: 0.6290 - val_accuracy: 0.8400\n",
      "Epoch 28/300\n",
      "27/27 [==============================] - 0s 2ms/step - loss: 0.6703 - accuracy: 0.8024 - val_loss: 0.5907 - val_accuracy: 0.8267\n",
      "Epoch 29/300\n",
      "27/27 [==============================] - 0s 2ms/step - loss: 0.6593 - accuracy: 0.8188 - val_loss: 0.5662 - val_accuracy: 0.8000\n",
      "Epoch 30/300\n",
      "27/27 [==============================] - 0s 2ms/step - loss: 0.5991 - accuracy: 0.8188 - val_loss: 0.5549 - val_accuracy: 0.8133\n",
      "Epoch 31/300\n",
      "27/27 [==============================] - 0s 2ms/step - loss: 0.5928 - accuracy: 0.8294 - val_loss: 0.6221 - val_accuracy: 0.7600\n",
      "Epoch 32/300\n",
      "27/27 [==============================] - 0s 2ms/step - loss: 0.5762 - accuracy: 0.8188 - val_loss: 0.5457 - val_accuracy: 0.8200\n",
      "Epoch 33/300\n",
      "27/27 [==============================] - 0s 2ms/step - loss: 0.5463 - accuracy: 0.8294 - val_loss: 0.5284 - val_accuracy: 0.8133\n",
      "Epoch 34/300\n",
      "27/27 [==============================] - 0s 2ms/step - loss: 0.5319 - accuracy: 0.8176 - val_loss: 0.5334 - val_accuracy: 0.8267\n",
      "Epoch 35/300\n",
      "27/27 [==============================] - 0s 2ms/step - loss: 0.5315 - accuracy: 0.8282 - val_loss: 0.5560 - val_accuracy: 0.7533\n",
      "Epoch 36/300\n",
      "27/27 [==============================] - 0s 2ms/step - loss: 0.5245 - accuracy: 0.8259 - val_loss: 0.5132 - val_accuracy: 0.7933\n",
      "Epoch 37/300\n",
      "27/27 [==============================] - 0s 2ms/step - loss: 0.5085 - accuracy: 0.8329 - val_loss: 0.6687 - val_accuracy: 0.8400\n",
      "Epoch 38/300\n",
      "27/27 [==============================] - 0s 2ms/step - loss: 0.4887 - accuracy: 0.8306 - val_loss: 0.4991 - val_accuracy: 0.8267\n",
      "Epoch 39/300\n",
      "27/27 [==============================] - 0s 2ms/step - loss: 0.4952 - accuracy: 0.8388 - val_loss: 0.4955 - val_accuracy: 0.8133\n",
      "Epoch 40/300\n",
      "27/27 [==============================] - 0s 2ms/step - loss: 0.4666 - accuracy: 0.8376 - val_loss: 0.5203 - val_accuracy: 0.7933\n",
      "Epoch 41/300\n",
      "27/27 [==============================] - 0s 3ms/step - loss: 0.4927 - accuracy: 0.8329 - val_loss: 0.5412 - val_accuracy: 0.8267\n",
      "Epoch 42/300\n",
      "27/27 [==============================] - 0s 2ms/step - loss: 0.5205 - accuracy: 0.8247 - val_loss: 0.6068 - val_accuracy: 0.8400\n",
      "Epoch 43/300\n",
      "27/27 [==============================] - 0s 2ms/step - loss: 0.4643 - accuracy: 0.8447 - val_loss: 0.5492 - val_accuracy: 0.8333\n",
      "Epoch 44/300\n",
      "27/27 [==============================] - 0s 2ms/step - loss: 0.4596 - accuracy: 0.8247 - val_loss: 0.5537 - val_accuracy: 0.7533\n",
      "Epoch 45/300\n",
      "27/27 [==============================] - 0s 2ms/step - loss: 0.4772 - accuracy: 0.8271 - val_loss: 0.4863 - val_accuracy: 0.8133\n",
      "Epoch 46/300\n",
      "27/27 [==============================] - 0s 2ms/step - loss: 0.4399 - accuracy: 0.8400 - val_loss: 0.4784 - val_accuracy: 0.8133\n",
      "Epoch 47/300\n",
      "27/27 [==============================] - 0s 2ms/step - loss: 0.4742 - accuracy: 0.8365 - val_loss: 0.5226 - val_accuracy: 0.8333\n",
      "Epoch 48/300\n",
      "27/27 [==============================] - 0s 2ms/step - loss: 0.4350 - accuracy: 0.8271 - val_loss: 0.5255 - val_accuracy: 0.8400\n",
      "Epoch 49/300\n",
      "27/27 [==============================] - 0s 2ms/step - loss: 0.4451 - accuracy: 0.8388 - val_loss: 0.5255 - val_accuracy: 0.8467\n",
      "Epoch 50/300\n",
      "27/27 [==============================] - 0s 2ms/step - loss: 0.4891 - accuracy: 0.8365 - val_loss: 0.5016 - val_accuracy: 0.8267\n",
      "Epoch 51/300\n",
      "27/27 [==============================] - 0s 2ms/step - loss: 0.4806 - accuracy: 0.8341 - val_loss: 0.5206 - val_accuracy: 0.8467\n",
      "Epoch 52/300\n",
      "27/27 [==============================] - 0s 2ms/step - loss: 0.4455 - accuracy: 0.8388 - val_loss: 0.4838 - val_accuracy: 0.8333\n",
      "Epoch 53/300\n",
      "27/27 [==============================] - 0s 2ms/step - loss: 0.4321 - accuracy: 0.8400 - val_loss: 0.5469 - val_accuracy: 0.8400\n",
      "Epoch 54/300\n",
      "27/27 [==============================] - 0s 2ms/step - loss: 0.4425 - accuracy: 0.8471 - val_loss: 0.4686 - val_accuracy: 0.8333\n",
      "Epoch 55/300\n",
      "27/27 [==============================] - 0s 2ms/step - loss: 0.4615 - accuracy: 0.8412 - val_loss: 0.5164 - val_accuracy: 0.8333\n",
      "Epoch 56/300\n",
      "27/27 [==============================] - 0s 2ms/step - loss: 0.4167 - accuracy: 0.8435 - val_loss: 0.4744 - val_accuracy: 0.8133\n",
      "Epoch 57/300\n",
      "27/27 [==============================] - 0s 2ms/step - loss: 0.4123 - accuracy: 0.8471 - val_loss: 0.4668 - val_accuracy: 0.8267\n",
      "Epoch 58/300\n",
      "27/27 [==============================] - 0s 2ms/step - loss: 0.4271 - accuracy: 0.8388 - val_loss: 0.4620 - val_accuracy: 0.8200\n",
      "Epoch 59/300\n",
      "27/27 [==============================] - 0s 2ms/step - loss: 0.4078 - accuracy: 0.8482 - val_loss: 0.4683 - val_accuracy: 0.8400\n",
      "Epoch 60/300\n",
      "27/27 [==============================] - 0s 2ms/step - loss: 0.4205 - accuracy: 0.8506 - val_loss: 0.4896 - val_accuracy: 0.8400\n",
      "Epoch 61/300\n",
      "27/27 [==============================] - 0s 2ms/step - loss: 0.4151 - accuracy: 0.8388 - val_loss: 0.5487 - val_accuracy: 0.8533\n",
      "Epoch 62/300\n",
      "27/27 [==============================] - 0s 2ms/step - loss: 0.4265 - accuracy: 0.8388 - val_loss: 0.7942 - val_accuracy: 0.8533\n",
      "Epoch 63/300\n",
      "27/27 [==============================] - 0s 2ms/step - loss: 0.4565 - accuracy: 0.8294 - val_loss: 0.5424 - val_accuracy: 0.8533\n",
      "Epoch 64/300\n",
      "27/27 [==============================] - 0s 2ms/step - loss: 0.4167 - accuracy: 0.8435 - val_loss: 0.5129 - val_accuracy: 0.8400\n",
      "Epoch 65/300\n",
      "27/27 [==============================] - 0s 2ms/step - loss: 0.4032 - accuracy: 0.8494 - val_loss: 0.4908 - val_accuracy: 0.8400\n",
      "Epoch 66/300\n",
      "27/27 [==============================] - 0s 2ms/step - loss: 0.3861 - accuracy: 0.8494 - val_loss: 0.4391 - val_accuracy: 0.8133\n",
      "Epoch 67/300\n",
      "27/27 [==============================] - 0s 2ms/step - loss: 0.4277 - accuracy: 0.8412 - val_loss: 0.4876 - val_accuracy: 0.7733\n",
      "Epoch 68/300\n",
      "27/27 [==============================] - 0s 2ms/step - loss: 0.4304 - accuracy: 0.8494 - val_loss: 0.4485 - val_accuracy: 0.8400\n",
      "Epoch 69/300\n",
      "27/27 [==============================] - 0s 2ms/step - loss: 0.4957 - accuracy: 0.8071 - val_loss: 0.6284 - val_accuracy: 0.8600\n",
      "Epoch 70/300\n",
      "27/27 [==============================] - 0s 2ms/step - loss: 0.4271 - accuracy: 0.8529 - val_loss: 0.5223 - val_accuracy: 0.7600\n",
      "Epoch 71/300\n",
      "27/27 [==============================] - 0s 2ms/step - loss: 0.4024 - accuracy: 0.8412 - val_loss: 0.4347 - val_accuracy: 0.8400\n",
      "Epoch 72/300\n",
      "27/27 [==============================] - 0s 2ms/step - loss: 0.3959 - accuracy: 0.8447 - val_loss: 0.5384 - val_accuracy: 0.8533\n",
      "Epoch 73/300\n",
      "27/27 [==============================] - 0s 2ms/step - loss: 0.4000 - accuracy: 0.8459 - val_loss: 0.4372 - val_accuracy: 0.8200\n",
      "Epoch 74/300\n",
      "27/27 [==============================] - 0s 2ms/step - loss: 0.3834 - accuracy: 0.8518 - val_loss: 0.4517 - val_accuracy: 0.8200\n",
      "Epoch 75/300\n",
      "27/27 [==============================] - 0s 2ms/step - loss: 0.4038 - accuracy: 0.8435 - val_loss: 0.4499 - val_accuracy: 0.8467\n",
      "Epoch 76/300\n",
      "27/27 [==============================] - 0s 2ms/step - loss: 0.3903 - accuracy: 0.8494 - val_loss: 0.4834 - val_accuracy: 0.8533\n",
      "Epoch 77/300\n",
      "27/27 [==============================] - 0s 2ms/step - loss: 0.4439 - accuracy: 0.8294 - val_loss: 0.4969 - val_accuracy: 0.7667\n",
      "Epoch 78/300\n",
      "27/27 [==============================] - 0s 2ms/step - loss: 0.4540 - accuracy: 0.8365 - val_loss: 0.5329 - val_accuracy: 0.7467\n",
      "Epoch 79/300\n",
      "27/27 [==============================] - 0s 2ms/step - loss: 0.4336 - accuracy: 0.8376 - val_loss: 0.5218 - val_accuracy: 0.8600\n",
      "Epoch 80/300\n",
      "27/27 [==============================] - 0s 2ms/step - loss: 0.3603 - accuracy: 0.8541 - val_loss: 0.4152 - val_accuracy: 0.8400\n",
      "Epoch 81/300\n",
      "27/27 [==============================] - 0s 2ms/step - loss: 0.3648 - accuracy: 0.8600 - val_loss: 0.4272 - val_accuracy: 0.8133\n",
      "Epoch 82/300\n",
      "27/27 [==============================] - 0s 2ms/step - loss: 0.3602 - accuracy: 0.8553 - val_loss: 0.4073 - val_accuracy: 0.8133\n",
      "Epoch 83/300\n",
      "27/27 [==============================] - 0s 2ms/step - loss: 0.3819 - accuracy: 0.8529 - val_loss: 0.4087 - val_accuracy: 0.8400\n",
      "Epoch 84/300\n",
      "27/27 [==============================] - 0s 2ms/step - loss: 0.3553 - accuracy: 0.8565 - val_loss: 0.4208 - val_accuracy: 0.8267\n",
      "Epoch 85/300\n",
      "27/27 [==============================] - 0s 3ms/step - loss: 0.4023 - accuracy: 0.8318 - val_loss: 0.4265 - val_accuracy: 0.8333\n",
      "Epoch 86/300\n",
      "27/27 [==============================] - 0s 2ms/step - loss: 0.3890 - accuracy: 0.8541 - val_loss: 0.5118 - val_accuracy: 0.8600\n",
      "Epoch 87/300\n",
      "27/27 [==============================] - 0s 2ms/step - loss: 0.4018 - accuracy: 0.8412 - val_loss: 0.4070 - val_accuracy: 0.8400\n",
      "Epoch 88/300\n",
      "27/27 [==============================] - 0s 2ms/step - loss: 0.3651 - accuracy: 0.8635 - val_loss: 0.4208 - val_accuracy: 0.8533\n",
      "Epoch 89/300\n",
      "27/27 [==============================] - 0s 2ms/step - loss: 0.3701 - accuracy: 0.8506 - val_loss: 0.4559 - val_accuracy: 0.8600\n",
      "Epoch 90/300\n",
      "27/27 [==============================] - 0s 2ms/step - loss: 0.3584 - accuracy: 0.8576 - val_loss: 0.4203 - val_accuracy: 0.8467\n",
      "Epoch 91/300\n",
      "27/27 [==============================] - 0s 2ms/step - loss: 0.3531 - accuracy: 0.8565 - val_loss: 0.4000 - val_accuracy: 0.8400\n",
      "Epoch 92/300\n",
      "27/27 [==============================] - 0s 2ms/step - loss: 0.3734 - accuracy: 0.8541 - val_loss: 0.5241 - val_accuracy: 0.8600\n",
      "Epoch 93/300\n",
      "27/27 [==============================] - 0s 2ms/step - loss: 0.3645 - accuracy: 0.8565 - val_loss: 0.3927 - val_accuracy: 0.8467\n",
      "Epoch 94/300\n",
      "27/27 [==============================] - 0s 2ms/step - loss: 0.3643 - accuracy: 0.8494 - val_loss: 0.3902 - val_accuracy: 0.8533\n",
      "Epoch 95/300\n",
      "27/27 [==============================] - 0s 2ms/step - loss: 0.3489 - accuracy: 0.8529 - val_loss: 0.3916 - val_accuracy: 0.8467\n",
      "Epoch 96/300\n",
      "27/27 [==============================] - 0s 2ms/step - loss: 0.3631 - accuracy: 0.8612 - val_loss: 0.3895 - val_accuracy: 0.8400\n",
      "Epoch 97/300\n",
      "27/27 [==============================] - 0s 2ms/step - loss: 0.3775 - accuracy: 0.8553 - val_loss: 0.4937 - val_accuracy: 0.8600\n",
      "Epoch 98/300\n",
      "27/27 [==============================] - 0s 2ms/step - loss: 0.4985 - accuracy: 0.8412 - val_loss: 0.5514 - val_accuracy: 0.8600\n",
      "Epoch 99/300\n",
      "27/27 [==============================] - 0s 2ms/step - loss: 0.3881 - accuracy: 0.8471 - val_loss: 0.4254 - val_accuracy: 0.8667\n",
      "Epoch 100/300\n",
      "27/27 [==============================] - 0s 2ms/step - loss: 0.3989 - accuracy: 0.8412 - val_loss: 0.6011 - val_accuracy: 0.8600\n",
      "Epoch 101/300\n",
      "27/27 [==============================] - 0s 2ms/step - loss: 0.3813 - accuracy: 0.8565 - val_loss: 0.4489 - val_accuracy: 0.8067\n",
      "Epoch 102/300\n",
      "27/27 [==============================] - 0s 2ms/step - loss: 0.3405 - accuracy: 0.8600 - val_loss: 0.3975 - val_accuracy: 0.8533\n",
      "Epoch 103/300\n",
      "27/27 [==============================] - 0s 2ms/step - loss: 0.3420 - accuracy: 0.8671 - val_loss: 0.3875 - val_accuracy: 0.8600\n",
      "Epoch 104/300\n",
      "27/27 [==============================] - 0s 2ms/step - loss: 0.3937 - accuracy: 0.8482 - val_loss: 0.3737 - val_accuracy: 0.8467\n",
      "Epoch 105/300\n",
      "27/27 [==============================] - 0s 2ms/step - loss: 0.3524 - accuracy: 0.8541 - val_loss: 0.3937 - val_accuracy: 0.8267\n",
      "Epoch 106/300\n",
      "27/27 [==============================] - 0s 2ms/step - loss: 0.4158 - accuracy: 0.8259 - val_loss: 0.4462 - val_accuracy: 0.8733\n",
      "Epoch 107/300\n",
      "27/27 [==============================] - 0s 3ms/step - loss: 0.3687 - accuracy: 0.8482 - val_loss: 0.4054 - val_accuracy: 0.8333\n",
      "Epoch 108/300\n",
      "27/27 [==============================] - 0s 2ms/step - loss: 0.4204 - accuracy: 0.8459 - val_loss: 0.5665 - val_accuracy: 0.8600\n",
      "Epoch 109/300\n",
      "27/27 [==============================] - 0s 2ms/step - loss: 0.3551 - accuracy: 0.8553 - val_loss: 0.4051 - val_accuracy: 0.8667\n",
      "Epoch 110/300\n",
      "27/27 [==============================] - 0s 2ms/step - loss: 0.3410 - accuracy: 0.8671 - val_loss: 0.4960 - val_accuracy: 0.8667\n",
      "Epoch 111/300\n",
      "27/27 [==============================] - 0s 2ms/step - loss: 0.3600 - accuracy: 0.8553 - val_loss: 0.4522 - val_accuracy: 0.8600\n",
      "Epoch 112/300\n",
      "27/27 [==============================] - 0s 2ms/step - loss: 0.3444 - accuracy: 0.8553 - val_loss: 0.4050 - val_accuracy: 0.8533\n",
      "Epoch 113/300\n",
      "27/27 [==============================] - 0s 2ms/step - loss: 0.3715 - accuracy: 0.8635 - val_loss: 0.4504 - val_accuracy: 0.8667\n",
      "Epoch 114/300\n",
      "27/27 [==============================] - 0s 2ms/step - loss: 0.3528 - accuracy: 0.8553 - val_loss: 0.3861 - val_accuracy: 0.8667\n",
      "Epoch 115/300\n",
      "27/27 [==============================] - 0s 2ms/step - loss: 0.3346 - accuracy: 0.8706 - val_loss: 0.4359 - val_accuracy: 0.8733\n"
     ]
    },
    {
     "name": "stdout",
     "output_type": "stream",
     "text": [
      "Epoch 116/300\n",
      "27/27 [==============================] - 0s 2ms/step - loss: 0.3577 - accuracy: 0.8541 - val_loss: 0.6136 - val_accuracy: 0.8600\n",
      "Epoch 117/300\n",
      "27/27 [==============================] - 0s 2ms/step - loss: 0.3794 - accuracy: 0.8400 - val_loss: 0.7656 - val_accuracy: 0.8600\n",
      "Epoch 118/300\n",
      "27/27 [==============================] - 0s 2ms/step - loss: 0.3793 - accuracy: 0.8494 - val_loss: 0.4028 - val_accuracy: 0.8667\n",
      "Epoch 119/300\n",
      "27/27 [==============================] - 0s 2ms/step - loss: 0.3441 - accuracy: 0.8659 - val_loss: 0.7425 - val_accuracy: 0.8600\n",
      "Epoch 120/300\n",
      "27/27 [==============================] - 0s 2ms/step - loss: 0.4642 - accuracy: 0.8329 - val_loss: 0.4298 - val_accuracy: 0.8733\n",
      "Epoch 121/300\n",
      "27/27 [==============================] - 0s 2ms/step - loss: 0.3651 - accuracy: 0.8612 - val_loss: 0.4538 - val_accuracy: 0.7600\n",
      "Epoch 122/300\n",
      "27/27 [==============================] - 0s 2ms/step - loss: 0.3977 - accuracy: 0.8400 - val_loss: 0.3994 - val_accuracy: 0.8400\n",
      "Epoch 123/300\n",
      "27/27 [==============================] - 0s 2ms/step - loss: 0.3535 - accuracy: 0.8565 - val_loss: 0.4262 - val_accuracy: 0.8600\n",
      "Epoch 124/300\n",
      "27/27 [==============================] - 0s 2ms/step - loss: 0.3421 - accuracy: 0.8576 - val_loss: 0.3622 - val_accuracy: 0.8733\n",
      "Epoch 125/300\n",
      "27/27 [==============================] - 0s 2ms/step - loss: 0.3282 - accuracy: 0.8671 - val_loss: 0.4039 - val_accuracy: 0.8800\n",
      "Epoch 126/300\n",
      "27/27 [==============================] - 0s 2ms/step - loss: 0.3494 - accuracy: 0.8671 - val_loss: 0.4889 - val_accuracy: 0.8600\n",
      "Epoch 127/300\n",
      "27/27 [==============================] - 0s 2ms/step - loss: 0.3602 - accuracy: 0.8624 - val_loss: 0.4256 - val_accuracy: 0.8733\n",
      "Epoch 128/300\n",
      "27/27 [==============================] - 0s 2ms/step - loss: 0.3327 - accuracy: 0.8682 - val_loss: 0.5167 - val_accuracy: 0.8733\n",
      "Epoch 129/300\n",
      "27/27 [==============================] - 0s 2ms/step - loss: 0.3545 - accuracy: 0.8565 - val_loss: 0.4605 - val_accuracy: 0.8667\n",
      "Epoch 130/300\n",
      "27/27 [==============================] - 0s 2ms/step - loss: 0.4056 - accuracy: 0.8376 - val_loss: 0.8004 - val_accuracy: 0.8600\n",
      "Epoch 131/300\n",
      "27/27 [==============================] - 0s 2ms/step - loss: 0.4094 - accuracy: 0.8424 - val_loss: 0.4191 - val_accuracy: 0.8800\n",
      "Epoch 132/300\n",
      "27/27 [==============================] - 0s 2ms/step - loss: 0.4495 - accuracy: 0.8353 - val_loss: 0.7981 - val_accuracy: 0.8600\n",
      "Epoch 133/300\n",
      "27/27 [==============================] - 0s 2ms/step - loss: 0.5305 - accuracy: 0.8259 - val_loss: 0.5017 - val_accuracy: 0.8733\n",
      "Epoch 134/300\n",
      "27/27 [==============================] - 0s 2ms/step - loss: 0.4261 - accuracy: 0.8506 - val_loss: 0.4077 - val_accuracy: 0.8733\n",
      "Epoch 135/300\n",
      "27/27 [==============================] - 0s 2ms/step - loss: 0.3621 - accuracy: 0.8647 - val_loss: 0.4356 - val_accuracy: 0.8733\n",
      "Epoch 136/300\n",
      "27/27 [==============================] - 0s 2ms/step - loss: 0.3847 - accuracy: 0.8565 - val_loss: 0.6114 - val_accuracy: 0.6200\n",
      "Epoch 137/300\n",
      "27/27 [==============================] - 0s 2ms/step - loss: 0.4146 - accuracy: 0.8482 - val_loss: 0.4150 - val_accuracy: 0.8600\n",
      "Epoch 138/300\n",
      "27/27 [==============================] - 0s 2ms/step - loss: 0.3484 - accuracy: 0.8671 - val_loss: 0.3975 - val_accuracy: 0.8800\n",
      "Epoch 139/300\n",
      "27/27 [==============================] - 0s 2ms/step - loss: 0.3425 - accuracy: 0.8706 - val_loss: 0.4701 - val_accuracy: 0.8667\n",
      "Epoch 140/300\n",
      "27/27 [==============================] - 0s 2ms/step - loss: 0.4209 - accuracy: 0.8388 - val_loss: 0.8344 - val_accuracy: 0.8600\n",
      "Epoch 141/300\n",
      "27/27 [==============================] - 0s 2ms/step - loss: 0.3979 - accuracy: 0.8553 - val_loss: 0.3841 - val_accuracy: 0.8600\n",
      "Epoch 142/300\n",
      "27/27 [==============================] - 0s 2ms/step - loss: 0.4499 - accuracy: 0.8459 - val_loss: 0.5916 - val_accuracy: 0.8600\n",
      "Epoch 143/300\n",
      "27/27 [==============================] - 0s 2ms/step - loss: 0.4440 - accuracy: 0.8459 - val_loss: 0.4050 - val_accuracy: 0.8667\n",
      "Epoch 144/300\n",
      "27/27 [==============================] - 0s 2ms/step - loss: 0.3261 - accuracy: 0.8694 - val_loss: 0.3561 - val_accuracy: 0.8733\n",
      "Epoch 145/300\n",
      "27/27 [==============================] - 0s 2ms/step - loss: 0.3965 - accuracy: 0.8412 - val_loss: 0.4024 - val_accuracy: 0.8467\n",
      "Epoch 146/300\n",
      "27/27 [==============================] - 0s 2ms/step - loss: 0.3374 - accuracy: 0.8659 - val_loss: 0.4103 - val_accuracy: 0.8867\n",
      "Epoch 147/300\n",
      "27/27 [==============================] - 0s 2ms/step - loss: 0.3701 - accuracy: 0.8565 - val_loss: 0.5164 - val_accuracy: 0.8667\n",
      "Epoch 148/300\n",
      "27/27 [==============================] - 0s 2ms/step - loss: 0.4200 - accuracy: 0.8435 - val_loss: 0.5513 - val_accuracy: 0.8600\n",
      "Epoch 149/300\n",
      "27/27 [==============================] - 0s 2ms/step - loss: 0.3238 - accuracy: 0.8753 - val_loss: 0.4374 - val_accuracy: 0.8867\n",
      "Epoch 150/300\n",
      "27/27 [==============================] - 0s 2ms/step - loss: 0.4202 - accuracy: 0.8447 - val_loss: 0.3522 - val_accuracy: 0.8600\n",
      "Epoch 151/300\n",
      "27/27 [==============================] - 0s 2ms/step - loss: 0.3615 - accuracy: 0.8518 - val_loss: 0.3717 - val_accuracy: 0.8667\n",
      "Epoch 152/300\n",
      "27/27 [==============================] - 0s 2ms/step - loss: 0.3959 - accuracy: 0.8412 - val_loss: 0.5014 - val_accuracy: 0.8600\n",
      "Epoch 153/300\n",
      "27/27 [==============================] - 0s 2ms/step - loss: 0.3279 - accuracy: 0.8741 - val_loss: 0.4056 - val_accuracy: 0.8800\n",
      "Epoch 154/300\n",
      "27/27 [==============================] - 0s 2ms/step - loss: 0.3201 - accuracy: 0.8729 - val_loss: 0.3769 - val_accuracy: 0.8800\n",
      "Epoch 155/300\n",
      "27/27 [==============================] - 0s 2ms/step - loss: 0.4313 - accuracy: 0.8424 - val_loss: 0.4567 - val_accuracy: 0.7800\n",
      "Epoch 156/300\n",
      "27/27 [==============================] - 0s 2ms/step - loss: 0.3707 - accuracy: 0.8553 - val_loss: 0.3994 - val_accuracy: 0.8867\n",
      "Epoch 157/300\n",
      "27/27 [==============================] - 0s 2ms/step - loss: 0.3560 - accuracy: 0.8671 - val_loss: 0.3455 - val_accuracy: 0.8800\n",
      "Epoch 158/300\n",
      "27/27 [==============================] - 0s 2ms/step - loss: 0.3193 - accuracy: 0.8694 - val_loss: 0.3838 - val_accuracy: 0.8600\n",
      "Epoch 159/300\n",
      "27/27 [==============================] - 0s 2ms/step - loss: 0.4221 - accuracy: 0.8376 - val_loss: 0.4943 - val_accuracy: 0.8800\n",
      "Epoch 160/300\n",
      "27/27 [==============================] - 0s 2ms/step - loss: 0.3362 - accuracy: 0.8671 - val_loss: 0.3649 - val_accuracy: 0.8533\n",
      "Epoch 161/300\n",
      "27/27 [==============================] - 0s 2ms/step - loss: 0.3337 - accuracy: 0.8659 - val_loss: 0.3833 - val_accuracy: 0.8800\n",
      "Epoch 162/300\n",
      "27/27 [==============================] - 0s 2ms/step - loss: 0.3516 - accuracy: 0.8682 - val_loss: 0.4164 - val_accuracy: 0.8800\n",
      "Epoch 163/300\n",
      "27/27 [==============================] - 0s 2ms/step - loss: 0.3316 - accuracy: 0.8659 - val_loss: 0.4580 - val_accuracy: 0.8667\n",
      "Epoch 164/300\n",
      "27/27 [==============================] - 0s 2ms/step - loss: 0.4008 - accuracy: 0.8282 - val_loss: 0.3801 - val_accuracy: 0.8667\n",
      "Epoch 165/300\n",
      "27/27 [==============================] - 0s 2ms/step - loss: 0.3517 - accuracy: 0.8741 - val_loss: 0.3552 - val_accuracy: 0.8800\n",
      "Epoch 166/300\n",
      "27/27 [==============================] - 0s 2ms/step - loss: 0.3440 - accuracy: 0.8671 - val_loss: 0.3497 - val_accuracy: 0.8733\n",
      "Epoch 167/300\n",
      "27/27 [==============================] - 0s 2ms/step - loss: 0.3321 - accuracy: 0.8624 - val_loss: 0.3509 - val_accuracy: 0.8800\n",
      "Epoch 168/300\n",
      "27/27 [==============================] - 0s 2ms/step - loss: 0.3590 - accuracy: 0.8565 - val_loss: 0.3577 - val_accuracy: 0.8733\n",
      "Epoch 169/300\n",
      "27/27 [==============================] - 0s 2ms/step - loss: 0.3347 - accuracy: 0.8765 - val_loss: 0.3362 - val_accuracy: 0.8800\n",
      "Epoch 170/300\n",
      "27/27 [==============================] - 0s 2ms/step - loss: 0.3792 - accuracy: 0.8576 - val_loss: 0.5285 - val_accuracy: 0.8800\n",
      "Epoch 171/300\n",
      "27/27 [==============================] - 0s 2ms/step - loss: 0.3935 - accuracy: 0.8365 - val_loss: 0.3470 - val_accuracy: 0.8867\n",
      "Epoch 172/300\n",
      "27/27 [==============================] - 0s 2ms/step - loss: 0.3867 - accuracy: 0.8565 - val_loss: 0.4490 - val_accuracy: 0.7933\n",
      "Epoch 173/300\n",
      "27/27 [==============================] - 0s 2ms/step - loss: 0.3512 - accuracy: 0.8553 - val_loss: 0.4309 - val_accuracy: 0.8000\n",
      "Epoch 174/300\n",
      "27/27 [==============================] - 0s 2ms/step - loss: 0.3404 - accuracy: 0.8518 - val_loss: 0.4231 - val_accuracy: 0.8667\n",
      "Epoch 175/300\n",
      "27/27 [==============================] - 0s 2ms/step - loss: 0.7438 - accuracy: 0.8094 - val_loss: 0.8469 - val_accuracy: 0.5667\n",
      "Epoch 176/300\n",
      "27/27 [==============================] - 0s 2ms/step - loss: 0.4515 - accuracy: 0.8529 - val_loss: 0.3776 - val_accuracy: 0.8600\n",
      "Epoch 177/300\n",
      "27/27 [==============================] - 0s 2ms/step - loss: 0.3290 - accuracy: 0.8812 - val_loss: 0.3849 - val_accuracy: 0.8667\n",
      "Epoch 178/300\n",
      "27/27 [==============================] - 0s 2ms/step - loss: 0.3336 - accuracy: 0.8647 - val_loss: 0.3872 - val_accuracy: 0.8733\n",
      "Epoch 179/300\n",
      "27/27 [==============================] - 0s 2ms/step - loss: 0.3341 - accuracy: 0.8706 - val_loss: 0.3910 - val_accuracy: 0.8400\n",
      "Epoch 180/300\n",
      "27/27 [==============================] - 0s 2ms/step - loss: 0.3664 - accuracy: 0.8553 - val_loss: 0.3783 - val_accuracy: 0.8733\n",
      "Epoch 181/300\n",
      "27/27 [==============================] - 0s 2ms/step - loss: 0.3253 - accuracy: 0.8635 - val_loss: 0.3469 - val_accuracy: 0.9000\n",
      "Epoch 182/300\n",
      "27/27 [==============================] - 0s 2ms/step - loss: 0.3985 - accuracy: 0.8529 - val_loss: 0.5691 - val_accuracy: 0.6933\n",
      "Epoch 183/300\n",
      "27/27 [==============================] - 0s 2ms/step - loss: 0.3639 - accuracy: 0.8624 - val_loss: 0.4818 - val_accuracy: 0.8867\n",
      "Epoch 184/300\n",
      "27/27 [==============================] - 0s 2ms/step - loss: 0.3934 - accuracy: 0.8435 - val_loss: 0.5756 - val_accuracy: 0.8800\n",
      "Epoch 185/300\n",
      "27/27 [==============================] - 0s 2ms/step - loss: 0.3807 - accuracy: 0.8576 - val_loss: 0.3936 - val_accuracy: 0.8933\n",
      "Epoch 186/300\n",
      "27/27 [==============================] - 0s 2ms/step - loss: 0.3240 - accuracy: 0.8647 - val_loss: 0.3514 - val_accuracy: 0.8733\n",
      "Epoch 187/300\n",
      "27/27 [==============================] - 0s 2ms/step - loss: 0.3256 - accuracy: 0.8800 - val_loss: 0.3641 - val_accuracy: 0.8867\n",
      "Epoch 188/300\n",
      "27/27 [==============================] - 0s 2ms/step - loss: 0.3289 - accuracy: 0.8647 - val_loss: 0.3328 - val_accuracy: 0.9000\n",
      "Epoch 189/300\n",
      "27/27 [==============================] - 0s 2ms/step - loss: 0.3575 - accuracy: 0.8576 - val_loss: 0.6122 - val_accuracy: 0.8600\n",
      "Epoch 190/300\n",
      "27/27 [==============================] - 0s 2ms/step - loss: 0.5300 - accuracy: 0.8294 - val_loss: 0.4878 - val_accuracy: 0.8000\n",
      "Epoch 191/300\n",
      "27/27 [==============================] - 0s 2ms/step - loss: 0.3959 - accuracy: 0.8506 - val_loss: 0.4479 - val_accuracy: 0.8933\n",
      "Epoch 192/300\n",
      "27/27 [==============================] - 0s 2ms/step - loss: 0.3701 - accuracy: 0.8518 - val_loss: 0.4382 - val_accuracy: 0.8933\n",
      "Epoch 193/300\n",
      "27/27 [==============================] - 0s 2ms/step - loss: 0.3135 - accuracy: 0.8718 - val_loss: 0.3333 - val_accuracy: 0.8867\n",
      "Epoch 194/300\n",
      "27/27 [==============================] - 0s 2ms/step - loss: 0.3005 - accuracy: 0.8765 - val_loss: 0.4470 - val_accuracy: 0.8867\n",
      "Epoch 195/300\n",
      "27/27 [==============================] - 0s 2ms/step - loss: 0.3145 - accuracy: 0.8741 - val_loss: 0.3855 - val_accuracy: 0.8867\n",
      "Epoch 196/300\n",
      "27/27 [==============================] - 0s 2ms/step - loss: 0.3116 - accuracy: 0.8753 - val_loss: 0.3390 - val_accuracy: 0.8800\n",
      "Epoch 197/300\n",
      "27/27 [==============================] - 0s 2ms/step - loss: 0.3017 - accuracy: 0.8847 - val_loss: 0.3291 - val_accuracy: 0.9000\n",
      "Epoch 198/300\n",
      "27/27 [==============================] - 0s 2ms/step - loss: 0.3842 - accuracy: 0.8518 - val_loss: 0.4414 - val_accuracy: 0.8933\n",
      "Epoch 199/300\n",
      "27/27 [==============================] - 0s 2ms/step - loss: 0.3533 - accuracy: 0.8671 - val_loss: 0.3558 - val_accuracy: 0.8667\n",
      "Epoch 200/300\n",
      "27/27 [==============================] - 0s 2ms/step - loss: 0.3208 - accuracy: 0.8776 - val_loss: 0.3884 - val_accuracy: 0.8467\n",
      "Epoch 201/300\n",
      "27/27 [==============================] - 0s 2ms/step - loss: 0.3374 - accuracy: 0.8706 - val_loss: 0.3251 - val_accuracy: 0.8933\n",
      "Epoch 202/300\n",
      "27/27 [==============================] - 0s 2ms/step - loss: 0.3862 - accuracy: 0.8459 - val_loss: 0.3678 - val_accuracy: 0.8533\n",
      "Epoch 203/300\n",
      "27/27 [==============================] - 0s 2ms/step - loss: 0.3168 - accuracy: 0.8729 - val_loss: 0.3602 - val_accuracy: 0.8800\n",
      "Epoch 204/300\n",
      "27/27 [==============================] - 0s 2ms/step - loss: 0.3565 - accuracy: 0.8729 - val_loss: 0.3739 - val_accuracy: 0.8867\n",
      "Epoch 205/300\n",
      "27/27 [==============================] - 0s 2ms/step - loss: 0.3332 - accuracy: 0.8682 - val_loss: 0.3874 - val_accuracy: 0.8533\n",
      "Epoch 206/300\n",
      "27/27 [==============================] - 0s 2ms/step - loss: 0.4257 - accuracy: 0.8588 - val_loss: 0.3701 - val_accuracy: 0.8533\n",
      "Epoch 207/300\n",
      "27/27 [==============================] - 0s 2ms/step - loss: 0.4354 - accuracy: 0.8494 - val_loss: 0.3712 - val_accuracy: 0.8600\n",
      "Epoch 208/300\n",
      "27/27 [==============================] - 0s 2ms/step - loss: 0.3026 - accuracy: 0.8847 - val_loss: 0.3594 - val_accuracy: 0.8800\n",
      "Epoch 209/300\n",
      "27/27 [==============================] - 0s 2ms/step - loss: 0.3424 - accuracy: 0.8624 - val_loss: 0.3448 - val_accuracy: 0.8867\n",
      "Epoch 210/300\n",
      "27/27 [==============================] - 0s 2ms/step - loss: 0.3599 - accuracy: 0.8635 - val_loss: 0.4423 - val_accuracy: 0.8933\n",
      "Epoch 211/300\n",
      "27/27 [==============================] - 0s 2ms/step - loss: 0.4051 - accuracy: 0.8506 - val_loss: 0.6057 - val_accuracy: 0.8600\n",
      "Epoch 212/300\n",
      "27/27 [==============================] - 0s 2ms/step - loss: 0.3215 - accuracy: 0.8706 - val_loss: 0.3274 - val_accuracy: 0.8800\n",
      "Epoch 213/300\n",
      "27/27 [==============================] - 0s 2ms/step - loss: 0.3771 - accuracy: 0.8576 - val_loss: 0.3695 - val_accuracy: 0.8733\n",
      "Epoch 214/300\n",
      "27/27 [==============================] - 0s 2ms/step - loss: 0.3542 - accuracy: 0.8694 - val_loss: 0.3402 - val_accuracy: 0.8933\n",
      "Epoch 215/300\n",
      "27/27 [==============================] - 0s 2ms/step - loss: 0.4205 - accuracy: 0.8494 - val_loss: 0.3745 - val_accuracy: 0.8733\n",
      "Epoch 216/300\n",
      "27/27 [==============================] - 0s 2ms/step - loss: 0.5662 - accuracy: 0.8235 - val_loss: 0.6252 - val_accuracy: 0.8667\n",
      "Epoch 217/300\n",
      "27/27 [==============================] - 0s 2ms/step - loss: 0.3341 - accuracy: 0.8741 - val_loss: 0.3785 - val_accuracy: 0.8800\n",
      "Epoch 218/300\n",
      "27/27 [==============================] - 0s 2ms/step - loss: 0.3082 - accuracy: 0.8800 - val_loss: 0.3439 - val_accuracy: 0.8867\n",
      "Epoch 219/300\n",
      "27/27 [==============================] - 0s 2ms/step - loss: 0.3217 - accuracy: 0.8659 - val_loss: 0.3902 - val_accuracy: 0.8867\n",
      "Epoch 220/300\n",
      "27/27 [==============================] - 0s 2ms/step - loss: 0.3037 - accuracy: 0.8765 - val_loss: 0.4206 - val_accuracy: 0.8333\n",
      "Epoch 221/300\n",
      "27/27 [==============================] - 0s 2ms/step - loss: 0.4446 - accuracy: 0.8353 - val_loss: 0.4081 - val_accuracy: 0.8600\n",
      "Epoch 222/300\n",
      "27/27 [==============================] - 0s 2ms/step - loss: 0.3439 - accuracy: 0.8694 - val_loss: 0.5403 - val_accuracy: 0.8733\n",
      "Epoch 223/300\n",
      "27/27 [==============================] - 0s 2ms/step - loss: 0.4140 - accuracy: 0.8635 - val_loss: 0.3676 - val_accuracy: 0.8600\n",
      "Epoch 224/300\n",
      "27/27 [==============================] - 0s 2ms/step - loss: 0.4083 - accuracy: 0.8388 - val_loss: 0.4584 - val_accuracy: 0.9000\n",
      "Epoch 225/300\n",
      "27/27 [==============================] - 0s 2ms/step - loss: 0.3762 - accuracy: 0.8565 - val_loss: 0.3558 - val_accuracy: 0.8933\n",
      "Epoch 226/300\n",
      "27/27 [==============================] - 0s 2ms/step - loss: 0.3225 - accuracy: 0.8776 - val_loss: 0.3412 - val_accuracy: 0.8800\n",
      "Epoch 227/300\n",
      "27/27 [==============================] - 0s 2ms/step - loss: 0.3091 - accuracy: 0.8788 - val_loss: 0.3406 - val_accuracy: 0.8867\n",
      "Epoch 228/300\n",
      "27/27 [==============================] - 0s 2ms/step - loss: 0.3105 - accuracy: 0.8835 - val_loss: 0.3313 - val_accuracy: 0.9000\n",
      "Epoch 229/300\n",
      "27/27 [==============================] - 0s 3ms/step - loss: 0.3312 - accuracy: 0.8694 - val_loss: 0.5121 - val_accuracy: 0.8800\n",
      "Epoch 230/300\n"
     ]
    },
    {
     "name": "stdout",
     "output_type": "stream",
     "text": [
      "27/27 [==============================] - 0s 3ms/step - loss: 0.4125 - accuracy: 0.8482 - val_loss: 0.3953 - val_accuracy: 0.9067\n",
      "Epoch 231/300\n",
      " 1/27 [>.............................] - ETA: 0s - loss: 0.5949 - accuracy: 0.7812Restoring model weights from the end of the best epoch: 201.\n",
      "27/27 [==============================] - 0s 2ms/step - loss: 0.3201 - accuracy: 0.8706 - val_loss: 0.3957 - val_accuracy: 0.8867\n",
      "Epoch 231: early stopping\n"
     ]
    },
    {
     "data": {
      "text/plain": [
       "<keras.callbacks.History at 0x273d4bb6f70>"
      ]
     },
     "execution_count": 57,
     "metadata": {},
     "output_type": "execute_result"
    }
   ],
   "source": [
    "# 모델 학습 - 학습 조건은 전부 동일하게 진행 \n",
    "model.fit(x_train, y_train, epochs=300, verbose=1, validation_split=0.15, callbacks=[es] )"
   ]
  },
  {
   "cell_type": "markdown",
   "metadata": {
    "id": "mpmzUPy81EU4"
   },
   "source": [
    "### 모델 예측"
   ]
  },
  {
   "cell_type": "code",
   "execution_count": 58,
   "metadata": {
    "id": "_vqttmIaIhOM"
   },
   "outputs": [
    {
     "data": {
      "text/plain": [
       "array([0.28467783, 0.58368576, 0.00306055, 0.7849058 , 0.36191255,\n",
       "       0.00235197, 0.4066719 , 0.03551418, 0.59584093, 0.91492486,\n",
       "       0.0894891 ], dtype=float32)"
      ]
     },
     "execution_count": 58,
     "metadata": {},
     "output_type": "execute_result"
    }
   ],
   "source": [
    "# 예측하기 \n",
    "y_pred = model.predict(x_test)\n",
    "\n",
    "y_pred[:11].reshape(-1)"
   ]
  },
  {
   "cell_type": "code",
   "execution_count": 59,
   "metadata": {
    "id": "tyc-c9WqIhKP"
   },
   "outputs": [],
   "source": [
    "# 0과 1로 만들기 \n",
    "for idx, val in enumerate(y_pred) :\n",
    "    if y_pred[idx] >= 0.5 :\n",
    "        y_pred[idx] = 1\n",
    "    else :\n",
    "        y_pred[idx] = 0"
   ]
  },
  {
   "cell_type": "code",
   "execution_count": 60,
   "metadata": {},
   "outputs": [
    {
     "data": {
      "text/plain": [
       "array([0., 1., 0., 1., 0., 0., 0., 0., 1., 1., 0.], dtype=float32)"
      ]
     },
     "execution_count": 60,
     "metadata": {},
     "output_type": "execute_result"
    }
   ],
   "source": [
    "# 확인 \n",
    "y_pred[:11].reshape(-1)"
   ]
  },
  {
   "cell_type": "code",
   "execution_count": 61,
   "metadata": {
    "scrolled": false
   },
   "outputs": [
    {
     "data": {
      "text/plain": [
       "133     0.0\n",
       "1093    1.0\n",
       "223     0.0\n",
       "307     1.0\n",
       "385     1.0\n",
       "1040    0.0\n",
       "1182    0.0\n",
       "407     0.0\n",
       "453     1.0\n",
       "1138    1.0\n",
       "561     0.0\n",
       "Name: Attrition, dtype: float64"
      ]
     },
     "execution_count": 61,
     "metadata": {},
     "output_type": "execute_result"
    }
   ],
   "source": [
    "# y_test 와 비교 \n",
    "\n",
    "y_test[:11]"
   ]
  },
  {
   "cell_type": "markdown",
   "metadata": {
    "id": "5hu2kSt06YhE"
   },
   "source": [
    "## 평가\n",
    "\n",
    "1. 모델의 정확도를 기재하시오.\n",
    "2. 이직이라 예측한 것 중 실제로 이직한 비율을 구하시오.\n",
    "3. 실제 이직 데이터 중 모델이 이직이라 예측한 것의 비율을 구하시오.\n",
    "4. 남는다고 예측한 것 중 실제로 남아있는 비율을 구하시오.."
   ]
  },
  {
   "cell_type": "code",
   "execution_count": 62,
   "metadata": {
    "scrolled": false
   },
   "outputs": [
    {
     "name": "stdout",
     "output_type": "stream",
     "text": [
      "8/8 [==============================] - 0s 1ms/step - loss: 0.3628 - accuracy: 0.8760\n",
      "----------------------------------------------------------------------------------------------------\n",
      "              precision    recall  f1-score   support\n",
      "\n",
      "         0.0       0.90      0.96      0.93       207\n",
      "         1.0       0.71      0.47      0.56        43\n",
      "\n",
      "    accuracy                           0.88       250\n",
      "   macro avg       0.81      0.71      0.75       250\n",
      "weighted avg       0.87      0.88      0.87       250\n",
      "\n"
     ]
    }
   ],
   "source": [
    "# 모델 성능 평가하기 \n",
    "from sklearn.metrics import classification_report, recall_score, precision_score, accuracy_score\n",
    "\n",
    "model.evaluate(x_test, y_test)\n",
    "print('-'*100)\n",
    "print(classification_report(y_test,y_pred))"
   ]
  },
  {
   "cell_type": "code",
   "execution_count": 63,
   "metadata": {
    "scrolled": true
   },
   "outputs": [
    {
     "data": {
      "text/plain": [
       "{'Locally_Connected_Model': [0.37037037037037035, 0.23255813953488372, 0.8],\n",
       " 'Hidden_Model': [1.0, 0.046511627906976744, 0.836],\n",
       " 'Origonal_Model': [0.7142857142857143, 0.46511627906976744, 0.876]}"
      ]
     },
     "execution_count": 63,
     "metadata": {},
     "output_type": "execute_result"
    }
   ],
   "source": [
    "# 성능정보 수집\n",
    "\n",
    "\n",
    "score['Origonal_Model'] =[precision_score(y_test, y_pred),\n",
    "                recall_score(y_test, y_pred),\n",
    "                accuracy_score(y_test, y_pred)]\n",
    "score"
   ]
  },
  {
   "cell_type": "code",
   "execution_count": 64,
   "metadata": {
    "id": "tE6VNEQ9Ilmg"
   },
   "outputs": [
    {
     "data": {
      "image/png": "[encoded data removed]",
      "text/plain": [
       "<Figure size 1080x360 with 1 Axes>"
      ]
     },
     "metadata": {
      "needs_background": "light"
     },
     "output_type": "display_data"
    }
   ],
   "source": [
    "# over-sampling 이전에 모델들간의 비교 \n",
    "\n",
    "tmp = pd.DataFrame.from_dict(score, orient='index', columns=['Precision', 'Recall', 'Accuracy'])\n",
    "tmp.sort_values(by='Accuracy', ascending=False, inplace=True)\n",
    "tmp.plot(kind='barh')\n",
    "fig = plt.gcf()\n",
    "fig.set_size_inches(15, 5)\n",
    "plt.title('Compare', size=20, pad=20)\n",
    "plt.xlabel('Model')\n",
    "plt.ylabel('Performance')\n",
    "plt.show()"
   ]
  },
  {
   "cell_type": "markdown",
   "metadata": {},
   "source": [
    "## OVER smapling 실행"
   ]
  },
  {
   "cell_type": "code",
   "execution_count": 65,
   "metadata": {},
   "outputs": [
    {
     "name": "stdout",
     "output_type": "stream",
     "text": [
      "Attrition                   0\n",
      "Age                         0\n",
      "BusinessTravel              0\n",
      "Department                  0\n",
      "DistanceFromHome            0\n",
      "Education                   0\n",
      "EducationField              0\n",
      "EmployeeNumber              0\n",
      "EnvironmentSatisfaction     0\n",
      "Gender                      0\n",
      "JobInvolvement              0\n",
      "JobRole                     0\n",
      "JobSatisfaction             0\n",
      "MaritalStatus               0\n",
      "MonthlyIncome               0\n",
      "NumCompaniesWorked          0\n",
      "OverTime                    0\n",
      "PercentSalaryHike           0\n",
      "RelationshipSatisfaction    0\n",
      "StockOptionLevel            0\n",
      "TotalWorkingYears           0\n",
      "TrainingTimesLastYear       0\n",
      "WorkLifeBalance             0\n",
      "YearsAtCompany              0\n",
      "YearsInCurrentRole          0\n",
      "YearsWithCurrManager        0\n",
      "dtype: int64\n"
     ]
    }
   ],
   "source": [
    "data.head()\n",
    "print(data.isna().sum())"
   ]
  },
  {
   "cell_type": "code",
   "execution_count": 66,
   "metadata": {},
   "outputs": [
    {
     "data": {
      "text/html": [
       "<div>\n",
       "<style scoped>\n",
       "    .dataframe tbody tr th:only-of-type {\n",
       "        vertical-align: middle;\n",
       "    }\n",
       "\n",
       "    .dataframe tbody tr th {\n",
       "        vertical-align: top;\n",
       "    }\n",
       "\n",
       "    .dataframe thead th {\n",
       "        text-align: right;\n",
       "    }\n",
       "</style>\n",
       "<table border=\"1\" class=\"dataframe\">\n",
       "  <thead>\n",
       "    <tr style=\"text-align: right;\">\n",
       "      <th></th>\n",
       "      <th>Age</th>\n",
       "      <th>BusinessTravel</th>\n",
       "      <th>Department</th>\n",
       "      <th>DistanceFromHome</th>\n",
       "      <th>Education</th>\n",
       "      <th>EducationField</th>\n",
       "      <th>EmployeeNumber</th>\n",
       "      <th>EnvironmentSatisfaction</th>\n",
       "      <th>Gender</th>\n",
       "      <th>JobInvolvement</th>\n",
       "      <th>...</th>\n",
       "      <th>OverTime</th>\n",
       "      <th>PercentSalaryHike</th>\n",
       "      <th>RelationshipSatisfaction</th>\n",
       "      <th>StockOptionLevel</th>\n",
       "      <th>TotalWorkingYears</th>\n",
       "      <th>TrainingTimesLastYear</th>\n",
       "      <th>WorkLifeBalance</th>\n",
       "      <th>YearsAtCompany</th>\n",
       "      <th>YearsInCurrentRole</th>\n",
       "      <th>YearsWithCurrManager</th>\n",
       "    </tr>\n",
       "  </thead>\n",
       "  <tbody>\n",
       "    <tr>\n",
       "      <th>0</th>\n",
       "      <td>33</td>\n",
       "      <td>Travel_Rarely</td>\n",
       "      <td>Research &amp; Development</td>\n",
       "      <td>7.0</td>\n",
       "      <td>3</td>\n",
       "      <td>Medical</td>\n",
       "      <td>817</td>\n",
       "      <td>3</td>\n",
       "      <td>Male</td>\n",
       "      <td>3</td>\n",
       "      <td>...</td>\n",
       "      <td>No</td>\n",
       "      <td>11</td>\n",
       "      <td>4</td>\n",
       "      <td>0</td>\n",
       "      <td>14</td>\n",
       "      <td>3</td>\n",
       "      <td>4</td>\n",
       "      <td>13</td>\n",
       "      <td>9</td>\n",
       "      <td>7</td>\n",
       "    </tr>\n",
       "    <tr>\n",
       "      <th>1</th>\n",
       "      <td>35</td>\n",
       "      <td>Travel_Frequently</td>\n",
       "      <td>Research &amp; Development</td>\n",
       "      <td>18.0</td>\n",
       "      <td>2</td>\n",
       "      <td>Life Sciences</td>\n",
       "      <td>1412</td>\n",
       "      <td>3</td>\n",
       "      <td>Male</td>\n",
       "      <td>3</td>\n",
       "      <td>...</td>\n",
       "      <td>No</td>\n",
       "      <td>11</td>\n",
       "      <td>3</td>\n",
       "      <td>0</td>\n",
       "      <td>10</td>\n",
       "      <td>2</td>\n",
       "      <td>3</td>\n",
       "      <td>2</td>\n",
       "      <td>2</td>\n",
       "      <td>2</td>\n",
       "    </tr>\n",
       "    <tr>\n",
       "      <th>2</th>\n",
       "      <td>42</td>\n",
       "      <td>Travel_Rarely</td>\n",
       "      <td>Research &amp; Development</td>\n",
       "      <td>6.0</td>\n",
       "      <td>3</td>\n",
       "      <td>Medical</td>\n",
       "      <td>1911</td>\n",
       "      <td>3</td>\n",
       "      <td>Male</td>\n",
       "      <td>3</td>\n",
       "      <td>...</td>\n",
       "      <td>No</td>\n",
       "      <td>13</td>\n",
       "      <td>2</td>\n",
       "      <td>1</td>\n",
       "      <td>18</td>\n",
       "      <td>3</td>\n",
       "      <td>4</td>\n",
       "      <td>13</td>\n",
       "      <td>7</td>\n",
       "      <td>7</td>\n",
       "    </tr>\n",
       "    <tr>\n",
       "      <th>3</th>\n",
       "      <td>46</td>\n",
       "      <td>Travel_Rarely</td>\n",
       "      <td>Sales</td>\n",
       "      <td>2.0</td>\n",
       "      <td>3</td>\n",
       "      <td>Marketing</td>\n",
       "      <td>1204</td>\n",
       "      <td>3</td>\n",
       "      <td>Female</td>\n",
       "      <td>3</td>\n",
       "      <td>...</td>\n",
       "      <td>No</td>\n",
       "      <td>23</td>\n",
       "      <td>1</td>\n",
       "      <td>0</td>\n",
       "      <td>28</td>\n",
       "      <td>2</td>\n",
       "      <td>3</td>\n",
       "      <td>26</td>\n",
       "      <td>15</td>\n",
       "      <td>9</td>\n",
       "    </tr>\n",
       "    <tr>\n",
       "      <th>4</th>\n",
       "      <td>39</td>\n",
       "      <td>Travel_Frequently</td>\n",
       "      <td>Sales</td>\n",
       "      <td>7.0</td>\n",
       "      <td>3</td>\n",
       "      <td>Life Sciences</td>\n",
       "      <td>1812</td>\n",
       "      <td>3</td>\n",
       "      <td>Male</td>\n",
       "      <td>3</td>\n",
       "      <td>...</td>\n",
       "      <td>No</td>\n",
       "      <td>18</td>\n",
       "      <td>4</td>\n",
       "      <td>1</td>\n",
       "      <td>7</td>\n",
       "      <td>6</td>\n",
       "      <td>3</td>\n",
       "      <td>2</td>\n",
       "      <td>1</td>\n",
       "      <td>2</td>\n",
       "    </tr>\n",
       "  </tbody>\n",
       "</table>\n",
       "<p>5 rows × 25 columns</p>\n",
       "</div>"
      ],
      "text/plain": [
       "   Age     BusinessTravel              Department  DistanceFromHome  \\\n",
       "0   33      Travel_Rarely  Research & Development               7.0   \n",
       "1   35  Travel_Frequently  Research & Development              18.0   \n",
       "2   42      Travel_Rarely  Research & Development               6.0   \n",
       "3   46      Travel_Rarely                   Sales               2.0   \n",
       "4   39  Travel_Frequently                   Sales               7.0   \n",
       "\n",
       "   Education EducationField  EmployeeNumber  EnvironmentSatisfaction  Gender  \\\n",
       "0          3        Medical             817                        3    Male   \n",
       "1          2  Life Sciences            1412                        3    Male   \n",
       "2          3        Medical            1911                        3    Male   \n",
       "3          3      Marketing            1204                        3  Female   \n",
       "4          3  Life Sciences            1812                        3    Male   \n",
       "\n",
       "   JobInvolvement  ... OverTime  PercentSalaryHike RelationshipSatisfaction  \\\n",
       "0               3  ...       No                 11                        4   \n",
       "1               3  ...       No                 11                        3   \n",
       "2               3  ...       No                 13                        2   \n",
       "3               3  ...       No                 23                        1   \n",
       "4               3  ...       No                 18                        4   \n",
       "\n",
       "   StockOptionLevel  TotalWorkingYears TrainingTimesLastYear  WorkLifeBalance  \\\n",
       "0                 0                 14                     3                4   \n",
       "1                 0                 10                     2                3   \n",
       "2                 1                 18                     3                4   \n",
       "3                 0                 28                     2                3   \n",
       "4                 1                  7                     6                3   \n",
       "\n",
       "   YearsAtCompany  YearsInCurrentRole  YearsWithCurrManager  \n",
       "0              13                   9                     7  \n",
       "1               2                   2                     2  \n",
       "2              13                   7                     7  \n",
       "3              26                  15                     9  \n",
       "4               2                   1                     2  \n",
       "\n",
       "[5 rows x 25 columns]"
      ]
     },
     "execution_count": 66,
     "metadata": {},
     "output_type": "execute_result"
    }
   ],
   "source": [
    "x_o = data.drop(target, axis=1)\n",
    "y_o = data[target]\n",
    "\n",
    "x_o.head()"
   ]
  },
  {
   "cell_type": "markdown",
   "metadata": {},
   "source": [
    "### 위와 동일하게 문자열값을 가지는 feature 변환 작업"
   ]
  },
  {
   "cell_type": "code",
   "execution_count": 67,
   "metadata": {},
   "outputs": [],
   "source": [
    "x_o.loc[ x_o['OverTime']=='Yes' , 'OverTime'] = 1\n",
    "x_o.loc[ x_o['OverTime']=='No' , 'OverTime'] = 0\n",
    "\n",
    "x_o.loc[ x_o['Gender']=='Male' , 'Gender'] = 1\n",
    "x_o.loc[ x_o['Gender']=='Female' , 'Gender'] = 0\n",
    "\n",
    "x_o['OverTime'] = x_o['OverTime'].astype(float)\n",
    "x_o['Gender'] = x_o['Gender'].astype(float)"
   ]
  },
  {
   "cell_type": "code",
   "execution_count": 68,
   "metadata": {},
   "outputs": [],
   "source": [
    "cols = ['BusinessTravel', 'Department', 'EducationField', 'JobRole', 'MaritalStatus']\n",
    "\n",
    "x_o = pd.get_dummies(x_o, columns=cols, drop_first=False)"
   ]
  },
  {
   "cell_type": "code",
   "execution_count": 69,
   "metadata": {},
   "outputs": [
    {
     "data": {
      "text/html": [
       "<div>\n",
       "<style scoped>\n",
       "    .dataframe tbody tr th:only-of-type {\n",
       "        vertical-align: middle;\n",
       "    }\n",
       "\n",
       "    .dataframe tbody tr th {\n",
       "        vertical-align: top;\n",
       "    }\n",
       "\n",
       "    .dataframe thead th {\n",
       "        text-align: right;\n",
       "    }\n",
       "</style>\n",
       "<table border=\"1\" class=\"dataframe\">\n",
       "  <thead>\n",
       "    <tr style=\"text-align: right;\">\n",
       "      <th></th>\n",
       "      <th>Age</th>\n",
       "      <th>DistanceFromHome</th>\n",
       "      <th>Education</th>\n",
       "      <th>EmployeeNumber</th>\n",
       "      <th>EnvironmentSatisfaction</th>\n",
       "      <th>Gender</th>\n",
       "      <th>JobInvolvement</th>\n",
       "      <th>JobSatisfaction</th>\n",
       "      <th>MonthlyIncome</th>\n",
       "      <th>NumCompaniesWorked</th>\n",
       "      <th>...</th>\n",
       "      <th>JobRole_Laboratory Technician</th>\n",
       "      <th>JobRole_Manager</th>\n",
       "      <th>JobRole_Manufacturing Director</th>\n",
       "      <th>JobRole_Research Director</th>\n",
       "      <th>JobRole_Research Scientist</th>\n",
       "      <th>JobRole_Sales Executive</th>\n",
       "      <th>JobRole_Sales Representative</th>\n",
       "      <th>MaritalStatus_Divorced</th>\n",
       "      <th>MaritalStatus_Married</th>\n",
       "      <th>MaritalStatus_Single</th>\n",
       "    </tr>\n",
       "  </thead>\n",
       "  <tbody>\n",
       "    <tr>\n",
       "      <th>0</th>\n",
       "      <td>33</td>\n",
       "      <td>7.0</td>\n",
       "      <td>3</td>\n",
       "      <td>817</td>\n",
       "      <td>3</td>\n",
       "      <td>1.0</td>\n",
       "      <td>3</td>\n",
       "      <td>3</td>\n",
       "      <td>11691</td>\n",
       "      <td>0.0</td>\n",
       "      <td>...</td>\n",
       "      <td>0</td>\n",
       "      <td>0</td>\n",
       "      <td>0</td>\n",
       "      <td>1</td>\n",
       "      <td>0</td>\n",
       "      <td>0</td>\n",
       "      <td>0</td>\n",
       "      <td>0</td>\n",
       "      <td>1</td>\n",
       "      <td>0</td>\n",
       "    </tr>\n",
       "    <tr>\n",
       "      <th>1</th>\n",
       "      <td>35</td>\n",
       "      <td>18.0</td>\n",
       "      <td>2</td>\n",
       "      <td>1412</td>\n",
       "      <td>3</td>\n",
       "      <td>1.0</td>\n",
       "      <td>3</td>\n",
       "      <td>4</td>\n",
       "      <td>9362</td>\n",
       "      <td>2.0</td>\n",
       "      <td>...</td>\n",
       "      <td>0</td>\n",
       "      <td>0</td>\n",
       "      <td>1</td>\n",
       "      <td>0</td>\n",
       "      <td>0</td>\n",
       "      <td>0</td>\n",
       "      <td>0</td>\n",
       "      <td>0</td>\n",
       "      <td>0</td>\n",
       "      <td>1</td>\n",
       "    </tr>\n",
       "    <tr>\n",
       "      <th>2</th>\n",
       "      <td>42</td>\n",
       "      <td>6.0</td>\n",
       "      <td>3</td>\n",
       "      <td>1911</td>\n",
       "      <td>3</td>\n",
       "      <td>1.0</td>\n",
       "      <td>3</td>\n",
       "      <td>1</td>\n",
       "      <td>13348</td>\n",
       "      <td>9.0</td>\n",
       "      <td>...</td>\n",
       "      <td>0</td>\n",
       "      <td>0</td>\n",
       "      <td>0</td>\n",
       "      <td>1</td>\n",
       "      <td>0</td>\n",
       "      <td>0</td>\n",
       "      <td>0</td>\n",
       "      <td>0</td>\n",
       "      <td>1</td>\n",
       "      <td>0</td>\n",
       "    </tr>\n",
       "    <tr>\n",
       "      <th>3</th>\n",
       "      <td>46</td>\n",
       "      <td>2.0</td>\n",
       "      <td>3</td>\n",
       "      <td>1204</td>\n",
       "      <td>3</td>\n",
       "      <td>0.0</td>\n",
       "      <td>3</td>\n",
       "      <td>1</td>\n",
       "      <td>17048</td>\n",
       "      <td>8.0</td>\n",
       "      <td>...</td>\n",
       "      <td>0</td>\n",
       "      <td>1</td>\n",
       "      <td>0</td>\n",
       "      <td>0</td>\n",
       "      <td>0</td>\n",
       "      <td>0</td>\n",
       "      <td>0</td>\n",
       "      <td>0</td>\n",
       "      <td>1</td>\n",
       "      <td>0</td>\n",
       "    </tr>\n",
       "    <tr>\n",
       "      <th>4</th>\n",
       "      <td>39</td>\n",
       "      <td>7.0</td>\n",
       "      <td>3</td>\n",
       "      <td>1812</td>\n",
       "      <td>3</td>\n",
       "      <td>1.0</td>\n",
       "      <td>3</td>\n",
       "      <td>4</td>\n",
       "      <td>4127</td>\n",
       "      <td>2.0</td>\n",
       "      <td>...</td>\n",
       "      <td>0</td>\n",
       "      <td>0</td>\n",
       "      <td>0</td>\n",
       "      <td>0</td>\n",
       "      <td>0</td>\n",
       "      <td>1</td>\n",
       "      <td>0</td>\n",
       "      <td>1</td>\n",
       "      <td>0</td>\n",
       "      <td>0</td>\n",
       "    </tr>\n",
       "  </tbody>\n",
       "</table>\n",
       "<p>5 rows × 44 columns</p>\n",
       "</div>"
      ],
      "text/plain": [
       "   Age  DistanceFromHome  Education  EmployeeNumber  EnvironmentSatisfaction  \\\n",
       "0   33               7.0          3             817                        3   \n",
       "1   35              18.0          2            1412                        3   \n",
       "2   42               6.0          3            1911                        3   \n",
       "3   46               2.0          3            1204                        3   \n",
       "4   39               7.0          3            1812                        3   \n",
       "\n",
       "   Gender  JobInvolvement  JobSatisfaction  MonthlyIncome  NumCompaniesWorked  \\\n",
       "0     1.0               3                3          11691                 0.0   \n",
       "1     1.0               3                4           9362                 2.0   \n",
       "2     1.0               3                1          13348                 9.0   \n",
       "3     0.0               3                1          17048                 8.0   \n",
       "4     1.0               3                4           4127                 2.0   \n",
       "\n",
       "   ...  JobRole_Laboratory Technician  JobRole_Manager  \\\n",
       "0  ...                              0                0   \n",
       "1  ...                              0                0   \n",
       "2  ...                              0                0   \n",
       "3  ...                              0                1   \n",
       "4  ...                              0                0   \n",
       "\n",
       "   JobRole_Manufacturing Director  JobRole_Research Director  \\\n",
       "0                               0                          1   \n",
       "1                               1                          0   \n",
       "2                               0                          1   \n",
       "3                               0                          0   \n",
       "4                               0                          0   \n",
       "\n",
       "   JobRole_Research Scientist  JobRole_Sales Executive  \\\n",
       "0                           0                        0   \n",
       "1                           0                        0   \n",
       "2                           0                        0   \n",
       "3                           0                        0   \n",
       "4                           0                        1   \n",
       "\n",
       "   JobRole_Sales Representative  MaritalStatus_Divorced  \\\n",
       "0                             0                       0   \n",
       "1                             0                       0   \n",
       "2                             0                       0   \n",
       "3                             0                       0   \n",
       "4                             0                       1   \n",
       "\n",
       "   MaritalStatus_Married  MaritalStatus_Single  \n",
       "0                      1                     0  \n",
       "1                      0                     1  \n",
       "2                      1                     0  \n",
       "3                      1                     0  \n",
       "4                      0                     0  \n",
       "\n",
       "[5 rows x 44 columns]"
      ]
     },
     "execution_count": 69,
     "metadata": {},
     "output_type": "execute_result"
    }
   ],
   "source": [
    "# 확인하기 \n",
    "x_o.head()"
   ]
  },
  {
   "cell_type": "code",
   "execution_count": 70,
   "metadata": {
    "id": "C8UwTkt0Ilq-"
   },
   "outputs": [],
   "source": [
    "from imblearn.over_sampling import SMOTE\n",
    "\n",
    "smote = SMOTE(random_state=2022)\n",
    "x_over, y_over = smote.fit_resample(x_o,y_o)"
   ]
  },
  {
   "cell_type": "code",
   "execution_count": 71,
   "metadata": {},
   "outputs": [
    {
     "data": {
      "text/plain": [
       "((2100, 44), (2100,))"
      ]
     },
     "execution_count": 71,
     "metadata": {},
     "output_type": "execute_result"
    }
   ],
   "source": [
    "x_over.shape, y_over.shape"
   ]
  },
  {
   "cell_type": "code",
   "execution_count": 72,
   "metadata": {
    "scrolled": true
   },
   "outputs": [
    {
     "data": {
      "text/plain": [
       "0.0    1050\n",
       "1.0    1050\n",
       "Name: Attrition, dtype: int64"
      ]
     },
     "execution_count": 72,
     "metadata": {},
     "output_type": "execute_result"
    }
   ],
   "source": [
    "y_over.value_counts()"
   ]
  },
  {
   "cell_type": "code",
   "execution_count": 73,
   "metadata": {},
   "outputs": [],
   "source": [
    "from sklearn.model_selection import train_test_split\n"
   ]
  },
  {
   "cell_type": "code",
   "execution_count": 74,
   "metadata": {},
   "outputs": [],
   "source": [
    "x_tr, x_te, y_tr, y_te = train_test_split(x_over, y_over, test_size=0.2, random_state=2022)"
   ]
  },
  {
   "cell_type": "code",
   "execution_count": 75,
   "metadata": {},
   "outputs": [
    {
     "data": {
      "text/plain": [
       "((1680, 44), (420, 44))"
      ]
     },
     "execution_count": 75,
     "metadata": {},
     "output_type": "execute_result"
    }
   ],
   "source": [
    "x_tr.shape, x_te.shape"
   ]
  },
  {
   "cell_type": "markdown",
   "metadata": {},
   "source": [
    "# Original 모델사용\n",
    "\n",
    "** 앞서 확인한 결과에서 Original 모델이 가장 높은 성능을 보였기에 사용하기로 정함."
   ]
  },
  {
   "cell_type": "code",
   "execution_count": 76,
   "metadata": {
    "id": "WC6AZQlgIZkx"
   },
   "outputs": [
    {
     "name": "stdout",
     "output_type": "stream",
     "text": [
      "Model: \"model\"\n",
      "_________________________________________________________________\n",
      " Layer (type)                Output Shape              Param #   \n",
      "=================================================================\n",
      " input_1 (InputLayer)        [(None, 44)]              0         \n",
      "                                                                 \n",
      " dense (Dense)               (None, 1)                 45        \n",
      "                                                                 \n",
      "=================================================================\n",
      "Total params: 45\n",
      "Trainable params: 45\n",
      "Non-trainable params: 0\n",
      "_________________________________________________________________\n"
     ]
    }
   ],
   "source": [
    "# 1 세션 클리어 \n",
    "keras.backend.clear_session()\n",
    "\n",
    "# 2 모델 엮기 \n",
    "il = Input(shape=(44,))\n",
    "ol = Dense(1, activation='sigmoid')(il)\n",
    "\n",
    "# 3 모델 시작 끝 선언\n",
    "model = Model(il, ol)\n",
    "\n",
    "# 4 컴파일 \n",
    "model.compile(loss=keras.losses.binary_crossentropy, metrics=['accuracy'], optimizer='adam')\n",
    "\n",
    "# 양념 \n",
    "model.summary()"
   ]
  },
  {
   "cell_type": "markdown",
   "metadata": {
    "id": "MWkg0Oogw5W5"
   },
   "source": [
    "### 모델 구조 시각화"
   ]
  },
  {
   "cell_type": "code",
   "execution_count": 77,
   "metadata": {
    "id": "yVf1ZIhWIbRe"
   },
   "outputs": [
    {
     "data": {
      "image/png": "[encoded data removed]",
      "text/plain": [
       "<IPython.core.display.Image object>"
      ]
     },
     "execution_count": 77,
     "metadata": {},
     "output_type": "execute_result"
    }
   ],
   "source": [
    "plot_model(model, show_shapes=True)"
   ]
  },
  {
   "cell_type": "markdown",
   "metadata": {
    "id": "fLnughPGxKr4"
   },
   "source": [
    "### 모델 학습"
   ]
  },
  {
   "cell_type": "code",
   "execution_count": 78,
   "metadata": {},
   "outputs": [],
   "source": [
    "# Earlystopping 값 설정 \n",
    "\n",
    "es = EarlyStopping(monitor='val_loss',\n",
    "                   min_delta=0, \n",
    "                   patience=30,\n",
    "                   verbose=1,\n",
    "                   restore_best_weights=True)"
   ]
  },
  {
   "cell_type": "code",
   "execution_count": 79,
   "metadata": {
    "id": "aXPOYO-jIf94"
   },
   "outputs": [
    {
     "name": "stdout",
     "output_type": "stream",
     "text": [
      "Epoch 1/300\n",
      "45/45 [==============================] - 1s 5ms/step - loss: 125.9892 - accuracy: 0.4769 - val_loss: 101.7763 - val_accuracy: 0.4325\n",
      "Epoch 2/300\n",
      "45/45 [==============================] - 0s 2ms/step - loss: 93.0608 - accuracy: 0.4489 - val_loss: 86.8944 - val_accuracy: 0.4365\n",
      "Epoch 3/300\n",
      "45/45 [==============================] - 0s 2ms/step - loss: 77.4039 - accuracy: 0.4426 - val_loss: 71.1766 - val_accuracy: 0.4286\n",
      "Epoch 4/300\n",
      "45/45 [==============================] - 0s 2ms/step - loss: 61.6868 - accuracy: 0.4447 - val_loss: 54.2594 - val_accuracy: 0.4484\n",
      "Epoch 5/300\n",
      "45/45 [==============================] - 0s 2ms/step - loss: 46.0015 - accuracy: 0.4524 - val_loss: 37.6386 - val_accuracy: 0.4286\n",
      "Epoch 6/300\n",
      "45/45 [==============================] - 0s 2ms/step - loss: 28.9461 - accuracy: 0.4524 - val_loss: 23.0051 - val_accuracy: 0.4325\n",
      "Epoch 7/300\n",
      "45/45 [==============================] - 0s 2ms/step - loss: 13.6525 - accuracy: 0.4580 - val_loss: 5.4710 - val_accuracy: 0.4722\n",
      "Epoch 8/300\n",
      "45/45 [==============================] - 0s 2ms/step - loss: 2.5442 - accuracy: 0.5707 - val_loss: 2.1781 - val_accuracy: 0.5992\n",
      "Epoch 9/300\n",
      "45/45 [==============================] - 0s 2ms/step - loss: 1.4932 - accuracy: 0.6254 - val_loss: 1.5488 - val_accuracy: 0.6230\n",
      "Epoch 10/300\n",
      "45/45 [==============================] - 0s 2ms/step - loss: 1.3583 - accuracy: 0.6380 - val_loss: 1.5600 - val_accuracy: 0.6389\n",
      "Epoch 11/300\n",
      "45/45 [==============================] - 0s 2ms/step - loss: 1.2455 - accuracy: 0.6513 - val_loss: 1.3542 - val_accuracy: 0.6071\n",
      "Epoch 12/300\n",
      "45/45 [==============================] - 0s 2ms/step - loss: 1.1258 - accuracy: 0.6443 - val_loss: 1.2516 - val_accuracy: 0.6548\n",
      "Epoch 13/300\n",
      "45/45 [==============================] - 0s 3ms/step - loss: 1.0308 - accuracy: 0.6618 - val_loss: 1.1479 - val_accuracy: 0.6587\n",
      "Epoch 14/300\n",
      "45/45 [==============================] - 0s 2ms/step - loss: 1.0114 - accuracy: 0.6604 - val_loss: 1.5330 - val_accuracy: 0.6270\n",
      "Epoch 15/300\n",
      "45/45 [==============================] - 0s 2ms/step - loss: 0.9751 - accuracy: 0.6611 - val_loss: 1.0489 - val_accuracy: 0.6786\n",
      "Epoch 16/300\n",
      "45/45 [==============================] - 0s 2ms/step - loss: 0.8524 - accuracy: 0.6807 - val_loss: 0.9579 - val_accuracy: 0.6865\n",
      "Epoch 17/300\n",
      "45/45 [==============================] - 0s 2ms/step - loss: 0.8108 - accuracy: 0.6856 - val_loss: 0.9068 - val_accuracy: 0.6865\n",
      "Epoch 18/300\n",
      "45/45 [==============================] - 0s 2ms/step - loss: 0.7474 - accuracy: 0.6989 - val_loss: 0.8580 - val_accuracy: 0.6944\n",
      "Epoch 19/300\n",
      "45/45 [==============================] - 0s 2ms/step - loss: 0.7739 - accuracy: 0.6870 - val_loss: 0.8006 - val_accuracy: 0.7183\n",
      "Epoch 20/300\n",
      "45/45 [==============================] - 0s 2ms/step - loss: 0.7660 - accuracy: 0.6898 - val_loss: 0.9650 - val_accuracy: 0.6905\n",
      "Epoch 21/300\n",
      "45/45 [==============================] - 0s 3ms/step - loss: 0.6605 - accuracy: 0.7059 - val_loss: 0.7369 - val_accuracy: 0.7222\n",
      "Epoch 22/300\n",
      "45/45 [==============================] - 0s 2ms/step - loss: 0.6764 - accuracy: 0.7262 - val_loss: 0.7931 - val_accuracy: 0.7460\n",
      "Epoch 23/300\n",
      "45/45 [==============================] - 0s 2ms/step - loss: 0.5940 - accuracy: 0.7416 - val_loss: 0.6973 - val_accuracy: 0.7659\n",
      "Epoch 24/300\n",
      "45/45 [==============================] - 0s 2ms/step - loss: 0.5450 - accuracy: 0.7675 - val_loss: 0.8421 - val_accuracy: 0.6667\n",
      "Epoch 25/300\n",
      "45/45 [==============================] - 0s 2ms/step - loss: 0.6104 - accuracy: 0.7346 - val_loss: 0.6837 - val_accuracy: 0.7262\n",
      "Epoch 26/300\n",
      "45/45 [==============================] - 0s 2ms/step - loss: 0.5880 - accuracy: 0.7409 - val_loss: 0.6198 - val_accuracy: 0.7937\n",
      "Epoch 27/300\n",
      "45/45 [==============================] - 0s 2ms/step - loss: 0.5204 - accuracy: 0.7738 - val_loss: 0.6033 - val_accuracy: 0.7698\n",
      "Epoch 28/300\n",
      "45/45 [==============================] - 0s 2ms/step - loss: 0.5286 - accuracy: 0.7626 - val_loss: 0.8016 - val_accuracy: 0.6587\n",
      "Epoch 29/300\n",
      "45/45 [==============================] - 0s 2ms/step - loss: 0.5671 - accuracy: 0.7654 - val_loss: 0.9172 - val_accuracy: 0.6111\n",
      "Epoch 30/300\n",
      "45/45 [==============================] - 0s 2ms/step - loss: 0.5744 - accuracy: 0.7465 - val_loss: 0.5344 - val_accuracy: 0.7976\n",
      "Epoch 31/300\n",
      "45/45 [==============================] - 0s 2ms/step - loss: 0.5461 - accuracy: 0.7577 - val_loss: 0.5526 - val_accuracy: 0.7698\n",
      "Epoch 32/300\n",
      "45/45 [==============================] - 0s 2ms/step - loss: 0.4746 - accuracy: 0.7941 - val_loss: 0.5208 - val_accuracy: 0.8373\n",
      "Epoch 33/300\n",
      "45/45 [==============================] - 0s 2ms/step - loss: 0.4747 - accuracy: 0.7976 - val_loss: 0.6009 - val_accuracy: 0.7183\n",
      "Epoch 34/300\n",
      "45/45 [==============================] - 0s 2ms/step - loss: 0.4955 - accuracy: 0.7990 - val_loss: 0.5328 - val_accuracy: 0.8175\n",
      "Epoch 35/300\n",
      "45/45 [==============================] - 0s 2ms/step - loss: 0.5454 - accuracy: 0.7598 - val_loss: 0.5339 - val_accuracy: 0.8333\n",
      "Epoch 36/300\n",
      "45/45 [==============================] - 0s 2ms/step - loss: 0.4633 - accuracy: 0.8088 - val_loss: 0.6776 - val_accuracy: 0.7460\n",
      "Epoch 37/300\n",
      "45/45 [==============================] - 0s 2ms/step - loss: 0.4466 - accuracy: 0.8144 - val_loss: 0.5361 - val_accuracy: 0.8254\n",
      "Epoch 38/300\n",
      "45/45 [==============================] - 0s 2ms/step - loss: 0.4487 - accuracy: 0.7948 - val_loss: 0.4973 - val_accuracy: 0.7698\n",
      "Epoch 39/300\n",
      "45/45 [==============================] - 0s 2ms/step - loss: 0.4504 - accuracy: 0.8116 - val_loss: 0.5396 - val_accuracy: 0.8175\n",
      "Epoch 40/300\n",
      "45/45 [==============================] - 0s 2ms/step - loss: 0.4234 - accuracy: 0.8186 - val_loss: 0.5724 - val_accuracy: 0.7143\n",
      "Epoch 41/300\n",
      "45/45 [==============================] - 0s 2ms/step - loss: 0.4298 - accuracy: 0.8158 - val_loss: 0.4265 - val_accuracy: 0.8373\n",
      "Epoch 42/300\n",
      "45/45 [==============================] - 0s 2ms/step - loss: 0.4301 - accuracy: 0.8172 - val_loss: 0.4485 - val_accuracy: 0.8571\n",
      "Epoch 43/300\n",
      "45/45 [==============================] - 0s 2ms/step - loss: 0.4345 - accuracy: 0.8151 - val_loss: 0.4146 - val_accuracy: 0.8611\n",
      "Epoch 44/300\n",
      "45/45 [==============================] - 0s 2ms/step - loss: 0.3984 - accuracy: 0.8375 - val_loss: 0.4269 - val_accuracy: 0.8016\n",
      "Epoch 45/300\n",
      "45/45 [==============================] - 0s 2ms/step - loss: 0.4873 - accuracy: 0.7892 - val_loss: 0.5428 - val_accuracy: 0.8135\n",
      "Epoch 46/300\n",
      "45/45 [==============================] - 0s 3ms/step - loss: 0.5739 - accuracy: 0.7717 - val_loss: 0.5180 - val_accuracy: 0.8016\n",
      "Epoch 47/300\n",
      "45/45 [==============================] - 0s 2ms/step - loss: 0.4262 - accuracy: 0.8158 - val_loss: 0.5049 - val_accuracy: 0.8452\n",
      "Epoch 48/300\n",
      "45/45 [==============================] - 0s 2ms/step - loss: 0.4091 - accuracy: 0.8214 - val_loss: 0.3976 - val_accuracy: 0.8333\n",
      "Epoch 49/300\n",
      "45/45 [==============================] - 0s 2ms/step - loss: 0.5021 - accuracy: 0.7703 - val_loss: 0.4234 - val_accuracy: 0.8730\n",
      "Epoch 50/300\n",
      "45/45 [==============================] - 0s 2ms/step - loss: 0.3985 - accuracy: 0.8270 - val_loss: 0.4482 - val_accuracy: 0.7937\n",
      "Epoch 51/300\n",
      "45/45 [==============================] - 0s 2ms/step - loss: 0.3577 - accuracy: 0.8494 - val_loss: 0.3801 - val_accuracy: 0.8690\n",
      "Epoch 52/300\n",
      "45/45 [==============================] - 0s 2ms/step - loss: 0.3727 - accuracy: 0.8438 - val_loss: 0.4084 - val_accuracy: 0.8730\n",
      "Epoch 53/300\n",
      "45/45 [==============================] - 0s 2ms/step - loss: 0.4019 - accuracy: 0.8410 - val_loss: 0.7693 - val_accuracy: 0.6349\n",
      "Epoch 54/300\n",
      "45/45 [==============================] - 0s 2ms/step - loss: 0.5693 - accuracy: 0.7794 - val_loss: 0.4845 - val_accuracy: 0.8532\n",
      "Epoch 55/300\n",
      "45/45 [==============================] - 0s 2ms/step - loss: 0.4079 - accuracy: 0.8291 - val_loss: 0.6511 - val_accuracy: 0.6706\n",
      "Epoch 56/300\n",
      "45/45 [==============================] - 0s 2ms/step - loss: 0.4231 - accuracy: 0.8158 - val_loss: 0.3957 - val_accuracy: 0.8095\n",
      "Epoch 57/300\n",
      "45/45 [==============================] - 0s 2ms/step - loss: 0.4700 - accuracy: 0.7906 - val_loss: 0.3743 - val_accuracy: 0.8810\n",
      "Epoch 58/300\n",
      "45/45 [==============================] - 0s 2ms/step - loss: 0.4065 - accuracy: 0.8305 - val_loss: 0.4392 - val_accuracy: 0.8690\n",
      "Epoch 59/300\n",
      "45/45 [==============================] - 0s 2ms/step - loss: 0.3530 - accuracy: 0.8501 - val_loss: 0.3737 - val_accuracy: 0.8492\n",
      "Epoch 60/300\n",
      "45/45 [==============================] - 0s 2ms/step - loss: 0.3596 - accuracy: 0.8487 - val_loss: 0.4450 - val_accuracy: 0.8532\n",
      "Epoch 61/300\n",
      "45/45 [==============================] - 0s 2ms/step - loss: 0.3470 - accuracy: 0.8606 - val_loss: 0.5249 - val_accuracy: 0.8214\n",
      "Epoch 62/300\n",
      "45/45 [==============================] - 0s 2ms/step - loss: 0.4581 - accuracy: 0.7990 - val_loss: 0.5876 - val_accuracy: 0.6944\n",
      "Epoch 63/300\n",
      "45/45 [==============================] - 0s 2ms/step - loss: 0.3851 - accuracy: 0.8389 - val_loss: 0.3728 - val_accuracy: 0.8373\n",
      "Epoch 64/300\n",
      "45/45 [==============================] - 0s 2ms/step - loss: 0.3368 - accuracy: 0.8627 - val_loss: 0.3377 - val_accuracy: 0.8889\n",
      "Epoch 65/300\n",
      "45/45 [==============================] - 0s 2ms/step - loss: 0.3935 - accuracy: 0.8256 - val_loss: 0.4094 - val_accuracy: 0.8651\n",
      "Epoch 66/300\n",
      "45/45 [==============================] - 0s 2ms/step - loss: 0.3576 - accuracy: 0.8515 - val_loss: 0.3381 - val_accuracy: 0.8730\n",
      "Epoch 67/300\n",
      "45/45 [==============================] - 0s 2ms/step - loss: 0.3330 - accuracy: 0.8606 - val_loss: 0.3588 - val_accuracy: 0.8571\n",
      "Epoch 68/300\n",
      "45/45 [==============================] - 0s 2ms/step - loss: 0.3554 - accuracy: 0.8473 - val_loss: 0.3317 - val_accuracy: 0.9048\n",
      "Epoch 69/300\n",
      "45/45 [==============================] - 0s 3ms/step - loss: 0.3284 - accuracy: 0.8697 - val_loss: 0.3420 - val_accuracy: 0.8571\n",
      "Epoch 70/300\n",
      "45/45 [==============================] - 0s 2ms/step - loss: 0.3656 - accuracy: 0.8354 - val_loss: 0.4986 - val_accuracy: 0.7460\n",
      "Epoch 71/300\n",
      "45/45 [==============================] - 0s 3ms/step - loss: 0.3750 - accuracy: 0.8340 - val_loss: 0.3245 - val_accuracy: 0.8810\n",
      "Epoch 72/300\n",
      "45/45 [==============================] - 0s 2ms/step - loss: 0.3111 - accuracy: 0.8789 - val_loss: 0.3209 - val_accuracy: 0.8889\n",
      "Epoch 73/300\n",
      "45/45 [==============================] - 0s 2ms/step - loss: 0.3128 - accuracy: 0.8718 - val_loss: 0.3276 - val_accuracy: 0.9127\n",
      "Epoch 74/300\n",
      "45/45 [==============================] - 0s 2ms/step - loss: 0.3527 - accuracy: 0.8494 - val_loss: 0.4142 - val_accuracy: 0.8611\n",
      "Epoch 75/300\n",
      "45/45 [==============================] - 0s 2ms/step - loss: 0.3417 - accuracy: 0.8585 - val_loss: 0.3509 - val_accuracy: 0.8413\n",
      "Epoch 76/300\n",
      "45/45 [==============================] - 0s 2ms/step - loss: 0.3351 - accuracy: 0.8655 - val_loss: 0.3171 - val_accuracy: 0.8929\n",
      "Epoch 77/300\n",
      "45/45 [==============================] - 0s 2ms/step - loss: 0.3128 - accuracy: 0.8803 - val_loss: 0.3505 - val_accuracy: 0.8413\n",
      "Epoch 78/300\n",
      "45/45 [==============================] - 0s 2ms/step - loss: 0.3235 - accuracy: 0.8599 - val_loss: 0.3373 - val_accuracy: 0.8611\n",
      "Epoch 79/300\n",
      "45/45 [==============================] - 0s 2ms/step - loss: 0.4118 - accuracy: 0.8193 - val_loss: 0.3485 - val_accuracy: 0.8571\n",
      "Epoch 80/300\n",
      "45/45 [==============================] - 0s 2ms/step - loss: 0.3606 - accuracy: 0.8480 - val_loss: 0.7723 - val_accuracy: 0.7381\n",
      "Epoch 81/300\n",
      "45/45 [==============================] - 0s 2ms/step - loss: 0.4252 - accuracy: 0.8193 - val_loss: 0.3193 - val_accuracy: 0.8849\n",
      "Epoch 82/300\n",
      "45/45 [==============================] - 0s 2ms/step - loss: 0.3113 - accuracy: 0.8754 - val_loss: 0.3236 - val_accuracy: 0.8889\n",
      "Epoch 83/300\n",
      "45/45 [==============================] - 0s 2ms/step - loss: 0.3211 - accuracy: 0.8704 - val_loss: 0.3246 - val_accuracy: 0.8770\n",
      "Epoch 84/300\n",
      "45/45 [==============================] - 0s 2ms/step - loss: 0.3119 - accuracy: 0.8697 - val_loss: 0.3149 - val_accuracy: 0.9048\n",
      "Epoch 85/300\n",
      "45/45 [==============================] - 0s 2ms/step - loss: 0.3711 - accuracy: 0.8375 - val_loss: 0.3578 - val_accuracy: 0.8770\n",
      "Epoch 86/300\n",
      "45/45 [==============================] - 0s 3ms/step - loss: 0.3362 - accuracy: 0.8613 - val_loss: 0.3067 - val_accuracy: 0.8968\n",
      "Epoch 87/300\n",
      "45/45 [==============================] - 0s 2ms/step - loss: 0.3157 - accuracy: 0.8775 - val_loss: 0.3273 - val_accuracy: 0.9008\n",
      "Epoch 88/300\n",
      "45/45 [==============================] - 0s 2ms/step - loss: 0.3631 - accuracy: 0.8396 - val_loss: 0.3042 - val_accuracy: 0.8889\n",
      "Epoch 89/300\n",
      "45/45 [==============================] - 0s 3ms/step - loss: 0.3638 - accuracy: 0.8312 - val_loss: 0.3003 - val_accuracy: 0.9048\n",
      "Epoch 90/300\n",
      "45/45 [==============================] - 0s 2ms/step - loss: 0.3130 - accuracy: 0.8683 - val_loss: 0.3079 - val_accuracy: 0.8889\n",
      "Epoch 91/300\n",
      "45/45 [==============================] - 0s 2ms/step - loss: 0.3134 - accuracy: 0.8676 - val_loss: 0.3723 - val_accuracy: 0.8810\n",
      "Epoch 92/300\n",
      "45/45 [==============================] - 0s 2ms/step - loss: 0.3091 - accuracy: 0.8746 - val_loss: 0.2974 - val_accuracy: 0.9087\n",
      "Epoch 93/300\n",
      "45/45 [==============================] - 0s 2ms/step - loss: 0.3259 - accuracy: 0.8662 - val_loss: 0.3331 - val_accuracy: 0.8452\n",
      "Epoch 94/300\n",
      "45/45 [==============================] - 0s 2ms/step - loss: 0.3801 - accuracy: 0.8431 - val_loss: 0.3409 - val_accuracy: 0.8968\n",
      "Epoch 95/300\n",
      "45/45 [==============================] - 0s 2ms/step - loss: 0.3734 - accuracy: 0.8445 - val_loss: 0.3741 - val_accuracy: 0.8016\n",
      "Epoch 96/300\n",
      "45/45 [==============================] - 0s 2ms/step - loss: 0.4425 - accuracy: 0.8228 - val_loss: 0.4241 - val_accuracy: 0.8770\n",
      "Epoch 97/300\n",
      "45/45 [==============================] - 0s 3ms/step - loss: 0.3275 - accuracy: 0.8599 - val_loss: 0.2917 - val_accuracy: 0.9087\n",
      "Epoch 98/300\n",
      "45/45 [==============================] - 0s 2ms/step - loss: 0.3016 - accuracy: 0.8761 - val_loss: 0.3342 - val_accuracy: 0.8492\n",
      "Epoch 99/300\n",
      "45/45 [==============================] - 0s 2ms/step - loss: 0.3169 - accuracy: 0.8627 - val_loss: 0.3021 - val_accuracy: 0.8929\n",
      "Epoch 100/300\n",
      "45/45 [==============================] - 0s 3ms/step - loss: 0.3122 - accuracy: 0.8648 - val_loss: 0.3579 - val_accuracy: 0.8810\n",
      "Epoch 101/300\n",
      "45/45 [==============================] - 0s 2ms/step - loss: 0.3022 - accuracy: 0.8789 - val_loss: 0.3813 - val_accuracy: 0.8135\n",
      "Epoch 102/300\n",
      "45/45 [==============================] - 0s 2ms/step - loss: 0.2894 - accuracy: 0.8873 - val_loss: 0.2918 - val_accuracy: 0.9127\n",
      "Epoch 103/300\n",
      "45/45 [==============================] - 0s 2ms/step - loss: 0.2965 - accuracy: 0.8803 - val_loss: 0.3184 - val_accuracy: 0.8968\n",
      "Epoch 104/300\n",
      "45/45 [==============================] - 0s 2ms/step - loss: 0.3232 - accuracy: 0.8725 - val_loss: 0.3297 - val_accuracy: 0.8492\n",
      "Epoch 105/300\n",
      "45/45 [==============================] - 0s 2ms/step - loss: 0.3052 - accuracy: 0.8754 - val_loss: 0.2907 - val_accuracy: 0.8929\n",
      "Epoch 106/300\n",
      "45/45 [==============================] - 0s 2ms/step - loss: 0.4557 - accuracy: 0.8270 - val_loss: 0.5803 - val_accuracy: 0.8373\n",
      "Epoch 107/300\n",
      "45/45 [==============================] - 0s 2ms/step - loss: 0.5005 - accuracy: 0.7892 - val_loss: 0.5675 - val_accuracy: 0.8095\n",
      "Epoch 108/300\n",
      "45/45 [==============================] - 0s 2ms/step - loss: 0.3459 - accuracy: 0.8557 - val_loss: 0.3397 - val_accuracy: 0.8849\n",
      "Epoch 109/300\n",
      "45/45 [==============================] - 0s 2ms/step - loss: 0.2980 - accuracy: 0.8761 - val_loss: 0.3146 - val_accuracy: 0.8889\n",
      "Epoch 110/300\n",
      "45/45 [==============================] - 0s 2ms/step - loss: 0.3227 - accuracy: 0.8599 - val_loss: 0.3392 - val_accuracy: 0.8532\n",
      "Epoch 111/300\n",
      "45/45 [==============================] - 0s 2ms/step - loss: 0.3028 - accuracy: 0.8739 - val_loss: 0.4363 - val_accuracy: 0.7738\n",
      "Epoch 112/300\n",
      "45/45 [==============================] - 0s 2ms/step - loss: 0.3792 - accuracy: 0.8466 - val_loss: 0.4572 - val_accuracy: 0.8651\n",
      "Epoch 113/300\n",
      "45/45 [==============================] - 0s 2ms/step - loss: 0.3403 - accuracy: 0.8494 - val_loss: 0.6496 - val_accuracy: 0.7857\n",
      "Epoch 114/300\n",
      "45/45 [==============================] - 0s 2ms/step - loss: 0.3542 - accuracy: 0.8543 - val_loss: 0.2804 - val_accuracy: 0.9087\n",
      "Epoch 115/300\n",
      "45/45 [==============================] - 0s 2ms/step - loss: 0.2853 - accuracy: 0.8873 - val_loss: 0.2850 - val_accuracy: 0.8968\n"
     ]
    },
    {
     "name": "stdout",
     "output_type": "stream",
     "text": [
      "Epoch 116/300\n",
      "45/45 [==============================] - 0s 2ms/step - loss: 0.3265 - accuracy: 0.8599 - val_loss: 0.3629 - val_accuracy: 0.8810\n",
      "Epoch 117/300\n",
      "45/45 [==============================] - 0s 2ms/step - loss: 0.3121 - accuracy: 0.8725 - val_loss: 0.4283 - val_accuracy: 0.7738\n",
      "Epoch 118/300\n",
      "45/45 [==============================] - 0s 2ms/step - loss: 0.3608 - accuracy: 0.8522 - val_loss: 0.3029 - val_accuracy: 0.8770\n",
      "Epoch 119/300\n",
      "45/45 [==============================] - 0s 2ms/step - loss: 0.3023 - accuracy: 0.8761 - val_loss: 0.2838 - val_accuracy: 0.9167\n",
      "Epoch 120/300\n",
      "45/45 [==============================] - 0s 2ms/step - loss: 0.2874 - accuracy: 0.8845 - val_loss: 0.3148 - val_accuracy: 0.8611\n",
      "Epoch 121/300\n",
      "45/45 [==============================] - 0s 2ms/step - loss: 0.3416 - accuracy: 0.8536 - val_loss: 0.5231 - val_accuracy: 0.8254\n",
      "Epoch 122/300\n",
      "45/45 [==============================] - 0s 2ms/step - loss: 0.3701 - accuracy: 0.8473 - val_loss: 0.2832 - val_accuracy: 0.9206\n",
      "Epoch 123/300\n",
      "45/45 [==============================] - 0s 2ms/step - loss: 0.3008 - accuracy: 0.8796 - val_loss: 0.2921 - val_accuracy: 0.8929\n",
      "Epoch 124/300\n",
      "45/45 [==============================] - 0s 2ms/step - loss: 0.3908 - accuracy: 0.8305 - val_loss: 0.3811 - val_accuracy: 0.8849\n",
      "Epoch 125/300\n",
      "45/45 [==============================] - 0s 2ms/step - loss: 0.3097 - accuracy: 0.8662 - val_loss: 0.3354 - val_accuracy: 0.8889\n",
      "Epoch 126/300\n",
      "45/45 [==============================] - 0s 2ms/step - loss: 0.5347 - accuracy: 0.7885 - val_loss: 0.2772 - val_accuracy: 0.9087\n",
      "Epoch 127/300\n",
      "45/45 [==============================] - 0s 2ms/step - loss: 0.2980 - accuracy: 0.8796 - val_loss: 0.3091 - val_accuracy: 0.8889\n",
      "Epoch 128/300\n",
      "45/45 [==============================] - 0s 2ms/step - loss: 0.2888 - accuracy: 0.8859 - val_loss: 0.2859 - val_accuracy: 0.9127\n",
      "Epoch 129/300\n",
      "45/45 [==============================] - 0s 2ms/step - loss: 0.3542 - accuracy: 0.8585 - val_loss: 0.3442 - val_accuracy: 0.8929\n",
      "Epoch 130/300\n",
      "45/45 [==============================] - 0s 2ms/step - loss: 0.3726 - accuracy: 0.8368 - val_loss: 0.2797 - val_accuracy: 0.9127\n",
      "Epoch 131/300\n",
      "45/45 [==============================] - 0s 2ms/step - loss: 0.3453 - accuracy: 0.8599 - val_loss: 0.3874 - val_accuracy: 0.8849\n",
      "Epoch 132/300\n",
      "45/45 [==============================] - 0s 2ms/step - loss: 0.2943 - accuracy: 0.8761 - val_loss: 0.3805 - val_accuracy: 0.8333\n",
      "Epoch 133/300\n",
      "45/45 [==============================] - 0s 2ms/step - loss: 0.3004 - accuracy: 0.8739 - val_loss: 0.3188 - val_accuracy: 0.8929\n",
      "Epoch 134/300\n",
      "45/45 [==============================] - 0s 2ms/step - loss: 0.2864 - accuracy: 0.8838 - val_loss: 0.2850 - val_accuracy: 0.9087\n",
      "Epoch 135/300\n",
      "45/45 [==============================] - 0s 2ms/step - loss: 0.3036 - accuracy: 0.8732 - val_loss: 0.2821 - val_accuracy: 0.9048\n",
      "Epoch 136/300\n",
      "45/45 [==============================] - 0s 2ms/step - loss: 0.3035 - accuracy: 0.8789 - val_loss: 0.2820 - val_accuracy: 0.8929\n",
      "Epoch 137/300\n",
      "45/45 [==============================] - 0s 2ms/step - loss: 0.3376 - accuracy: 0.8592 - val_loss: 0.3133 - val_accuracy: 0.9008\n",
      "Epoch 138/300\n",
      "45/45 [==============================] - 0s 2ms/step - loss: 0.2741 - accuracy: 0.8922 - val_loss: 0.2733 - val_accuracy: 0.9127\n",
      "Epoch 139/300\n",
      "45/45 [==============================] - 0s 2ms/step - loss: 0.3314 - accuracy: 0.8550 - val_loss: 0.4042 - val_accuracy: 0.8571\n",
      "Epoch 140/300\n",
      "45/45 [==============================] - 0s 2ms/step - loss: 0.3016 - accuracy: 0.8782 - val_loss: 0.3821 - val_accuracy: 0.8611\n",
      "Epoch 141/300\n",
      "45/45 [==============================] - 0s 2ms/step - loss: 0.3287 - accuracy: 0.8627 - val_loss: 0.3824 - val_accuracy: 0.8254\n",
      "Epoch 142/300\n",
      "45/45 [==============================] - 0s 2ms/step - loss: 0.2732 - accuracy: 0.8887 - val_loss: 0.2774 - val_accuracy: 0.9008\n",
      "Epoch 143/300\n",
      "45/45 [==============================] - 0s 2ms/step - loss: 0.3335 - accuracy: 0.8529 - val_loss: 0.5711 - val_accuracy: 0.8175\n",
      "Epoch 144/300\n",
      "45/45 [==============================] - 0s 2ms/step - loss: 0.3109 - accuracy: 0.8697 - val_loss: 0.3400 - val_accuracy: 0.8532\n",
      "Epoch 145/300\n",
      "45/45 [==============================] - 0s 2ms/step - loss: 0.2832 - accuracy: 0.8866 - val_loss: 0.2870 - val_accuracy: 0.9048\n",
      "Epoch 146/300\n",
      "45/45 [==============================] - 0s 2ms/step - loss: 0.3093 - accuracy: 0.8732 - val_loss: 0.3138 - val_accuracy: 0.9048\n",
      "Epoch 147/300\n",
      "45/45 [==============================] - 0s 3ms/step - loss: 0.2789 - accuracy: 0.8894 - val_loss: 0.2859 - val_accuracy: 0.8929\n",
      "Epoch 148/300\n",
      "45/45 [==============================] - 0s 2ms/step - loss: 0.4446 - accuracy: 0.8263 - val_loss: 0.2922 - val_accuracy: 0.9008\n",
      "Epoch 149/300\n",
      "45/45 [==============================] - 0s 2ms/step - loss: 0.3215 - accuracy: 0.8683 - val_loss: 0.2850 - val_accuracy: 0.9008\n",
      "Epoch 150/300\n",
      "45/45 [==============================] - 0s 2ms/step - loss: 0.3112 - accuracy: 0.8676 - val_loss: 0.2936 - val_accuracy: 0.9048\n",
      "Epoch 151/300\n",
      "45/45 [==============================] - 0s 2ms/step - loss: 0.4829 - accuracy: 0.8151 - val_loss: 0.4827 - val_accuracy: 0.7460\n",
      "Epoch 152/300\n",
      "45/45 [==============================] - 0s 2ms/step - loss: 0.3841 - accuracy: 0.8354 - val_loss: 0.5302 - val_accuracy: 0.8294\n",
      "Epoch 153/300\n",
      "45/45 [==============================] - 0s 2ms/step - loss: 0.3037 - accuracy: 0.8789 - val_loss: 0.3065 - val_accuracy: 0.8730\n",
      "Epoch 154/300\n",
      "45/45 [==============================] - 0s 2ms/step - loss: 0.3497 - accuracy: 0.8515 - val_loss: 0.2727 - val_accuracy: 0.9127\n",
      "Epoch 155/300\n",
      "45/45 [==============================] - 0s 2ms/step - loss: 0.2804 - accuracy: 0.8901 - val_loss: 0.4532 - val_accuracy: 0.7778\n",
      "Epoch 156/300\n",
      "45/45 [==============================] - 0s 2ms/step - loss: 0.3566 - accuracy: 0.8501 - val_loss: 0.7149 - val_accuracy: 0.6865\n",
      "Epoch 157/300\n",
      "45/45 [==============================] - 0s 2ms/step - loss: 0.3360 - accuracy: 0.8606 - val_loss: 0.3102 - val_accuracy: 0.8690\n",
      "Epoch 158/300\n",
      "45/45 [==============================] - 0s 2ms/step - loss: 0.3065 - accuracy: 0.8732 - val_loss: 0.3880 - val_accuracy: 0.8651\n",
      "Epoch 159/300\n",
      "45/45 [==============================] - 0s 2ms/step - loss: 0.3642 - accuracy: 0.8494 - val_loss: 0.3017 - val_accuracy: 0.8770\n",
      "Epoch 160/300\n",
      "45/45 [==============================] - 0s 2ms/step - loss: 0.3901 - accuracy: 0.8508 - val_loss: 0.2771 - val_accuracy: 0.9167\n",
      "Epoch 161/300\n",
      "45/45 [==============================] - 0s 2ms/step - loss: 0.3148 - accuracy: 0.8775 - val_loss: 0.3308 - val_accuracy: 0.8452\n",
      "Epoch 162/300\n",
      "45/45 [==============================] - 0s 2ms/step - loss: 0.3477 - accuracy: 0.8634 - val_loss: 0.3198 - val_accuracy: 0.8929\n",
      "Epoch 163/300\n",
      "45/45 [==============================] - 0s 3ms/step - loss: 0.3210 - accuracy: 0.8669 - val_loss: 0.3404 - val_accuracy: 0.8968\n",
      "Epoch 164/300\n",
      "45/45 [==============================] - 0s 2ms/step - loss: 0.2970 - accuracy: 0.8789 - val_loss: 0.3549 - val_accuracy: 0.8333\n",
      "Epoch 165/300\n",
      "45/45 [==============================] - 0s 2ms/step - loss: 0.3835 - accuracy: 0.8459 - val_loss: 0.3938 - val_accuracy: 0.7897\n",
      "Epoch 166/300\n",
      "45/45 [==============================] - 0s 2ms/step - loss: 0.3762 - accuracy: 0.8480 - val_loss: 0.5602 - val_accuracy: 0.7183\n",
      "Epoch 167/300\n",
      "45/45 [==============================] - 0s 2ms/step - loss: 0.3416 - accuracy: 0.8641 - val_loss: 0.8579 - val_accuracy: 0.6587\n",
      "Epoch 168/300\n",
      "45/45 [==============================] - 0s 2ms/step - loss: 0.4006 - accuracy: 0.8305 - val_loss: 0.2696 - val_accuracy: 0.9087\n",
      "Epoch 169/300\n",
      "45/45 [==============================] - 0s 2ms/step - loss: 0.2986 - accuracy: 0.8739 - val_loss: 0.2748 - val_accuracy: 0.9206\n",
      "Epoch 170/300\n",
      "45/45 [==============================] - 0s 2ms/step - loss: 0.2956 - accuracy: 0.8796 - val_loss: 0.3004 - val_accuracy: 0.8690\n",
      "Epoch 171/300\n",
      "45/45 [==============================] - 0s 2ms/step - loss: 0.2899 - accuracy: 0.8775 - val_loss: 0.2852 - val_accuracy: 0.8889\n",
      "Epoch 172/300\n",
      "45/45 [==============================] - 0s 2ms/step - loss: 0.3150 - accuracy: 0.8718 - val_loss: 0.2767 - val_accuracy: 0.9087\n",
      "Epoch 173/300\n",
      "45/45 [==============================] - 0s 2ms/step - loss: 0.2710 - accuracy: 0.8901 - val_loss: 0.4047 - val_accuracy: 0.8651\n",
      "Epoch 174/300\n",
      "45/45 [==============================] - 0s 2ms/step - loss: 0.3806 - accuracy: 0.8438 - val_loss: 0.2725 - val_accuracy: 0.9087\n",
      "Epoch 175/300\n",
      "45/45 [==============================] - 0s 2ms/step - loss: 0.3066 - accuracy: 0.8803 - val_loss: 0.3651 - val_accuracy: 0.8929\n",
      "Epoch 176/300\n",
      "45/45 [==============================] - 0s 2ms/step - loss: 0.2745 - accuracy: 0.8887 - val_loss: 0.2645 - val_accuracy: 0.9127\n",
      "Epoch 177/300\n",
      "45/45 [==============================] - 0s 2ms/step - loss: 0.3197 - accuracy: 0.8725 - val_loss: 0.2809 - val_accuracy: 0.9048\n",
      "Epoch 178/300\n",
      "45/45 [==============================] - 0s 2ms/step - loss: 0.2948 - accuracy: 0.8817 - val_loss: 0.4489 - val_accuracy: 0.7857\n",
      "Epoch 179/300\n",
      "45/45 [==============================] - 0s 2ms/step - loss: 0.3051 - accuracy: 0.8718 - val_loss: 0.2678 - val_accuracy: 0.9206\n",
      "Epoch 180/300\n",
      "45/45 [==============================] - 0s 2ms/step - loss: 0.3112 - accuracy: 0.8683 - val_loss: 0.3318 - val_accuracy: 0.8532\n",
      "Epoch 181/300\n",
      "45/45 [==============================] - 0s 2ms/step - loss: 0.2913 - accuracy: 0.8859 - val_loss: 0.3353 - val_accuracy: 0.8492\n",
      "Epoch 182/300\n",
      "45/45 [==============================] - 0s 2ms/step - loss: 0.2750 - accuracy: 0.8894 - val_loss: 0.2754 - val_accuracy: 0.8849\n",
      "Epoch 183/300\n",
      "45/45 [==============================] - 0s 2ms/step - loss: 0.2884 - accuracy: 0.8817 - val_loss: 0.2722 - val_accuracy: 0.9206\n",
      "Epoch 184/300\n",
      "45/45 [==============================] - 0s 2ms/step - loss: 0.2600 - accuracy: 0.8957 - val_loss: 0.2826 - val_accuracy: 0.8889\n",
      "Epoch 185/300\n",
      "45/45 [==============================] - 0s 2ms/step - loss: 0.2746 - accuracy: 0.8866 - val_loss: 0.2642 - val_accuracy: 0.9048\n",
      "Epoch 186/300\n",
      "45/45 [==============================] - 0s 2ms/step - loss: 0.3472 - accuracy: 0.8543 - val_loss: 0.2620 - val_accuracy: 0.9167\n",
      "Epoch 187/300\n",
      "45/45 [==============================] - 0s 2ms/step - loss: 0.2552 - accuracy: 0.9013 - val_loss: 0.2643 - val_accuracy: 0.9008\n",
      "Epoch 188/300\n",
      "45/45 [==============================] - 0s 2ms/step - loss: 0.2655 - accuracy: 0.8978 - val_loss: 0.3512 - val_accuracy: 0.8413\n",
      "Epoch 189/300\n",
      "45/45 [==============================] - 0s 3ms/step - loss: 0.3080 - accuracy: 0.8641 - val_loss: 0.2644 - val_accuracy: 0.9127\n",
      "Epoch 190/300\n",
      "45/45 [==============================] - 0s 2ms/step - loss: 0.3340 - accuracy: 0.8683 - val_loss: 0.3577 - val_accuracy: 0.8929\n",
      "Epoch 191/300\n",
      "45/45 [==============================] - 0s 2ms/step - loss: 0.3213 - accuracy: 0.8718 - val_loss: 0.2678 - val_accuracy: 0.9167\n",
      "Epoch 192/300\n",
      "45/45 [==============================] - 0s 2ms/step - loss: 0.2646 - accuracy: 0.8894 - val_loss: 0.2997 - val_accuracy: 0.8730\n",
      "Epoch 193/300\n",
      "45/45 [==============================] - 0s 2ms/step - loss: 0.3228 - accuracy: 0.8775 - val_loss: 0.3671 - val_accuracy: 0.8373\n",
      "Epoch 194/300\n",
      "45/45 [==============================] - 0s 2ms/step - loss: 0.2735 - accuracy: 0.8922 - val_loss: 0.2884 - val_accuracy: 0.9167\n",
      "Epoch 195/300\n",
      "45/45 [==============================] - 0s 2ms/step - loss: 0.4429 - accuracy: 0.8291 - val_loss: 0.2617 - val_accuracy: 0.9127\n",
      "Epoch 196/300\n",
      "45/45 [==============================] - 0s 2ms/step - loss: 0.3149 - accuracy: 0.8662 - val_loss: 0.2617 - val_accuracy: 0.9127\n",
      "Epoch 197/300\n",
      "45/45 [==============================] - 0s 2ms/step - loss: 0.2777 - accuracy: 0.8880 - val_loss: 0.3162 - val_accuracy: 0.9087\n",
      "Epoch 198/300\n",
      "45/45 [==============================] - 0s 2ms/step - loss: 0.2761 - accuracy: 0.8803 - val_loss: 0.2638 - val_accuracy: 0.9127\n",
      "Epoch 199/300\n",
      "45/45 [==============================] - 0s 2ms/step - loss: 0.2621 - accuracy: 0.8978 - val_loss: 0.2621 - val_accuracy: 0.9167\n",
      "Epoch 200/300\n",
      "45/45 [==============================] - 0s 2ms/step - loss: 0.2650 - accuracy: 0.8901 - val_loss: 0.2627 - val_accuracy: 0.9127\n",
      "Epoch 201/300\n",
      "45/45 [==============================] - 0s 2ms/step - loss: 0.2681 - accuracy: 0.8915 - val_loss: 0.2796 - val_accuracy: 0.9087\n",
      "Epoch 202/300\n",
      "45/45 [==============================] - 0s 2ms/step - loss: 0.2673 - accuracy: 0.8985 - val_loss: 0.2807 - val_accuracy: 0.9206\n",
      "Epoch 203/300\n",
      "45/45 [==============================] - 0s 3ms/step - loss: 0.2875 - accuracy: 0.8831 - val_loss: 0.3431 - val_accuracy: 0.8968\n",
      "Epoch 204/300\n",
      "45/45 [==============================] - 0s 2ms/step - loss: 0.3461 - accuracy: 0.8648 - val_loss: 0.3293 - val_accuracy: 0.9087\n",
      "Epoch 205/300\n",
      "45/45 [==============================] - 0s 2ms/step - loss: 0.5696 - accuracy: 0.7913 - val_loss: 0.3471 - val_accuracy: 0.8730\n",
      "Epoch 206/300\n",
      "45/45 [==============================] - 0s 2ms/step - loss: 0.3608 - accuracy: 0.8578 - val_loss: 0.3759 - val_accuracy: 0.8413\n",
      "Epoch 207/300\n",
      "45/45 [==============================] - 0s 2ms/step - loss: 0.3360 - accuracy: 0.8697 - val_loss: 0.4357 - val_accuracy: 0.7698\n",
      "Epoch 208/300\n",
      "45/45 [==============================] - 0s 2ms/step - loss: 0.3273 - accuracy: 0.8732 - val_loss: 0.2903 - val_accuracy: 0.9127\n",
      "Epoch 209/300\n",
      "45/45 [==============================] - 0s 2ms/step - loss: 0.3078 - accuracy: 0.8704 - val_loss: 0.2678 - val_accuracy: 0.9127\n",
      "Epoch 210/300\n",
      "45/45 [==============================] - 0s 2ms/step - loss: 0.2639 - accuracy: 0.8915 - val_loss: 0.2853 - val_accuracy: 0.9127\n",
      "Epoch 211/300\n",
      "45/45 [==============================] - 0s 2ms/step - loss: 0.2712 - accuracy: 0.8915 - val_loss: 0.2626 - val_accuracy: 0.9087\n",
      "Epoch 212/300\n",
      "45/45 [==============================] - 0s 2ms/step - loss: 0.3095 - accuracy: 0.8732 - val_loss: 0.2715 - val_accuracy: 0.9206\n",
      "Epoch 213/300\n",
      "45/45 [==============================] - 0s 2ms/step - loss: 0.2695 - accuracy: 0.8873 - val_loss: 0.3689 - val_accuracy: 0.8730\n",
      "Epoch 214/300\n",
      "45/45 [==============================] - 0s 2ms/step - loss: 0.2629 - accuracy: 0.8943 - val_loss: 0.4109 - val_accuracy: 0.8175\n",
      "Epoch 215/300\n",
      "45/45 [==============================] - 0s 2ms/step - loss: 0.3063 - accuracy: 0.8768 - val_loss: 0.3290 - val_accuracy: 0.9087\n",
      "Epoch 216/300\n",
      "45/45 [==============================] - 0s 2ms/step - loss: 0.2655 - accuracy: 0.8950 - val_loss: 0.2592 - val_accuracy: 0.9087\n",
      "Epoch 217/300\n",
      "45/45 [==============================] - 0s 2ms/step - loss: 0.3106 - accuracy: 0.8711 - val_loss: 0.3524 - val_accuracy: 0.8770\n",
      "Epoch 218/300\n",
      "45/45 [==============================] - 0s 2ms/step - loss: 0.6457 - accuracy: 0.7864 - val_loss: 0.3428 - val_accuracy: 0.8810\n",
      "Epoch 219/300\n",
      "45/45 [==============================] - 0s 2ms/step - loss: 0.2978 - accuracy: 0.8725 - val_loss: 0.2721 - val_accuracy: 0.8968\n",
      "Epoch 220/300\n",
      "45/45 [==============================] - 0s 2ms/step - loss: 0.2632 - accuracy: 0.8929 - val_loss: 0.2798 - val_accuracy: 0.9008\n",
      "Epoch 221/300\n",
      "45/45 [==============================] - 0s 2ms/step - loss: 0.2805 - accuracy: 0.8768 - val_loss: 0.3040 - val_accuracy: 0.9087\n",
      "Epoch 222/300\n",
      "45/45 [==============================] - 0s 2ms/step - loss: 0.2694 - accuracy: 0.8908 - val_loss: 0.3187 - val_accuracy: 0.8651\n",
      "Epoch 223/300\n",
      "45/45 [==============================] - 0s 2ms/step - loss: 0.3042 - accuracy: 0.8739 - val_loss: 0.2675 - val_accuracy: 0.9008\n",
      "Epoch 224/300\n",
      "45/45 [==============================] - 0s 2ms/step - loss: 0.2741 - accuracy: 0.8817 - val_loss: 0.6825 - val_accuracy: 0.7103\n",
      "Epoch 225/300\n",
      "45/45 [==============================] - 0s 2ms/step - loss: 0.3101 - accuracy: 0.8768 - val_loss: 0.3244 - val_accuracy: 0.8968\n",
      "Epoch 226/300\n",
      "45/45 [==============================] - 0s 2ms/step - loss: 0.2690 - accuracy: 0.8929 - val_loss: 0.2623 - val_accuracy: 0.9048\n",
      "Epoch 227/300\n",
      "45/45 [==============================] - 0s 2ms/step - loss: 0.2985 - accuracy: 0.8845 - val_loss: 0.2581 - val_accuracy: 0.9087\n",
      "Epoch 228/300\n",
      "45/45 [==============================] - 0s 2ms/step - loss: 0.2784 - accuracy: 0.8852 - val_loss: 0.2587 - val_accuracy: 0.9167\n",
      "Epoch 229/300\n",
      "45/45 [==============================] - 0s 3ms/step - loss: 0.2501 - accuracy: 0.9013 - val_loss: 0.2591 - val_accuracy: 0.9127\n",
      "Epoch 230/300\n"
     ]
    },
    {
     "name": "stdout",
     "output_type": "stream",
     "text": [
      "45/45 [==============================] - 0s 2ms/step - loss: 0.2696 - accuracy: 0.8845 - val_loss: 0.3016 - val_accuracy: 0.8651\n",
      "Epoch 231/300\n",
      "45/45 [==============================] - 0s 2ms/step - loss: 0.3002 - accuracy: 0.8704 - val_loss: 0.3088 - val_accuracy: 0.8690\n",
      "Epoch 232/300\n",
      "45/45 [==============================] - 0s 2ms/step - loss: 0.2898 - accuracy: 0.8845 - val_loss: 0.2683 - val_accuracy: 0.9087\n",
      "Epoch 233/300\n",
      "45/45 [==============================] - 0s 2ms/step - loss: 0.2662 - accuracy: 0.8908 - val_loss: 0.2972 - val_accuracy: 0.9127\n",
      "Epoch 234/300\n",
      "45/45 [==============================] - 0s 2ms/step - loss: 0.2507 - accuracy: 0.8992 - val_loss: 0.2614 - val_accuracy: 0.9206\n",
      "Epoch 235/300\n",
      "45/45 [==============================] - 0s 2ms/step - loss: 0.2503 - accuracy: 0.9020 - val_loss: 0.4233 - val_accuracy: 0.8016\n",
      "Epoch 236/300\n",
      "45/45 [==============================] - 0s 2ms/step - loss: 0.3630 - accuracy: 0.8536 - val_loss: 0.3998 - val_accuracy: 0.7937\n",
      "Epoch 237/300\n",
      "45/45 [==============================] - 0s 2ms/step - loss: 0.3083 - accuracy: 0.8739 - val_loss: 0.3032 - val_accuracy: 0.8968\n",
      "Epoch 238/300\n",
      "45/45 [==============================] - 0s 2ms/step - loss: 0.2789 - accuracy: 0.8922 - val_loss: 0.2652 - val_accuracy: 0.9008\n",
      "Epoch 239/300\n",
      "45/45 [==============================] - 0s 2ms/step - loss: 0.3528 - accuracy: 0.8648 - val_loss: 0.3970 - val_accuracy: 0.8651\n",
      "Epoch 240/300\n",
      "45/45 [==============================] - 0s 2ms/step - loss: 0.2623 - accuracy: 0.8894 - val_loss: 0.4192 - val_accuracy: 0.8690\n",
      "Epoch 241/300\n",
      "45/45 [==============================] - 0s 2ms/step - loss: 0.2961 - accuracy: 0.8803 - val_loss: 0.2612 - val_accuracy: 0.9048\n",
      "Epoch 242/300\n",
      "45/45 [==============================] - 0s 2ms/step - loss: 0.2965 - accuracy: 0.8746 - val_loss: 0.2609 - val_accuracy: 0.9008\n",
      "Epoch 243/300\n",
      "45/45 [==============================] - 0s 3ms/step - loss: 0.4666 - accuracy: 0.8277 - val_loss: 0.4375 - val_accuracy: 0.8016\n",
      "Epoch 244/300\n",
      "45/45 [==============================] - 0s 2ms/step - loss: 0.3086 - accuracy: 0.8796 - val_loss: 0.2969 - val_accuracy: 0.8730\n",
      "Epoch 245/300\n",
      "45/45 [==============================] - 0s 2ms/step - loss: 0.2893 - accuracy: 0.8732 - val_loss: 0.2632 - val_accuracy: 0.9127\n",
      "Epoch 246/300\n",
      "45/45 [==============================] - 0s 2ms/step - loss: 0.2758 - accuracy: 0.8908 - val_loss: 0.2710 - val_accuracy: 0.9048\n",
      "Epoch 247/300\n",
      "45/45 [==============================] - 0s 2ms/step - loss: 0.4221 - accuracy: 0.8543 - val_loss: 0.4455 - val_accuracy: 0.8810\n",
      "Epoch 248/300\n",
      "45/45 [==============================] - 0s 2ms/step - loss: 0.4429 - accuracy: 0.8375 - val_loss: 0.2930 - val_accuracy: 0.9008\n",
      "Epoch 249/300\n",
      "45/45 [==============================] - 0s 2ms/step - loss: 0.3319 - accuracy: 0.8676 - val_loss: 0.2766 - val_accuracy: 0.8849\n",
      "Epoch 250/300\n",
      "45/45 [==============================] - 0s 2ms/step - loss: 0.2771 - accuracy: 0.8859 - val_loss: 0.3662 - val_accuracy: 0.8929\n",
      "Epoch 251/300\n",
      "45/45 [==============================] - 0s 2ms/step - loss: 0.4028 - accuracy: 0.8515 - val_loss: 0.2927 - val_accuracy: 0.8690\n",
      "Epoch 252/300\n",
      "45/45 [==============================] - 0s 2ms/step - loss: 0.3148 - accuracy: 0.8824 - val_loss: 0.2660 - val_accuracy: 0.9127\n",
      "Epoch 253/300\n",
      "45/45 [==============================] - 0s 2ms/step - loss: 0.3143 - accuracy: 0.8711 - val_loss: 0.4094 - val_accuracy: 0.8651\n",
      "Epoch 254/300\n",
      "45/45 [==============================] - 0s 2ms/step - loss: 0.2891 - accuracy: 0.8859 - val_loss: 0.3479 - val_accuracy: 0.8968\n",
      "Epoch 255/300\n",
      "45/45 [==============================] - 0s 3ms/step - loss: 0.2855 - accuracy: 0.8852 - val_loss: 0.2601 - val_accuracy: 0.9167\n",
      "Epoch 256/300\n",
      "45/45 [==============================] - 0s 2ms/step - loss: 0.2834 - accuracy: 0.8789 - val_loss: 0.2772 - val_accuracy: 0.9206\n",
      "Epoch 257/300\n",
      "36/45 [=======================>......] - ETA: 0s - loss: 0.2553 - accuracy: 0.8932Restoring model weights from the end of the best epoch: 227.\n",
      "45/45 [==============================] - 0s 2ms/step - loss: 0.2564 - accuracy: 0.8929 - val_loss: 0.2940 - val_accuracy: 0.8690\n",
      "Epoch 257: early stopping\n"
     ]
    },
    {
     "data": {
      "text/plain": [
       "<keras.callbacks.History at 0x273d892dcd0>"
      ]
     },
     "execution_count": 79,
     "metadata": {},
     "output_type": "execute_result"
    }
   ],
   "source": [
    "# 모델 학습 - 학습 조건은 전부 동일하게 진행 \n",
    "model.fit(x_tr, y_tr, epochs=300, verbose=1, validation_split=0.15, callbacks=[es] )"
   ]
  },
  {
   "cell_type": "markdown",
   "metadata": {
    "id": "mpmzUPy81EU4"
   },
   "source": [
    "### 모델 예측"
   ]
  },
  {
   "cell_type": "code",
   "execution_count": 80,
   "metadata": {
    "id": "_vqttmIaIhOM"
   },
   "outputs": [
    {
     "data": {
      "text/plain": [
       "array([0.9974522 , 0.04976714, 0.64021325, 0.10748732, 0.7334446 ,\n",
       "       0.71856135, 0.0017961 , 0.08549806, 0.8360426 , 0.03774756,\n",
       "       0.6945177 ], dtype=float32)"
      ]
     },
     "execution_count": 80,
     "metadata": {},
     "output_type": "execute_result"
    }
   ],
   "source": [
    "# 예측하기 \n",
    "y_pre = model.predict(x_te)\n",
    "\n",
    "y_pre[:11].reshape(-1)"
   ]
  },
  {
   "cell_type": "code",
   "execution_count": 81,
   "metadata": {
    "id": "tyc-c9WqIhKP"
   },
   "outputs": [],
   "source": [
    "# 0과 1로 만들기 \n",
    "for idx, val in enumerate(y_pre) :\n",
    "    if y_pre[idx] >= 0.5 :\n",
    "        y_pre[idx] = 1\n",
    "    else :\n",
    "        y_pre[idx] = 0"
   ]
  },
  {
   "cell_type": "code",
   "execution_count": 82,
   "metadata": {},
   "outputs": [
    {
     "data": {
      "text/plain": [
       "array([1., 0., 1., 0., 1., 1., 0., 0., 1., 0., 1.], dtype=float32)"
      ]
     },
     "execution_count": 82,
     "metadata": {},
     "output_type": "execute_result"
    }
   ],
   "source": [
    "# 확인 \n",
    "y_pre[:11].reshape(-1)"
   ]
  },
  {
   "cell_type": "code",
   "execution_count": 83,
   "metadata": {
    "scrolled": false
   },
   "outputs": [
    {
     "data": {
      "text/plain": [
       "1397    1.0\n",
       "36      0.0\n",
       "1367    1.0\n",
       "86      0.0\n",
       "1971    1.0\n",
       "626     1.0\n",
       "39      0.0\n",
       "81      0.0\n",
       "2010    1.0\n",
       "837     0.0\n",
       "1324    1.0\n",
       "Name: Attrition, dtype: float64"
      ]
     },
     "execution_count": 83,
     "metadata": {},
     "output_type": "execute_result"
    }
   ],
   "source": [
    "# y_test 와 비교 \n",
    "\n",
    "y_te[:11]"
   ]
  },
  {
   "cell_type": "markdown",
   "metadata": {
    "id": "5hu2kSt06YhE"
   },
   "source": [
    "## 평가\n",
    "\n",
    "1. 모델의 정확도를 기재하시오.\n",
    "2. 이직이라 예측한 것 중 실제로 이직한 비율을 구하시오.\n",
    "3. 실제 이직 데이터 중 모델이 이직이라 예측한 것의 비율을 구하시오.\n",
    "4. 남는다고 예측한 것 중 실제로 남아있는 비율을 구하시오.."
   ]
  },
  {
   "cell_type": "code",
   "execution_count": 84,
   "metadata": {
    "scrolled": false
   },
   "outputs": [
    {
     "name": "stdout",
     "output_type": "stream",
     "text": [
      "14/14 [==============================] - 0s 2ms/step - loss: 0.2629 - accuracy: 0.9048\n",
      "----------------------------------------------------------------------------------------------------\n",
      "              precision    recall  f1-score   support\n",
      "\n",
      "         0.0       0.88      0.94      0.91       205\n",
      "         1.0       0.94      0.87      0.90       215\n",
      "\n",
      "    accuracy                           0.90       420\n",
      "   macro avg       0.91      0.91      0.90       420\n",
      "weighted avg       0.91      0.90      0.90       420\n",
      "\n"
     ]
    }
   ],
   "source": [
    "# 모델 성능 평가하기 \n",
    "from sklearn.metrics import classification_report, recall_score, precision_score, accuracy_score\n",
    "\n",
    "model.evaluate(x_te, y_te)\n",
    "print('-'*100)\n",
    "print(classification_report(y_te,y_pre))"
   ]
  },
  {
   "cell_type": "code",
   "execution_count": 87,
   "metadata": {
    "scrolled": true
   },
   "outputs": [
    {
     "data": {
      "text/plain": [
       "{'Locally_Connected_Model': [0.37037037037037035, 0.23255813953488372, 0.8],\n",
       " 'Hidden_Model': [1.0, 0.046511627906976744, 0.836],\n",
       " 'Origonal_Model': [0.7142857142857143, 0.46511627906976744, 0.876],\n",
       " 'Oversampling_Original_Model': [0.9353233830845771,\n",
       "  0.8744186046511628,\n",
       "  0.9047619047619048]}"
      ]
     },
     "execution_count": 87,
     "metadata": {},
     "output_type": "execute_result"
    }
   ],
   "source": [
    "# 성능정보 수집\n",
    "\n",
    "\n",
    "score['Oversampling_Original_Model'] =[precision_score(y_te, y_pre),\n",
    "                                       recall_score(y_te, y_pre),\n",
    "                                       accuracy_score(y_te, y_pre)]\n",
    "score"
   ]
  },
  {
   "cell_type": "code",
   "execution_count": 89,
   "metadata": {
    "id": "tE6VNEQ9Ilmg",
    "scrolled": true
   },
   "outputs": [
    {
     "data": {
      "image/png": "[encoded data removed]",
      "text/plain": [
       "<Figure size 1080x360 with 1 Axes>"
      ]
     },
     "metadata": {
      "needs_background": "light"
     },
     "output_type": "display_data"
    }
   ],
   "source": [
    "# 진행한 4가지의 모델의 성능을 비교 \n",
    "\n",
    "tmp = pd.DataFrame.from_dict(score, orient='index', columns=['Precision', 'Recall', 'Accuracy'])\n",
    "tmp.sort_values(by='Accuracy', ascending=False, inplace=True)\n",
    "tmp.plot(kind='barh')\n",
    "fig = plt.gcf()\n",
    "fig.set_size_inches(15, 5)\n",
    "plt.title('Compare', size=20, pad=20)\n",
    "plt.xlabel('Model')\n",
    "plt.ylabel('Performance')\n",
    "plt.show()"
   ]
  },
  {
   "cell_type": "markdown",
   "metadata": {},
   "source": [
    "### 총평 "
   ]
  },
  {
   "cell_type": "markdown",
   "metadata": {},
   "source": [
    "* oversampling을 통해 데이터의 균형을 어느정도 맞추면 ML뿐만 아니라 DL에서도 어느정도 성능이 상향되는 것을 확인  \n",
    "* 기본적으로 데이터가 잘 갈무리 되어져 있어서 추가적으로 hidden layer를 사용할수록 Accuracy의 값이 떨어진다.\n",
    "* 나만의 모델에서 가장 낮은 성능을 보인 것으로 보아 feature를 엮는 부분에서 다시 한 번 수정해서 진행해 볼 필요"
   ]
  }
 ],
 "metadata": {
  "colab": {
   "collapsed_sections": [],
   "name": "3_6_직원 이직 여부 예측.ipynb",
   "provenance": [],
   "toc_visible": true
  },
  "kernelspec": {
   "display_name": "Python 3",
   "language": "python",
   "name": "python3"
  },
  "language_info": {
   "codemirror_mode": {
    "name": "ipython",
    "version": 3
   },
   "file_extension": ".py",
   "mimetype": "text/x-python",
   "name": "python",
   "nbconvert_exporter": "python",
   "pygments_lexer": "ipython3",
   "version": "3.8.8"
  }
 },
 "nbformat": 4,
 "nbformat_minor": 1
}
