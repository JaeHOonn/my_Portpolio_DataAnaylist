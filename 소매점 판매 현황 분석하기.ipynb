{
 "cells": [
  {
   "cell_type": "markdown",
   "metadata": {
    "id": "ZogNxmpZgBMp"
   },
   "source": [
    "# 소매점 판매 현황"
   ]
  },
  {
   "cell_type": "markdown",
   "metadata": {
    "id": "0IUReT56gBMq"
   },
   "source": [
    "<img src='https://raw.githubusercontent.com/Jangrae/img/master/retail.png' width=\"650\" align=\"left\">"
   ]
  },
  {
   "cell_type": "markdown",
   "metadata": {
    "id": "qb1iLyXwGlnw"
   },
   "source": [
    "## 1.환경 설정\n",
    "\n",
    "- 데이터 탐색과 전처리를 하기 전 라이브러리와 파일을 읽어오기\n",
    "- 시각화에 한글이 포함된 경우 이에 대한 설정 진행"
   ]
  },
  {
   "cell_type": "markdown",
   "metadata": {
    "id": "4Xz2TqMRgBMr"
   },
   "source": [
    "**1) 한글 설정**\n",
    "\n",
    "- Jupyter Notebook 시각화에 한글이 표시되게 설정합니다."
   ]
  },
  {
   "cell_type": "code",
   "execution_count": 1,
   "metadata": {
    "id": "CjQJWPwmgBMr"
   },
   "outputs": [],
   "source": [
    "# 라이브러리 불러오기\n",
    "import matplotlib \n",
    "import matplotlib.pyplot as plt\n",
    "\n",
    "# 폰트설정\n",
    "matplotlib.font_manager._rebuild()\n",
    "plt.rc('font', family='Malgun Gothic')\n",
    "plt.rcParams['axes.unicode_minus'] = False"
   ]
  },
  {
   "cell_type": "markdown",
   "metadata": {
    "id": "0uNXxebRGrd8"
   },
   "source": [
    "**2) 라이브러리 불러오기**\n",
    "\n",
    "- 사용할 라이브러리를 불러옵니다."
   ]
  },
  {
   "cell_type": "code",
   "execution_count": 2,
   "metadata": {
    "id": "zFm_DPTaUdqQ"
   },
   "outputs": [],
   "source": [
    "# 라이브러리 불러오기\n",
    "import numpy as np\n",
    "import pandas as pd\n",
    "import matplotlib.pyplot as plt\n",
    "\n",
    "%config InlineBackend.figure_format = 'retina'"
   ]
  },
  {
   "cell_type": "markdown",
   "metadata": {
    "id": "PcLUjkq0wxpF"
   },
   "source": [
    "**3) 데이터 읽어오기**\n",
    "\n",
    "- 다음 경로의 파일을 읽어와 customers, products, orders 데이터프레임을 만듭니다.\n",
    "- 파일 경로1: 'https://raw.githubusercontent.com/Jangrae/csv/master/customers.csv'    \n",
    "- 파일 경로2: 'https://raw.githubusercontent.com/Jangrae/csv/master/products.csv'\n",
    "- 파일 경로3: 'https://raw.githubusercontent.com/Jangrae/csv/master/orders.csv'\n",
    "- 단축 경로1: 'https://bit.ly/CustomersFile'    \n",
    "- 단축 경로2: 'https://bit.ly/ProductsFile'  \n",
    "- 단축 경로3: 'https://bit.ly/OrdersFile'  "
   ]
  },
  {
   "cell_type": "code",
   "execution_count": 3,
   "metadata": {
    "id": "91c9vKQ0E1A4",
    "scrolled": true
   },
   "outputs": [
    {
     "data": {
      "text/html": [
       "<div>\n",
       "<style scoped>\n",
       "    .dataframe tbody tr th:only-of-type {\n",
       "        vertical-align: middle;\n",
       "    }\n",
       "\n",
       "    .dataframe tbody tr th {\n",
       "        vertical-align: top;\n",
       "    }\n",
       "\n",
       "    .dataframe thead th {\n",
       "        text-align: right;\n",
       "    }\n",
       "</style>\n",
       "<table border=\"1\" class=\"dataframe\">\n",
       "  <thead>\n",
       "    <tr style=\"text-align: right;\">\n",
       "      <th></th>\n",
       "      <th>CustomerID</th>\n",
       "      <th>RegisterDate</th>\n",
       "      <th>Address</th>\n",
       "      <th>Gender</th>\n",
       "      <th>BirthYear</th>\n",
       "      <th>Addr1</th>\n",
       "      <th>Addr2</th>\n",
       "    </tr>\n",
       "  </thead>\n",
       "  <tbody>\n",
       "    <tr>\n",
       "      <th>0</th>\n",
       "      <td>c017487</td>\n",
       "      <td>2002-07-31</td>\n",
       "      <td>경기 성남시 중원구 둔촌대로190번길</td>\n",
       "      <td>F</td>\n",
       "      <td>1968</td>\n",
       "      <td>경기도</td>\n",
       "      <td>성남시</td>\n",
       "    </tr>\n",
       "    <tr>\n",
       "      <th>1</th>\n",
       "      <td>c017503</td>\n",
       "      <td>2002-07-31</td>\n",
       "      <td>서울 마포구 새터산12길</td>\n",
       "      <td>F</td>\n",
       "      <td>1971</td>\n",
       "      <td>서울특별시</td>\n",
       "      <td>마포구</td>\n",
       "    </tr>\n",
       "    <tr>\n",
       "      <th>2</th>\n",
       "      <td>c017517</td>\n",
       "      <td>2002-07-31</td>\n",
       "      <td>경기도 남양주시 와부읍 덕소로</td>\n",
       "      <td>M</td>\n",
       "      <td>1967</td>\n",
       "      <td>경기도</td>\n",
       "      <td>남양주시</td>\n",
       "    </tr>\n",
       "    <tr>\n",
       "      <th>3</th>\n",
       "      <td>c017522</td>\n",
       "      <td>2002-07-31</td>\n",
       "      <td>강원도 원주시 단구로</td>\n",
       "      <td>F</td>\n",
       "      <td>1965</td>\n",
       "      <td>강원도</td>\n",
       "      <td>원주시</td>\n",
       "    </tr>\n",
       "    <tr>\n",
       "      <th>4</th>\n",
       "      <td>c017526</td>\n",
       "      <td>2002-07-31</td>\n",
       "      <td>경기도 부천시 오정구 소사로730번길</td>\n",
       "      <td>F</td>\n",
       "      <td>1960</td>\n",
       "      <td>경기도</td>\n",
       "      <td>부천시</td>\n",
       "    </tr>\n",
       "  </tbody>\n",
       "</table>\n",
       "</div>"
      ],
      "text/plain": [
       "  CustomerID RegisterDate               Address Gender  BirthYear  Addr1 Addr2\n",
       "0    c017487   2002-07-31  경기 성남시 중원구 둔촌대로190번길      F       1968    경기도   성남시\n",
       "1    c017503   2002-07-31         서울 마포구 새터산12길      F       1971  서울특별시   마포구\n",
       "2    c017517   2002-07-31      경기도 남양주시 와부읍 덕소로      M       1967    경기도  남양주시\n",
       "3    c017522   2002-07-31           강원도 원주시 단구로      F       1965    강원도   원주시\n",
       "4    c017526   2002-07-31  경기도 부천시 오정구 소사로730번길      F       1960    경기도   부천시"
      ]
     },
     "execution_count": 3,
     "metadata": {},
     "output_type": "execute_result"
    }
   ],
   "source": [
    "# customers 데이터 읽어오기\n",
    "path = 'https://bit.ly/CustomersFile'\n",
    "customers = pd.read_csv(path)\n",
    "\n",
    "# 확인\n",
    "customers.head()"
   ]
  },
  {
   "cell_type": "code",
   "execution_count": 4,
   "metadata": {
    "id": "QSedynVWEp3W",
    "scrolled": true
   },
   "outputs": [
    {
     "data": {
      "text/html": [
       "<div>\n",
       "<style scoped>\n",
       "    .dataframe tbody tr th:only-of-type {\n",
       "        vertical-align: middle;\n",
       "    }\n",
       "\n",
       "    .dataframe tbody tr th {\n",
       "        vertical-align: top;\n",
       "    }\n",
       "\n",
       "    .dataframe thead th {\n",
       "        text-align: right;\n",
       "    }\n",
       "</style>\n",
       "<table border=\"1\" class=\"dataframe\">\n",
       "  <thead>\n",
       "    <tr style=\"text-align: right;\">\n",
       "      <th></th>\n",
       "      <th>ProductID</th>\n",
       "      <th>ProductName</th>\n",
       "      <th>Category</th>\n",
       "      <th>SubCategory</th>\n",
       "      <th>CategoryOrd</th>\n",
       "    </tr>\n",
       "  </thead>\n",
       "  <tbody>\n",
       "    <tr>\n",
       "      <th>0</th>\n",
       "      <td>p1001771</td>\n",
       "      <td>마늘</td>\n",
       "      <td>채소</td>\n",
       "      <td>뿌리채소</td>\n",
       "      <td>5</td>\n",
       "    </tr>\n",
       "    <tr>\n",
       "      <th>1</th>\n",
       "      <td>p1002841</td>\n",
       "      <td>딸기_대</td>\n",
       "      <td>과일</td>\n",
       "      <td>과채</td>\n",
       "      <td>2</td>\n",
       "    </tr>\n",
       "    <tr>\n",
       "      <th>2</th>\n",
       "      <td>p1005621</td>\n",
       "      <td>숙주나물</td>\n",
       "      <td>반찬류</td>\n",
       "      <td>나물류</td>\n",
       "      <td>1</td>\n",
       "    </tr>\n",
       "    <tr>\n",
       "      <th>3</th>\n",
       "      <td>p1005771</td>\n",
       "      <td>두부_소</td>\n",
       "      <td>반찬류</td>\n",
       "      <td>두부</td>\n",
       "      <td>1</td>\n",
       "    </tr>\n",
       "    <tr>\n",
       "      <th>4</th>\n",
       "      <td>p1005891</td>\n",
       "      <td>두부_대</td>\n",
       "      <td>반찬류</td>\n",
       "      <td>두부</td>\n",
       "      <td>1</td>\n",
       "    </tr>\n",
       "  </tbody>\n",
       "</table>\n",
       "</div>"
      ],
      "text/plain": [
       "  ProductID ProductName Category SubCategory  CategoryOrd\n",
       "0  p1001771          마늘       채소        뿌리채소            5\n",
       "1  p1002841        딸기_대       과일          과채            2\n",
       "2  p1005621        숙주나물      반찬류         나물류            1\n",
       "3  p1005771        두부_소      반찬류          두부            1\n",
       "4  p1005891        두부_대      반찬류          두부            1"
      ]
     },
     "execution_count": 4,
     "metadata": {},
     "output_type": "execute_result"
    }
   ],
   "source": [
    "# products 데이터 읽어오기\n",
    "path = 'https://bit.ly/ProductsFile'\n",
    "products = pd.read_csv(path)\n",
    "\n",
    "# 확인\n",
    "products.head()"
   ]
  },
  {
   "cell_type": "code",
   "execution_count": 5,
   "metadata": {
    "id": "OPfgGedaEqnw",
    "scrolled": true
   },
   "outputs": [
    {
     "data": {
      "text/html": [
       "<div>\n",
       "<style scoped>\n",
       "    .dataframe tbody tr th:only-of-type {\n",
       "        vertical-align: middle;\n",
       "    }\n",
       "\n",
       "    .dataframe tbody tr th {\n",
       "        vertical-align: top;\n",
       "    }\n",
       "\n",
       "    .dataframe thead th {\n",
       "        text-align: right;\n",
       "    }\n",
       "</style>\n",
       "<table border=\"1\" class=\"dataframe\">\n",
       "  <thead>\n",
       "    <tr style=\"text-align: right;\">\n",
       "      <th></th>\n",
       "      <th>OrderID</th>\n",
       "      <th>Seq</th>\n",
       "      <th>OrderDate</th>\n",
       "      <th>ProductID</th>\n",
       "      <th>Qty</th>\n",
       "      <th>Amt</th>\n",
       "      <th>CustomerID</th>\n",
       "    </tr>\n",
       "  </thead>\n",
       "  <tbody>\n",
       "    <tr>\n",
       "      <th>0</th>\n",
       "      <td>1</td>\n",
       "      <td>1</td>\n",
       "      <td>2016-01-02</td>\n",
       "      <td>p1030071</td>\n",
       "      <td>2</td>\n",
       "      <td>7900</td>\n",
       "      <td>c107853</td>\n",
       "    </tr>\n",
       "    <tr>\n",
       "      <th>1</th>\n",
       "      <td>2</td>\n",
       "      <td>1</td>\n",
       "      <td>2016-01-02</td>\n",
       "      <td>p1012761</td>\n",
       "      <td>1</td>\n",
       "      <td>1700</td>\n",
       "      <td>c110521</td>\n",
       "    </tr>\n",
       "    <tr>\n",
       "      <th>2</th>\n",
       "      <td>2</td>\n",
       "      <td>2</td>\n",
       "      <td>2016-01-02</td>\n",
       "      <td>p1012581</td>\n",
       "      <td>1</td>\n",
       "      <td>1000</td>\n",
       "      <td>c110521</td>\n",
       "    </tr>\n",
       "    <tr>\n",
       "      <th>3</th>\n",
       "      <td>2</td>\n",
       "      <td>3</td>\n",
       "      <td>2016-01-02</td>\n",
       "      <td>p1175481</td>\n",
       "      <td>1</td>\n",
       "      <td>1300</td>\n",
       "      <td>c110521</td>\n",
       "    </tr>\n",
       "    <tr>\n",
       "      <th>4</th>\n",
       "      <td>2</td>\n",
       "      <td>4</td>\n",
       "      <td>2016-01-02</td>\n",
       "      <td>p1178011</td>\n",
       "      <td>1</td>\n",
       "      <td>8800</td>\n",
       "      <td>c110521</td>\n",
       "    </tr>\n",
       "  </tbody>\n",
       "</table>\n",
       "</div>"
      ],
      "text/plain": [
       "   OrderID  Seq   OrderDate ProductID  Qty   Amt CustomerID\n",
       "0        1    1  2016-01-02  p1030071    2  7900    c107853\n",
       "1        2    1  2016-01-02  p1012761    1  1700    c110521\n",
       "2        2    2  2016-01-02  p1012581    1  1000    c110521\n",
       "3        2    3  2016-01-02  p1175481    1  1300    c110521\n",
       "4        2    4  2016-01-02  p1178011    1  8800    c110521"
      ]
     },
     "execution_count": 5,
     "metadata": {},
     "output_type": "execute_result"
    }
   ],
   "source": [
    "# orders 데이터 읽어오기\n",
    "path = 'https://bit.ly/OrdersFile'\n",
    "orders = pd.read_csv(path)\n",
    "\n",
    "# 확인\n",
    "orders.head(5)"
   ]
  },
  {
   "cell_type": "markdown",
   "metadata": {
    "id": "H4KWZGI8HBIA"
   },
   "source": [
    "## 2.데이터 탐색"
   ]
  },
  {
   "cell_type": "markdown",
   "metadata": {
    "id": "X7I-KgAjJ60t"
   },
   "source": [
    "**1) 고객 정보(customers)**\n",
    "\n",
    "- customers 데이터프레임을 충분히 탐색합니다.\n",
    "- 간단한 집계를 수행해 보는 것도 좋은 방법입니다."
   ]
  },
  {
   "cell_type": "code",
   "execution_count": 6,
   "metadata": {
    "id": "SBDudJlmHDOi"
   },
   "outputs": [
    {
     "data": {
      "text/html": [
       "<div>\n",
       "<style scoped>\n",
       "    .dataframe tbody tr th:only-of-type {\n",
       "        vertical-align: middle;\n",
       "    }\n",
       "\n",
       "    .dataframe tbody tr th {\n",
       "        vertical-align: top;\n",
       "    }\n",
       "\n",
       "    .dataframe thead th {\n",
       "        text-align: right;\n",
       "    }\n",
       "</style>\n",
       "<table border=\"1\" class=\"dataframe\">\n",
       "  <thead>\n",
       "    <tr style=\"text-align: right;\">\n",
       "      <th></th>\n",
       "      <th>CustomerID</th>\n",
       "      <th>RegisterDate</th>\n",
       "      <th>Address</th>\n",
       "      <th>Gender</th>\n",
       "      <th>BirthYear</th>\n",
       "      <th>Addr1</th>\n",
       "      <th>Addr2</th>\n",
       "    </tr>\n",
       "  </thead>\n",
       "  <tbody>\n",
       "    <tr>\n",
       "      <th>0</th>\n",
       "      <td>c017487</td>\n",
       "      <td>2002-07-31</td>\n",
       "      <td>경기 성남시 중원구 둔촌대로190번길</td>\n",
       "      <td>F</td>\n",
       "      <td>1968</td>\n",
       "      <td>경기도</td>\n",
       "      <td>성남시</td>\n",
       "    </tr>\n",
       "    <tr>\n",
       "      <th>1</th>\n",
       "      <td>c017503</td>\n",
       "      <td>2002-07-31</td>\n",
       "      <td>서울 마포구 새터산12길</td>\n",
       "      <td>F</td>\n",
       "      <td>1971</td>\n",
       "      <td>서울특별시</td>\n",
       "      <td>마포구</td>\n",
       "    </tr>\n",
       "    <tr>\n",
       "      <th>2</th>\n",
       "      <td>c017517</td>\n",
       "      <td>2002-07-31</td>\n",
       "      <td>경기도 남양주시 와부읍 덕소로</td>\n",
       "      <td>M</td>\n",
       "      <td>1967</td>\n",
       "      <td>경기도</td>\n",
       "      <td>남양주시</td>\n",
       "    </tr>\n",
       "    <tr>\n",
       "      <th>3</th>\n",
       "      <td>c017522</td>\n",
       "      <td>2002-07-31</td>\n",
       "      <td>강원도 원주시 단구로</td>\n",
       "      <td>F</td>\n",
       "      <td>1965</td>\n",
       "      <td>강원도</td>\n",
       "      <td>원주시</td>\n",
       "    </tr>\n",
       "    <tr>\n",
       "      <th>4</th>\n",
       "      <td>c017526</td>\n",
       "      <td>2002-07-31</td>\n",
       "      <td>경기도 부천시 오정구 소사로730번길</td>\n",
       "      <td>F</td>\n",
       "      <td>1960</td>\n",
       "      <td>경기도</td>\n",
       "      <td>부천시</td>\n",
       "    </tr>\n",
       "  </tbody>\n",
       "</table>\n",
       "</div>"
      ],
      "text/plain": [
       "  CustomerID RegisterDate               Address Gender  BirthYear  Addr1 Addr2\n",
       "0    c017487   2002-07-31  경기 성남시 중원구 둔촌대로190번길      F       1968    경기도   성남시\n",
       "1    c017503   2002-07-31         서울 마포구 새터산12길      F       1971  서울특별시   마포구\n",
       "2    c017517   2002-07-31      경기도 남양주시 와부읍 덕소로      M       1967    경기도  남양주시\n",
       "3    c017522   2002-07-31           강원도 원주시 단구로      F       1965    강원도   원주시\n",
       "4    c017526   2002-07-31  경기도 부천시 오정구 소사로730번길      F       1960    경기도   부천시"
      ]
     },
     "execution_count": 6,
     "metadata": {},
     "output_type": "execute_result"
    }
   ],
   "source": [
    "# 상위 데이터\n",
    "customers.head()"
   ]
  },
  {
   "cell_type": "code",
   "execution_count": 7,
   "metadata": {
    "id": "x9_8MKEwtWFZ"
   },
   "outputs": [
    {
     "data": {
      "text/html": [
       "<div>\n",
       "<style scoped>\n",
       "    .dataframe tbody tr th:only-of-type {\n",
       "        vertical-align: middle;\n",
       "    }\n",
       "\n",
       "    .dataframe tbody tr th {\n",
       "        vertical-align: top;\n",
       "    }\n",
       "\n",
       "    .dataframe thead th {\n",
       "        text-align: right;\n",
       "    }\n",
       "</style>\n",
       "<table border=\"1\" class=\"dataframe\">\n",
       "  <thead>\n",
       "    <tr style=\"text-align: right;\">\n",
       "      <th></th>\n",
       "      <th>CustomerID</th>\n",
       "      <th>RegisterDate</th>\n",
       "      <th>Address</th>\n",
       "      <th>Gender</th>\n",
       "      <th>BirthYear</th>\n",
       "      <th>Addr1</th>\n",
       "      <th>Addr2</th>\n",
       "    </tr>\n",
       "  </thead>\n",
       "  <tbody>\n",
       "    <tr>\n",
       "      <th>2238</th>\n",
       "      <td>c400937</td>\n",
       "      <td>2017-03-12</td>\n",
       "      <td>인천광역시 계양구 주부토로</td>\n",
       "      <td>F</td>\n",
       "      <td>1980</td>\n",
       "      <td>인천광역시</td>\n",
       "      <td>계양구</td>\n",
       "    </tr>\n",
       "    <tr>\n",
       "      <th>2239</th>\n",
       "      <td>c401555</td>\n",
       "      <td>2017-03-20</td>\n",
       "      <td>경기도 남양주시 별내면 청학로68번길</td>\n",
       "      <td>F</td>\n",
       "      <td>1981</td>\n",
       "      <td>경기도</td>\n",
       "      <td>남양주시</td>\n",
       "    </tr>\n",
       "    <tr>\n",
       "      <th>2240</th>\n",
       "      <td>c401584</td>\n",
       "      <td>2017-03-20</td>\n",
       "      <td>경기도 성남시 분당구 불정로</td>\n",
       "      <td>F</td>\n",
       "      <td>1979</td>\n",
       "      <td>경기도</td>\n",
       "      <td>성남시</td>\n",
       "    </tr>\n",
       "    <tr>\n",
       "      <th>2241</th>\n",
       "      <td>c402010</td>\n",
       "      <td>2017-03-25</td>\n",
       "      <td>경기도 성남시 분당구 판교원로82번길</td>\n",
       "      <td>F</td>\n",
       "      <td>1969</td>\n",
       "      <td>경기도</td>\n",
       "      <td>성남시</td>\n",
       "    </tr>\n",
       "    <tr>\n",
       "      <th>2242</th>\n",
       "      <td>c402634</td>\n",
       "      <td>2017-03-30</td>\n",
       "      <td>경기도 용인시 수지구 죽전로</td>\n",
       "      <td>F</td>\n",
       "      <td>1960</td>\n",
       "      <td>경기도</td>\n",
       "      <td>용인시</td>\n",
       "    </tr>\n",
       "  </tbody>\n",
       "</table>\n",
       "</div>"
      ],
      "text/plain": [
       "     CustomerID RegisterDate               Address Gender  BirthYear  Addr1  \\\n",
       "2238    c400937   2017-03-12        인천광역시 계양구 주부토로      F       1980  인천광역시   \n",
       "2239    c401555   2017-03-20  경기도 남양주시 별내면 청학로68번길      F       1981    경기도   \n",
       "2240    c401584   2017-03-20       경기도 성남시 분당구 불정로      F       1979    경기도   \n",
       "2241    c402010   2017-03-25  경기도 성남시 분당구 판교원로82번길      F       1969    경기도   \n",
       "2242    c402634   2017-03-30       경기도 용인시 수지구 죽전로      F       1960    경기도   \n",
       "\n",
       "     Addr2  \n",
       "2238   계양구  \n",
       "2239  남양주시  \n",
       "2240   성남시  \n",
       "2241   성남시  \n",
       "2242   용인시  "
      ]
     },
     "execution_count": 7,
     "metadata": {},
     "output_type": "execute_result"
    }
   ],
   "source": [
    "# 하위 데이터\n",
    "customers.tail()"
   ]
  },
  {
   "cell_type": "code",
   "execution_count": 8,
   "metadata": {},
   "outputs": [
    {
     "name": "stdout",
     "output_type": "stream",
     "text": [
      "<class 'pandas.core.frame.DataFrame'>\n",
      "RangeIndex: 2243 entries, 0 to 2242\n",
      "Data columns (total 7 columns):\n",
      " #   Column        Non-Null Count  Dtype \n",
      "---  ------        --------------  ----- \n",
      " 0   CustomerID    2243 non-null   object\n",
      " 1   RegisterDate  2243 non-null   object\n",
      " 2   Address       2243 non-null   object\n",
      " 3   Gender        2243 non-null   object\n",
      " 4   BirthYear     2243 non-null   int64 \n",
      " 5   Addr1         2243 non-null   object\n",
      " 6   Addr2         2243 non-null   object\n",
      "dtypes: int64(1), object(6)\n",
      "memory usage: 122.8+ KB\n"
     ]
    }
   ],
   "source": [
    "# 열 정보 확인\n",
    "customers.info()"
   ]
  },
  {
   "cell_type": "code",
   "execution_count": 9,
   "metadata": {},
   "outputs": [
    {
     "data": {
      "text/html": [
       "<div>\n",
       "<style scoped>\n",
       "    .dataframe tbody tr th:only-of-type {\n",
       "        vertical-align: middle;\n",
       "    }\n",
       "\n",
       "    .dataframe tbody tr th {\n",
       "        vertical-align: top;\n",
       "    }\n",
       "\n",
       "    .dataframe thead th {\n",
       "        text-align: right;\n",
       "    }\n",
       "</style>\n",
       "<table border=\"1\" class=\"dataframe\">\n",
       "  <thead>\n",
       "    <tr style=\"text-align: right;\">\n",
       "      <th></th>\n",
       "      <th>BirthYear</th>\n",
       "    </tr>\n",
       "  </thead>\n",
       "  <tbody>\n",
       "    <tr>\n",
       "      <th>count</th>\n",
       "      <td>2243.000000</td>\n",
       "    </tr>\n",
       "    <tr>\n",
       "      <th>mean</th>\n",
       "      <td>1971.107445</td>\n",
       "    </tr>\n",
       "    <tr>\n",
       "      <th>std</th>\n",
       "      <td>9.658465</td>\n",
       "    </tr>\n",
       "    <tr>\n",
       "      <th>min</th>\n",
       "      <td>1932.000000</td>\n",
       "    </tr>\n",
       "    <tr>\n",
       "      <th>25%</th>\n",
       "      <td>1966.000000</td>\n",
       "    </tr>\n",
       "    <tr>\n",
       "      <th>50%</th>\n",
       "      <td>1972.000000</td>\n",
       "    </tr>\n",
       "    <tr>\n",
       "      <th>75%</th>\n",
       "      <td>1978.000000</td>\n",
       "    </tr>\n",
       "    <tr>\n",
       "      <th>max</th>\n",
       "      <td>1999.000000</td>\n",
       "    </tr>\n",
       "  </tbody>\n",
       "</table>\n",
       "</div>"
      ],
      "text/plain": [
       "         BirthYear\n",
       "count  2243.000000\n",
       "mean   1971.107445\n",
       "std       9.658465\n",
       "min    1932.000000\n",
       "25%    1966.000000\n",
       "50%    1972.000000\n",
       "75%    1978.000000\n",
       "max    1999.000000"
      ]
     },
     "execution_count": 9,
     "metadata": {},
     "output_type": "execute_result"
    }
   ],
   "source": [
    "# 기초통계정보\n",
    "customers.describe()"
   ]
  },
  {
   "cell_type": "code",
   "execution_count": 10,
   "metadata": {
    "id": "3BTuZtbRs4HO"
   },
   "outputs": [
    {
     "data": {
      "text/plain": [
       "CustomerID      0\n",
       "RegisterDate    0\n",
       "Address         0\n",
       "Gender          0\n",
       "BirthYear       0\n",
       "Addr1           0\n",
       "Addr2           0\n",
       "dtype: int64"
      ]
     },
     "execution_count": 10,
     "metadata": {},
     "output_type": "execute_result"
    }
   ],
   "source": [
    "# 결측치 확인\n",
    "customers.isna().sum()"
   ]
  },
  {
   "cell_type": "code",
   "execution_count": 11,
   "metadata": {
    "id": "vAZLgCLXKCMB"
   },
   "outputs": [
    {
     "data": {
      "text/plain": [
       "2243"
      ]
     },
     "execution_count": 11,
     "metadata": {},
     "output_type": "execute_result"
    }
   ],
   "source": [
    "# 전체 고객 수\n",
    "customers['CustomerID'].count()"
   ]
  },
  {
   "cell_type": "code",
   "execution_count": 12,
   "metadata": {
    "id": "SYVsLxh6KguC"
   },
   "outputs": [
    {
     "data": {
      "text/html": [
       "<div>\n",
       "<style scoped>\n",
       "    .dataframe tbody tr th:only-of-type {\n",
       "        vertical-align: middle;\n",
       "    }\n",
       "\n",
       "    .dataframe tbody tr th {\n",
       "        vertical-align: top;\n",
       "    }\n",
       "\n",
       "    .dataframe thead th {\n",
       "        text-align: right;\n",
       "    }\n",
       "</style>\n",
       "<table border=\"1\" class=\"dataframe\">\n",
       "  <thead>\n",
       "    <tr style=\"text-align: right;\">\n",
       "      <th></th>\n",
       "      <th>Addr1</th>\n",
       "      <th>CustCount</th>\n",
       "    </tr>\n",
       "  </thead>\n",
       "  <tbody>\n",
       "    <tr>\n",
       "      <th>0</th>\n",
       "      <td>강원도</td>\n",
       "      <td>62</td>\n",
       "    </tr>\n",
       "    <tr>\n",
       "      <th>1</th>\n",
       "      <td>경기도</td>\n",
       "      <td>1260</td>\n",
       "    </tr>\n",
       "    <tr>\n",
       "      <th>2</th>\n",
       "      <td>경상남도</td>\n",
       "      <td>1</td>\n",
       "    </tr>\n",
       "    <tr>\n",
       "      <th>3</th>\n",
       "      <td>경상북도</td>\n",
       "      <td>2</td>\n",
       "    </tr>\n",
       "    <tr>\n",
       "      <th>4</th>\n",
       "      <td>광주광역시</td>\n",
       "      <td>3</td>\n",
       "    </tr>\n",
       "    <tr>\n",
       "      <th>5</th>\n",
       "      <td>대구광역시</td>\n",
       "      <td>8</td>\n",
       "    </tr>\n",
       "    <tr>\n",
       "      <th>6</th>\n",
       "      <td>서울특별시</td>\n",
       "      <td>564</td>\n",
       "    </tr>\n",
       "    <tr>\n",
       "      <th>7</th>\n",
       "      <td>인천광역시</td>\n",
       "      <td>325</td>\n",
       "    </tr>\n",
       "    <tr>\n",
       "      <th>8</th>\n",
       "      <td>전라남도</td>\n",
       "      <td>3</td>\n",
       "    </tr>\n",
       "    <tr>\n",
       "      <th>9</th>\n",
       "      <td>전라북도</td>\n",
       "      <td>1</td>\n",
       "    </tr>\n",
       "    <tr>\n",
       "      <th>10</th>\n",
       "      <td>충청남도</td>\n",
       "      <td>6</td>\n",
       "    </tr>\n",
       "    <tr>\n",
       "      <th>11</th>\n",
       "      <td>충청북도</td>\n",
       "      <td>8</td>\n",
       "    </tr>\n",
       "  </tbody>\n",
       "</table>\n",
       "</div>"
      ],
      "text/plain": [
       "    Addr1  CustCount\n",
       "0     강원도         62\n",
       "1     경기도       1260\n",
       "2    경상남도          1\n",
       "3    경상북도          2\n",
       "4   광주광역시          3\n",
       "5   대구광역시          8\n",
       "6   서울특별시        564\n",
       "7   인천광역시        325\n",
       "8    전라남도          3\n",
       "9    전라북도          1\n",
       "10   충청남도          6\n",
       "11   충청북도          8"
      ]
     },
     "execution_count": 12,
     "metadata": {},
     "output_type": "execute_result"
    }
   ],
   "source": [
    "# 지역1(Addr1)별 고객 수\n",
    "tmp = customers.groupby(by='Addr1', as_index=False)['CustomerID'].count()\n",
    "tmp.columns = ['Addr1', 'CustCount']\n",
    "\n",
    "# 확인\n",
    "tmp"
   ]
  },
  {
   "cell_type": "code",
   "execution_count": 13,
   "metadata": {
    "id": "2coShJFugBMz"
   },
   "outputs": [
    {
     "data": {
      "text/html": [
       "<div>\n",
       "<style scoped>\n",
       "    .dataframe tbody tr th:only-of-type {\n",
       "        vertical-align: middle;\n",
       "    }\n",
       "\n",
       "    .dataframe tbody tr th {\n",
       "        vertical-align: top;\n",
       "    }\n",
       "\n",
       "    .dataframe thead th {\n",
       "        text-align: right;\n",
       "    }\n",
       "</style>\n",
       "<table border=\"1\" class=\"dataframe\">\n",
       "  <thead>\n",
       "    <tr style=\"text-align: right;\">\n",
       "      <th></th>\n",
       "      <th>Addr1</th>\n",
       "      <th>CustCount</th>\n",
       "    </tr>\n",
       "  </thead>\n",
       "  <tbody>\n",
       "    <tr>\n",
       "      <th>0</th>\n",
       "      <td>경기도</td>\n",
       "      <td>1260</td>\n",
       "    </tr>\n",
       "    <tr>\n",
       "      <th>1</th>\n",
       "      <td>서울특별시</td>\n",
       "      <td>564</td>\n",
       "    </tr>\n",
       "    <tr>\n",
       "      <th>2</th>\n",
       "      <td>인천광역시</td>\n",
       "      <td>325</td>\n",
       "    </tr>\n",
       "    <tr>\n",
       "      <th>3</th>\n",
       "      <td>강원도</td>\n",
       "      <td>62</td>\n",
       "    </tr>\n",
       "    <tr>\n",
       "      <th>4</th>\n",
       "      <td>대구광역시</td>\n",
       "      <td>8</td>\n",
       "    </tr>\n",
       "    <tr>\n",
       "      <th>5</th>\n",
       "      <td>충청북도</td>\n",
       "      <td>8</td>\n",
       "    </tr>\n",
       "    <tr>\n",
       "      <th>6</th>\n",
       "      <td>충청남도</td>\n",
       "      <td>6</td>\n",
       "    </tr>\n",
       "    <tr>\n",
       "      <th>7</th>\n",
       "      <td>광주광역시</td>\n",
       "      <td>3</td>\n",
       "    </tr>\n",
       "    <tr>\n",
       "      <th>8</th>\n",
       "      <td>전라남도</td>\n",
       "      <td>3</td>\n",
       "    </tr>\n",
       "    <tr>\n",
       "      <th>9</th>\n",
       "      <td>경상북도</td>\n",
       "      <td>2</td>\n",
       "    </tr>\n",
       "    <tr>\n",
       "      <th>10</th>\n",
       "      <td>경상남도</td>\n",
       "      <td>1</td>\n",
       "    </tr>\n",
       "    <tr>\n",
       "      <th>11</th>\n",
       "      <td>전라북도</td>\n",
       "      <td>1</td>\n",
       "    </tr>\n",
       "  </tbody>\n",
       "</table>\n",
       "</div>"
      ],
      "text/plain": [
       "    Addr1  CustCount\n",
       "0     경기도       1260\n",
       "1   서울특별시        564\n",
       "2   인천광역시        325\n",
       "3     강원도         62\n",
       "4   대구광역시          8\n",
       "5    충청북도          8\n",
       "6    충청남도          6\n",
       "7   광주광역시          3\n",
       "8    전라남도          3\n",
       "9    경상북도          2\n",
       "10   경상남도          1\n",
       "11   전라북도          1"
      ]
     },
     "execution_count": 13,
     "metadata": {},
     "output_type": "execute_result"
    }
   ],
   "source": [
    "# 지역1(Addr1)별 고객 수 (내림차순)\n",
    "tmp = tmp.sort_values(by='CustCount', ascending=False)\n",
    "tmp.reset_index(drop=True, inplace=True)\n",
    "\n",
    "# 확인\n",
    "tmp"
   ]
  },
  {
   "cell_type": "code",
   "execution_count": 14,
   "metadata": {
    "id": "CezUCBhUgBMz"
   },
   "outputs": [
    {
     "data": {
      "text/html": [
       "<div>\n",
       "<style scoped>\n",
       "    .dataframe tbody tr th:only-of-type {\n",
       "        vertical-align: middle;\n",
       "    }\n",
       "\n",
       "    .dataframe tbody tr th {\n",
       "        vertical-align: top;\n",
       "    }\n",
       "\n",
       "    .dataframe thead th {\n",
       "        text-align: right;\n",
       "    }\n",
       "</style>\n",
       "<table border=\"1\" class=\"dataframe\">\n",
       "  <thead>\n",
       "    <tr style=\"text-align: right;\">\n",
       "      <th></th>\n",
       "      <th>Addr1</th>\n",
       "      <th>CustCount</th>\n",
       "      <th>CustRate(%)</th>\n",
       "    </tr>\n",
       "  </thead>\n",
       "  <tbody>\n",
       "    <tr>\n",
       "      <th>0</th>\n",
       "      <td>경기도</td>\n",
       "      <td>1260</td>\n",
       "      <td>56.174766</td>\n",
       "    </tr>\n",
       "    <tr>\n",
       "      <th>1</th>\n",
       "      <td>서울특별시</td>\n",
       "      <td>564</td>\n",
       "      <td>25.144895</td>\n",
       "    </tr>\n",
       "    <tr>\n",
       "      <th>2</th>\n",
       "      <td>인천광역시</td>\n",
       "      <td>325</td>\n",
       "      <td>14.489523</td>\n",
       "    </tr>\n",
       "    <tr>\n",
       "      <th>3</th>\n",
       "      <td>강원도</td>\n",
       "      <td>62</td>\n",
       "      <td>2.764155</td>\n",
       "    </tr>\n",
       "    <tr>\n",
       "      <th>4</th>\n",
       "      <td>대구광역시</td>\n",
       "      <td>8</td>\n",
       "      <td>0.356665</td>\n",
       "    </tr>\n",
       "    <tr>\n",
       "      <th>5</th>\n",
       "      <td>충청북도</td>\n",
       "      <td>8</td>\n",
       "      <td>0.356665</td>\n",
       "    </tr>\n",
       "    <tr>\n",
       "      <th>6</th>\n",
       "      <td>충청남도</td>\n",
       "      <td>6</td>\n",
       "      <td>0.267499</td>\n",
       "    </tr>\n",
       "    <tr>\n",
       "      <th>7</th>\n",
       "      <td>광주광역시</td>\n",
       "      <td>3</td>\n",
       "      <td>0.133749</td>\n",
       "    </tr>\n",
       "    <tr>\n",
       "      <th>8</th>\n",
       "      <td>전라남도</td>\n",
       "      <td>3</td>\n",
       "      <td>0.133749</td>\n",
       "    </tr>\n",
       "    <tr>\n",
       "      <th>9</th>\n",
       "      <td>경상북도</td>\n",
       "      <td>2</td>\n",
       "      <td>0.089166</td>\n",
       "    </tr>\n",
       "    <tr>\n",
       "      <th>10</th>\n",
       "      <td>경상남도</td>\n",
       "      <td>1</td>\n",
       "      <td>0.044583</td>\n",
       "    </tr>\n",
       "    <tr>\n",
       "      <th>11</th>\n",
       "      <td>전라북도</td>\n",
       "      <td>1</td>\n",
       "      <td>0.044583</td>\n",
       "    </tr>\n",
       "  </tbody>\n",
       "</table>\n",
       "</div>"
      ],
      "text/plain": [
       "    Addr1  CustCount  CustRate(%)\n",
       "0     경기도       1260    56.174766\n",
       "1   서울특별시        564    25.144895\n",
       "2   인천광역시        325    14.489523\n",
       "3     강원도         62     2.764155\n",
       "4   대구광역시          8     0.356665\n",
       "5    충청북도          8     0.356665\n",
       "6    충청남도          6     0.267499\n",
       "7   광주광역시          3     0.133749\n",
       "8    전라남도          3     0.133749\n",
       "9    경상북도          2     0.089166\n",
       "10   경상남도          1     0.044583\n",
       "11   전라북도          1     0.044583"
      ]
     },
     "execution_count": 14,
     "metadata": {},
     "output_type": "execute_result"
    }
   ],
   "source": [
    "# 각 지역 고객수가 전체에서 차지하는 비율\n",
    "tmp['CustRate(%)'] = tmp['CustCount'] / tmp['CustCount'].sum() * 100\n",
    "\n",
    "# 확인\n",
    "tmp"
   ]
  },
  {
   "cell_type": "markdown",
   "metadata": {
    "id": "ktmISAkXgBM0"
   },
   "source": [
    "**2) 상품 정보(products)**"
   ]
  },
  {
   "cell_type": "code",
   "execution_count": 15,
   "metadata": {
    "id": "xmhzfhVlgBM0"
   },
   "outputs": [
    {
     "data": {
      "text/html": [
       "<div>\n",
       "<style scoped>\n",
       "    .dataframe tbody tr th:only-of-type {\n",
       "        vertical-align: middle;\n",
       "    }\n",
       "\n",
       "    .dataframe tbody tr th {\n",
       "        vertical-align: top;\n",
       "    }\n",
       "\n",
       "    .dataframe thead th {\n",
       "        text-align: right;\n",
       "    }\n",
       "</style>\n",
       "<table border=\"1\" class=\"dataframe\">\n",
       "  <thead>\n",
       "    <tr style=\"text-align: right;\">\n",
       "      <th></th>\n",
       "      <th>ProductID</th>\n",
       "      <th>ProductName</th>\n",
       "      <th>Category</th>\n",
       "      <th>SubCategory</th>\n",
       "      <th>CategoryOrd</th>\n",
       "    </tr>\n",
       "  </thead>\n",
       "  <tbody>\n",
       "    <tr>\n",
       "      <th>0</th>\n",
       "      <td>p1001771</td>\n",
       "      <td>마늘</td>\n",
       "      <td>채소</td>\n",
       "      <td>뿌리채소</td>\n",
       "      <td>5</td>\n",
       "    </tr>\n",
       "    <tr>\n",
       "      <th>1</th>\n",
       "      <td>p1002841</td>\n",
       "      <td>딸기_대</td>\n",
       "      <td>과일</td>\n",
       "      <td>과채</td>\n",
       "      <td>2</td>\n",
       "    </tr>\n",
       "    <tr>\n",
       "      <th>2</th>\n",
       "      <td>p1005621</td>\n",
       "      <td>숙주나물</td>\n",
       "      <td>반찬류</td>\n",
       "      <td>나물류</td>\n",
       "      <td>1</td>\n",
       "    </tr>\n",
       "    <tr>\n",
       "      <th>3</th>\n",
       "      <td>p1005771</td>\n",
       "      <td>두부_소</td>\n",
       "      <td>반찬류</td>\n",
       "      <td>두부</td>\n",
       "      <td>1</td>\n",
       "    </tr>\n",
       "    <tr>\n",
       "      <th>4</th>\n",
       "      <td>p1005891</td>\n",
       "      <td>두부_대</td>\n",
       "      <td>반찬류</td>\n",
       "      <td>두부</td>\n",
       "      <td>1</td>\n",
       "    </tr>\n",
       "  </tbody>\n",
       "</table>\n",
       "</div>"
      ],
      "text/plain": [
       "  ProductID ProductName Category SubCategory  CategoryOrd\n",
       "0  p1001771          마늘       채소        뿌리채소            5\n",
       "1  p1002841        딸기_대       과일          과채            2\n",
       "2  p1005621        숙주나물      반찬류         나물류            1\n",
       "3  p1005771        두부_소      반찬류          두부            1\n",
       "4  p1005891        두부_대      반찬류          두부            1"
      ]
     },
     "execution_count": 15,
     "metadata": {},
     "output_type": "execute_result"
    }
   ],
   "source": [
    "# 상위 데이터\n",
    "products.head()"
   ]
  },
  {
   "cell_type": "code",
   "execution_count": 16,
   "metadata": {
    "id": "C_IRCYhStTmn"
   },
   "outputs": [
    {
     "data": {
      "text/html": [
       "<div>\n",
       "<style scoped>\n",
       "    .dataframe tbody tr th:only-of-type {\n",
       "        vertical-align: middle;\n",
       "    }\n",
       "\n",
       "    .dataframe tbody tr th {\n",
       "        vertical-align: top;\n",
       "    }\n",
       "\n",
       "    .dataframe thead th {\n",
       "        text-align: right;\n",
       "    }\n",
       "</style>\n",
       "<table border=\"1\" class=\"dataframe\">\n",
       "  <thead>\n",
       "    <tr style=\"text-align: right;\">\n",
       "      <th></th>\n",
       "      <th>ProductID</th>\n",
       "      <th>ProductName</th>\n",
       "      <th>Category</th>\n",
       "      <th>SubCategory</th>\n",
       "      <th>CategoryOrd</th>\n",
       "    </tr>\n",
       "  </thead>\n",
       "  <tbody>\n",
       "    <tr>\n",
       "      <th>57</th>\n",
       "      <td>p1246581</td>\n",
       "      <td>초코우유</td>\n",
       "      <td>유제품</td>\n",
       "      <td>우유</td>\n",
       "      <td>4</td>\n",
       "    </tr>\n",
       "    <tr>\n",
       "      <th>58</th>\n",
       "      <td>p1255281</td>\n",
       "      <td>딸기요거트</td>\n",
       "      <td>유제품</td>\n",
       "      <td>요거트</td>\n",
       "      <td>4</td>\n",
       "    </tr>\n",
       "    <tr>\n",
       "      <th>59</th>\n",
       "      <td>p1256521</td>\n",
       "      <td>부침용두부</td>\n",
       "      <td>반찬류</td>\n",
       "      <td>두부</td>\n",
       "      <td>1</td>\n",
       "    </tr>\n",
       "    <tr>\n",
       "      <th>60</th>\n",
       "      <td>p1284851</td>\n",
       "      <td>유기농우유</td>\n",
       "      <td>유제품</td>\n",
       "      <td>우유</td>\n",
       "      <td>4</td>\n",
       "    </tr>\n",
       "    <tr>\n",
       "      <th>61</th>\n",
       "      <td>p1299491</td>\n",
       "      <td>당근</td>\n",
       "      <td>채소</td>\n",
       "      <td>뿌리채소</td>\n",
       "      <td>5</td>\n",
       "    </tr>\n",
       "  </tbody>\n",
       "</table>\n",
       "</div>"
      ],
      "text/plain": [
       "   ProductID ProductName Category SubCategory  CategoryOrd\n",
       "57  p1246581        초코우유      유제품          우유            4\n",
       "58  p1255281       딸기요거트      유제품         요거트            4\n",
       "59  p1256521       부침용두부      반찬류          두부            1\n",
       "60  p1284851       유기농우유      유제품          우유            4\n",
       "61  p1299491          당근       채소        뿌리채소            5"
      ]
     },
     "execution_count": 16,
     "metadata": {},
     "output_type": "execute_result"
    }
   ],
   "source": [
    "# 하위 데이터\n",
    "products.tail()"
   ]
  },
  {
   "cell_type": "code",
   "execution_count": 17,
   "metadata": {},
   "outputs": [
    {
     "name": "stdout",
     "output_type": "stream",
     "text": [
      "<class 'pandas.core.frame.DataFrame'>\n",
      "RangeIndex: 62 entries, 0 to 61\n",
      "Data columns (total 5 columns):\n",
      " #   Column       Non-Null Count  Dtype \n",
      "---  ------       --------------  ----- \n",
      " 0   ProductID    62 non-null     object\n",
      " 1   ProductName  62 non-null     object\n",
      " 2   Category     62 non-null     object\n",
      " 3   SubCategory  62 non-null     object\n",
      " 4   CategoryOrd  62 non-null     int64 \n",
      "dtypes: int64(1), object(4)\n",
      "memory usage: 2.5+ KB\n"
     ]
    }
   ],
   "source": [
    "# 열 정보 확인\n",
    "products.info()"
   ]
  },
  {
   "cell_type": "code",
   "execution_count": 18,
   "metadata": {},
   "outputs": [
    {
     "data": {
      "text/html": [
       "<div>\n",
       "<style scoped>\n",
       "    .dataframe tbody tr th:only-of-type {\n",
       "        vertical-align: middle;\n",
       "    }\n",
       "\n",
       "    .dataframe tbody tr th {\n",
       "        vertical-align: top;\n",
       "    }\n",
       "\n",
       "    .dataframe thead th {\n",
       "        text-align: right;\n",
       "    }\n",
       "</style>\n",
       "<table border=\"1\" class=\"dataframe\">\n",
       "  <thead>\n",
       "    <tr style=\"text-align: right;\">\n",
       "      <th></th>\n",
       "      <th>CategoryOrd</th>\n",
       "    </tr>\n",
       "  </thead>\n",
       "  <tbody>\n",
       "    <tr>\n",
       "      <th>count</th>\n",
       "      <td>62.000000</td>\n",
       "    </tr>\n",
       "    <tr>\n",
       "      <th>mean</th>\n",
       "      <td>3.612903</td>\n",
       "    </tr>\n",
       "    <tr>\n",
       "      <th>std</th>\n",
       "      <td>1.406715</td>\n",
       "    </tr>\n",
       "    <tr>\n",
       "      <th>min</th>\n",
       "      <td>1.000000</td>\n",
       "    </tr>\n",
       "    <tr>\n",
       "      <th>25%</th>\n",
       "      <td>3.000000</td>\n",
       "    </tr>\n",
       "    <tr>\n",
       "      <th>50%</th>\n",
       "      <td>4.000000</td>\n",
       "    </tr>\n",
       "    <tr>\n",
       "      <th>75%</th>\n",
       "      <td>5.000000</td>\n",
       "    </tr>\n",
       "    <tr>\n",
       "      <th>max</th>\n",
       "      <td>5.000000</td>\n",
       "    </tr>\n",
       "  </tbody>\n",
       "</table>\n",
       "</div>"
      ],
      "text/plain": [
       "       CategoryOrd\n",
       "count    62.000000\n",
       "mean      3.612903\n",
       "std       1.406715\n",
       "min       1.000000\n",
       "25%       3.000000\n",
       "50%       4.000000\n",
       "75%       5.000000\n",
       "max       5.000000"
      ]
     },
     "execution_count": 18,
     "metadata": {},
     "output_type": "execute_result"
    }
   ],
   "source": [
    "# 기초통계정보\n",
    "products.describe()"
   ]
  },
  {
   "cell_type": "code",
   "execution_count": 19,
   "metadata": {
    "id": "2UORrtJftFR2"
   },
   "outputs": [
    {
     "data": {
      "text/plain": [
       "ProductID      0\n",
       "ProductName    0\n",
       "Category       0\n",
       "SubCategory    0\n",
       "CategoryOrd    0\n",
       "dtype: int64"
      ]
     },
     "execution_count": 19,
     "metadata": {},
     "output_type": "execute_result"
    }
   ],
   "source": [
    "# 결측치 확인\n",
    "products.isna().sum()"
   ]
  },
  {
   "cell_type": "code",
   "execution_count": 20,
   "metadata": {
    "id": "tNMknvcbgBM0"
   },
   "outputs": [
    {
     "data": {
      "text/plain": [
       "62"
      ]
     },
     "execution_count": 20,
     "metadata": {},
     "output_type": "execute_result"
    }
   ],
   "source": [
    "# 전체 상품 수\n",
    "products['ProductID'].count()"
   ]
  },
  {
   "cell_type": "code",
   "execution_count": 21,
   "metadata": {
    "id": "NhIVId_ngBM0"
   },
   "outputs": [
    {
     "data": {
      "text/html": [
       "<div>\n",
       "<style scoped>\n",
       "    .dataframe tbody tr th:only-of-type {\n",
       "        vertical-align: middle;\n",
       "    }\n",
       "\n",
       "    .dataframe tbody tr th {\n",
       "        vertical-align: top;\n",
       "    }\n",
       "\n",
       "    .dataframe thead th {\n",
       "        text-align: right;\n",
       "    }\n",
       "</style>\n",
       "<table border=\"1\" class=\"dataframe\">\n",
       "  <thead>\n",
       "    <tr style=\"text-align: right;\">\n",
       "      <th></th>\n",
       "      <th>Category</th>\n",
       "      <th>ProductID</th>\n",
       "    </tr>\n",
       "  </thead>\n",
       "  <tbody>\n",
       "    <tr>\n",
       "      <th>0</th>\n",
       "      <td>간식</td>\n",
       "      <td>11</td>\n",
       "    </tr>\n",
       "    <tr>\n",
       "      <th>1</th>\n",
       "      <td>과일</td>\n",
       "      <td>6</td>\n",
       "    </tr>\n",
       "    <tr>\n",
       "      <th>2</th>\n",
       "      <td>반찬류</td>\n",
       "      <td>8</td>\n",
       "    </tr>\n",
       "    <tr>\n",
       "      <th>3</th>\n",
       "      <td>유제품</td>\n",
       "      <td>14</td>\n",
       "    </tr>\n",
       "    <tr>\n",
       "      <th>4</th>\n",
       "      <td>채소</td>\n",
       "      <td>23</td>\n",
       "    </tr>\n",
       "  </tbody>\n",
       "</table>\n",
       "</div>"
      ],
      "text/plain": [
       "  Category  ProductID\n",
       "0       간식         11\n",
       "1       과일          6\n",
       "2      반찬류          8\n",
       "3      유제품         14\n",
       "4       채소         23"
      ]
     },
     "execution_count": 21,
     "metadata": {},
     "output_type": "execute_result"
    }
   ],
   "source": [
    "# 대분류별 상품 수\n",
    "products.groupby(by='Category', as_index=False)['ProductID'].count()"
   ]
  },
  {
   "cell_type": "code",
   "execution_count": 22,
   "metadata": {
    "id": "UYBeDSxogBM1"
   },
   "outputs": [
    {
     "data": {
      "text/html": [
       "<div>\n",
       "<style scoped>\n",
       "    .dataframe tbody tr th:only-of-type {\n",
       "        vertical-align: middle;\n",
       "    }\n",
       "\n",
       "    .dataframe tbody tr th {\n",
       "        vertical-align: top;\n",
       "    }\n",
       "\n",
       "    .dataframe thead th {\n",
       "        text-align: right;\n",
       "    }\n",
       "</style>\n",
       "<table border=\"1\" class=\"dataframe\">\n",
       "  <thead>\n",
       "    <tr style=\"text-align: right;\">\n",
       "      <th></th>\n",
       "      <th>Category</th>\n",
       "      <th>SubCategory</th>\n",
       "      <th>ProductID</th>\n",
       "    </tr>\n",
       "  </thead>\n",
       "  <tbody>\n",
       "    <tr>\n",
       "      <th>0</th>\n",
       "      <td>간식</td>\n",
       "      <td>과자</td>\n",
       "      <td>6</td>\n",
       "    </tr>\n",
       "    <tr>\n",
       "      <th>1</th>\n",
       "      <td>간식</td>\n",
       "      <td>빵</td>\n",
       "      <td>2</td>\n",
       "    </tr>\n",
       "    <tr>\n",
       "      <th>2</th>\n",
       "      <td>간식</td>\n",
       "      <td>사탕류</td>\n",
       "      <td>3</td>\n",
       "    </tr>\n",
       "    <tr>\n",
       "      <th>3</th>\n",
       "      <td>과일</td>\n",
       "      <td>과수</td>\n",
       "      <td>2</td>\n",
       "    </tr>\n",
       "    <tr>\n",
       "      <th>4</th>\n",
       "      <td>과일</td>\n",
       "      <td>과채</td>\n",
       "      <td>4</td>\n",
       "    </tr>\n",
       "    <tr>\n",
       "      <th>5</th>\n",
       "      <td>반찬류</td>\n",
       "      <td>나물류</td>\n",
       "      <td>2</td>\n",
       "    </tr>\n",
       "    <tr>\n",
       "      <th>6</th>\n",
       "      <td>반찬류</td>\n",
       "      <td>두부</td>\n",
       "      <td>6</td>\n",
       "    </tr>\n",
       "    <tr>\n",
       "      <th>7</th>\n",
       "      <td>유제품</td>\n",
       "      <td>아이스크림</td>\n",
       "      <td>7</td>\n",
       "    </tr>\n",
       "    <tr>\n",
       "      <th>8</th>\n",
       "      <td>유제품</td>\n",
       "      <td>요거트</td>\n",
       "      <td>2</td>\n",
       "    </tr>\n",
       "    <tr>\n",
       "      <th>9</th>\n",
       "      <td>유제품</td>\n",
       "      <td>우유</td>\n",
       "      <td>5</td>\n",
       "    </tr>\n",
       "    <tr>\n",
       "      <th>10</th>\n",
       "      <td>채소</td>\n",
       "      <td>버섯</td>\n",
       "      <td>2</td>\n",
       "    </tr>\n",
       "    <tr>\n",
       "      <th>11</th>\n",
       "      <td>채소</td>\n",
       "      <td>뿌리채소</td>\n",
       "      <td>9</td>\n",
       "    </tr>\n",
       "    <tr>\n",
       "      <th>12</th>\n",
       "      <td>채소</td>\n",
       "      <td>열매채소</td>\n",
       "      <td>4</td>\n",
       "    </tr>\n",
       "    <tr>\n",
       "      <th>13</th>\n",
       "      <td>채소</td>\n",
       "      <td>잎채소</td>\n",
       "      <td>8</td>\n",
       "    </tr>\n",
       "  </tbody>\n",
       "</table>\n",
       "</div>"
      ],
      "text/plain": [
       "   Category SubCategory  ProductID\n",
       "0        간식          과자          6\n",
       "1        간식           빵          2\n",
       "2        간식         사탕류          3\n",
       "3        과일          과수          2\n",
       "4        과일          과채          4\n",
       "5       반찬류         나물류          2\n",
       "6       반찬류          두부          6\n",
       "7       유제품       아이스크림          7\n",
       "8       유제품         요거트          2\n",
       "9       유제품          우유          5\n",
       "10       채소          버섯          2\n",
       "11       채소        뿌리채소          9\n",
       "12       채소        열매채소          4\n",
       "13       채소         잎채소          8"
      ]
     },
     "execution_count": 22,
     "metadata": {},
     "output_type": "execute_result"
    }
   ],
   "source": [
    "# 대분류 + 소분류별  상품 수\n",
    "products.groupby(by=['Category', 'SubCategory'], as_index=False)['ProductID'].count()"
   ]
  },
  {
   "cell_type": "markdown",
   "metadata": {
    "id": "Ek_BgBX7gBM1"
   },
   "source": [
    "**3) 주문 정보(orders)**"
   ]
  },
  {
   "cell_type": "code",
   "execution_count": 23,
   "metadata": {
    "id": "6550xr-LgBM1"
   },
   "outputs": [
    {
     "data": {
      "text/html": [
       "<div>\n",
       "<style scoped>\n",
       "    .dataframe tbody tr th:only-of-type {\n",
       "        vertical-align: middle;\n",
       "    }\n",
       "\n",
       "    .dataframe tbody tr th {\n",
       "        vertical-align: top;\n",
       "    }\n",
       "\n",
       "    .dataframe thead th {\n",
       "        text-align: right;\n",
       "    }\n",
       "</style>\n",
       "<table border=\"1\" class=\"dataframe\">\n",
       "  <thead>\n",
       "    <tr style=\"text-align: right;\">\n",
       "      <th></th>\n",
       "      <th>OrderID</th>\n",
       "      <th>Seq</th>\n",
       "      <th>OrderDate</th>\n",
       "      <th>ProductID</th>\n",
       "      <th>Qty</th>\n",
       "      <th>Amt</th>\n",
       "      <th>CustomerID</th>\n",
       "    </tr>\n",
       "  </thead>\n",
       "  <tbody>\n",
       "    <tr>\n",
       "      <th>0</th>\n",
       "      <td>1</td>\n",
       "      <td>1</td>\n",
       "      <td>2016-01-02</td>\n",
       "      <td>p1030071</td>\n",
       "      <td>2</td>\n",
       "      <td>7900</td>\n",
       "      <td>c107853</td>\n",
       "    </tr>\n",
       "    <tr>\n",
       "      <th>1</th>\n",
       "      <td>2</td>\n",
       "      <td>1</td>\n",
       "      <td>2016-01-02</td>\n",
       "      <td>p1012761</td>\n",
       "      <td>1</td>\n",
       "      <td>1700</td>\n",
       "      <td>c110521</td>\n",
       "    </tr>\n",
       "    <tr>\n",
       "      <th>2</th>\n",
       "      <td>2</td>\n",
       "      <td>2</td>\n",
       "      <td>2016-01-02</td>\n",
       "      <td>p1012581</td>\n",
       "      <td>1</td>\n",
       "      <td>1000</td>\n",
       "      <td>c110521</td>\n",
       "    </tr>\n",
       "    <tr>\n",
       "      <th>3</th>\n",
       "      <td>2</td>\n",
       "      <td>3</td>\n",
       "      <td>2016-01-02</td>\n",
       "      <td>p1175481</td>\n",
       "      <td>1</td>\n",
       "      <td>1300</td>\n",
       "      <td>c110521</td>\n",
       "    </tr>\n",
       "    <tr>\n",
       "      <th>4</th>\n",
       "      <td>2</td>\n",
       "      <td>4</td>\n",
       "      <td>2016-01-02</td>\n",
       "      <td>p1178011</td>\n",
       "      <td>1</td>\n",
       "      <td>8800</td>\n",
       "      <td>c110521</td>\n",
       "    </tr>\n",
       "  </tbody>\n",
       "</table>\n",
       "</div>"
      ],
      "text/plain": [
       "   OrderID  Seq   OrderDate ProductID  Qty   Amt CustomerID\n",
       "0        1    1  2016-01-02  p1030071    2  7900    c107853\n",
       "1        2    1  2016-01-02  p1012761    1  1700    c110521\n",
       "2        2    2  2016-01-02  p1012581    1  1000    c110521\n",
       "3        2    3  2016-01-02  p1175481    1  1300    c110521\n",
       "4        2    4  2016-01-02  p1178011    1  8800    c110521"
      ]
     },
     "execution_count": 23,
     "metadata": {},
     "output_type": "execute_result"
    }
   ],
   "source": [
    "# 상위 데이터\n",
    "orders.head()"
   ]
  },
  {
   "cell_type": "code",
   "execution_count": 24,
   "metadata": {
    "id": "Az3Ms14YgBM1"
   },
   "outputs": [
    {
     "data": {
      "text/html": [
       "<div>\n",
       "<style scoped>\n",
       "    .dataframe tbody tr th:only-of-type {\n",
       "        vertical-align: middle;\n",
       "    }\n",
       "\n",
       "    .dataframe tbody tr th {\n",
       "        vertical-align: top;\n",
       "    }\n",
       "\n",
       "    .dataframe thead th {\n",
       "        text-align: right;\n",
       "    }\n",
       "</style>\n",
       "<table border=\"1\" class=\"dataframe\">\n",
       "  <thead>\n",
       "    <tr style=\"text-align: right;\">\n",
       "      <th></th>\n",
       "      <th>OrderID</th>\n",
       "      <th>Seq</th>\n",
       "      <th>OrderDate</th>\n",
       "      <th>ProductID</th>\n",
       "      <th>Qty</th>\n",
       "      <th>Amt</th>\n",
       "      <th>CustomerID</th>\n",
       "    </tr>\n",
       "  </thead>\n",
       "  <tbody>\n",
       "    <tr>\n",
       "      <th>68834</th>\n",
       "      <td>76</td>\n",
       "      <td>1</td>\n",
       "      <td>2017-03-31</td>\n",
       "      <td>p1201601</td>\n",
       "      <td>1</td>\n",
       "      <td>2100</td>\n",
       "      <td>c302834</td>\n",
       "    </tr>\n",
       "    <tr>\n",
       "      <th>68835</th>\n",
       "      <td>77</td>\n",
       "      <td>1</td>\n",
       "      <td>2017-03-31</td>\n",
       "      <td>p1002841</td>\n",
       "      <td>1</td>\n",
       "      <td>10700</td>\n",
       "      <td>c343734</td>\n",
       "    </tr>\n",
       "    <tr>\n",
       "      <th>68836</th>\n",
       "      <td>78</td>\n",
       "      <td>1</td>\n",
       "      <td>2017-03-31</td>\n",
       "      <td>p1012761</td>\n",
       "      <td>1</td>\n",
       "      <td>1900</td>\n",
       "      <td>c354639</td>\n",
       "    </tr>\n",
       "    <tr>\n",
       "      <th>68837</th>\n",
       "      <td>79</td>\n",
       "      <td>1</td>\n",
       "      <td>2017-03-31</td>\n",
       "      <td>p1005891</td>\n",
       "      <td>1</td>\n",
       "      <td>1950</td>\n",
       "      <td>c394131</td>\n",
       "    </tr>\n",
       "    <tr>\n",
       "      <th>68838</th>\n",
       "      <td>79</td>\n",
       "      <td>2</td>\n",
       "      <td>2017-03-31</td>\n",
       "      <td>p1179241</td>\n",
       "      <td>1</td>\n",
       "      <td>2200</td>\n",
       "      <td>c394131</td>\n",
       "    </tr>\n",
       "  </tbody>\n",
       "</table>\n",
       "</div>"
      ],
      "text/plain": [
       "       OrderID  Seq   OrderDate ProductID  Qty    Amt CustomerID\n",
       "68834       76    1  2017-03-31  p1201601    1   2100    c302834\n",
       "68835       77    1  2017-03-31  p1002841    1  10700    c343734\n",
       "68836       78    1  2017-03-31  p1012761    1   1900    c354639\n",
       "68837       79    1  2017-03-31  p1005891    1   1950    c394131\n",
       "68838       79    2  2017-03-31  p1179241    1   2200    c394131"
      ]
     },
     "execution_count": 24,
     "metadata": {},
     "output_type": "execute_result"
    }
   ],
   "source": [
    "# 하위 데이터\n",
    "orders.tail()"
   ]
  },
  {
   "cell_type": "code",
   "execution_count": 25,
   "metadata": {},
   "outputs": [
    {
     "name": "stdout",
     "output_type": "stream",
     "text": [
      "<class 'pandas.core.frame.DataFrame'>\n",
      "RangeIndex: 68839 entries, 0 to 68838\n",
      "Data columns (total 7 columns):\n",
      " #   Column      Non-Null Count  Dtype \n",
      "---  ------      --------------  ----- \n",
      " 0   OrderID     68839 non-null  int64 \n",
      " 1   Seq         68839 non-null  int64 \n",
      " 2   OrderDate   68839 non-null  object\n",
      " 3   ProductID   68839 non-null  object\n",
      " 4   Qty         68839 non-null  int64 \n",
      " 5   Amt         68839 non-null  int64 \n",
      " 6   CustomerID  68839 non-null  object\n",
      "dtypes: int64(4), object(3)\n",
      "memory usage: 3.7+ MB\n"
     ]
    }
   ],
   "source": [
    "# 열 정보 확인\n",
    "orders.info()"
   ]
  },
  {
   "cell_type": "code",
   "execution_count": 26,
   "metadata": {},
   "outputs": [
    {
     "data": {
      "text/html": [
       "<div>\n",
       "<style scoped>\n",
       "    .dataframe tbody tr th:only-of-type {\n",
       "        vertical-align: middle;\n",
       "    }\n",
       "\n",
       "    .dataframe tbody tr th {\n",
       "        vertical-align: top;\n",
       "    }\n",
       "\n",
       "    .dataframe thead th {\n",
       "        text-align: right;\n",
       "    }\n",
       "</style>\n",
       "<table border=\"1\" class=\"dataframe\">\n",
       "  <thead>\n",
       "    <tr style=\"text-align: right;\">\n",
       "      <th></th>\n",
       "      <th>OrderID</th>\n",
       "      <th>Seq</th>\n",
       "      <th>Qty</th>\n",
       "      <th>Amt</th>\n",
       "    </tr>\n",
       "  </thead>\n",
       "  <tbody>\n",
       "    <tr>\n",
       "      <th>count</th>\n",
       "      <td>68839.000000</td>\n",
       "      <td>68839.000000</td>\n",
       "      <td>68839.000000</td>\n",
       "      <td>68839.000000</td>\n",
       "    </tr>\n",
       "    <tr>\n",
       "      <th>mean</th>\n",
       "      <td>38.551519</td>\n",
       "      <td>2.082628</td>\n",
       "      <td>1.266985</td>\n",
       "      <td>2847.057990</td>\n",
       "    </tr>\n",
       "    <tr>\n",
       "      <th>std</th>\n",
       "      <td>23.952370</td>\n",
       "      <td>1.469644</td>\n",
       "      <td>1.372289</td>\n",
       "      <td>2634.378327</td>\n",
       "    </tr>\n",
       "    <tr>\n",
       "      <th>min</th>\n",
       "      <td>1.000000</td>\n",
       "      <td>1.000000</td>\n",
       "      <td>1.000000</td>\n",
       "      <td>250.000000</td>\n",
       "    </tr>\n",
       "    <tr>\n",
       "      <th>25%</th>\n",
       "      <td>18.000000</td>\n",
       "      <td>1.000000</td>\n",
       "      <td>1.000000</td>\n",
       "      <td>1300.000000</td>\n",
       "    </tr>\n",
       "    <tr>\n",
       "      <th>50%</th>\n",
       "      <td>37.000000</td>\n",
       "      <td>2.000000</td>\n",
       "      <td>1.000000</td>\n",
       "      <td>1950.000000</td>\n",
       "    </tr>\n",
       "    <tr>\n",
       "      <th>75%</th>\n",
       "      <td>56.000000</td>\n",
       "      <td>3.000000</td>\n",
       "      <td>1.000000</td>\n",
       "      <td>3227.000000</td>\n",
       "    </tr>\n",
       "    <tr>\n",
       "      <th>max</th>\n",
       "      <td>122.000000</td>\n",
       "      <td>15.000000</td>\n",
       "      <td>200.000000</td>\n",
       "      <td>109100.000000</td>\n",
       "    </tr>\n",
       "  </tbody>\n",
       "</table>\n",
       "</div>"
      ],
      "text/plain": [
       "            OrderID           Seq           Qty            Amt\n",
       "count  68839.000000  68839.000000  68839.000000   68839.000000\n",
       "mean      38.551519      2.082628      1.266985    2847.057990\n",
       "std       23.952370      1.469644      1.372289    2634.378327\n",
       "min        1.000000      1.000000      1.000000     250.000000\n",
       "25%       18.000000      1.000000      1.000000    1300.000000\n",
       "50%       37.000000      2.000000      1.000000    1950.000000\n",
       "75%       56.000000      3.000000      1.000000    3227.000000\n",
       "max      122.000000     15.000000    200.000000  109100.000000"
      ]
     },
     "execution_count": 26,
     "metadata": {},
     "output_type": "execute_result"
    }
   ],
   "source": [
    "# 기초통계정보\n",
    "orders.describe()"
   ]
  },
  {
   "cell_type": "code",
   "execution_count": 27,
   "metadata": {
    "id": "jaTP8tS2tJOT"
   },
   "outputs": [
    {
     "data": {
      "text/plain": [
       "OrderID       0\n",
       "Seq           0\n",
       "OrderDate     0\n",
       "ProductID     0\n",
       "Qty           0\n",
       "Amt           0\n",
       "CustomerID    0\n",
       "dtype: int64"
      ]
     },
     "execution_count": 27,
     "metadata": {},
     "output_type": "execute_result"
    }
   ],
   "source": [
    "# 결측치 확인\n",
    "orders.isna().sum()"
   ]
  },
  {
   "cell_type": "code",
   "execution_count": 28,
   "metadata": {
    "id": "Gb4qRTALgBM2"
   },
   "outputs": [
    {
     "data": {
      "text/plain": [
       "68839"
      ]
     },
     "execution_count": 28,
     "metadata": {},
     "output_type": "execute_result"
    }
   ],
   "source": [
    "# 전체 판매 건수\n",
    "orders['OrderID'].count()"
   ]
  },
  {
   "cell_type": "code",
   "execution_count": 29,
   "metadata": {
    "id": "9HLuVi0UgBM2"
   },
   "outputs": [
    {
     "data": {
      "text/plain": [
       "Qty       200\n",
       "Amt    109100\n",
       "dtype: int64"
      ]
     },
     "execution_count": 29,
     "metadata": {},
     "output_type": "execute_result"
    }
   ],
   "source": [
    "# 수량, 판매 금액 최댓값\n",
    "orders[['Qty', 'Amt']].max()"
   ]
  },
  {
   "cell_type": "code",
   "execution_count": 30,
   "metadata": {
    "id": "O_3v-dTYgBM2"
   },
   "outputs": [
    {
     "data": {
      "text/plain": [
       "Qty      1\n",
       "Amt    250\n",
       "dtype: int64"
      ]
     },
     "execution_count": 30,
     "metadata": {},
     "output_type": "execute_result"
    }
   ],
   "source": [
    "# 수량, 판매 금액 최솟값\n",
    "orders[['Qty', 'Amt']].min()"
   ]
  },
  {
   "cell_type": "markdown",
   "metadata": {
    "id": "Ssb_UpOagBM2"
   },
   "source": [
    "## 3.데이터 전처리\n",
    "\n",
    "- 결측치 처리\n",
    "- 값 변경\n",
    "- 열 추가\n",
    "- 불필요한 열 제거\n",
    "- 열 이름 변경\n",
    "- 데이터 통합(연결 또는 조인)\n",
    "- 가변수화 등"
   ]
  },
  {
   "cell_type": "markdown",
   "metadata": {
    "id": "XDI0-X06gBM3"
   },
   "source": [
    "**1) 데이터 통합**\n",
    "\n",
    "- 각 데이터프레임의 모든 열을 통합 할 것이 아니면 \n",
    "    - 필요한 열만 추출해 별도 데이터프레임을 선언한 후 통합하거나\n",
    "    - 또는 모두 통합 후 불필요한 열을 제거하는 방법을 사용합니다."
   ]
  },
  {
   "cell_type": "markdown",
   "metadata": {
    "id": "wJYGIn8ZgBM3"
   },
   "source": [
    "- 병합할 orders 데이터"
   ]
  },
  {
   "cell_type": "code",
   "execution_count": 31,
   "metadata": {
    "id": "YWjr-oYogBM3"
   },
   "outputs": [
    {
     "data": {
      "text/html": [
       "<div>\n",
       "<style scoped>\n",
       "    .dataframe tbody tr th:only-of-type {\n",
       "        vertical-align: middle;\n",
       "    }\n",
       "\n",
       "    .dataframe tbody tr th {\n",
       "        vertical-align: top;\n",
       "    }\n",
       "\n",
       "    .dataframe thead th {\n",
       "        text-align: right;\n",
       "    }\n",
       "</style>\n",
       "<table border=\"1\" class=\"dataframe\">\n",
       "  <thead>\n",
       "    <tr style=\"text-align: right;\">\n",
       "      <th></th>\n",
       "      <th>OrderDate</th>\n",
       "      <th>ProductID</th>\n",
       "      <th>Qty</th>\n",
       "      <th>Amt</th>\n",
       "      <th>CustomerID</th>\n",
       "    </tr>\n",
       "  </thead>\n",
       "  <tbody>\n",
       "    <tr>\n",
       "      <th>0</th>\n",
       "      <td>2016-01-02</td>\n",
       "      <td>p1030071</td>\n",
       "      <td>2</td>\n",
       "      <td>7900</td>\n",
       "      <td>c107853</td>\n",
       "    </tr>\n",
       "    <tr>\n",
       "      <th>1</th>\n",
       "      <td>2016-01-02</td>\n",
       "      <td>p1012761</td>\n",
       "      <td>1</td>\n",
       "      <td>1700</td>\n",
       "      <td>c110521</td>\n",
       "    </tr>\n",
       "    <tr>\n",
       "      <th>2</th>\n",
       "      <td>2016-01-02</td>\n",
       "      <td>p1012581</td>\n",
       "      <td>1</td>\n",
       "      <td>1000</td>\n",
       "      <td>c110521</td>\n",
       "    </tr>\n",
       "    <tr>\n",
       "      <th>3</th>\n",
       "      <td>2016-01-02</td>\n",
       "      <td>p1175481</td>\n",
       "      <td>1</td>\n",
       "      <td>1300</td>\n",
       "      <td>c110521</td>\n",
       "    </tr>\n",
       "    <tr>\n",
       "      <th>4</th>\n",
       "      <td>2016-01-02</td>\n",
       "      <td>p1178011</td>\n",
       "      <td>1</td>\n",
       "      <td>8800</td>\n",
       "      <td>c110521</td>\n",
       "    </tr>\n",
       "  </tbody>\n",
       "</table>\n",
       "</div>"
      ],
      "text/plain": [
       "    OrderDate ProductID  Qty   Amt CustomerID\n",
       "0  2016-01-02  p1030071    2  7900    c107853\n",
       "1  2016-01-02  p1012761    1  1700    c110521\n",
       "2  2016-01-02  p1012581    1  1000    c110521\n",
       "3  2016-01-02  p1175481    1  1300    c110521\n",
       "4  2016-01-02  p1178011    1  8800    c110521"
      ]
     },
     "execution_count": 31,
     "metadata": {},
     "output_type": "execute_result"
    }
   ],
   "source": [
    "# 병합할 주문 정보:OrderDate, ProductID, Qty, Amt, CustomerID\n",
    "orders = orders[['OrderDate', 'ProductID', 'Qty', 'Amt', 'CustomerID']]\n",
    "orders.head()"
   ]
  },
  {
   "cell_type": "markdown",
   "metadata": {
    "id": "ZZAimQFWgBM3"
   },
   "source": [
    "- 병합할 customers 데이터"
   ]
  },
  {
   "cell_type": "code",
   "execution_count": 32,
   "metadata": {
    "id": "wuKOZoV7gBM3"
   },
   "outputs": [
    {
     "data": {
      "text/html": [
       "<div>\n",
       "<style scoped>\n",
       "    .dataframe tbody tr th:only-of-type {\n",
       "        vertical-align: middle;\n",
       "    }\n",
       "\n",
       "    .dataframe tbody tr th {\n",
       "        vertical-align: top;\n",
       "    }\n",
       "\n",
       "    .dataframe thead th {\n",
       "        text-align: right;\n",
       "    }\n",
       "</style>\n",
       "<table border=\"1\" class=\"dataframe\">\n",
       "  <thead>\n",
       "    <tr style=\"text-align: right;\">\n",
       "      <th></th>\n",
       "      <th>CustomerID</th>\n",
       "      <th>RegisterDate</th>\n",
       "      <th>Gender</th>\n",
       "      <th>BirthYear</th>\n",
       "      <th>Addr1</th>\n",
       "    </tr>\n",
       "  </thead>\n",
       "  <tbody>\n",
       "    <tr>\n",
       "      <th>0</th>\n",
       "      <td>c017487</td>\n",
       "      <td>2002-07-31</td>\n",
       "      <td>F</td>\n",
       "      <td>1968</td>\n",
       "      <td>경기도</td>\n",
       "    </tr>\n",
       "    <tr>\n",
       "      <th>1</th>\n",
       "      <td>c017503</td>\n",
       "      <td>2002-07-31</td>\n",
       "      <td>F</td>\n",
       "      <td>1971</td>\n",
       "      <td>서울특별시</td>\n",
       "    </tr>\n",
       "    <tr>\n",
       "      <th>2</th>\n",
       "      <td>c017517</td>\n",
       "      <td>2002-07-31</td>\n",
       "      <td>M</td>\n",
       "      <td>1967</td>\n",
       "      <td>경기도</td>\n",
       "    </tr>\n",
       "    <tr>\n",
       "      <th>3</th>\n",
       "      <td>c017522</td>\n",
       "      <td>2002-07-31</td>\n",
       "      <td>F</td>\n",
       "      <td>1965</td>\n",
       "      <td>강원도</td>\n",
       "    </tr>\n",
       "    <tr>\n",
       "      <th>4</th>\n",
       "      <td>c017526</td>\n",
       "      <td>2002-07-31</td>\n",
       "      <td>F</td>\n",
       "      <td>1960</td>\n",
       "      <td>경기도</td>\n",
       "    </tr>\n",
       "  </tbody>\n",
       "</table>\n",
       "</div>"
      ],
      "text/plain": [
       "  CustomerID RegisterDate Gender  BirthYear  Addr1\n",
       "0    c017487   2002-07-31      F       1968    경기도\n",
       "1    c017503   2002-07-31      F       1971  서울특별시\n",
       "2    c017517   2002-07-31      M       1967    경기도\n",
       "3    c017522   2002-07-31      F       1965    강원도\n",
       "4    c017526   2002-07-31      F       1960    경기도"
      ]
     },
     "execution_count": 32,
     "metadata": {},
     "output_type": "execute_result"
    }
   ],
   "source": [
    "# 병합할 고객 정보:CustomerID, RegisterDate, Gender, BirthYear, Addr1\n",
    "customers = customers[['CustomerID', 'RegisterDate', 'Gender', 'BirthYear', 'Addr1']]\n",
    "customers.head()"
   ]
  },
  {
   "cell_type": "markdown",
   "metadata": {
    "id": "860DZkCQgBM4"
   },
   "source": [
    "- 병합할 products 데이터"
   ]
  },
  {
   "cell_type": "code",
   "execution_count": 33,
   "metadata": {
    "id": "m36_2vzmgBM4"
   },
   "outputs": [
    {
     "data": {
      "text/html": [
       "<div>\n",
       "<style scoped>\n",
       "    .dataframe tbody tr th:only-of-type {\n",
       "        vertical-align: middle;\n",
       "    }\n",
       "\n",
       "    .dataframe tbody tr th {\n",
       "        vertical-align: top;\n",
       "    }\n",
       "\n",
       "    .dataframe thead th {\n",
       "        text-align: right;\n",
       "    }\n",
       "</style>\n",
       "<table border=\"1\" class=\"dataframe\">\n",
       "  <thead>\n",
       "    <tr style=\"text-align: right;\">\n",
       "      <th></th>\n",
       "      <th>ProductID</th>\n",
       "      <th>ProductName</th>\n",
       "      <th>Category</th>\n",
       "      <th>SubCategory</th>\n",
       "    </tr>\n",
       "  </thead>\n",
       "  <tbody>\n",
       "    <tr>\n",
       "      <th>0</th>\n",
       "      <td>p1001771</td>\n",
       "      <td>마늘</td>\n",
       "      <td>채소</td>\n",
       "      <td>뿌리채소</td>\n",
       "    </tr>\n",
       "    <tr>\n",
       "      <th>1</th>\n",
       "      <td>p1002841</td>\n",
       "      <td>딸기_대</td>\n",
       "      <td>과일</td>\n",
       "      <td>과채</td>\n",
       "    </tr>\n",
       "    <tr>\n",
       "      <th>2</th>\n",
       "      <td>p1005621</td>\n",
       "      <td>숙주나물</td>\n",
       "      <td>반찬류</td>\n",
       "      <td>나물류</td>\n",
       "    </tr>\n",
       "    <tr>\n",
       "      <th>3</th>\n",
       "      <td>p1005771</td>\n",
       "      <td>두부_소</td>\n",
       "      <td>반찬류</td>\n",
       "      <td>두부</td>\n",
       "    </tr>\n",
       "    <tr>\n",
       "      <th>4</th>\n",
       "      <td>p1005891</td>\n",
       "      <td>두부_대</td>\n",
       "      <td>반찬류</td>\n",
       "      <td>두부</td>\n",
       "    </tr>\n",
       "  </tbody>\n",
       "</table>\n",
       "</div>"
      ],
      "text/plain": [
       "  ProductID ProductName Category SubCategory\n",
       "0  p1001771          마늘       채소        뿌리채소\n",
       "1  p1002841        딸기_대       과일          과채\n",
       "2  p1005621        숙주나물      반찬류         나물류\n",
       "3  p1005771        두부_소      반찬류          두부\n",
       "4  p1005891        두부_대      반찬류          두부"
      ]
     },
     "execution_count": 33,
     "metadata": {},
     "output_type": "execute_result"
    }
   ],
   "source": [
    "# 병합할 상품 정보:ProductID, ProductName, Category, SubCategory\n",
    "products = products[['ProductID', 'ProductName', 'Category', 'SubCategory']]\n",
    "products.head()"
   ]
  },
  {
   "cell_type": "markdown",
   "metadata": {
    "id": "Dy8A_bx4gBM4"
   },
   "source": [
    "- 데이터 병합"
   ]
  },
  {
   "cell_type": "code",
   "execution_count": 34,
   "metadata": {
    "id": "NW7N_xeVgBM4"
   },
   "outputs": [],
   "source": [
    "# 데이터 병합\n",
    "sales = pd.merge(orders, customers, on='CustomerID', how='inner')\n",
    "sales = pd.merge(sales, products, on='ProductID', how='inner')"
   ]
  },
  {
   "cell_type": "markdown",
   "metadata": {
    "id": "RvrfT0pRgBM4"
   },
   "source": [
    "**2) 결과 확인**"
   ]
  },
  {
   "cell_type": "code",
   "execution_count": 35,
   "metadata": {
    "id": "j-24yh-wgBM4"
   },
   "outputs": [
    {
     "data": {
      "text/html": [
       "<div>\n",
       "<style scoped>\n",
       "    .dataframe tbody tr th:only-of-type {\n",
       "        vertical-align: middle;\n",
       "    }\n",
       "\n",
       "    .dataframe tbody tr th {\n",
       "        vertical-align: top;\n",
       "    }\n",
       "\n",
       "    .dataframe thead th {\n",
       "        text-align: right;\n",
       "    }\n",
       "</style>\n",
       "<table border=\"1\" class=\"dataframe\">\n",
       "  <thead>\n",
       "    <tr style=\"text-align: right;\">\n",
       "      <th></th>\n",
       "      <th>OrderDate</th>\n",
       "      <th>ProductID</th>\n",
       "      <th>Qty</th>\n",
       "      <th>Amt</th>\n",
       "      <th>CustomerID</th>\n",
       "      <th>RegisterDate</th>\n",
       "      <th>Gender</th>\n",
       "      <th>BirthYear</th>\n",
       "      <th>Addr1</th>\n",
       "      <th>ProductName</th>\n",
       "      <th>Category</th>\n",
       "      <th>SubCategory</th>\n",
       "    </tr>\n",
       "  </thead>\n",
       "  <tbody>\n",
       "    <tr>\n",
       "      <th>0</th>\n",
       "      <td>2016-01-02</td>\n",
       "      <td>p1030071</td>\n",
       "      <td>2</td>\n",
       "      <td>7900</td>\n",
       "      <td>c107853</td>\n",
       "      <td>2008-07-11</td>\n",
       "      <td>M</td>\n",
       "      <td>1961</td>\n",
       "      <td>경기도</td>\n",
       "      <td>토마토</td>\n",
       "      <td>과일</td>\n",
       "      <td>과채</td>\n",
       "    </tr>\n",
       "    <tr>\n",
       "      <th>1</th>\n",
       "      <td>2016-05-05</td>\n",
       "      <td>p1030071</td>\n",
       "      <td>2</td>\n",
       "      <td>8200</td>\n",
       "      <td>c110521</td>\n",
       "      <td>2008-09-04</td>\n",
       "      <td>F</td>\n",
       "      <td>1972</td>\n",
       "      <td>경기도</td>\n",
       "      <td>토마토</td>\n",
       "      <td>과일</td>\n",
       "      <td>과채</td>\n",
       "    </tr>\n",
       "    <tr>\n",
       "      <th>2</th>\n",
       "      <td>2017-03-12</td>\n",
       "      <td>p1030071</td>\n",
       "      <td>2</td>\n",
       "      <td>9600</td>\n",
       "      <td>c110521</td>\n",
       "      <td>2008-09-04</td>\n",
       "      <td>F</td>\n",
       "      <td>1972</td>\n",
       "      <td>경기도</td>\n",
       "      <td>토마토</td>\n",
       "      <td>과일</td>\n",
       "      <td>과채</td>\n",
       "    </tr>\n",
       "    <tr>\n",
       "      <th>3</th>\n",
       "      <td>2016-11-05</td>\n",
       "      <td>p1030071</td>\n",
       "      <td>1</td>\n",
       "      <td>4700</td>\n",
       "      <td>c256672</td>\n",
       "      <td>2012-09-13</td>\n",
       "      <td>F</td>\n",
       "      <td>1980</td>\n",
       "      <td>서울특별시</td>\n",
       "      <td>토마토</td>\n",
       "      <td>과일</td>\n",
       "      <td>과채</td>\n",
       "    </tr>\n",
       "    <tr>\n",
       "      <th>4</th>\n",
       "      <td>2016-02-13</td>\n",
       "      <td>p1030071</td>\n",
       "      <td>1</td>\n",
       "      <td>4650</td>\n",
       "      <td>c260294</td>\n",
       "      <td>2012-10-22</td>\n",
       "      <td>F</td>\n",
       "      <td>1980</td>\n",
       "      <td>서울특별시</td>\n",
       "      <td>토마토</td>\n",
       "      <td>과일</td>\n",
       "      <td>과채</td>\n",
       "    </tr>\n",
       "  </tbody>\n",
       "</table>\n",
       "</div>"
      ],
      "text/plain": [
       "    OrderDate ProductID  Qty   Amt CustomerID RegisterDate Gender  BirthYear  \\\n",
       "0  2016-01-02  p1030071    2  7900    c107853   2008-07-11      M       1961   \n",
       "1  2016-05-05  p1030071    2  8200    c110521   2008-09-04      F       1972   \n",
       "2  2017-03-12  p1030071    2  9600    c110521   2008-09-04      F       1972   \n",
       "3  2016-11-05  p1030071    1  4700    c256672   2012-09-13      F       1980   \n",
       "4  2016-02-13  p1030071    1  4650    c260294   2012-10-22      F       1980   \n",
       "\n",
       "   Addr1 ProductName Category SubCategory  \n",
       "0    경기도         토마토       과일          과채  \n",
       "1    경기도         토마토       과일          과채  \n",
       "2    경기도         토마토       과일          과채  \n",
       "3  서울특별시         토마토       과일          과채  \n",
       "4  서울특별시         토마토       과일          과채  "
      ]
     },
     "execution_count": 35,
     "metadata": {},
     "output_type": "execute_result"
    }
   ],
   "source": [
    "# 상위 데이터 확인\n",
    "sales.head()"
   ]
  },
  {
   "cell_type": "code",
   "execution_count": 36,
   "metadata": {
    "id": "eBRxU6mtgBM5",
    "scrolled": true
   },
   "outputs": [
    {
     "data": {
      "text/html": [
       "<div>\n",
       "<style scoped>\n",
       "    .dataframe tbody tr th:only-of-type {\n",
       "        vertical-align: middle;\n",
       "    }\n",
       "\n",
       "    .dataframe tbody tr th {\n",
       "        vertical-align: top;\n",
       "    }\n",
       "\n",
       "    .dataframe thead th {\n",
       "        text-align: right;\n",
       "    }\n",
       "</style>\n",
       "<table border=\"1\" class=\"dataframe\">\n",
       "  <thead>\n",
       "    <tr style=\"text-align: right;\">\n",
       "      <th></th>\n",
       "      <th>OrderDate</th>\n",
       "      <th>ProductID</th>\n",
       "      <th>Qty</th>\n",
       "      <th>Amt</th>\n",
       "      <th>CustomerID</th>\n",
       "      <th>RegisterDate</th>\n",
       "      <th>Gender</th>\n",
       "      <th>BirthYear</th>\n",
       "      <th>Addr1</th>\n",
       "      <th>ProductName</th>\n",
       "      <th>Category</th>\n",
       "      <th>SubCategory</th>\n",
       "    </tr>\n",
       "  </thead>\n",
       "  <tbody>\n",
       "    <tr>\n",
       "      <th>68834</th>\n",
       "      <td>2017-01-14</td>\n",
       "      <td>p1139681</td>\n",
       "      <td>1</td>\n",
       "      <td>909</td>\n",
       "      <td>c127610</td>\n",
       "      <td>2009-05-05</td>\n",
       "      <td>F</td>\n",
       "      <td>1979</td>\n",
       "      <td>경기도</td>\n",
       "      <td>감귤컵푸딩</td>\n",
       "      <td>간식</td>\n",
       "      <td>사탕류</td>\n",
       "    </tr>\n",
       "    <tr>\n",
       "      <th>68835</th>\n",
       "      <td>2016-12-29</td>\n",
       "      <td>p1139681</td>\n",
       "      <td>1</td>\n",
       "      <td>909</td>\n",
       "      <td>c389635</td>\n",
       "      <td>2016-09-30</td>\n",
       "      <td>F</td>\n",
       "      <td>1991</td>\n",
       "      <td>경기도</td>\n",
       "      <td>감귤컵푸딩</td>\n",
       "      <td>간식</td>\n",
       "      <td>사탕류</td>\n",
       "    </tr>\n",
       "    <tr>\n",
       "      <th>68836</th>\n",
       "      <td>2017-03-06</td>\n",
       "      <td>p1139681</td>\n",
       "      <td>1</td>\n",
       "      <td>909</td>\n",
       "      <td>c396022</td>\n",
       "      <td>2016-12-23</td>\n",
       "      <td>F</td>\n",
       "      <td>1983</td>\n",
       "      <td>경기도</td>\n",
       "      <td>감귤컵푸딩</td>\n",
       "      <td>간식</td>\n",
       "      <td>사탕류</td>\n",
       "    </tr>\n",
       "    <tr>\n",
       "      <th>68837</th>\n",
       "      <td>2017-02-12</td>\n",
       "      <td>p1139681</td>\n",
       "      <td>5</td>\n",
       "      <td>4545</td>\n",
       "      <td>c334072</td>\n",
       "      <td>2014-11-21</td>\n",
       "      <td>F</td>\n",
       "      <td>1968</td>\n",
       "      <td>서울특별시</td>\n",
       "      <td>감귤컵푸딩</td>\n",
       "      <td>간식</td>\n",
       "      <td>사탕류</td>\n",
       "    </tr>\n",
       "    <tr>\n",
       "      <th>68838</th>\n",
       "      <td>2017-03-28</td>\n",
       "      <td>p1139681</td>\n",
       "      <td>1</td>\n",
       "      <td>909</td>\n",
       "      <td>c401584</td>\n",
       "      <td>2017-03-20</td>\n",
       "      <td>F</td>\n",
       "      <td>1979</td>\n",
       "      <td>경기도</td>\n",
       "      <td>감귤컵푸딩</td>\n",
       "      <td>간식</td>\n",
       "      <td>사탕류</td>\n",
       "    </tr>\n",
       "  </tbody>\n",
       "</table>\n",
       "</div>"
      ],
      "text/plain": [
       "        OrderDate ProductID  Qty   Amt CustomerID RegisterDate Gender  \\\n",
       "68834  2017-01-14  p1139681    1   909    c127610   2009-05-05      F   \n",
       "68835  2016-12-29  p1139681    1   909    c389635   2016-09-30      F   \n",
       "68836  2017-03-06  p1139681    1   909    c396022   2016-12-23      F   \n",
       "68837  2017-02-12  p1139681    5  4545    c334072   2014-11-21      F   \n",
       "68838  2017-03-28  p1139681    1   909    c401584   2017-03-20      F   \n",
       "\n",
       "       BirthYear  Addr1 ProductName Category SubCategory  \n",
       "68834       1979    경기도       감귤컵푸딩       간식         사탕류  \n",
       "68835       1991    경기도       감귤컵푸딩       간식         사탕류  \n",
       "68836       1983    경기도       감귤컵푸딩       간식         사탕류  \n",
       "68837       1968  서울특별시       감귤컵푸딩       간식         사탕류  \n",
       "68838       1979    경기도       감귤컵푸딩       간식         사탕류  "
      ]
     },
     "execution_count": 36,
     "metadata": {},
     "output_type": "execute_result"
    }
   ],
   "source": [
    "#  하위 데이터 확인\n",
    "sales.tail()"
   ]
  },
  {
   "cell_type": "markdown",
   "metadata": {
    "id": "Ll_SMqdOgBM5"
   },
   "source": [
    "**3) 열 추가**\n",
    "\n",
    "- 분석을 위해 필요한 열을 추가합니다.\n",
    "- 예를 들어 다음과 같은 열들이 필요하다고 판단할 수 있습니다.\n",
    "    - OrderYear: 주문연도, 주문연도별 분석이 용이하게 하기 위함\n",
    "    - OrderMonth: 주문월, 주문년월 분석이 용이하게 하기 위함\n",
    "    - Age: 나이, 연령별 분석을 하기 위함(2017 - 출생년도)\n",
    "    - RegisterYear: 등록연도, 등록연도별 분석이 용이하게 하기 위함\n",
    "    - RegisterMonth: 등록월, 등록년월 분석이 용이하게 하기 위함\n",
    "    - AgeGrp: 연령대, 연령대별로 분석이 용이하게 하기 위함"
   ]
  },
  {
   "cell_type": "code",
   "execution_count": 37,
   "metadata": {
    "id": "ICHfbKB2gBM5",
    "scrolled": true
   },
   "outputs": [
    {
     "data": {
      "text/html": [
       "<div>\n",
       "<style scoped>\n",
       "    .dataframe tbody tr th:only-of-type {\n",
       "        vertical-align: middle;\n",
       "    }\n",
       "\n",
       "    .dataframe tbody tr th {\n",
       "        vertical-align: top;\n",
       "    }\n",
       "\n",
       "    .dataframe thead th {\n",
       "        text-align: right;\n",
       "    }\n",
       "</style>\n",
       "<table border=\"1\" class=\"dataframe\">\n",
       "  <thead>\n",
       "    <tr style=\"text-align: right;\">\n",
       "      <th></th>\n",
       "      <th>OrderDate</th>\n",
       "      <th>ProductID</th>\n",
       "      <th>Qty</th>\n",
       "      <th>Amt</th>\n",
       "      <th>CustomerID</th>\n",
       "      <th>RegisterDate</th>\n",
       "      <th>Gender</th>\n",
       "      <th>BirthYear</th>\n",
       "      <th>Addr1</th>\n",
       "      <th>ProductName</th>\n",
       "      <th>Category</th>\n",
       "      <th>SubCategory</th>\n",
       "      <th>OrderYear</th>\n",
       "      <th>OrderMonth</th>\n",
       "      <th>RegisterYear</th>\n",
       "      <th>RegisterMonth</th>\n",
       "      <th>Age</th>\n",
       "      <th>AgeGrp</th>\n",
       "    </tr>\n",
       "  </thead>\n",
       "  <tbody>\n",
       "    <tr>\n",
       "      <th>0</th>\n",
       "      <td>2016-01-02</td>\n",
       "      <td>p1030071</td>\n",
       "      <td>2</td>\n",
       "      <td>7900</td>\n",
       "      <td>c107853</td>\n",
       "      <td>2008-07-11</td>\n",
       "      <td>M</td>\n",
       "      <td>1961</td>\n",
       "      <td>경기도</td>\n",
       "      <td>토마토</td>\n",
       "      <td>과일</td>\n",
       "      <td>과채</td>\n",
       "      <td>2016</td>\n",
       "      <td>1</td>\n",
       "      <td>2008</td>\n",
       "      <td>7</td>\n",
       "      <td>56</td>\n",
       "      <td>50</td>\n",
       "    </tr>\n",
       "    <tr>\n",
       "      <th>1</th>\n",
       "      <td>2016-05-05</td>\n",
       "      <td>p1030071</td>\n",
       "      <td>2</td>\n",
       "      <td>8200</td>\n",
       "      <td>c110521</td>\n",
       "      <td>2008-09-04</td>\n",
       "      <td>F</td>\n",
       "      <td>1972</td>\n",
       "      <td>경기도</td>\n",
       "      <td>토마토</td>\n",
       "      <td>과일</td>\n",
       "      <td>과채</td>\n",
       "      <td>2016</td>\n",
       "      <td>5</td>\n",
       "      <td>2008</td>\n",
       "      <td>9</td>\n",
       "      <td>45</td>\n",
       "      <td>40</td>\n",
       "    </tr>\n",
       "    <tr>\n",
       "      <th>2</th>\n",
       "      <td>2017-03-12</td>\n",
       "      <td>p1030071</td>\n",
       "      <td>2</td>\n",
       "      <td>9600</td>\n",
       "      <td>c110521</td>\n",
       "      <td>2008-09-04</td>\n",
       "      <td>F</td>\n",
       "      <td>1972</td>\n",
       "      <td>경기도</td>\n",
       "      <td>토마토</td>\n",
       "      <td>과일</td>\n",
       "      <td>과채</td>\n",
       "      <td>2017</td>\n",
       "      <td>3</td>\n",
       "      <td>2008</td>\n",
       "      <td>9</td>\n",
       "      <td>45</td>\n",
       "      <td>40</td>\n",
       "    </tr>\n",
       "    <tr>\n",
       "      <th>3</th>\n",
       "      <td>2016-11-05</td>\n",
       "      <td>p1030071</td>\n",
       "      <td>1</td>\n",
       "      <td>4700</td>\n",
       "      <td>c256672</td>\n",
       "      <td>2012-09-13</td>\n",
       "      <td>F</td>\n",
       "      <td>1980</td>\n",
       "      <td>서울특별시</td>\n",
       "      <td>토마토</td>\n",
       "      <td>과일</td>\n",
       "      <td>과채</td>\n",
       "      <td>2016</td>\n",
       "      <td>11</td>\n",
       "      <td>2012</td>\n",
       "      <td>9</td>\n",
       "      <td>37</td>\n",
       "      <td>30</td>\n",
       "    </tr>\n",
       "    <tr>\n",
       "      <th>4</th>\n",
       "      <td>2016-02-13</td>\n",
       "      <td>p1030071</td>\n",
       "      <td>1</td>\n",
       "      <td>4650</td>\n",
       "      <td>c260294</td>\n",
       "      <td>2012-10-22</td>\n",
       "      <td>F</td>\n",
       "      <td>1980</td>\n",
       "      <td>서울특별시</td>\n",
       "      <td>토마토</td>\n",
       "      <td>과일</td>\n",
       "      <td>과채</td>\n",
       "      <td>2016</td>\n",
       "      <td>2</td>\n",
       "      <td>2012</td>\n",
       "      <td>10</td>\n",
       "      <td>37</td>\n",
       "      <td>30</td>\n",
       "    </tr>\n",
       "  </tbody>\n",
       "</table>\n",
       "</div>"
      ],
      "text/plain": [
       "   OrderDate ProductID  Qty   Amt CustomerID RegisterDate Gender  BirthYear  \\\n",
       "0 2016-01-02  p1030071    2  7900    c107853   2008-07-11      M       1961   \n",
       "1 2016-05-05  p1030071    2  8200    c110521   2008-09-04      F       1972   \n",
       "2 2017-03-12  p1030071    2  9600    c110521   2008-09-04      F       1972   \n",
       "3 2016-11-05  p1030071    1  4700    c256672   2012-09-13      F       1980   \n",
       "4 2016-02-13  p1030071    1  4650    c260294   2012-10-22      F       1980   \n",
       "\n",
       "   Addr1 ProductName Category SubCategory  OrderYear  OrderMonth  \\\n",
       "0    경기도         토마토       과일          과채       2016           1   \n",
       "1    경기도         토마토       과일          과채       2016           5   \n",
       "2    경기도         토마토       과일          과채       2017           3   \n",
       "3  서울특별시         토마토       과일          과채       2016          11   \n",
       "4  서울특별시         토마토       과일          과채       2016           2   \n",
       "\n",
       "   RegisterYear  RegisterMonth  Age  AgeGrp  \n",
       "0          2008              7   56      50  \n",
       "1          2008              9   45      40  \n",
       "2          2008              9   45      40  \n",
       "3          2012              9   37      30  \n",
       "4          2012             10   37      30  "
      ]
     },
     "execution_count": 37,
     "metadata": {},
     "output_type": "execute_result"
    }
   ],
   "source": [
    "# 데이터 형식 변경\n",
    "sales['OrderDate'] = pd.to_datetime(sales['OrderDate'])\n",
    "sales['RegisterDate'] = pd.to_datetime(sales['RegisterDate'])\n",
    "\n",
    "# 열 추가\n",
    "sales['OrderYear'] = sales['OrderDate'].dt.year\n",
    "sales['OrderMonth'] = sales['OrderDate'].dt.month\n",
    "sales['RegisterYear'] = sales['RegisterDate'].dt.year\n",
    "sales['RegisterMonth'] = sales['RegisterDate'].dt.month\n",
    "sales['Age'] = 2017 - sales['BirthYear']\n",
    "sales['AgeGrp'] = sales['Age'] // 10 * 10\n",
    "\n",
    "# 확인\n",
    "sales.head()"
   ]
  },
  {
   "cell_type": "markdown",
   "metadata": {
    "id": "DBX8rt-PgBM5"
   },
   "source": [
    "**4) 불필요한 열 제거**\n",
    "\n",
    "- 분석에 필요가 없다고 생각되는 열은 제거합니다.\n",
    "- 새로운 열을 추가하면 기존 열이 필요하지 않을 수 있습니다.\n",
    "- 예를 들어 다음 열들이 필요하지 않다고 판단할 수 있습니다.\n",
    "    - OrderDate: 새로 추가한 OrderYear, OrderMonth 열 사용\n",
    "    - ProductID: ProductName 열 사용\n",
    "    - SubCategory: 분석 대상에서 제외 등등"
   ]
  },
  {
   "cell_type": "code",
   "execution_count": 38,
   "metadata": {
    "id": "OiIofiMIgBM5"
   },
   "outputs": [
    {
     "data": {
      "text/html": [
       "<div>\n",
       "<style scoped>\n",
       "    .dataframe tbody tr th:only-of-type {\n",
       "        vertical-align: middle;\n",
       "    }\n",
       "\n",
       "    .dataframe tbody tr th {\n",
       "        vertical-align: top;\n",
       "    }\n",
       "\n",
       "    .dataframe thead th {\n",
       "        text-align: right;\n",
       "    }\n",
       "</style>\n",
       "<table border=\"1\" class=\"dataframe\">\n",
       "  <thead>\n",
       "    <tr style=\"text-align: right;\">\n",
       "      <th></th>\n",
       "      <th>Qty</th>\n",
       "      <th>Amt</th>\n",
       "      <th>CustomerID</th>\n",
       "      <th>Gender</th>\n",
       "      <th>BirthYear</th>\n",
       "      <th>Addr1</th>\n",
       "      <th>ProductName</th>\n",
       "      <th>Category</th>\n",
       "      <th>OrderYear</th>\n",
       "      <th>OrderMonth</th>\n",
       "      <th>RegisterYear</th>\n",
       "      <th>RegisterMonth</th>\n",
       "      <th>Age</th>\n",
       "      <th>AgeGrp</th>\n",
       "    </tr>\n",
       "  </thead>\n",
       "  <tbody>\n",
       "    <tr>\n",
       "      <th>0</th>\n",
       "      <td>2</td>\n",
       "      <td>7900</td>\n",
       "      <td>c107853</td>\n",
       "      <td>M</td>\n",
       "      <td>1961</td>\n",
       "      <td>경기도</td>\n",
       "      <td>토마토</td>\n",
       "      <td>과일</td>\n",
       "      <td>2016</td>\n",
       "      <td>1</td>\n",
       "      <td>2008</td>\n",
       "      <td>7</td>\n",
       "      <td>56</td>\n",
       "      <td>50</td>\n",
       "    </tr>\n",
       "    <tr>\n",
       "      <th>1</th>\n",
       "      <td>2</td>\n",
       "      <td>8200</td>\n",
       "      <td>c110521</td>\n",
       "      <td>F</td>\n",
       "      <td>1972</td>\n",
       "      <td>경기도</td>\n",
       "      <td>토마토</td>\n",
       "      <td>과일</td>\n",
       "      <td>2016</td>\n",
       "      <td>5</td>\n",
       "      <td>2008</td>\n",
       "      <td>9</td>\n",
       "      <td>45</td>\n",
       "      <td>40</td>\n",
       "    </tr>\n",
       "    <tr>\n",
       "      <th>2</th>\n",
       "      <td>2</td>\n",
       "      <td>9600</td>\n",
       "      <td>c110521</td>\n",
       "      <td>F</td>\n",
       "      <td>1972</td>\n",
       "      <td>경기도</td>\n",
       "      <td>토마토</td>\n",
       "      <td>과일</td>\n",
       "      <td>2017</td>\n",
       "      <td>3</td>\n",
       "      <td>2008</td>\n",
       "      <td>9</td>\n",
       "      <td>45</td>\n",
       "      <td>40</td>\n",
       "    </tr>\n",
       "    <tr>\n",
       "      <th>3</th>\n",
       "      <td>1</td>\n",
       "      <td>4700</td>\n",
       "      <td>c256672</td>\n",
       "      <td>F</td>\n",
       "      <td>1980</td>\n",
       "      <td>서울특별시</td>\n",
       "      <td>토마토</td>\n",
       "      <td>과일</td>\n",
       "      <td>2016</td>\n",
       "      <td>11</td>\n",
       "      <td>2012</td>\n",
       "      <td>9</td>\n",
       "      <td>37</td>\n",
       "      <td>30</td>\n",
       "    </tr>\n",
       "    <tr>\n",
       "      <th>4</th>\n",
       "      <td>1</td>\n",
       "      <td>4650</td>\n",
       "      <td>c260294</td>\n",
       "      <td>F</td>\n",
       "      <td>1980</td>\n",
       "      <td>서울특별시</td>\n",
       "      <td>토마토</td>\n",
       "      <td>과일</td>\n",
       "      <td>2016</td>\n",
       "      <td>2</td>\n",
       "      <td>2012</td>\n",
       "      <td>10</td>\n",
       "      <td>37</td>\n",
       "      <td>30</td>\n",
       "    </tr>\n",
       "  </tbody>\n",
       "</table>\n",
       "</div>"
      ],
      "text/plain": [
       "   Qty   Amt CustomerID Gender  BirthYear  Addr1 ProductName Category  \\\n",
       "0    2  7900    c107853      M       1961    경기도         토마토       과일   \n",
       "1    2  8200    c110521      F       1972    경기도         토마토       과일   \n",
       "2    2  9600    c110521      F       1972    경기도         토마토       과일   \n",
       "3    1  4700    c256672      F       1980  서울특별시         토마토       과일   \n",
       "4    1  4650    c260294      F       1980  서울특별시         토마토       과일   \n",
       "\n",
       "   OrderYear  OrderMonth  RegisterYear  RegisterMonth  Age  AgeGrp  \n",
       "0       2016           1          2008              7   56      50  \n",
       "1       2016           5          2008              9   45      40  \n",
       "2       2017           3          2008              9   45      40  \n",
       "3       2016          11          2012              9   37      30  \n",
       "4       2016           2          2012             10   37      30  "
      ]
     },
     "execution_count": 38,
     "metadata": {},
     "output_type": "execute_result"
    }
   ],
   "source": [
    "# 열 제거\n",
    "cols = ['OrderDate', 'RegisterDate', 'ProductID', 'SubCategory']\n",
    "sales.drop(cols, axis=1, inplace=True)\n",
    "\n",
    "# 확인\n",
    "sales.head()"
   ]
  },
  {
   "cell_type": "markdown",
   "metadata": {
    "id": "m6GXYXOTgBM6"
   },
   "source": [
    "## 4.데이터 분석"
   ]
  },
  {
   "cell_type": "markdown",
   "metadata": {
    "id": "xnAS4-iJgBM6"
   },
   "source": [
    "**1) 남녀별 판매 현황**\n",
    "\n",
    "- 남녀별 판매 현황을 막대 그래프로 시각화해 확인합니다."
   ]
  },
  {
   "cell_type": "code",
   "execution_count": 39,
   "metadata": {
    "id": "VeFYDXeVgBM6"
   },
   "outputs": [
    {
     "data": {
      "text/html": [
       "<div>\n",
       "<style scoped>\n",
       "    .dataframe tbody tr th:only-of-type {\n",
       "        vertical-align: middle;\n",
       "    }\n",
       "\n",
       "    .dataframe tbody tr th {\n",
       "        vertical-align: top;\n",
       "    }\n",
       "\n",
       "    .dataframe thead th {\n",
       "        text-align: right;\n",
       "    }\n",
       "</style>\n",
       "<table border=\"1\" class=\"dataframe\">\n",
       "  <thead>\n",
       "    <tr style=\"text-align: right;\">\n",
       "      <th></th>\n",
       "      <th>Gender</th>\n",
       "      <th>Qty</th>\n",
       "      <th>Amt</th>\n",
       "    </tr>\n",
       "  </thead>\n",
       "  <tbody>\n",
       "    <tr>\n",
       "      <th>0</th>\n",
       "      <td>F</td>\n",
       "      <td>78368</td>\n",
       "      <td>176604277</td>\n",
       "    </tr>\n",
       "    <tr>\n",
       "      <th>1</th>\n",
       "      <td>M</td>\n",
       "      <td>8850</td>\n",
       "      <td>19384348</td>\n",
       "    </tr>\n",
       "  </tbody>\n",
       "</table>\n",
       "</div>"
      ],
      "text/plain": [
       "  Gender    Qty        Amt\n",
       "0      F  78368  176604277\n",
       "1      M   8850   19384348"
      ]
     },
     "execution_count": 39,
     "metadata": {},
     "output_type": "execute_result"
    }
   ],
   "source": [
    "# 남녀별 판매 수량, 금액 합계\n",
    "tmp = sales.groupby(by='Gender', as_index=False)[['Qty', 'Amt']].sum()\n",
    "\n",
    "# 확인\n",
    "tmp.head()"
   ]
  },
  {
   "cell_type": "code",
   "execution_count": 40,
   "metadata": {
    "id": "WEvcSWHSgBM6"
   },
   "outputs": [
    {
     "data": {
      "image/png": "[encoded data removed]",
      "text/plain": [
       "<Figure size 720x360 with 1 Axes>"
      ]
     },
     "metadata": {
      "image/png": {
       "height": 353,
       "width": 621
      },
      "needs_background": "light"
     },
     "output_type": "display_data"
    }
   ],
   "source": [
    "# 남녀별 판매 수량 시각화\n",
    "plt.figure(figsize=(10, 5))\n",
    "plt.bar(tmp['Gender'], tmp['Qty'])\n",
    "plt.title('남녀별 판매 수량', fontsize=20, pad=20)\n",
    "plt.xlabel('성별')\n",
    "plt.ylabel('판매수량(개)')\n",
    "plt.show()"
   ]
  },
  {
   "cell_type": "code",
   "execution_count": 41,
   "metadata": {
    "id": "Ati_WG0KgBM6"
   },
   "outputs": [
    {
     "data": {
      "image/png": "[encoded data removed]",
      "text/plain": [
       "<Figure size 720x360 with 1 Axes>"
      ]
     },
     "metadata": {
      "image/png": {
       "height": 353,
       "width": 621
      },
      "needs_background": "light"
     },
     "output_type": "display_data"
    }
   ],
   "source": [
    "# 남녀별 판매 금액 시각화\n",
    "plt.figure(figsize=(10, 5))\n",
    "plt.bar(tmp['Gender'], tmp['Amt'] / 10000)\n",
    "plt.title('남녀별 판매 금액', fontsize=20, pad=20)\n",
    "plt.xlabel('성별')\n",
    "plt.ylabel('판매금액(만원)')\n",
    "plt.show()"
   ]
  },
  {
   "cell_type": "markdown",
   "metadata": {
    "id": "cN83XzDHgBM7"
   },
   "source": [
    "**2) 지역별 판매 현황**\n",
    "\n",
    "- 지역별 판매 현황을 막대 그래프로 시각화해 확인합니다."
   ]
  },
  {
   "cell_type": "code",
   "execution_count": 42,
   "metadata": {
    "id": "dAFjTHR_gBM7",
    "scrolled": false
   },
   "outputs": [
    {
     "data": {
      "text/html": [
       "<div>\n",
       "<style scoped>\n",
       "    .dataframe tbody tr th:only-of-type {\n",
       "        vertical-align: middle;\n",
       "    }\n",
       "\n",
       "    .dataframe tbody tr th {\n",
       "        vertical-align: top;\n",
       "    }\n",
       "\n",
       "    .dataframe thead th {\n",
       "        text-align: right;\n",
       "    }\n",
       "</style>\n",
       "<table border=\"1\" class=\"dataframe\">\n",
       "  <thead>\n",
       "    <tr style=\"text-align: right;\">\n",
       "      <th></th>\n",
       "      <th>Addr1</th>\n",
       "      <th>Qty</th>\n",
       "      <th>Amt</th>\n",
       "    </tr>\n",
       "  </thead>\n",
       "  <tbody>\n",
       "    <tr>\n",
       "      <th>0</th>\n",
       "      <td>강원도</td>\n",
       "      <td>2688</td>\n",
       "      <td>6397272</td>\n",
       "    </tr>\n",
       "    <tr>\n",
       "      <th>1</th>\n",
       "      <td>경기도</td>\n",
       "      <td>50162</td>\n",
       "      <td>112347668</td>\n",
       "    </tr>\n",
       "    <tr>\n",
       "      <th>2</th>\n",
       "      <td>경상남도</td>\n",
       "      <td>2</td>\n",
       "      <td>3000</td>\n",
       "    </tr>\n",
       "    <tr>\n",
       "      <th>3</th>\n",
       "      <td>경상북도</td>\n",
       "      <td>22</td>\n",
       "      <td>60400</td>\n",
       "    </tr>\n",
       "    <tr>\n",
       "      <th>4</th>\n",
       "      <td>광주광역시</td>\n",
       "      <td>30</td>\n",
       "      <td>60914</td>\n",
       "    </tr>\n",
       "    <tr>\n",
       "      <th>5</th>\n",
       "      <td>대구광역시</td>\n",
       "      <td>437</td>\n",
       "      <td>1071667</td>\n",
       "    </tr>\n",
       "    <tr>\n",
       "      <th>6</th>\n",
       "      <td>서울특별시</td>\n",
       "      <td>21182</td>\n",
       "      <td>47027183</td>\n",
       "    </tr>\n",
       "    <tr>\n",
       "      <th>7</th>\n",
       "      <td>인천광역시</td>\n",
       "      <td>12076</td>\n",
       "      <td>27743748</td>\n",
       "    </tr>\n",
       "    <tr>\n",
       "      <th>8</th>\n",
       "      <td>전라남도</td>\n",
       "      <td>50</td>\n",
       "      <td>117339</td>\n",
       "    </tr>\n",
       "    <tr>\n",
       "      <th>9</th>\n",
       "      <td>전라북도</td>\n",
       "      <td>7</td>\n",
       "      <td>13941</td>\n",
       "    </tr>\n",
       "    <tr>\n",
       "      <th>10</th>\n",
       "      <td>충청남도</td>\n",
       "      <td>304</td>\n",
       "      <td>601028</td>\n",
       "    </tr>\n",
       "    <tr>\n",
       "      <th>11</th>\n",
       "      <td>충청북도</td>\n",
       "      <td>258</td>\n",
       "      <td>544465</td>\n",
       "    </tr>\n",
       "  </tbody>\n",
       "</table>\n",
       "</div>"
      ],
      "text/plain": [
       "    Addr1    Qty        Amt\n",
       "0     강원도   2688    6397272\n",
       "1     경기도  50162  112347668\n",
       "2    경상남도      2       3000\n",
       "3    경상북도     22      60400\n",
       "4   광주광역시     30      60914\n",
       "5   대구광역시    437    1071667\n",
       "6   서울특별시  21182   47027183\n",
       "7   인천광역시  12076   27743748\n",
       "8    전라남도     50     117339\n",
       "9    전라북도      7      13941\n",
       "10   충청남도    304     601028\n",
       "11   충청북도    258     544465"
      ]
     },
     "execution_count": 42,
     "metadata": {},
     "output_type": "execute_result"
    }
   ],
   "source": [
    "# 지역별 판매 수량과 금액 합\n",
    "tmp = sales.groupby(by='Addr1', as_index=False)[['Qty', 'Amt']].sum()\n",
    "\n",
    "# 확인\n",
    "tmp"
   ]
  },
  {
   "cell_type": "code",
   "execution_count": 43,
   "metadata": {
    "id": "bvPb1xzogBM7",
    "scrolled": true
   },
   "outputs": [
    {
     "data": {
      "text/html": [
       "<div>\n",
       "<style scoped>\n",
       "    .dataframe tbody tr th:only-of-type {\n",
       "        vertical-align: middle;\n",
       "    }\n",
       "\n",
       "    .dataframe tbody tr th {\n",
       "        vertical-align: top;\n",
       "    }\n",
       "\n",
       "    .dataframe thead th {\n",
       "        text-align: right;\n",
       "    }\n",
       "</style>\n",
       "<table border=\"1\" class=\"dataframe\">\n",
       "  <thead>\n",
       "    <tr style=\"text-align: right;\">\n",
       "      <th></th>\n",
       "      <th>Addr1</th>\n",
       "      <th>Qty</th>\n",
       "      <th>Amt</th>\n",
       "    </tr>\n",
       "  </thead>\n",
       "  <tbody>\n",
       "    <tr>\n",
       "      <th>0</th>\n",
       "      <td>경기도</td>\n",
       "      <td>50162</td>\n",
       "      <td>112347668</td>\n",
       "    </tr>\n",
       "    <tr>\n",
       "      <th>1</th>\n",
       "      <td>서울특별시</td>\n",
       "      <td>21182</td>\n",
       "      <td>47027183</td>\n",
       "    </tr>\n",
       "    <tr>\n",
       "      <th>2</th>\n",
       "      <td>인천광역시</td>\n",
       "      <td>12076</td>\n",
       "      <td>27743748</td>\n",
       "    </tr>\n",
       "    <tr>\n",
       "      <th>3</th>\n",
       "      <td>강원도</td>\n",
       "      <td>2688</td>\n",
       "      <td>6397272</td>\n",
       "    </tr>\n",
       "    <tr>\n",
       "      <th>4</th>\n",
       "      <td>대구광역시</td>\n",
       "      <td>437</td>\n",
       "      <td>1071667</td>\n",
       "    </tr>\n",
       "  </tbody>\n",
       "</table>\n",
       "</div>"
      ],
      "text/plain": [
       "   Addr1    Qty        Amt\n",
       "0    경기도  50162  112347668\n",
       "1  서울특별시  21182   47027183\n",
       "2  인천광역시  12076   27743748\n",
       "3    강원도   2688    6397272\n",
       "4  대구광역시    437    1071667"
      ]
     },
     "execution_count": 43,
     "metadata": {},
     "output_type": "execute_result"
    }
   ],
   "source": [
    "# 지역별 판매 수량 TOP 5\n",
    "tmp = tmp.sort_values(by='Qty', ascending=False).head(5)\n",
    "tmp.reset_index(drop=True, inplace=True)\n",
    "\n",
    "# 확인\n",
    "tmp"
   ]
  },
  {
   "cell_type": "code",
   "execution_count": 44,
   "metadata": {
    "id": "7TCOsiEsgBM7",
    "scrolled": false
   },
   "outputs": [
    {
     "data": {
      "image/png": "[encoded data removed]",
      "text/plain": [
       "<Figure size 720x360 with 1 Axes>"
      ]
     },
     "metadata": {
      "image/png": {
       "height": 353,
       "width": 621
      },
      "needs_background": "light"
     },
     "output_type": "display_data"
    }
   ],
   "source": [
    "# 지역별 판매 수량 TOP 5 시각화\n",
    "plt.figure(figsize=(10, 5))\n",
    "plt.bar(tmp['Addr1'], tmp['Qty'])\n",
    "plt.title('지역별 판매 수량 TOP 5', fontsize=20, pad=20)\n",
    "plt.xlabel('지역')\n",
    "plt.ylabel('판매수량(개)')\n",
    "plt.show()"
   ]
  },
  {
   "cell_type": "code",
   "execution_count": 45,
   "metadata": {},
   "outputs": [
    {
     "data": {
      "text/html": [
       "<div>\n",
       "<style scoped>\n",
       "    .dataframe tbody tr th:only-of-type {\n",
       "        vertical-align: middle;\n",
       "    }\n",
       "\n",
       "    .dataframe tbody tr th {\n",
       "        vertical-align: top;\n",
       "    }\n",
       "\n",
       "    .dataframe thead th {\n",
       "        text-align: right;\n",
       "    }\n",
       "</style>\n",
       "<table border=\"1\" class=\"dataframe\">\n",
       "  <thead>\n",
       "    <tr style=\"text-align: right;\">\n",
       "      <th></th>\n",
       "      <th>Addr1</th>\n",
       "      <th>Qty</th>\n",
       "      <th>Amt</th>\n",
       "    </tr>\n",
       "  </thead>\n",
       "  <tbody>\n",
       "    <tr>\n",
       "      <th>0</th>\n",
       "      <td>경기도</td>\n",
       "      <td>50162</td>\n",
       "      <td>112347668</td>\n",
       "    </tr>\n",
       "    <tr>\n",
       "      <th>1</th>\n",
       "      <td>서울특별시</td>\n",
       "      <td>21182</td>\n",
       "      <td>47027183</td>\n",
       "    </tr>\n",
       "    <tr>\n",
       "      <th>2</th>\n",
       "      <td>인천광역시</td>\n",
       "      <td>12076</td>\n",
       "      <td>27743748</td>\n",
       "    </tr>\n",
       "    <tr>\n",
       "      <th>3</th>\n",
       "      <td>강원도</td>\n",
       "      <td>2688</td>\n",
       "      <td>6397272</td>\n",
       "    </tr>\n",
       "    <tr>\n",
       "      <th>4</th>\n",
       "      <td>대구광역시</td>\n",
       "      <td>437</td>\n",
       "      <td>1071667</td>\n",
       "    </tr>\n",
       "  </tbody>\n",
       "</table>\n",
       "</div>"
      ],
      "text/plain": [
       "   Addr1    Qty        Amt\n",
       "0    경기도  50162  112347668\n",
       "1  서울특별시  21182   47027183\n",
       "2  인천광역시  12076   27743748\n",
       "3    강원도   2688    6397272\n",
       "4  대구광역시    437    1071667"
      ]
     },
     "execution_count": 45,
     "metadata": {},
     "output_type": "execute_result"
    }
   ],
   "source": [
    "# 지역별 판매 금액 합 TOP 5\n",
    "tmp = tmp.sort_values(by='Amt', ascending=False).head(5)\n",
    "tmp.reset_index(drop=True, inplace=True)\n",
    "\n",
    "# 확인\n",
    "tmp"
   ]
  },
  {
   "cell_type": "code",
   "execution_count": 46,
   "metadata": {},
   "outputs": [
    {
     "data": {
      "image/png": "[encoded data removed]",
      "text/plain": [
       "<Figure size 720x360 with 1 Axes>"
      ]
     },
     "metadata": {
      "image/png": {
       "height": 353,
       "width": 621
      },
      "needs_background": "light"
     },
     "output_type": "display_data"
    }
   ],
   "source": [
    "# 지역별 판매 금액 시각화\n",
    "plt.figure(figsize=(10, 5))\n",
    "plt.bar(tmp['Addr1'], tmp['Amt'] / 10000)\n",
    "plt.title('지역별 판매 금액 TOP 5', fontsize=20, pad=20)\n",
    "plt.xlabel('지역')\n",
    "plt.ylabel('판매금액(만원)')\n",
    "plt.show()"
   ]
  },
  {
   "cell_type": "markdown",
   "metadata": {
    "id": "tOUH5zU8zf9k"
   },
   "source": [
    "**3)상품별 판매 현황**"
   ]
  },
  {
   "cell_type": "code",
   "execution_count": 47,
   "metadata": {
    "id": "dAFjTHR_gBM7",
    "scrolled": false
   },
   "outputs": [
    {
     "data": {
      "text/html": [
       "<div>\n",
       "<style scoped>\n",
       "    .dataframe tbody tr th:only-of-type {\n",
       "        vertical-align: middle;\n",
       "    }\n",
       "\n",
       "    .dataframe tbody tr th {\n",
       "        vertical-align: top;\n",
       "    }\n",
       "\n",
       "    .dataframe thead th {\n",
       "        text-align: right;\n",
       "    }\n",
       "</style>\n",
       "<table border=\"1\" class=\"dataframe\">\n",
       "  <thead>\n",
       "    <tr style=\"text-align: right;\">\n",
       "      <th></th>\n",
       "      <th>ProductName</th>\n",
       "      <th>Qty</th>\n",
       "      <th>Amt</th>\n",
       "    </tr>\n",
       "  </thead>\n",
       "  <tbody>\n",
       "    <tr>\n",
       "      <th>0</th>\n",
       "      <td>감귤컵푸딩</td>\n",
       "      <td>751</td>\n",
       "      <td>681699</td>\n",
       "    </tr>\n",
       "    <tr>\n",
       "      <th>1</th>\n",
       "      <td>감자칩</td>\n",
       "      <td>1975</td>\n",
       "      <td>3707446</td>\n",
       "    </tr>\n",
       "    <tr>\n",
       "      <th>2</th>\n",
       "      <td>고구마스틱</td>\n",
       "      <td>788</td>\n",
       "      <td>1622977</td>\n",
       "    </tr>\n",
       "    <tr>\n",
       "      <th>3</th>\n",
       "      <td>깻잎</td>\n",
       "      <td>2780</td>\n",
       "      <td>2908859</td>\n",
       "    </tr>\n",
       "    <tr>\n",
       "      <th>4</th>\n",
       "      <td>낱개캔디</td>\n",
       "      <td>1798</td>\n",
       "      <td>485476</td>\n",
       "    </tr>\n",
       "    <tr>\n",
       "      <th>5</th>\n",
       "      <td>느타리버섯</td>\n",
       "      <td>1436</td>\n",
       "      <td>4202899</td>\n",
       "    </tr>\n",
       "    <tr>\n",
       "      <th>6</th>\n",
       "      <td>당근</td>\n",
       "      <td>2198</td>\n",
       "      <td>4484750</td>\n",
       "    </tr>\n",
       "    <tr>\n",
       "      <th>7</th>\n",
       "      <td>두부_대</td>\n",
       "      <td>5189</td>\n",
       "      <td>10108897</td>\n",
       "    </tr>\n",
       "    <tr>\n",
       "      <th>8</th>\n",
       "      <td>두부_소</td>\n",
       "      <td>3979</td>\n",
       "      <td>7348918</td>\n",
       "    </tr>\n",
       "    <tr>\n",
       "      <th>9</th>\n",
       "      <td>딸기_대</td>\n",
       "      <td>907</td>\n",
       "      <td>11064509</td>\n",
       "    </tr>\n",
       "  </tbody>\n",
       "</table>\n",
       "</div>"
      ],
      "text/plain": [
       "  ProductName   Qty       Amt\n",
       "0       감귤컵푸딩   751    681699\n",
       "1         감자칩  1975   3707446\n",
       "2       고구마스틱   788   1622977\n",
       "3          깻잎  2780   2908859\n",
       "4        낱개캔디  1798    485476\n",
       "5       느타리버섯  1436   4202899\n",
       "6          당근  2198   4484750\n",
       "7        두부_대  5189  10108897\n",
       "8        두부_소  3979   7348918\n",
       "9        딸기_대   907  11064509"
      ]
     },
     "execution_count": 47,
     "metadata": {},
     "output_type": "execute_result"
    }
   ],
   "source": [
    "# 상품별 판매 수량과 금액 합\n",
    "tmp = sales.groupby(by='ProductName', as_index=False)[['Qty', 'Amt']].sum()\n",
    "\n",
    "# 확인\n",
    "tmp.head(10)"
   ]
  },
  {
   "cell_type": "code",
   "execution_count": 48,
   "metadata": {
    "id": "7TCOsiEsgBM7",
    "scrolled": false
   },
   "outputs": [
    {
     "data": {
      "image/png": "[encoded data removed]",
      "text/plain": [
       "<Figure size 720x360 with 1 Axes>"
      ]
     },
     "metadata": {
      "image/png": {
       "height": 353,
       "width": 615
      },
      "needs_background": "light"
     },
     "output_type": "display_data"
    }
   ],
   "source": [
    "# 상품별 판매 수량 TOP 5\n",
    "tmp = tmp.sort_values(by='Qty', ascending=False).head(5)\n",
    "\n",
    "# 시각화\n",
    "plt.figure(figsize=(10, 5))\n",
    "plt.bar(tmp['ProductName'], tmp['Qty'])\n",
    "plt.title('상품별 판매 수량 TOP 5', fontsize=20, pad=20)\n",
    "plt.xlabel('대분류')\n",
    "plt.ylabel('판매수량(개)')\n",
    "plt.show()"
   ]
  },
  {
   "cell_type": "code",
   "execution_count": 49,
   "metadata": {
    "id": "mjefn46bzjWW"
   },
   "outputs": [
    {
     "data": {
      "image/png": "[encoded data removed]",
      "text/plain": [
       "<Figure size 720x360 with 1 Axes>"
      ]
     },
     "metadata": {
      "image/png": {
       "height": 353,
       "width": 615
      },
      "needs_background": "light"
     },
     "output_type": "display_data"
    }
   ],
   "source": [
    "# 상품별 판매 금액 TOP 5\n",
    "tmp = tmp.sort_values(by='Amt', ascending=False).head(5)\n",
    "\n",
    "# 시각화\n",
    "plt.figure(figsize=(10, 5))\n",
    "plt.bar(tmp['ProductName'], tmp['Amt'] / 10000)\n",
    "plt.title('상품별 판매 금액 TOP 5', fontsize=20, pad=20)\n",
    "plt.xlabel('대분류')\n",
    "plt.ylabel('판매금액(만원)')\n",
    "plt.show()"
   ]
  },
  {
   "cell_type": "markdown",
   "metadata": {
    "id": "tOUH5zU8zf9k"
   },
   "source": [
    "**4)대분류별 판매 현황**"
   ]
  },
  {
   "cell_type": "code",
   "execution_count": 50,
   "metadata": {
    "id": "dAFjTHR_gBM7",
    "scrolled": false
   },
   "outputs": [
    {
     "data": {
      "text/html": [
       "<div>\n",
       "<style scoped>\n",
       "    .dataframe tbody tr th:only-of-type {\n",
       "        vertical-align: middle;\n",
       "    }\n",
       "\n",
       "    .dataframe tbody tr th {\n",
       "        vertical-align: top;\n",
       "    }\n",
       "\n",
       "    .dataframe thead th {\n",
       "        text-align: right;\n",
       "    }\n",
       "</style>\n",
       "<table border=\"1\" class=\"dataframe\">\n",
       "  <thead>\n",
       "    <tr style=\"text-align: right;\">\n",
       "      <th></th>\n",
       "      <th>Category</th>\n",
       "      <th>Qty</th>\n",
       "      <th>Amt</th>\n",
       "    </tr>\n",
       "  </thead>\n",
       "  <tbody>\n",
       "    <tr>\n",
       "      <th>0</th>\n",
       "      <td>간식</td>\n",
       "      <td>12289</td>\n",
       "      <td>13081325</td>\n",
       "    </tr>\n",
       "    <tr>\n",
       "      <th>1</th>\n",
       "      <td>과일</td>\n",
       "      <td>6832</td>\n",
       "      <td>50067195</td>\n",
       "    </tr>\n",
       "    <tr>\n",
       "      <th>2</th>\n",
       "      <td>반찬류</td>\n",
       "      <td>20265</td>\n",
       "      <td>32288089</td>\n",
       "    </tr>\n",
       "    <tr>\n",
       "      <th>3</th>\n",
       "      <td>유제품</td>\n",
       "      <td>19791</td>\n",
       "      <td>45338311</td>\n",
       "    </tr>\n",
       "    <tr>\n",
       "      <th>4</th>\n",
       "      <td>채소</td>\n",
       "      <td>28041</td>\n",
       "      <td>55213705</td>\n",
       "    </tr>\n",
       "  </tbody>\n",
       "</table>\n",
       "</div>"
      ],
      "text/plain": [
       "  Category    Qty       Amt\n",
       "0       간식  12289  13081325\n",
       "1       과일   6832  50067195\n",
       "2      반찬류  20265  32288089\n",
       "3      유제품  19791  45338311\n",
       "4       채소  28041  55213705"
      ]
     },
     "execution_count": 50,
     "metadata": {},
     "output_type": "execute_result"
    }
   ],
   "source": [
    "# 대분류별 판매 수량과 금액 합\n",
    "tmp = sales.groupby(by='Category', as_index=False)[['Qty', 'Amt']].sum()\n",
    "\n",
    "# 확인\n",
    "tmp"
   ]
  },
  {
   "cell_type": "code",
   "execution_count": 51,
   "metadata": {
    "id": "7TCOsiEsgBM7",
    "scrolled": false
   },
   "outputs": [
    {
     "data": {
      "image/png": "[encoded data removed]",
      "text/plain": [
       "<Figure size 720x360 with 1 Axes>"
      ]
     },
     "metadata": {
      "image/png": {
       "height": 353,
       "width": 621
      },
      "needs_background": "light"
     },
     "output_type": "display_data"
    }
   ],
   "source": [
    "# 대분류별 판매 수량 \n",
    "tmp = tmp.sort_values(by='Qty', ascending=False)\n",
    "\n",
    "# 시각화\n",
    "plt.figure(figsize=(10, 5))\n",
    "plt.bar(tmp['Category'], tmp['Qty'])\n",
    "plt.title('대분류별 판매 수량', fontsize=20, pad=20)\n",
    "plt.xlabel('대분류')\n",
    "plt.ylabel('판매수량(개)')\n",
    "plt.show()"
   ]
  },
  {
   "cell_type": "code",
   "execution_count": 52,
   "metadata": {},
   "outputs": [
    {
     "data": {
      "image/png": "[encoded data removed]",
      "text/plain": [
       "<Figure size 720x360 with 1 Axes>"
      ]
     },
     "metadata": {
      "image/png": {
       "height": 353,
       "width": 615
      },
      "needs_background": "light"
     },
     "output_type": "display_data"
    }
   ],
   "source": [
    "# 대분류별 판매 금액\n",
    "tmp = tmp.sort_values(by='Amt', ascending=False)\n",
    "\n",
    "# 시각화\n",
    "plt.figure(figsize=(10, 5))\n",
    "plt.bar(tmp['Category'], tmp['Amt'] / 10000)\n",
    "plt.title('대분류별 판매 금액', fontsize=20, pad=20)\n",
    "plt.xlabel('대분류')\n",
    "plt.ylabel('판매금액(만원)')\n",
    "plt.show()"
   ]
  },
  {
   "cell_type": "markdown",
   "metadata": {
    "id": "RXHtLPhzzj-d"
   },
   "source": [
    "**5)월별 판매 현황**"
   ]
  },
  {
   "cell_type": "code",
   "execution_count": 53,
   "metadata": {},
   "outputs": [
    {
     "data": {
      "text/html": [
       "<div>\n",
       "<style scoped>\n",
       "    .dataframe tbody tr th:only-of-type {\n",
       "        vertical-align: middle;\n",
       "    }\n",
       "\n",
       "    .dataframe tbody tr th {\n",
       "        vertical-align: top;\n",
       "    }\n",
       "\n",
       "    .dataframe thead th {\n",
       "        text-align: right;\n",
       "    }\n",
       "</style>\n",
       "<table border=\"1\" class=\"dataframe\">\n",
       "  <thead>\n",
       "    <tr style=\"text-align: right;\">\n",
       "      <th></th>\n",
       "      <th>OrderYear</th>\n",
       "      <th>OrderMonth</th>\n",
       "      <th>Qty</th>\n",
       "      <th>Amt</th>\n",
       "      <th>YearMonth</th>\n",
       "    </tr>\n",
       "  </thead>\n",
       "  <tbody>\n",
       "    <tr>\n",
       "      <th>0</th>\n",
       "      <td>2016</td>\n",
       "      <td>1</td>\n",
       "      <td>5505</td>\n",
       "      <td>14280112</td>\n",
       "      <td>2016-01</td>\n",
       "    </tr>\n",
       "    <tr>\n",
       "      <th>1</th>\n",
       "      <td>2016</td>\n",
       "      <td>2</td>\n",
       "      <td>5369</td>\n",
       "      <td>14439692</td>\n",
       "      <td>2016-02</td>\n",
       "    </tr>\n",
       "    <tr>\n",
       "      <th>2</th>\n",
       "      <td>2016</td>\n",
       "      <td>3</td>\n",
       "      <td>6275</td>\n",
       "      <td>17135535</td>\n",
       "      <td>2016-03</td>\n",
       "    </tr>\n",
       "    <tr>\n",
       "      <th>3</th>\n",
       "      <td>2016</td>\n",
       "      <td>4</td>\n",
       "      <td>6424</td>\n",
       "      <td>15256018</td>\n",
       "      <td>2016-04</td>\n",
       "    </tr>\n",
       "    <tr>\n",
       "      <th>4</th>\n",
       "      <td>2016</td>\n",
       "      <td>5</td>\n",
       "      <td>6603</td>\n",
       "      <td>13992944</td>\n",
       "      <td>2016-05</td>\n",
       "    </tr>\n",
       "    <tr>\n",
       "      <th>5</th>\n",
       "      <td>2016</td>\n",
       "      <td>6</td>\n",
       "      <td>6445</td>\n",
       "      <td>13215131</td>\n",
       "      <td>2016-06</td>\n",
       "    </tr>\n",
       "    <tr>\n",
       "      <th>6</th>\n",
       "      <td>2016</td>\n",
       "      <td>7</td>\n",
       "      <td>5922</td>\n",
       "      <td>10724988</td>\n",
       "      <td>2016-07</td>\n",
       "    </tr>\n",
       "    <tr>\n",
       "      <th>7</th>\n",
       "      <td>2016</td>\n",
       "      <td>8</td>\n",
       "      <td>6188</td>\n",
       "      <td>10232592</td>\n",
       "      <td>2016-08</td>\n",
       "    </tr>\n",
       "    <tr>\n",
       "      <th>8</th>\n",
       "      <td>2016</td>\n",
       "      <td>9</td>\n",
       "      <td>6243</td>\n",
       "      <td>10592737</td>\n",
       "      <td>2016-09</td>\n",
       "    </tr>\n",
       "    <tr>\n",
       "      <th>9</th>\n",
       "      <td>2016</td>\n",
       "      <td>10</td>\n",
       "      <td>5261</td>\n",
       "      <td>10031884</td>\n",
       "      <td>2016-10</td>\n",
       "    </tr>\n",
       "    <tr>\n",
       "      <th>10</th>\n",
       "      <td>2016</td>\n",
       "      <td>11</td>\n",
       "      <td>4620</td>\n",
       "      <td>9930035</td>\n",
       "      <td>2016-11</td>\n",
       "    </tr>\n",
       "    <tr>\n",
       "      <th>11</th>\n",
       "      <td>2016</td>\n",
       "      <td>12</td>\n",
       "      <td>5625</td>\n",
       "      <td>13045349</td>\n",
       "      <td>2016-12</td>\n",
       "    </tr>\n",
       "    <tr>\n",
       "      <th>12</th>\n",
       "      <td>2017</td>\n",
       "      <td>1</td>\n",
       "      <td>5652</td>\n",
       "      <td>14828324</td>\n",
       "      <td>2017-01</td>\n",
       "    </tr>\n",
       "    <tr>\n",
       "      <th>13</th>\n",
       "      <td>2017</td>\n",
       "      <td>2</td>\n",
       "      <td>4920</td>\n",
       "      <td>12671509</td>\n",
       "      <td>2017-02</td>\n",
       "    </tr>\n",
       "    <tr>\n",
       "      <th>14</th>\n",
       "      <td>2017</td>\n",
       "      <td>3</td>\n",
       "      <td>6166</td>\n",
       "      <td>15611775</td>\n",
       "      <td>2017-03</td>\n",
       "    </tr>\n",
       "  </tbody>\n",
       "</table>\n",
       "</div>"
      ],
      "text/plain": [
       "    OrderYear  OrderMonth   Qty       Amt YearMonth\n",
       "0        2016           1  5505  14280112   2016-01\n",
       "1        2016           2  5369  14439692   2016-02\n",
       "2        2016           3  6275  17135535   2016-03\n",
       "3        2016           4  6424  15256018   2016-04\n",
       "4        2016           5  6603  13992944   2016-05\n",
       "5        2016           6  6445  13215131   2016-06\n",
       "6        2016           7  5922  10724988   2016-07\n",
       "7        2016           8  6188  10232592   2016-08\n",
       "8        2016           9  6243  10592737   2016-09\n",
       "9        2016          10  5261  10031884   2016-10\n",
       "10       2016          11  4620   9930035   2016-11\n",
       "11       2016          12  5625  13045349   2016-12\n",
       "12       2017           1  5652  14828324   2017-01\n",
       "13       2017           2  4920  12671509   2017-02\n",
       "14       2017           3  6166  15611775   2017-03"
      ]
     },
     "execution_count": 53,
     "metadata": {},
     "output_type": "execute_result"
    }
   ],
   "source": [
    "# 월별 판매 수량과 금액 합\n",
    "tmp = sales.groupby(by=['OrderYear', 'OrderMonth'], as_index=False)[['Qty', 'Amt']].sum()\n",
    "tmp['YearMonth'] = tmp['OrderYear'].astype(str) + '-' + tmp['OrderMonth'].astype(str).str.zfill(2)\n",
    "tmp = tmp.sort_values(by='YearMonth', ascending=True)\n",
    "tmp.reset_index(drop=True, inplace=True)\n",
    "\n",
    "# 확인\n",
    "tmp"
   ]
  },
  {
   "cell_type": "code",
   "execution_count": 54,
   "metadata": {
    "id": "7TCOsiEsgBM7",
    "scrolled": false
   },
   "outputs": [
    {
     "data": {
      "image/png": "[encoded data removed]",
      "text/plain": [
       "<Figure size 720x360 with 1 Axes>"
      ]
     },
     "metadata": {
      "image/png": {
       "height": 381,
       "width": 615
      },
      "needs_background": "light"
     },
     "output_type": "display_data"
    }
   ],
   "source": [
    "# 월별 판매 수량 시각화\n",
    "plt.figure(figsize=(10, 5))\n",
    "plt.bar(tmp['YearMonth'], tmp['Qty'])\n",
    "plt.title('월별 판매 수량', fontsize=20, pad=20)\n",
    "plt.xlabel('월')\n",
    "plt.ylabel('판매수량(개)')\n",
    "plt.xticks(rotation=70)\n",
    "plt.show()"
   ]
  },
  {
   "cell_type": "code",
   "execution_count": 55,
   "metadata": {
    "id": "WaqWFfhazj-e"
   },
   "outputs": [
    {
     "data": {
      "image/png": "[encoded data removed]",
      "text/plain": [
       "<Figure size 720x360 with 1 Axes>"
      ]
     },
     "metadata": {
      "image/png": {
       "height": 381,
       "width": 615
      },
      "needs_background": "light"
     },
     "output_type": "display_data"
    }
   ],
   "source": [
    "# 월별 판매 금액 시각화\n",
    "plt.figure(figsize=(10, 5))\n",
    "plt.bar(tmp['YearMonth'], tmp['Amt'] / 10000)\n",
    "plt.title('월별 판매 금액', fontsize=20, pad=20)\n",
    "plt.xlabel('월')\n",
    "plt.ylabel('판매금액(만원)')\n",
    "plt.xticks(rotation=70)\n",
    "plt.show()"
   ]
  },
  {
   "cell_type": "markdown",
   "metadata": {
    "id": "whE4SZXmzkQR"
   },
   "source": [
    "**6)연령대별 판매 현황**"
   ]
  },
  {
   "cell_type": "code",
   "execution_count": 56,
   "metadata": {
    "id": "dAFjTHR_gBM7",
    "scrolled": false
   },
   "outputs": [
    {
     "data": {
      "text/html": [
       "<div>\n",
       "<style scoped>\n",
       "    .dataframe tbody tr th:only-of-type {\n",
       "        vertical-align: middle;\n",
       "    }\n",
       "\n",
       "    .dataframe tbody tr th {\n",
       "        vertical-align: top;\n",
       "    }\n",
       "\n",
       "    .dataframe thead th {\n",
       "        text-align: right;\n",
       "    }\n",
       "</style>\n",
       "<table border=\"1\" class=\"dataframe\">\n",
       "  <thead>\n",
       "    <tr style=\"text-align: right;\">\n",
       "      <th></th>\n",
       "      <th>AgeGrp</th>\n",
       "      <th>Qty</th>\n",
       "      <th>Amt</th>\n",
       "    </tr>\n",
       "  </thead>\n",
       "  <tbody>\n",
       "    <tr>\n",
       "      <th>0</th>\n",
       "      <td>10</td>\n",
       "      <td>2</td>\n",
       "      <td>4364</td>\n",
       "    </tr>\n",
       "    <tr>\n",
       "      <th>1</th>\n",
       "      <td>20</td>\n",
       "      <td>613</td>\n",
       "      <td>1334569</td>\n",
       "    </tr>\n",
       "    <tr>\n",
       "      <th>2</th>\n",
       "      <td>30</td>\n",
       "      <td>19143</td>\n",
       "      <td>41339112</td>\n",
       "    </tr>\n",
       "    <tr>\n",
       "      <th>3</th>\n",
       "      <td>40</td>\n",
       "      <td>45839</td>\n",
       "      <td>105096033</td>\n",
       "    </tr>\n",
       "    <tr>\n",
       "      <th>4</th>\n",
       "      <td>50</td>\n",
       "      <td>15110</td>\n",
       "      <td>33500611</td>\n",
       "    </tr>\n",
       "    <tr>\n",
       "      <th>5</th>\n",
       "      <td>60</td>\n",
       "      <td>4535</td>\n",
       "      <td>10454549</td>\n",
       "    </tr>\n",
       "    <tr>\n",
       "      <th>6</th>\n",
       "      <td>70</td>\n",
       "      <td>1888</td>\n",
       "      <td>4201980</td>\n",
       "    </tr>\n",
       "    <tr>\n",
       "      <th>7</th>\n",
       "      <td>80</td>\n",
       "      <td>88</td>\n",
       "      <td>57407</td>\n",
       "    </tr>\n",
       "  </tbody>\n",
       "</table>\n",
       "</div>"
      ],
      "text/plain": [
       "   AgeGrp    Qty        Amt\n",
       "0      10      2       4364\n",
       "1      20    613    1334569\n",
       "2      30  19143   41339112\n",
       "3      40  45839  105096033\n",
       "4      50  15110   33500611\n",
       "5      60   4535   10454549\n",
       "6      70   1888    4201980\n",
       "7      80     88      57407"
      ]
     },
     "execution_count": 56,
     "metadata": {},
     "output_type": "execute_result"
    }
   ],
   "source": [
    "# 연령대별 판매 수량과 금액 합\n",
    "tmp = sales.groupby(by='AgeGrp', as_index=False)[['Qty', 'Amt']].sum()\n",
    "tmp = tmp.sort_values(by='AgeGrp', ascending=True)\n",
    "tmp.reset_index(drop=True, inplace=True)\n",
    "\n",
    "# 확인\n",
    "tmp"
   ]
  },
  {
   "cell_type": "code",
   "execution_count": 57,
   "metadata": {
    "id": "7TCOsiEsgBM7",
    "scrolled": false
   },
   "outputs": [
    {
     "data": {
      "image/png": "[encoded data removed]",
      "text/plain": [
       "<Figure size 720x360 with 1 Axes>"
      ]
     },
     "metadata": {
      "image/png": {
       "height": 353,
       "width": 621
      },
      "needs_background": "light"
     },
     "output_type": "display_data"
    }
   ],
   "source": [
    "# 연령대별 판매 수량 시각화\n",
    "plt.figure(figsize=(10, 5))\n",
    "plt.bar(tmp['AgeGrp'].astype(str), tmp['Qty'])\n",
    "plt.title('연령대별 판매 수량', fontsize=20, pad=20)\n",
    "plt.xlabel('연령대')\n",
    "plt.ylabel('판매수량(개)')\n",
    "plt.show()"
   ]
  },
  {
   "cell_type": "code",
   "execution_count": 58,
   "metadata": {
    "id": "PWk4bHvFzkQU"
   },
   "outputs": [
    {
     "data": {
      "image/png": "[encoded data removed]",
      "text/plain": [
       "<Figure size 720x360 with 1 Axes>"
      ]
     },
     "metadata": {
      "image/png": {
       "height": 353,
       "width": 607
      },
      "needs_background": "light"
     },
     "output_type": "display_data"
    }
   ],
   "source": [
    "# 연령대별 판매 금액 시각화\n",
    "plt.figure(figsize=(10, 5))\n",
    "plt.bar(tmp['AgeGrp'].astype(str), tmp['Amt'])\n",
    "plt.title('연령대별 판매 수량', fontsize=20, pad=20)\n",
    "plt.xlabel('연령대')\n",
    "plt.ylabel('판매수량(개)')\n",
    "plt.show()"
   ]
  },
  {
   "cell_type": "markdown",
   "metadata": {
    "id": "ajTIZ9gNgBM7"
   },
   "source": [
    "## 5.고객 분류\n",
    "\n",
    "* 고객을 등급을 나눠 판매 현황을 분석하고 이에 따른 판매 전략을 수립하려합니다.\n",
    "- 우선 고객을 일정 기준에 따라 분류하고 등급을 지정해야 합니다.\n",
    "- 다음과 같은 순서로 처리하면 될 것입니다.\n",
    "    - 고객별 주문 수량 합, 판매 금액 합을 갖는 데이터프레임 선언\n",
    "    - 고객 분류 기준과 이 기준에 따른 등급 이름 정의\n",
    "    - 고객 등급을 갖는 새로운 Level 열 추가"
   ]
  },
  {
   "cell_type": "markdown",
   "metadata": {
    "id": "oYwVs7u2gBM7"
   },
   "source": [
    "**1) 고객별 집계**\n",
    "\n",
    "* 고객별 주문 수량 합, 판매 금액 합을 갖는 cst 데이터프레임을 선언합니다."
   ]
  },
  {
   "cell_type": "code",
   "execution_count": 59,
   "metadata": {
    "id": "JHF506hggBM8"
   },
   "outputs": [
    {
     "data": {
      "text/html": [
       "<div>\n",
       "<style scoped>\n",
       "    .dataframe tbody tr th:only-of-type {\n",
       "        vertical-align: middle;\n",
       "    }\n",
       "\n",
       "    .dataframe tbody tr th {\n",
       "        vertical-align: top;\n",
       "    }\n",
       "\n",
       "    .dataframe thead th {\n",
       "        text-align: right;\n",
       "    }\n",
       "</style>\n",
       "<table border=\"1\" class=\"dataframe\">\n",
       "  <thead>\n",
       "    <tr style=\"text-align: right;\">\n",
       "      <th></th>\n",
       "      <th>CustomerID</th>\n",
       "      <th>Qty</th>\n",
       "      <th>Amt</th>\n",
       "    </tr>\n",
       "  </thead>\n",
       "  <tbody>\n",
       "    <tr>\n",
       "      <th>0</th>\n",
       "      <td>c017487</td>\n",
       "      <td>127</td>\n",
       "      <td>296447</td>\n",
       "    </tr>\n",
       "    <tr>\n",
       "      <th>1</th>\n",
       "      <td>c017503</td>\n",
       "      <td>42</td>\n",
       "      <td>160444</td>\n",
       "    </tr>\n",
       "    <tr>\n",
       "      <th>2</th>\n",
       "      <td>c017517</td>\n",
       "      <td>192</td>\n",
       "      <td>317590</td>\n",
       "    </tr>\n",
       "    <tr>\n",
       "      <th>3</th>\n",
       "      <td>c017522</td>\n",
       "      <td>64</td>\n",
       "      <td>219849</td>\n",
       "    </tr>\n",
       "    <tr>\n",
       "      <th>4</th>\n",
       "      <td>c017526</td>\n",
       "      <td>26</td>\n",
       "      <td>48881</td>\n",
       "    </tr>\n",
       "  </tbody>\n",
       "</table>\n",
       "</div>"
      ],
      "text/plain": [
       "  CustomerID  Qty     Amt\n",
       "0    c017487  127  296447\n",
       "1    c017503   42  160444\n",
       "2    c017517  192  317590\n",
       "3    c017522   64  219849\n",
       "4    c017526   26   48881"
      ]
     },
     "execution_count": 59,
     "metadata": {},
     "output_type": "execute_result"
    }
   ],
   "source": [
    "# 고객별 집계\n",
    "cst = orders.groupby(by='CustomerID', as_index=False)[['Qty', 'Amt']].sum()\n",
    "\n",
    "# 확인\n",
    "cst.head()"
   ]
  },
  {
   "cell_type": "markdown",
   "metadata": {
    "id": "Se7JGfL4gBM8"
   },
   "source": [
    "**2) 고객 분류 기준 찾기**\n",
    "\n",
    "- 고객 등급 분류 기준을 찾기 위해 관련 데이터를 확인합니다."
   ]
  },
  {
   "cell_type": "code",
   "execution_count": 60,
   "metadata": {},
   "outputs": [
    {
     "data": {
      "text/plain": [
       "1      230\n",
       "2      180\n",
       "3      123\n",
       "4      115\n",
       "5       90\n",
       "      ... \n",
       "302      1\n",
       "300      1\n",
       "294      1\n",
       "290      1\n",
       "613      1\n",
       "Name: Qty, Length: 233, dtype: int64"
      ]
     },
     "execution_count": 60,
     "metadata": {},
     "output_type": "execute_result"
    }
   ],
   "source": [
    "cst['Qty'].value_counts() "
   ]
  },
  {
   "cell_type": "code",
   "execution_count": 61,
   "metadata": {
    "id": "OjoihrbtgBM8"
   },
   "outputs": [
    {
     "data": {
      "text/html": [
       "<div>\n",
       "<style scoped>\n",
       "    .dataframe tbody tr th:only-of-type {\n",
       "        vertical-align: middle;\n",
       "    }\n",
       "\n",
       "    .dataframe tbody tr th {\n",
       "        vertical-align: top;\n",
       "    }\n",
       "\n",
       "    .dataframe thead th {\n",
       "        text-align: right;\n",
       "    }\n",
       "</style>\n",
       "<table border=\"1\" class=\"dataframe\">\n",
       "  <thead>\n",
       "    <tr style=\"text-align: right;\">\n",
       "      <th></th>\n",
       "      <th>Qty</th>\n",
       "      <th>Amt</th>\n",
       "    </tr>\n",
       "  </thead>\n",
       "  <tbody>\n",
       "    <tr>\n",
       "      <th>count</th>\n",
       "      <td>2237.000000</td>\n",
       "      <td>2.237000e+03</td>\n",
       "    </tr>\n",
       "    <tr>\n",
       "      <th>mean</th>\n",
       "      <td>38.988824</td>\n",
       "      <td>8.761226e+04</td>\n",
       "    </tr>\n",
       "    <tr>\n",
       "      <th>std</th>\n",
       "      <td>63.216430</td>\n",
       "      <td>1.401784e+05</td>\n",
       "    </tr>\n",
       "    <tr>\n",
       "      <th>min</th>\n",
       "      <td>1.000000</td>\n",
       "      <td>2.730000e+02</td>\n",
       "    </tr>\n",
       "    <tr>\n",
       "      <th>25%</th>\n",
       "      <td>4.000000</td>\n",
       "      <td>8.450000e+03</td>\n",
       "    </tr>\n",
       "    <tr>\n",
       "      <th>50%</th>\n",
       "      <td>13.000000</td>\n",
       "      <td>3.015000e+04</td>\n",
       "    </tr>\n",
       "    <tr>\n",
       "      <th>75%</th>\n",
       "      <td>47.000000</td>\n",
       "      <td>1.026730e+05</td>\n",
       "    </tr>\n",
       "    <tr>\n",
       "      <th>max</th>\n",
       "      <td>1008.000000</td>\n",
       "      <td>1.245250e+06</td>\n",
       "    </tr>\n",
       "  </tbody>\n",
       "</table>\n",
       "</div>"
      ],
      "text/plain": [
       "               Qty           Amt\n",
       "count  2237.000000  2.237000e+03\n",
       "mean     38.988824  8.761226e+04\n",
       "std      63.216430  1.401784e+05\n",
       "min       1.000000  2.730000e+02\n",
       "25%       4.000000  8.450000e+03\n",
       "50%      13.000000  3.015000e+04\n",
       "75%      47.000000  1.026730e+05\n",
       "max    1008.000000  1.245250e+06"
      ]
     },
     "execution_count": 61,
     "metadata": {},
     "output_type": "execute_result"
    }
   ],
   "source": [
    "# 기초통계정보\n",
    "cst.describe()"
   ]
  },
  {
   "cell_type": "markdown",
   "metadata": {
    "id": "OqXtZMluFrHv"
   },
   "source": [
    "**3) 고객 분류 기준 정리**\n",
    "\n",
    "- 고객 등급 분류 기준과 그 기준에 따른 등급 이름을 정리합니다.\n",
    "- 예를 들면 다음과 같은 기준과 등급 이름을 정의할 수 있을 것입니다.\n",
    "    - ~ 30,000: Family\n",
    "    - 30,000 ~ 100,000: Bronze\n",
    "    - 100,000 ~ 300,000: Silver\n",
    "    - 300,000 ~ : Gold\n",
    "    - 600,000 ~ : Platinum"
   ]
  },
  {
   "cell_type": "markdown",
   "metadata": {
    "id": "aav9vJSTgBM8"
   },
   "source": [
    "**4) 고객 등급 반영**\n",
    "\n",
    "- 각자 정의한 기준에 따라 고객 등급을 Level 열로 저장합니다."
   ]
  },
  {
   "cell_type": "code",
   "execution_count": 62,
   "metadata": {
    "id": "QgxDdl-EgBM8"
   },
   "outputs": [
    {
     "data": {
      "text/html": [
       "<div>\n",
       "<style scoped>\n",
       "    .dataframe tbody tr th:only-of-type {\n",
       "        vertical-align: middle;\n",
       "    }\n",
       "\n",
       "    .dataframe tbody tr th {\n",
       "        vertical-align: top;\n",
       "    }\n",
       "\n",
       "    .dataframe thead th {\n",
       "        text-align: right;\n",
       "    }\n",
       "</style>\n",
       "<table border=\"1\" class=\"dataframe\">\n",
       "  <thead>\n",
       "    <tr style=\"text-align: right;\">\n",
       "      <th></th>\n",
       "      <th>CustomerID</th>\n",
       "      <th>Qty</th>\n",
       "      <th>Amt</th>\n",
       "      <th>Level</th>\n",
       "    </tr>\n",
       "  </thead>\n",
       "  <tbody>\n",
       "    <tr>\n",
       "      <th>0</th>\n",
       "      <td>c017487</td>\n",
       "      <td>127</td>\n",
       "      <td>296447</td>\n",
       "      <td>Silver</td>\n",
       "    </tr>\n",
       "    <tr>\n",
       "      <th>1</th>\n",
       "      <td>c017503</td>\n",
       "      <td>42</td>\n",
       "      <td>160444</td>\n",
       "      <td>Silver</td>\n",
       "    </tr>\n",
       "    <tr>\n",
       "      <th>2</th>\n",
       "      <td>c017517</td>\n",
       "      <td>192</td>\n",
       "      <td>317590</td>\n",
       "      <td>Gold</td>\n",
       "    </tr>\n",
       "    <tr>\n",
       "      <th>3</th>\n",
       "      <td>c017522</td>\n",
       "      <td>64</td>\n",
       "      <td>219849</td>\n",
       "      <td>Silver</td>\n",
       "    </tr>\n",
       "    <tr>\n",
       "      <th>4</th>\n",
       "      <td>c017526</td>\n",
       "      <td>26</td>\n",
       "      <td>48881</td>\n",
       "      <td>Bronze</td>\n",
       "    </tr>\n",
       "  </tbody>\n",
       "</table>\n",
       "</div>"
      ],
      "text/plain": [
       "  CustomerID  Qty     Amt   Level\n",
       "0    c017487  127  296447  Silver\n",
       "1    c017503   42  160444  Silver\n",
       "2    c017517  192  317590    Gold\n",
       "3    c017522   64  219849  Silver\n",
       "4    c017526   26   48881  Bronze"
      ]
     },
     "execution_count": 62,
     "metadata": {},
     "output_type": "execute_result"
    }
   ],
   "source": [
    "# 등급 구하기\n",
    "bin = [-np.inf, 30000, 100000, 300000, 600000, np.inf]\n",
    "label = ['Family', 'Bronze', 'Silver', 'Gold', 'Platinum']\n",
    "cst['Level'] = pd.cut(cst['Amt'], bins=bin, labels=label)\n",
    "\n",
    "# 확인\n",
    "cst.head()"
   ]
  },
  {
   "cell_type": "markdown",
   "metadata": {
    "id": "krCEvndzGUiq"
   },
   "source": [
    "- 등급별 고객 수를 확인해 등급이 적절히 나뉘었는지 검증합니다.\n",
    "- 검증 결과가 적절하지 않다면 위 기준을 변경해 등급을 다시 나눕니다."
   ]
  },
  {
   "cell_type": "code",
   "execution_count": 63,
   "metadata": {
    "id": "6G2TSGW1gBM8"
   },
   "outputs": [
    {
     "data": {
      "text/plain": [
       "Family      1113\n",
       "Bronze       556\n",
       "Silver       392\n",
       "Gold         143\n",
       "Platinum      33\n",
       "Name: Level, dtype: int64"
      ]
     },
     "execution_count": 63,
     "metadata": {},
     "output_type": "execute_result"
    }
   ],
   "source": [
    "# 등급별 고객 수\n",
    "cst['Level'].value_counts()"
   ]
  },
  {
   "cell_type": "markdown",
   "metadata": {
    "id": "xRweF7aygBM9"
   },
   "source": [
    "## 6.등급별 고객 분석\n",
    "\n",
    "- 고객 등급을 기준으로 다양한 분석을 진행합니다.\n",
    "- 등급 별 분석은 판매 전략을 새롭게 수립하는 데 중요한 자료가 될 것입니다.\n",
    "- 분석 과정에서 판매 전략에 대한 부분을 고민해 보시기 바랍니다."
   ]
  },
  {
   "cell_type": "markdown",
   "metadata": {
    "id": "FhuIC1EigBM9"
   },
   "source": [
    "**1) 등급별 판매 수량**\n",
    "\n",
    "- 고객 등급별 판매 수량을 막대 그래프로 시각화해 확인합니다."
   ]
  },
  {
   "cell_type": "code",
   "execution_count": 64,
   "metadata": {
    "id": "fQMK4rnLgBM9",
    "scrolled": false
   },
   "outputs": [
    {
     "data": {
      "image/png": "[encoded data removed]",
      "text/plain": [
       "<Figure size 720x360 with 1 Axes>"
      ]
     },
     "metadata": {
      "image/png": {
       "height": 353,
       "width": 610
      },
      "needs_background": "light"
     },
     "output_type": "display_data"
    }
   ],
   "source": [
    "# 등급별 평균 판매 수량\n",
    "tmp = cst.groupby(by='Level', as_index=False)[['Qty']].mean()\n",
    "tmp.sort_values(by='Level', ascending=False, inplace=True)\n",
    "\n",
    "# 시각화\n",
    "plt.figure(figsize=(10, 5))\n",
    "plt.bar(tmp['Level'], tmp['Qty'])\n",
    "plt.title('고객 등급별 평균 판매 수량', fontsize=20, pad=20)\n",
    "plt.xlabel('등급')\n",
    "plt.ylabel('판매수량(개)')\n",
    "plt.show()"
   ]
  },
  {
   "cell_type": "code",
   "execution_count": 65,
   "metadata": {},
   "outputs": [
    {
     "data": {
      "image/png": "[encoded data removed]",
      "text/plain": [
       "<Figure size 720x360 with 1 Axes>"
      ]
     },
     "metadata": {
      "image/png": {
       "height": 353,
       "width": 621
      },
      "needs_background": "light"
     },
     "output_type": "display_data"
    }
   ],
   "source": [
    "# 등급별 판매 수량 합\n",
    "tmp = cst.groupby(by='Level', as_index=False)[['Qty']].sum()\n",
    "tmp.sort_values(by='Level', ascending=False, inplace=True)\n",
    "\n",
    "# 시각화\n",
    "plt.figure(figsize=(10, 5))\n",
    "plt.bar(tmp['Level'], tmp['Qty'])\n",
    "plt.title('고객 등급별 판매 수량 합', fontsize=20, pad=20)\n",
    "plt.xlabel('등급')\n",
    "plt.ylabel('판매수량(개)')\n",
    "plt.show()"
   ]
  },
  {
   "cell_type": "markdown",
   "metadata": {
    "id": "hOZBoX2KgBM9"
   },
   "source": [
    "**2) 등급별 판매 금액**\n",
    "\n",
    "- 고객 등급별 판매 금액을 막대 그래프로 시각화해 확인합니다. "
   ]
  },
  {
   "cell_type": "code",
   "execution_count": 66,
   "metadata": {
    "id": "pSovttlfgBM-",
    "scrolled": false
   },
   "outputs": [
    {
     "data": {
      "image/png": "[encoded data removed]",
      "text/plain": [
       "<Figure size 720x360 with 1 Axes>"
      ]
     },
     "metadata": {
      "image/png": {
       "height": 353,
       "width": 604
      },
      "needs_background": "light"
     },
     "output_type": "display_data"
    }
   ],
   "source": [
    "# 등급별 평균 판매 금액\n",
    "tmp = cst.groupby(by='Level', as_index=False)[['Amt']].mean()\n",
    "tmp.sort_values(by='Level', ascending=False, inplace=True)\n",
    "\n",
    "# 시각화\n",
    "plt.figure(figsize=(10, 5))\n",
    "plt.bar(tmp['Level'], tmp['Amt'] / 10000)\n",
    "plt.title('고객 등급별 평균 판매 금액', fontsize=20, pad=20)\n",
    "plt.xlabel('등급')\n",
    "plt.ylabel('판매금액(만원)')\n",
    "plt.show()"
   ]
  },
  {
   "cell_type": "code",
   "execution_count": 67,
   "metadata": {},
   "outputs": [
    {
     "data": {
      "image/png": "[encoded data removed]",
      "text/plain": [
       "<Figure size 720x360 with 1 Axes>"
      ]
     },
     "metadata": {
      "image/png": {
       "height": 353,
       "width": 615
      },
      "needs_background": "light"
     },
     "output_type": "display_data"
    }
   ],
   "source": [
    "# 등급별 평균 판매 금액\n",
    "tmp = cst.groupby(by='Level', as_index=False)[['Amt']].sum()\n",
    "tmp.sort_values(by='Level', ascending=False, inplace=True)\n",
    "\n",
    "# 시각화\n",
    "plt.figure(figsize=(10, 5))\n",
    "plt.bar(tmp['Level'], tmp['Amt'] / 10000)\n",
    "plt.title('고객 등급별 판매 금액 합', fontsize=20, pad=20)\n",
    "plt.xlabel('등급')\n",
    "plt.ylabel('판매금액(만원)')\n",
    "plt.show()"
   ]
  },
  {
   "cell_type": "markdown",
   "metadata": {
    "id": "roH6tulQz6ib"
   },
   "source": [
    "**3)등급별 판매 횟수**"
   ]
  },
  {
   "cell_type": "code",
   "execution_count": 68,
   "metadata": {},
   "outputs": [
    {
     "data": {
      "text/html": [
       "<div>\n",
       "<style scoped>\n",
       "    .dataframe tbody tr th:only-of-type {\n",
       "        vertical-align: middle;\n",
       "    }\n",
       "\n",
       "    .dataframe tbody tr th {\n",
       "        vertical-align: top;\n",
       "    }\n",
       "\n",
       "    .dataframe thead th {\n",
       "        text-align: right;\n",
       "    }\n",
       "</style>\n",
       "<table border=\"1\" class=\"dataframe\">\n",
       "  <thead>\n",
       "    <tr style=\"text-align: right;\">\n",
       "      <th></th>\n",
       "      <th>CustomerID</th>\n",
       "      <th>Qty</th>\n",
       "      <th>Amt</th>\n",
       "      <th>Level</th>\n",
       "      <th>Count</th>\n",
       "    </tr>\n",
       "  </thead>\n",
       "  <tbody>\n",
       "    <tr>\n",
       "      <th>0</th>\n",
       "      <td>c017487</td>\n",
       "      <td>127</td>\n",
       "      <td>296447</td>\n",
       "      <td>Silver</td>\n",
       "      <td>90</td>\n",
       "    </tr>\n",
       "    <tr>\n",
       "      <th>1</th>\n",
       "      <td>c017503</td>\n",
       "      <td>42</td>\n",
       "      <td>160444</td>\n",
       "      <td>Silver</td>\n",
       "      <td>37</td>\n",
       "    </tr>\n",
       "    <tr>\n",
       "      <th>2</th>\n",
       "      <td>c017517</td>\n",
       "      <td>192</td>\n",
       "      <td>317590</td>\n",
       "      <td>Gold</td>\n",
       "      <td>124</td>\n",
       "    </tr>\n",
       "    <tr>\n",
       "      <th>3</th>\n",
       "      <td>c017522</td>\n",
       "      <td>64</td>\n",
       "      <td>219849</td>\n",
       "      <td>Silver</td>\n",
       "      <td>61</td>\n",
       "    </tr>\n",
       "    <tr>\n",
       "      <th>4</th>\n",
       "      <td>c017526</td>\n",
       "      <td>26</td>\n",
       "      <td>48881</td>\n",
       "      <td>Bronze</td>\n",
       "      <td>21</td>\n",
       "    </tr>\n",
       "  </tbody>\n",
       "</table>\n",
       "</div>"
      ],
      "text/plain": [
       "  CustomerID  Qty     Amt   Level  Count\n",
       "0    c017487  127  296447  Silver     90\n",
       "1    c017503   42  160444  Silver     37\n",
       "2    c017517  192  317590    Gold    124\n",
       "3    c017522   64  219849  Silver     61\n",
       "4    c017526   26   48881  Bronze     21"
      ]
     },
     "execution_count": 68,
     "metadata": {},
     "output_type": "execute_result"
    }
   ],
   "source": [
    " # 고객별 구매 횟수 병합\n",
    "cst_count = sales.groupby(by='CustomerID', as_index=False)[['Qty']].count()\n",
    "cst_count.columns = ['CustomerID', 'Count']\n",
    "cst = pd.merge(cst, cst_count, on='CustomerID', how='inner') \n",
    "\n",
    "# 확인\n",
    "cst.head()"
   ]
  },
  {
   "cell_type": "code",
   "execution_count": 69,
   "metadata": {
    "id": "8ZBjHX04z6ie",
    "scrolled": false
   },
   "outputs": [
    {
     "data": {
      "image/png": "[encoded data removed]",
      "text/plain": [
       "<Figure size 720x360 with 1 Axes>"
      ]
     },
     "metadata": {
      "image/png": {
       "height": 353,
       "width": 610
      },
      "needs_background": "light"
     },
     "output_type": "display_data"
    }
   ],
   "source": [
    "# 고객 등급별 평균 판매 횟수\n",
    "tmp = cst.groupby(by='Level', as_index=False)[['Count']].mean()\n",
    "tmp.sort_values(by='Level', ascending=False, inplace=True)\n",
    "\n",
    "# 시각화\n",
    "plt.figure(figsize=(10, 5))\n",
    "plt.bar(tmp['Level'], tmp['Count'])\n",
    "plt.title('고객 등급별 평균 판매 횟수', fontsize=20, pad=20)\n",
    "plt.xlabel('등급')\n",
    "plt.ylabel('판매횟수)')\n",
    "plt.show()"
   ]
  },
  {
   "cell_type": "code",
   "execution_count": 70,
   "metadata": {},
   "outputs": [
    {
     "data": {
      "image/png": "[encoded data removed]",
      "text/plain": [
       "<Figure size 720x360 with 1 Axes>"
      ]
     },
     "metadata": {
      "image/png": {
       "height": 353,
       "width": 621
      },
      "needs_background": "light"
     },
     "output_type": "display_data"
    }
   ],
   "source": [
    "# 고객 등급별 판매 횟수 합\n",
    "tmp = cst.groupby(by='Level', as_index=False)[['Count']].sum()\n",
    "tmp.sort_values(by='Level', ascending=False, inplace=True)\n",
    "\n",
    "# 시각화\n",
    "plt.figure(figsize=(10, 5))\n",
    "plt.bar(tmp['Level'], tmp['Count'])\n",
    "plt.title('고객 등급별 판매 횟수 합', fontsize=20, pad=20)\n",
    "plt.xlabel('등급')\n",
    "plt.ylabel('판매횟수)')\n",
    "plt.show()"
   ]
  },
  {
   "cell_type": "markdown",
   "metadata": {
    "id": "Kzbj_osuz9uj"
   },
   "source": [
    "**4)2016, 2017 분리**"
   ]
  },
  {
   "cell_type": "code",
   "execution_count": 71,
   "metadata": {
    "id": "UrsREvDFz9uk",
    "scrolled": true
   },
   "outputs": [
    {
     "data": {
      "text/html": [
       "<div>\n",
       "<style scoped>\n",
       "    .dataframe tbody tr th:only-of-type {\n",
       "        vertical-align: middle;\n",
       "    }\n",
       "\n",
       "    .dataframe tbody tr th {\n",
       "        vertical-align: top;\n",
       "    }\n",
       "\n",
       "    .dataframe thead th {\n",
       "        text-align: right;\n",
       "    }\n",
       "</style>\n",
       "<table border=\"1\" class=\"dataframe\">\n",
       "  <thead>\n",
       "    <tr style=\"text-align: right;\">\n",
       "      <th></th>\n",
       "      <th>CustomerID</th>\n",
       "      <th>Qty</th>\n",
       "      <th>Amt</th>\n",
       "      <th>Level</th>\n",
       "      <th>Count</th>\n",
       "      <th>Qty2016</th>\n",
       "      <th>Amt2016</th>\n",
       "      <th>Qty2017</th>\n",
       "      <th>Amt2017</th>\n",
       "    </tr>\n",
       "  </thead>\n",
       "  <tbody>\n",
       "    <tr>\n",
       "      <th>0</th>\n",
       "      <td>c017487</td>\n",
       "      <td>127</td>\n",
       "      <td>296447</td>\n",
       "      <td>Silver</td>\n",
       "      <td>90</td>\n",
       "      <td>103</td>\n",
       "      <td>246041</td>\n",
       "      <td>24</td>\n",
       "      <td>50406</td>\n",
       "    </tr>\n",
       "    <tr>\n",
       "      <th>1</th>\n",
       "      <td>c017503</td>\n",
       "      <td>42</td>\n",
       "      <td>160444</td>\n",
       "      <td>Silver</td>\n",
       "      <td>37</td>\n",
       "      <td>36</td>\n",
       "      <td>128694</td>\n",
       "      <td>6</td>\n",
       "      <td>31750</td>\n",
       "    </tr>\n",
       "    <tr>\n",
       "      <th>2</th>\n",
       "      <td>c017517</td>\n",
       "      <td>192</td>\n",
       "      <td>317590</td>\n",
       "      <td>Gold</td>\n",
       "      <td>124</td>\n",
       "      <td>155</td>\n",
       "      <td>240392</td>\n",
       "      <td>37</td>\n",
       "      <td>77198</td>\n",
       "    </tr>\n",
       "    <tr>\n",
       "      <th>3</th>\n",
       "      <td>c017522</td>\n",
       "      <td>64</td>\n",
       "      <td>219849</td>\n",
       "      <td>Silver</td>\n",
       "      <td>61</td>\n",
       "      <td>49</td>\n",
       "      <td>181799</td>\n",
       "      <td>15</td>\n",
       "      <td>38050</td>\n",
       "    </tr>\n",
       "    <tr>\n",
       "      <th>4</th>\n",
       "      <td>c017526</td>\n",
       "      <td>26</td>\n",
       "      <td>48881</td>\n",
       "      <td>Bronze</td>\n",
       "      <td>21</td>\n",
       "      <td>23</td>\n",
       "      <td>37481</td>\n",
       "      <td>3</td>\n",
       "      <td>11400</td>\n",
       "    </tr>\n",
       "  </tbody>\n",
       "</table>\n",
       "</div>"
      ],
      "text/plain": [
       "  CustomerID  Qty     Amt   Level  Count  Qty2016  Amt2016  Qty2017  Amt2017\n",
       "0    c017487  127  296447  Silver     90      103   246041       24    50406\n",
       "1    c017503   42  160444  Silver     37       36   128694        6    31750\n",
       "2    c017517  192  317590    Gold    124      155   240392       37    77198\n",
       "3    c017522   64  219849  Silver     61       49   181799       15    38050\n",
       "4    c017526   26   48881  Bronze     21       23    37481        3    11400"
      ]
     },
     "execution_count": 71,
     "metadata": {},
     "output_type": "execute_result"
    }
   ],
   "source": [
    "# 고2916, 2017 판매 수량, 판매 금액 총합\n",
    "cst_2016 = sales[sales['OrderYear'] == 2016].groupby(by='CustomerID', as_index=False)[['Qty', 'Amt']].sum()\n",
    "cst_2016.columns=['CustomerID', 'Qty2016', 'Amt2016']\n",
    "cst = pd.merge(cst, cst_2016, on='CustomerID', how='inner') \n",
    "\n",
    "cst_2017 = sales[sales['OrderYear'] == 2017].groupby(by='CustomerID', as_index=False)[['Qty', 'Amt']].sum()\n",
    "cst_2017.columns=['CustomerID', 'Qty2017', 'Amt2017']\n",
    "cst = pd.merge(cst, cst_2017, on='CustomerID', how='inner') \n",
    "\n",
    "# 확인\n",
    "cst.head()"
   ]
  },
  {
   "cell_type": "code",
   "execution_count": 72,
   "metadata": {
    "scrolled": false
   },
   "outputs": [
    {
     "data": {
      "image/png": "[encoded data removed]",
      "text/plain": [
       "<Figure size 720x360 with 1 Axes>"
      ]
     },
     "metadata": {
      "image/png": {
       "height": 353,
       "width": 610
      },
      "needs_background": "light"
     },
     "output_type": "display_data"
    }
   ],
   "source": [
    "# 2016년 등급별 평균 판매 수량\n",
    "tmp = cst.groupby(by='Level', as_index=False)[['Qty2016']].mean()\n",
    "tmp.sort_values(by='Level', ascending=False, inplace=True)\n",
    "\n",
    "# 시각화\n",
    "plt.figure(figsize=(10, 5))\n",
    "plt.bar(tmp['Level'], tmp['Qty2016'])\n",
    "plt.title('고객 등급별 2016년 평균 판매 수량', fontsize=20, pad=20)\n",
    "plt.xlabel('등급')\n",
    "plt.ylabel('판매수량(개)')\n",
    "plt.show()"
   ]
  },
  {
   "cell_type": "code",
   "execution_count": 73,
   "metadata": {},
   "outputs": [
    {
     "data": {
      "image/png": "[encoded data removed]",
      "text/plain": [
       "<Figure size 720x360 with 1 Axes>"
      ]
     },
     "metadata": {
      "image/png": {
       "height": 353,
       "width": 604
      },
      "needs_background": "light"
     },
     "output_type": "display_data"
    }
   ],
   "source": [
    "# 2017년 등급별 평균 판매 수량\n",
    "tmp = cst.groupby(by='Level', as_index=False)[['Qty2017']].mean()\n",
    "tmp.sort_values(by='Level', ascending=False, inplace=True)\n",
    "\n",
    "# 시각화\n",
    "plt.figure(figsize=(10, 5))\n",
    "plt.bar(tmp['Level'], tmp['Qty2017'])\n",
    "plt.title('고객 등급별 2017년 평균 판매 수량', fontsize=20, pad=20)\n",
    "plt.xlabel('등급')\n",
    "plt.ylabel('판매수량(개)')\n",
    "plt.show()"
   ]
  },
  {
   "cell_type": "markdown",
   "metadata": {},
   "source": [
    "**5)Platinum 고객 판매 현황 분석**"
   ]
  },
  {
   "cell_type": "code",
   "execution_count": 74,
   "metadata": {},
   "outputs": [
    {
     "data": {
      "text/html": [
       "<div>\n",
       "<style scoped>\n",
       "    .dataframe tbody tr th:only-of-type {\n",
       "        vertical-align: middle;\n",
       "    }\n",
       "\n",
       "    .dataframe tbody tr th {\n",
       "        vertical-align: top;\n",
       "    }\n",
       "\n",
       "    .dataframe thead th {\n",
       "        text-align: right;\n",
       "    }\n",
       "</style>\n",
       "<table border=\"1\" class=\"dataframe\">\n",
       "  <thead>\n",
       "    <tr style=\"text-align: right;\">\n",
       "      <th></th>\n",
       "      <th>Qty</th>\n",
       "      <th>Amt</th>\n",
       "      <th>CustomerID</th>\n",
       "      <th>Gender</th>\n",
       "      <th>BirthYear</th>\n",
       "      <th>Addr1</th>\n",
       "      <th>ProductName</th>\n",
       "      <th>Category</th>\n",
       "      <th>OrderYear</th>\n",
       "      <th>OrderMonth</th>\n",
       "      <th>RegisterYear</th>\n",
       "      <th>RegisterMonth</th>\n",
       "      <th>Age</th>\n",
       "      <th>AgeGrp</th>\n",
       "      <th>Level</th>\n",
       "    </tr>\n",
       "  </thead>\n",
       "  <tbody>\n",
       "    <tr>\n",
       "      <th>0</th>\n",
       "      <td>2</td>\n",
       "      <td>7900</td>\n",
       "      <td>c107853</td>\n",
       "      <td>M</td>\n",
       "      <td>1961</td>\n",
       "      <td>경기도</td>\n",
       "      <td>토마토</td>\n",
       "      <td>과일</td>\n",
       "      <td>2016</td>\n",
       "      <td>1</td>\n",
       "      <td>2008</td>\n",
       "      <td>7</td>\n",
       "      <td>56</td>\n",
       "      <td>50</td>\n",
       "      <td>Silver</td>\n",
       "    </tr>\n",
       "    <tr>\n",
       "      <th>1</th>\n",
       "      <td>3</td>\n",
       "      <td>3000</td>\n",
       "      <td>c107853</td>\n",
       "      <td>M</td>\n",
       "      <td>1961</td>\n",
       "      <td>경기도</td>\n",
       "      <td>짱구</td>\n",
       "      <td>간식</td>\n",
       "      <td>2016</td>\n",
       "      <td>1</td>\n",
       "      <td>2008</td>\n",
       "      <td>7</td>\n",
       "      <td>56</td>\n",
       "      <td>50</td>\n",
       "      <td>Silver</td>\n",
       "    </tr>\n",
       "    <tr>\n",
       "      <th>2</th>\n",
       "      <td>4</td>\n",
       "      <td>3636</td>\n",
       "      <td>c107853</td>\n",
       "      <td>M</td>\n",
       "      <td>1961</td>\n",
       "      <td>경기도</td>\n",
       "      <td>짱구</td>\n",
       "      <td>간식</td>\n",
       "      <td>2016</td>\n",
       "      <td>1</td>\n",
       "      <td>2008</td>\n",
       "      <td>7</td>\n",
       "      <td>56</td>\n",
       "      <td>50</td>\n",
       "      <td>Silver</td>\n",
       "    </tr>\n",
       "    <tr>\n",
       "      <th>3</th>\n",
       "      <td>2</td>\n",
       "      <td>2000</td>\n",
       "      <td>c107853</td>\n",
       "      <td>M</td>\n",
       "      <td>1961</td>\n",
       "      <td>경기도</td>\n",
       "      <td>짱구</td>\n",
       "      <td>간식</td>\n",
       "      <td>2016</td>\n",
       "      <td>2</td>\n",
       "      <td>2008</td>\n",
       "      <td>7</td>\n",
       "      <td>56</td>\n",
       "      <td>50</td>\n",
       "      <td>Silver</td>\n",
       "    </tr>\n",
       "    <tr>\n",
       "      <th>4</th>\n",
       "      <td>4</td>\n",
       "      <td>4000</td>\n",
       "      <td>c107853</td>\n",
       "      <td>M</td>\n",
       "      <td>1961</td>\n",
       "      <td>경기도</td>\n",
       "      <td>짱구</td>\n",
       "      <td>간식</td>\n",
       "      <td>2016</td>\n",
       "      <td>2</td>\n",
       "      <td>2008</td>\n",
       "      <td>7</td>\n",
       "      <td>56</td>\n",
       "      <td>50</td>\n",
       "      <td>Silver</td>\n",
       "    </tr>\n",
       "  </tbody>\n",
       "</table>\n",
       "</div>"
      ],
      "text/plain": [
       "   Qty   Amt CustomerID Gender  BirthYear Addr1 ProductName Category  \\\n",
       "0    2  7900    c107853      M       1961   경기도         토마토       과일   \n",
       "1    3  3000    c107853      M       1961   경기도          짱구       간식   \n",
       "2    4  3636    c107853      M       1961   경기도          짱구       간식   \n",
       "3    2  2000    c107853      M       1961   경기도          짱구       간식   \n",
       "4    4  4000    c107853      M       1961   경기도          짱구       간식   \n",
       "\n",
       "   OrderYear  OrderMonth  RegisterYear  RegisterMonth  Age  AgeGrp   Level  \n",
       "0       2016           1          2008              7   56      50  Silver  \n",
       "1       2016           1          2008              7   56      50  Silver  \n",
       "2       2016           1          2008              7   56      50  Silver  \n",
       "3       2016           2          2008              7   56      50  Silver  \n",
       "4       2016           2          2008              7   56      50  Silver  "
      ]
     },
     "execution_count": 74,
     "metadata": {},
     "output_type": "execute_result"
    }
   ],
   "source": [
    "# sales에 등급 추가\n",
    "sales2 = pd.merge(sales, cst[['CustomerID', 'Level']], on='CustomerID', how='inner')\n",
    "\n",
    "# 확인\n",
    "sales2.head()"
   ]
  },
  {
   "cell_type": "code",
   "execution_count": 75,
   "metadata": {},
   "outputs": [
    {
     "data": {
      "text/html": [
       "<div>\n",
       "<style scoped>\n",
       "    .dataframe tbody tr th:only-of-type {\n",
       "        vertical-align: middle;\n",
       "    }\n",
       "\n",
       "    .dataframe tbody tr th {\n",
       "        vertical-align: top;\n",
       "    }\n",
       "\n",
       "    .dataframe thead th {\n",
       "        text-align: right;\n",
       "    }\n",
       "</style>\n",
       "<table border=\"1\" class=\"dataframe\">\n",
       "  <thead>\n",
       "    <tr style=\"text-align: right;\">\n",
       "      <th></th>\n",
       "      <th>ProductName</th>\n",
       "      <th>Qty</th>\n",
       "      <th>Amt</th>\n",
       "    </tr>\n",
       "  </thead>\n",
       "  <tbody>\n",
       "    <tr>\n",
       "      <th>0</th>\n",
       "      <td>우유1000</td>\n",
       "      <td>921</td>\n",
       "      <td>4108532</td>\n",
       "    </tr>\n",
       "    <tr>\n",
       "      <th>1</th>\n",
       "      <td>딸기_대</td>\n",
       "      <td>150</td>\n",
       "      <td>1767551</td>\n",
       "    </tr>\n",
       "    <tr>\n",
       "      <th>2</th>\n",
       "      <td>사과_소</td>\n",
       "      <td>169</td>\n",
       "      <td>1433828</td>\n",
       "    </tr>\n",
       "    <tr>\n",
       "      <th>3</th>\n",
       "      <td>유기농우유</td>\n",
       "      <td>372</td>\n",
       "      <td>1018680</td>\n",
       "    </tr>\n",
       "    <tr>\n",
       "      <th>4</th>\n",
       "      <td>플레인요거트</td>\n",
       "      <td>258</td>\n",
       "      <td>953375</td>\n",
       "    </tr>\n",
       "  </tbody>\n",
       "</table>\n",
       "</div>"
      ],
      "text/plain": [
       "  ProductName  Qty      Amt\n",
       "0      우유1000  921  4108532\n",
       "1        딸기_대  150  1767551\n",
       "2        사과_소  169  1433828\n",
       "3       유기농우유  372  1018680\n",
       "4      플레인요거트  258   953375"
      ]
     },
     "execution_count": 75,
     "metadata": {},
     "output_type": "execute_result"
    }
   ],
   "source": [
    "# Platinum 고객 상품별 판매 수량 TOP 5\n",
    "platinum = sales2.loc[sales2['Level'] == 'Platinum', :]\n",
    "tmp = platinum.groupby(by='ProductName', as_index=False)[['Qty', 'Amt']].sum()\n",
    "tmp = tmp.sort_values(by='Amt', ascending=False).head(5)\n",
    "tmp = tmp.reset_index(drop=True)\n",
    "\n",
    "# 확인\n",
    "tmp"
   ]
  },
  {
   "cell_type": "code",
   "execution_count": 76,
   "metadata": {
    "id": "7TCOsiEsgBM7",
    "scrolled": false
   },
   "outputs": [
    {
     "data": {
      "image/png": "[encoded data removed]",
      "text/plain": [
       "<Figure size 720x360 with 1 Axes>"
      ]
     },
     "metadata": {
      "image/png": {
       "height": 353,
       "width": 610
      },
      "needs_background": "light"
     },
     "output_type": "display_data"
    }
   ],
   "source": [
    "# Platinum 고객 상품별 판매 금액 TOP 5 시각화\n",
    "plt.figure(figsize=(10, 5))\n",
    "plt.bar(tmp['ProductName'], tmp['Amt'] / 10000)\n",
    "plt.title('Platinum 고객 상품별 판매 금액 TOP 5', fontsize=20, pad=20)\n",
    "plt.xlabel('상품')\n",
    "plt.ylabel('판매금액(만원)')\n",
    "plt.show()"
   ]
  },
  {
   "cell_type": "code",
   "execution_count": 77,
   "metadata": {},
   "outputs": [
    {
     "data": {
      "image/png": "[encoded data removed]",
      "text/plain": [
       "<Figure size 720x360 with 1 Axes>"
      ]
     },
     "metadata": {
      "image/png": {
       "height": 353,
       "width": 615
      },
      "needs_background": "light"
     },
     "output_type": "display_data"
    }
   ],
   "source": [
    "# 상품별 판매 금액 TOP 5(위 차트와 비교)\n",
    "tmp = sales.groupby(by='ProductName', as_index=False)[['Qty', 'Amt']].sum()\n",
    "tmp = tmp.sort_values(by='Amt', ascending=False).head(5)\n",
    "\n",
    "# 시각화\n",
    "plt.figure(figsize=(10, 5))\n",
    "plt.bar(tmp['ProductName'], tmp['Amt'] / 10000)\n",
    "plt.title('상품별 판매 금액 TOP 5', fontsize=20, pad=20)\n",
    "plt.xlabel('대분류')\n",
    "plt.ylabel('판매금액(만원)')\n",
    "plt.show()"
   ]
  },
  {
   "cell_type": "markdown",
   "metadata": {
    "id": "yoSBcxGigBM-"
   },
   "source": [
    "## 7.정리\n",
    "\n",
    "- 분석을 통해 확인한 내용을 정리합니다."
   ]
  },
  {
   "cell_type": "markdown",
   "metadata": {
    "id": "dVvspGWngBM-"
   },
   "source": [
    "**1) 의견**\n",
    "\n",
    "\n",
    "\n",
    "\n"
   ]
  },
  {
   "cell_type": "markdown",
   "metadata": {
    "id": "127KsaRJgBM-"
   },
   "source": [
    "- 경기도에서 차지하는 비율이 가장 높았다. \n",
    "- 높은 등급의 고객이 구매해가는 평균 판매 금액이나 평균 판매 수량은 가장 많았다.\n",
    "- 하지만 등급별 고객 구매 횟수나 금액의 총 합은 siivler 등급에서 가장 많은 것을 확인할 수 있었다.\n",
    "- 세부 상품별 판매 금액은 우유1000나 과일 두부가 많은 것으로 확인.\n",
    "- 전체 판매 수량에서는 채소나 반찬, 유제품이 많은 것을 확인.\n",
    "- 해당 사항으로 보아 이용하는 고객들이 주부가 가장 많을 것으로 추측. \n",
    "- 프로모션을 진행한다면, addr2를 기준으로 판매되는 품목의 비율을 다시 한 번 확인할 필요성 有"
   ]
  },
  {
   "cell_type": "code",
   "execution_count": null,
   "metadata": {},
   "outputs": [],
   "source": []
  }
 ],
 "metadata": {
  "colab": {
   "collapsed_sections": [],
   "name": "X04 - [레벨업] 소매점 판매 현황.ipynb",
   "provenance": []
  },
  "kernelspec": {
   "display_name": "Python 3",
   "language": "python",
   "name": "python3"
  },
  "language_info": {
   "codemirror_mode": {
    "name": "ipython",
    "version": 3
   },
   "file_extension": ".py",
   "mimetype": "text/x-python",
   "name": "python",
   "nbconvert_exporter": "python",
   "pygments_lexer": "ipython3",
   "version": "3.8.8"
  }
 },
 "nbformat": 4,
 "nbformat_minor": 1
}
